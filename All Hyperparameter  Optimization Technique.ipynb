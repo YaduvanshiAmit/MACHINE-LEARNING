{
 "cells": [
  {
   "cell_type": "markdown",
   "metadata": {},
   "source": [
    "# All Technique Of Hyper Parameter Optimization\n",
    "\n",
    "- GRid SearchCV\n",
    "- RandomizedSearch CV\n",
    "- BAyesian Optimization- Autimate Hyperparameter Tuning(HYPEROPT)\n",
    "- Sequential Model BAsed OPtimization(tuning a scikit- learn estimator with skopt)\n",
    "- Optuna- Automate Hyperparameter Tuning\n",
    "- Genetic Algorithm(TPOT Classifier)\n",
    "\n",
    "References\n",
    "\n",
    "- https://github.com/fmfn/BayesianOptimization\n",
    "- https://github.com/hyperopt/hyperopt\n",
    "- https://www.jeremyjordan.me/hyperparameter-tuning/\n",
    "- https://optuna.org/\n",
    "- https://towardsdatascience.com/hyperparameters-optimization-526348bb8e2d(By Pier Paolo Ippolito )\n",
    "- https://scikit-optimize.github.io/stable/auto_examples/hyperparameter-optimization.html"
   ]
  },
  {
   "cell_type": "markdown",
   "metadata": {},
   "source": [
    "life cycle of data scientist \n",
    "\n",
    "- feature engineering\n",
    "- feature selection\n",
    "- Model creation\n",
    "- Hyperparameter Tuning(here we use random forest classifier)\n",
    "\n",
    "in this we mostly we discuss on model creation and hyperparameter tuning\n",
    "\n",
    "Why hyperparameter tuning are requitred?\n",
    "\n",
    "- Machine learning model have lots of parameter when we have to play with that parameter to make our modl more accuracy or more good model then we use hyperparameter parameter tuning."
   ]
  },
  {
   "cell_type": "code",
   "execution_count": 3,
   "metadata": {},
   "outputs": [],
   "source": [
    "import warnings\n",
    "warnings.filterwarnings('ignore')"
   ]
  },
  {
   "cell_type": "code",
   "execution_count": 4,
   "metadata": {},
   "outputs": [
    {
     "data": {
      "text/html": [
       "<div>\n",
       "<style scoped>\n",
       "    .dataframe tbody tr th:only-of-type {\n",
       "        vertical-align: middle;\n",
       "    }\n",
       "\n",
       "    .dataframe tbody tr th {\n",
       "        vertical-align: top;\n",
       "    }\n",
       "\n",
       "    .dataframe thead th {\n",
       "        text-align: right;\n",
       "    }\n",
       "</style>\n",
       "<table border=\"1\" class=\"dataframe\">\n",
       "  <thead>\n",
       "    <tr style=\"text-align: right;\">\n",
       "      <th></th>\n",
       "      <th>Pregnancies</th>\n",
       "      <th>Glucose</th>\n",
       "      <th>BloodPressure</th>\n",
       "      <th>SkinThickness</th>\n",
       "      <th>Insulin</th>\n",
       "      <th>BMI</th>\n",
       "      <th>DiabetesPedigreeFunction</th>\n",
       "      <th>Age</th>\n",
       "      <th>Outcome</th>\n",
       "    </tr>\n",
       "  </thead>\n",
       "  <tbody>\n",
       "    <tr>\n",
       "      <th>0</th>\n",
       "      <td>6</td>\n",
       "      <td>148</td>\n",
       "      <td>72</td>\n",
       "      <td>35</td>\n",
       "      <td>0</td>\n",
       "      <td>33.6</td>\n",
       "      <td>0.627</td>\n",
       "      <td>50</td>\n",
       "      <td>1</td>\n",
       "    </tr>\n",
       "    <tr>\n",
       "      <th>1</th>\n",
       "      <td>1</td>\n",
       "      <td>85</td>\n",
       "      <td>66</td>\n",
       "      <td>29</td>\n",
       "      <td>0</td>\n",
       "      <td>26.6</td>\n",
       "      <td>0.351</td>\n",
       "      <td>31</td>\n",
       "      <td>0</td>\n",
       "    </tr>\n",
       "    <tr>\n",
       "      <th>2</th>\n",
       "      <td>8</td>\n",
       "      <td>183</td>\n",
       "      <td>64</td>\n",
       "      <td>0</td>\n",
       "      <td>0</td>\n",
       "      <td>23.3</td>\n",
       "      <td>0.672</td>\n",
       "      <td>32</td>\n",
       "      <td>1</td>\n",
       "    </tr>\n",
       "    <tr>\n",
       "      <th>3</th>\n",
       "      <td>1</td>\n",
       "      <td>89</td>\n",
       "      <td>66</td>\n",
       "      <td>23</td>\n",
       "      <td>94</td>\n",
       "      <td>28.1</td>\n",
       "      <td>0.167</td>\n",
       "      <td>21</td>\n",
       "      <td>0</td>\n",
       "    </tr>\n",
       "    <tr>\n",
       "      <th>4</th>\n",
       "      <td>0</td>\n",
       "      <td>137</td>\n",
       "      <td>40</td>\n",
       "      <td>35</td>\n",
       "      <td>168</td>\n",
       "      <td>43.1</td>\n",
       "      <td>2.288</td>\n",
       "      <td>33</td>\n",
       "      <td>1</td>\n",
       "    </tr>\n",
       "  </tbody>\n",
       "</table>\n",
       "</div>"
      ],
      "text/plain": [
       "   Pregnancies  Glucose  BloodPressure  SkinThickness  Insulin   BMI  \\\n",
       "0            6      148             72             35        0  33.6   \n",
       "1            1       85             66             29        0  26.6   \n",
       "2            8      183             64              0        0  23.3   \n",
       "3            1       89             66             23       94  28.1   \n",
       "4            0      137             40             35      168  43.1   \n",
       "\n",
       "   DiabetesPedigreeFunction  Age  Outcome  \n",
       "0                     0.627   50        1  \n",
       "1                     0.351   31        0  \n",
       "2                     0.672   32        1  \n",
       "3                     0.167   21        0  \n",
       "4                     2.288   33        1  "
      ]
     },
     "execution_count": 4,
     "metadata": {},
     "output_type": "execute_result"
    }
   ],
   "source": [
    "import pandas as pd\n",
    "df = pd.read_csv('diabetes.csv')\n",
    "df.head()"
   ]
  },
  {
   "cell_type": "code",
   "execution_count": 6,
   "metadata": {},
   "outputs": [
    {
     "data": {
      "text/html": [
       "<div>\n",
       "<style scoped>\n",
       "    .dataframe tbody tr th:only-of-type {\n",
       "        vertical-align: middle;\n",
       "    }\n",
       "\n",
       "    .dataframe tbody tr th {\n",
       "        vertical-align: top;\n",
       "    }\n",
       "\n",
       "    .dataframe thead th {\n",
       "        text-align: right;\n",
       "    }\n",
       "</style>\n",
       "<table border=\"1\" class=\"dataframe\">\n",
       "  <thead>\n",
       "    <tr style=\"text-align: right;\">\n",
       "      <th></th>\n",
       "      <th>Pregnancies</th>\n",
       "      <th>Glucose</th>\n",
       "      <th>BloodPressure</th>\n",
       "      <th>SkinThickness</th>\n",
       "      <th>Insulin</th>\n",
       "      <th>BMI</th>\n",
       "      <th>DiabetesPedigreeFunction</th>\n",
       "      <th>Age</th>\n",
       "      <th>Outcome</th>\n",
       "    </tr>\n",
       "  </thead>\n",
       "  <tbody>\n",
       "    <tr>\n",
       "      <th>0</th>\n",
       "      <td>6</td>\n",
       "      <td>148.0</td>\n",
       "      <td>72</td>\n",
       "      <td>35</td>\n",
       "      <td>0</td>\n",
       "      <td>33.6</td>\n",
       "      <td>0.627</td>\n",
       "      <td>50</td>\n",
       "      <td>1</td>\n",
       "    </tr>\n",
       "    <tr>\n",
       "      <th>1</th>\n",
       "      <td>1</td>\n",
       "      <td>85.0</td>\n",
       "      <td>66</td>\n",
       "      <td>29</td>\n",
       "      <td>0</td>\n",
       "      <td>26.6</td>\n",
       "      <td>0.351</td>\n",
       "      <td>31</td>\n",
       "      <td>0</td>\n",
       "    </tr>\n",
       "    <tr>\n",
       "      <th>2</th>\n",
       "      <td>8</td>\n",
       "      <td>183.0</td>\n",
       "      <td>64</td>\n",
       "      <td>0</td>\n",
       "      <td>0</td>\n",
       "      <td>23.3</td>\n",
       "      <td>0.672</td>\n",
       "      <td>32</td>\n",
       "      <td>1</td>\n",
       "    </tr>\n",
       "    <tr>\n",
       "      <th>3</th>\n",
       "      <td>1</td>\n",
       "      <td>89.0</td>\n",
       "      <td>66</td>\n",
       "      <td>23</td>\n",
       "      <td>94</td>\n",
       "      <td>28.1</td>\n",
       "      <td>0.167</td>\n",
       "      <td>21</td>\n",
       "      <td>0</td>\n",
       "    </tr>\n",
       "    <tr>\n",
       "      <th>4</th>\n",
       "      <td>0</td>\n",
       "      <td>137.0</td>\n",
       "      <td>40</td>\n",
       "      <td>35</td>\n",
       "      <td>168</td>\n",
       "      <td>43.1</td>\n",
       "      <td>2.288</td>\n",
       "      <td>33</td>\n",
       "      <td>1</td>\n",
       "    </tr>\n",
       "  </tbody>\n",
       "</table>\n",
       "</div>"
      ],
      "text/plain": [
       "   Pregnancies  Glucose  BloodPressure  SkinThickness  Insulin   BMI  \\\n",
       "0            6    148.0             72             35        0  33.6   \n",
       "1            1     85.0             66             29        0  26.6   \n",
       "2            8    183.0             64              0        0  23.3   \n",
       "3            1     89.0             66             23       94  28.1   \n",
       "4            0    137.0             40             35      168  43.1   \n",
       "\n",
       "   DiabetesPedigreeFunction  Age  Outcome  \n",
       "0                     0.627   50        1  \n",
       "1                     0.351   31        0  \n",
       "2                     0.672   32        1  \n",
       "3                     0.167   21        0  \n",
       "4                     2.288   33        1  "
      ]
     },
     "execution_count": 6,
     "metadata": {},
     "output_type": "execute_result"
    }
   ],
   "source": [
    "import numpy as np\n",
    "df['Glucose'] = np.where(df['Glucose']==0,df['Glucose'].median(),df['Glucose'])\n",
    "df.head()"
   ]
  },
  {
   "cell_type": "code",
   "execution_count": 7,
   "metadata": {},
   "outputs": [],
   "source": [
    "### Independent and dependent feature\n",
    "X= df.drop('Outcome',axis=1)\n",
    "y= df['Outcome']"
   ]
  },
  {
   "cell_type": "code",
   "execution_count": 9,
   "metadata": {},
   "outputs": [
    {
     "data": {
      "text/html": [
       "<div>\n",
       "<style scoped>\n",
       "    .dataframe tbody tr th:only-of-type {\n",
       "        vertical-align: middle;\n",
       "    }\n",
       "\n",
       "    .dataframe tbody tr th {\n",
       "        vertical-align: top;\n",
       "    }\n",
       "\n",
       "    .dataframe thead th {\n",
       "        text-align: right;\n",
       "    }\n",
       "</style>\n",
       "<table border=\"1\" class=\"dataframe\">\n",
       "  <thead>\n",
       "    <tr style=\"text-align: right;\">\n",
       "      <th></th>\n",
       "      <th>Pregnancies</th>\n",
       "      <th>Glucose</th>\n",
       "      <th>BloodPressure</th>\n",
       "      <th>SkinThickness</th>\n",
       "      <th>Insulin</th>\n",
       "      <th>BMI</th>\n",
       "      <th>DiabetesPedigreeFunction</th>\n",
       "      <th>Age</th>\n",
       "    </tr>\n",
       "  </thead>\n",
       "  <tbody>\n",
       "    <tr>\n",
       "      <th>0</th>\n",
       "      <td>6</td>\n",
       "      <td>148.0</td>\n",
       "      <td>72</td>\n",
       "      <td>35</td>\n",
       "      <td>0</td>\n",
       "      <td>33.6</td>\n",
       "      <td>0.627</td>\n",
       "      <td>50</td>\n",
       "    </tr>\n",
       "    <tr>\n",
       "      <th>1</th>\n",
       "      <td>1</td>\n",
       "      <td>85.0</td>\n",
       "      <td>66</td>\n",
       "      <td>29</td>\n",
       "      <td>0</td>\n",
       "      <td>26.6</td>\n",
       "      <td>0.351</td>\n",
       "      <td>31</td>\n",
       "    </tr>\n",
       "    <tr>\n",
       "      <th>2</th>\n",
       "      <td>8</td>\n",
       "      <td>183.0</td>\n",
       "      <td>64</td>\n",
       "      <td>0</td>\n",
       "      <td>0</td>\n",
       "      <td>23.3</td>\n",
       "      <td>0.672</td>\n",
       "      <td>32</td>\n",
       "    </tr>\n",
       "    <tr>\n",
       "      <th>3</th>\n",
       "      <td>1</td>\n",
       "      <td>89.0</td>\n",
       "      <td>66</td>\n",
       "      <td>23</td>\n",
       "      <td>94</td>\n",
       "      <td>28.1</td>\n",
       "      <td>0.167</td>\n",
       "      <td>21</td>\n",
       "    </tr>\n",
       "    <tr>\n",
       "      <th>4</th>\n",
       "      <td>0</td>\n",
       "      <td>137.0</td>\n",
       "      <td>40</td>\n",
       "      <td>35</td>\n",
       "      <td>168</td>\n",
       "      <td>43.1</td>\n",
       "      <td>2.288</td>\n",
       "      <td>33</td>\n",
       "    </tr>\n",
       "  </tbody>\n",
       "</table>\n",
       "</div>"
      ],
      "text/plain": [
       "   Pregnancies  Glucose  BloodPressure  SkinThickness  Insulin   BMI  \\\n",
       "0            6    148.0             72             35        0  33.6   \n",
       "1            1     85.0             66             29        0  26.6   \n",
       "2            8    183.0             64              0        0  23.3   \n",
       "3            1     89.0             66             23       94  28.1   \n",
       "4            0    137.0             40             35      168  43.1   \n",
       "\n",
       "   DiabetesPedigreeFunction  Age  \n",
       "0                     0.627   50  \n",
       "1                     0.351   31  \n",
       "2                     0.672   32  \n",
       "3                     0.167   21  \n",
       "4                     2.288   33  "
      ]
     },
     "execution_count": 9,
     "metadata": {},
     "output_type": "execute_result"
    }
   ],
   "source": [
    "X.head()"
   ]
  },
  {
   "cell_type": "code",
   "execution_count": 17,
   "metadata": {},
   "outputs": [],
   "source": [
    "### Train Test Split\n",
    "from sklearn.model_selection import train_test_split\n",
    "X_train,X_test,y_train,y_test = train_test_split(X,y,test_size=0.20,random_state=0)"
   ]
  },
  {
   "cell_type": "code",
   "execution_count": 18,
   "metadata": {},
   "outputs": [],
   "source": [
    "from sklearn.ensemble import RandomForestClassifier\n",
    "rf_classifier = RandomForestClassifier(n_estimators=10)\n",
    "rf_classifier.fit(X_train,y_train)\n",
    "prediction = rf_classifier.predict(X_test)"
   ]
  },
  {
   "cell_type": "code",
   "execution_count": 19,
   "metadata": {},
   "outputs": [
    {
     "data": {
      "text/plain": [
       "0    500\n",
       "1    268\n",
       "Name: Outcome, dtype: int64"
      ]
     },
     "execution_count": 19,
     "metadata": {},
     "output_type": "execute_result"
    }
   ],
   "source": [
    "y.value_counts()"
   ]
  },
  {
   "cell_type": "code",
   "execution_count": 20,
   "metadata": {},
   "outputs": [
    {
     "name": "stdout",
     "output_type": "stream",
     "text": [
      "[[96 11]\n",
      " [24 23]]\n",
      "0.7727272727272727\n",
      "              precision    recall  f1-score   support\n",
      "\n",
      "           0       0.80      0.90      0.85       107\n",
      "           1       0.68      0.49      0.57        47\n",
      "\n",
      "    accuracy                           0.77       154\n",
      "   macro avg       0.74      0.69      0.71       154\n",
      "weighted avg       0.76      0.77      0.76       154\n",
      "\n"
     ]
    }
   ],
   "source": [
    "from sklearn.metrics import confusion_matrix,classification_report,accuracy_score\n",
    "print(confusion_matrix(y_test,prediction))\n",
    "print(accuracy_score(y_test,prediction))\n",
    "print(classification_report(y_test,prediction))"
   ]
  },
  {
   "cell_type": "markdown",
   "metadata": {},
   "source": [
    "The main parameters used by a Random Forest Classifier are:\n",
    "\n",
    "- criterion = the function used to evaluate the quality of a split.\n",
    "- max_depth = maximum number of levels allowed in each tree.\n",
    "- max_features = maximum number of features considered when splitting a node.\n",
    "- min_samples_leaf = minimum number of samples which can be stored in a tree leaf.\n",
    "- min_samples_split = minimum number of samples necessary in a node to cause node splitting.\n",
    "- n_estimators = number of trees in the ensamble."
   ]
  },
  {
   "cell_type": "code",
   "execution_count": 22,
   "metadata": {},
   "outputs": [
    {
     "name": "stdout",
     "output_type": "stream",
     "text": [
      "[[98  9]\n",
      " [18 29]]\n",
      "0.8246753246753247\n",
      "              precision    recall  f1-score   support\n",
      "\n",
      "           0       0.84      0.92      0.88       107\n",
      "           1       0.76      0.62      0.68        47\n",
      "\n",
      "    accuracy                           0.82       154\n",
      "   macro avg       0.80      0.77      0.78       154\n",
      "weighted avg       0.82      0.82      0.82       154\n",
      "\n"
     ]
    }
   ],
   "source": [
    "## Manual Hyperparameter Tuning\n",
    "model = RandomForestClassifier(n_estimators=300,criterion='entropy',max_features='sqrt',min_samples_leaf=10,random_state=100)\n",
    "model.fit(X_train,y_train)\n",
    "prediction = model.predict(X_test)\n",
    "print(confusion_matrix(y_test,prediction))\n",
    "print(accuracy_score(y_test,prediction))\n",
    "print(classification_report(y_test,prediction))"
   ]
  },
  {
   "cell_type": "markdown",
   "metadata": {},
   "source": [
    "## Randomized Search CV\n",
    "\n",
    "\n",
    "Randomized ssearch cv narrow Our Result. RAndomized seach give that amit present in b and c\n",
    "\n",
    "gridsearch go to all place and find where is amit"
   ]
  },
  {
   "cell_type": "code",
   "execution_count": 26,
   "metadata": {},
   "outputs": [
    {
     "name": "stdout",
     "output_type": "stream",
     "text": [
      "{'n_estimators': [200, 400, 600, 800, 1000, 1200, 1400, 1600, 1800, 2000], 'max_features': ['auto', 'sqrt', 'log2'], 'max_depth': [10, 120, 230, 340, 450, 560, 670, 780, 890, 1000], 'min_samples_split': [2, 5, 10, 14], 'min_samples_leaf': [1, 2, 4, 6, 8], 'criterion': ['entropy', 'gini']}\n"
     ]
    }
   ],
   "source": [
    "import numpy as np\n",
    "from sklearn.model_selection import RandomizedSearchCV\n",
    "\n",
    "# Number of trees in random forest\n",
    "n_estimators = [int(x) for x in np.linspace(start=200,stop=2000,num=10)]\n",
    "\n",
    "# Number of feature to consider at every split\n",
    "max_features = ['auto','sqrt','log2']\n",
    "\n",
    "#MAximum number of levels in tree\n",
    "\n",
    "max_depth = [int(x) for x in np.linspace(10,1000,10)]\n",
    "\n",
    "# Minimum number of samples required to split a node \n",
    "\n",
    "min_samples_split = [2,5,10,14]\n",
    "\n",
    "## Minimum number of samples required at each leaf node\n",
    "min_samples_leaf = [1, 2, 4,6,8]\n",
    "\n",
    "# Create the random grid\n",
    "\n",
    "random_grid = {'n_estimators': n_estimators,\n",
    "               'max_features': max_features,\n",
    "               'max_depth': max_depth,\n",
    "               'min_samples_split': min_samples_split,\n",
    "               'min_samples_leaf': min_samples_leaf,\n",
    "              'criterion':['entropy','gini']}\n",
    "print(random_grid)"
   ]
  },
  {
   "cell_type": "code",
   "execution_count": 28,
   "metadata": {},
   "outputs": [
    {
     "name": "stdout",
     "output_type": "stream",
     "text": [
      "Fitting 3 folds for each of 100 candidates, totalling 300 fits\n"
     ]
    },
    {
     "name": "stderr",
     "output_type": "stream",
     "text": [
      "[Parallel(n_jobs=-1)]: Using backend LokyBackend with 4 concurrent workers.\n",
      "[Parallel(n_jobs=-1)]: Done  33 tasks      | elapsed:   46.1s\n",
      "[Parallel(n_jobs=-1)]: Done 154 tasks      | elapsed:  3.2min\n",
      "[Parallel(n_jobs=-1)]: Done 300 out of 300 | elapsed:  6.3min finished\n"
     ]
    },
    {
     "data": {
      "text/plain": [
       "RandomizedSearchCV(cv=3, estimator=RandomForestClassifier(), n_iter=100,\n",
       "                   n_jobs=-1,\n",
       "                   param_distributions={'criterion': ['entropy', 'gini'],\n",
       "                                        'max_depth': [10, 120, 230, 340, 450,\n",
       "                                                      560, 670, 780, 890,\n",
       "                                                      1000],\n",
       "                                        'max_features': ['auto', 'sqrt',\n",
       "                                                         'log2'],\n",
       "                                        'min_samples_leaf': [1, 2, 4, 6, 8],\n",
       "                                        'min_samples_split': [2, 5, 10, 14],\n",
       "                                        'n_estimators': [200, 400, 600, 800,\n",
       "                                                         1000, 1200, 1400, 1600,\n",
       "                                                         1800, 2000]},\n",
       "                   random_state=100, verbose=2)"
      ]
     },
     "execution_count": 28,
     "metadata": {},
     "output_type": "execute_result"
    }
   ],
   "source": [
    "rf = RandomForestClassifier()\n",
    "rf_randomcv = RandomizedSearchCV(estimator=rf,param_distributions=random_grid,n_iter=100,cv=3,verbose=2,random_state=100,n_jobs=-1)\n",
    "rf_randomcv.fit(X_train,y_train)"
   ]
  },
  {
   "cell_type": "code",
   "execution_count": 29,
   "metadata": {},
   "outputs": [
    {
     "data": {
      "text/plain": [
       "{'n_estimators': 200,\n",
       " 'min_samples_split': 14,\n",
       " 'min_samples_leaf': 1,\n",
       " 'max_features': 'sqrt',\n",
       " 'max_depth': 10,\n",
       " 'criterion': 'gini'}"
      ]
     },
     "execution_count": 29,
     "metadata": {},
     "output_type": "execute_result"
    }
   ],
   "source": [
    "rf_randomcv.best_params_"
   ]
  },
  {
   "cell_type": "code",
   "execution_count": 30,
   "metadata": {},
   "outputs": [
    {
     "data": {
      "text/plain": [
       "RandomizedSearchCV(cv=3, estimator=RandomForestClassifier(), n_iter=100,\n",
       "                   n_jobs=-1,\n",
       "                   param_distributions={'criterion': ['entropy', 'gini'],\n",
       "                                        'max_depth': [10, 120, 230, 340, 450,\n",
       "                                                      560, 670, 780, 890,\n",
       "                                                      1000],\n",
       "                                        'max_features': ['auto', 'sqrt',\n",
       "                                                         'log2'],\n",
       "                                        'min_samples_leaf': [1, 2, 4, 6, 8],\n",
       "                                        'min_samples_split': [2, 5, 10, 14],\n",
       "                                        'n_estimators': [200, 400, 600, 800,\n",
       "                                                         1000, 1200, 1400, 1600,\n",
       "                                                         1800, 2000]},\n",
       "                   random_state=100, verbose=2)"
      ]
     },
     "execution_count": 30,
     "metadata": {},
     "output_type": "execute_result"
    }
   ],
   "source": [
    "rf_randomcv"
   ]
  },
  {
   "cell_type": "code",
   "execution_count": 31,
   "metadata": {},
   "outputs": [],
   "source": [
    "best_random_grid = rf_randomcv.best_estimator_"
   ]
  },
  {
   "cell_type": "code",
   "execution_count": 34,
   "metadata": {},
   "outputs": [
    {
     "data": {
      "text/plain": [
       "RandomForestClassifier(max_depth=10, max_features='sqrt', min_samples_split=14,\n",
       "                       n_estimators=200)"
      ]
     },
     "execution_count": 34,
     "metadata": {},
     "output_type": "execute_result"
    }
   ],
   "source": [
    "best_random_grid"
   ]
  },
  {
   "cell_type": "code",
   "execution_count": 32,
   "metadata": {},
   "outputs": [
    {
     "name": "stdout",
     "output_type": "stream",
     "text": [
      "[[96 11]\n",
      " [14 33]]\n",
      "Accuracy Score 0.8376623376623377\n",
      "Classification report:               precision    recall  f1-score   support\n",
      "\n",
      "           0       0.87      0.90      0.88       107\n",
      "           1       0.75      0.70      0.73        47\n",
      "\n",
      "    accuracy                           0.84       154\n",
      "   macro avg       0.81      0.80      0.81       154\n",
      "weighted avg       0.84      0.84      0.84       154\n",
      "\n"
     ]
    }
   ],
   "source": [
    "from sklearn.metrics import accuracy_score\n",
    "y_pred=best_random_grid.predict(X_test)\n",
    "print(confusion_matrix(y_test,y_pred))\n",
    "print(\"Accuracy Score {}\".format(accuracy_score(y_test,y_pred)))\n",
    "print(\"Classification report: {}\".format(classification_report(y_test,y_pred)))"
   ]
  },
  {
   "cell_type": "markdown",
   "metadata": {},
   "source": [
    "## GridSeach CV"
   ]
  },
  {
   "cell_type": "code",
   "execution_count": 33,
   "metadata": {},
   "outputs": [
    {
     "data": {
      "text/plain": [
       "{'n_estimators': 200,\n",
       " 'min_samples_split': 14,\n",
       " 'min_samples_leaf': 1,\n",
       " 'max_features': 'sqrt',\n",
       " 'max_depth': 10,\n",
       " 'criterion': 'gini'}"
      ]
     },
     "execution_count": 33,
     "metadata": {},
     "output_type": "execute_result"
    }
   ],
   "source": [
    "rf_randomcv.best_params_"
   ]
  },
  {
   "cell_type": "code",
   "execution_count": 35,
   "metadata": {},
   "outputs": [
    {
     "name": "stdout",
     "output_type": "stream",
     "text": [
      "{'criterion': ['gini'], 'max_depth': [10], 'max_features': ['sqrt'], 'min_samples_leaf': [1, 3, 5], 'min_samples_split': [12, 13, 14, 15, 16], 'n_estimators': [0, 100, 200, 300, 400]}\n"
     ]
    }
   ],
   "source": [
    "from sklearn.model_selection import GridSearchCV\n",
    "\n",
    "param_grid = {\n",
    "    'criterion': [rf_randomcv.best_params_['criterion']],\n",
    "    'max_depth': [rf_randomcv.best_params_['max_depth']],\n",
    "    'max_features':[rf_randomcv.best_params_['max_features']],\n",
    "    'min_samples_leaf': [rf_randomcv.best_params_['min_samples_leaf'],\n",
    "                         rf_randomcv.best_params_['min_samples_leaf']+2, \n",
    "                         rf_randomcv.best_params_['min_samples_leaf'] + 4],\n",
    "    \n",
    "    'min_samples_split': [rf_randomcv.best_params_['min_samples_split'] - 2,\n",
    "                          rf_randomcv.best_params_['min_samples_split'] - 1,\n",
    "                          rf_randomcv.best_params_['min_samples_split'], \n",
    "                          rf_randomcv.best_params_['min_samples_split'] +1,\n",
    "                          rf_randomcv.best_params_['min_samples_split'] + 2],\n",
    "    \n",
    "    'n_estimators': [rf_randomcv.best_params_['n_estimators'] - 200, rf_randomcv.best_params_['n_estimators'] - 100, \n",
    "                     rf_randomcv.best_params_['n_estimators'], \n",
    "                     rf_randomcv.best_params_['n_estimators'] + 100, rf_randomcv.best_params_['n_estimators'] + 200]\n",
    "                         \n",
    "    }\n",
    "\n",
    "print(param_grid)"
   ]
  },
  {
   "cell_type": "code",
   "execution_count": 36,
   "metadata": {},
   "outputs": [
    {
     "name": "stdout",
     "output_type": "stream",
     "text": [
      "Fitting 10 folds for each of 75 candidates, totalling 750 fits\n"
     ]
    },
    {
     "name": "stderr",
     "output_type": "stream",
     "text": [
      "[Parallel(n_jobs=-1)]: Using backend LokyBackend with 4 concurrent workers.\n",
      "[Parallel(n_jobs=-1)]: Done  33 tasks      | elapsed:    9.9s\n",
      "[Parallel(n_jobs=-1)]: Done 154 tasks      | elapsed:   37.5s\n",
      "[Parallel(n_jobs=-1)]: Done 357 tasks      | elapsed:  1.4min\n",
      "[Parallel(n_jobs=-1)]: Done 640 tasks      | elapsed:  2.4min\n",
      "[Parallel(n_jobs=-1)]: Done 750 out of 750 | elapsed:  2.8min finished\n"
     ]
    },
    {
     "data": {
      "text/plain": [
       "GridSearchCV(cv=10, estimator=RandomForestClassifier(), n_jobs=-1,\n",
       "             param_grid={'criterion': ['gini'], 'max_depth': [10],\n",
       "                         'max_features': ['sqrt'],\n",
       "                         'min_samples_leaf': [1, 3, 5],\n",
       "                         'min_samples_split': [12, 13, 14, 15, 16],\n",
       "                         'n_estimators': [0, 100, 200, 300, 400]},\n",
       "             verbose=2)"
      ]
     },
     "execution_count": 36,
     "metadata": {},
     "output_type": "execute_result"
    }
   ],
   "source": [
    "# Fit the grid_search to the data\n",
    "rf=RandomForestClassifier()\n",
    "grid_search=GridSearchCV(estimator=rf,param_grid=param_grid,cv=10,n_jobs=-1,verbose=2)\n",
    "grid_search.fit(X_train,y_train)"
   ]
  },
  {
   "cell_type": "markdown",
   "metadata": {},
   "source": [
    "there in no n_iter in grid search it depend on hw much parameter u selct \n",
    " multiply all that"
   ]
  },
  {
   "cell_type": "code",
   "execution_count": 37,
   "metadata": {},
   "outputs": [
    {
     "data": {
      "text/plain": [
       "RandomForestClassifier(max_depth=10, max_features='sqrt', min_samples_split=15)"
      ]
     },
     "execution_count": 37,
     "metadata": {},
     "output_type": "execute_result"
    }
   ],
   "source": [
    "grid_search.best_estimator_"
   ]
  },
  {
   "cell_type": "code",
   "execution_count": 38,
   "metadata": {},
   "outputs": [],
   "source": [
    "best_grid = grid_search.best_estimator_"
   ]
  },
  {
   "cell_type": "code",
   "execution_count": 39,
   "metadata": {},
   "outputs": [
    {
     "data": {
      "text/plain": [
       "RandomForestClassifier(max_depth=10, max_features='sqrt', min_samples_split=15)"
      ]
     },
     "execution_count": 39,
     "metadata": {},
     "output_type": "execute_result"
    }
   ],
   "source": [
    "best_grid"
   ]
  },
  {
   "cell_type": "code",
   "execution_count": 40,
   "metadata": {},
   "outputs": [
    {
     "name": "stdout",
     "output_type": "stream",
     "text": [
      "[[97 10]\n",
      " [14 33]]\n",
      "Accuracy Score 0.8441558441558441\n",
      "Classification report:               precision    recall  f1-score   support\n",
      "\n",
      "           0       0.87      0.91      0.89       107\n",
      "           1       0.77      0.70      0.73        47\n",
      "\n",
      "    accuracy                           0.84       154\n",
      "   macro avg       0.82      0.80      0.81       154\n",
      "weighted avg       0.84      0.84      0.84       154\n",
      "\n"
     ]
    }
   ],
   "source": [
    "y_pred=best_grid.predict(X_test)\n",
    "print(confusion_matrix(y_test,y_pred))\n",
    "print(\"Accuracy Score {}\".format(accuracy_score(y_test,y_pred)))\n",
    "print(\"Classification report: {}\".format(classification_report(y_test,y_pred)))"
   ]
  },
  {
   "cell_type": "markdown",
   "metadata": {},
   "source": [
    "# Automated HYperparameter Tuning"
   ]
  },
  {
   "cell_type": "markdown",
   "metadata": {},
   "source": [
    "Automated Hyperparameter Tuning can be done by using technique sech as\n",
    "\n",
    "- Bayesian Optimization\n",
    "- Gradient Descent\n",
    "- Evolutionary Algorithm"
   ]
  },
  {
   "cell_type": "markdown",
   "metadata": {},
   "source": [
    "## BAyesian Optimaization\n",
    "\n",
    "Bayesian optimization uses probability to find the minimum of a function. The final aim is to find the input value to a function which can gives us the lowest possible output value.It usually performs better than random,grid and manual search providing better performance in the testing phase and reduced optimization time. In Hyperopt, Bayesian Optimization can be implemented giving 3 three main parameters to the function fmin.\n",
    "\n",
    "- Objective Function = defines the loss function to minimize.\n",
    "- Domain Space = defines the range of input values to test (in Bayesian Optimization this space creates a probability distribution for each of the used Hyperparameters).\n",
    "- Optimization Algorithm = defines the search algorithm to use to select the best input values to use in each new iteration."
   ]
  },
  {
   "cell_type": "code",
   "execution_count": 44,
   "metadata": {},
   "outputs": [],
   "source": [
    "#! pip install hyperopt\n",
    "from hyperopt import hp,fmin,tpe,STATUS_OK,Trials"
   ]
  },
  {
   "cell_type": "code",
   "execution_count": 45,
   "metadata": {},
   "outputs": [],
   "source": [
    "\n",
    "space = {'criterion': hp.choice('criterion', ['entropy', 'gini']),\n",
    "        'max_depth': hp.quniform('max_depth', 10, 1200, 10),\n",
    "        'max_features': hp.choice('max_features', ['auto', 'sqrt','log2', None]),\n",
    "        'min_samples_leaf': hp.uniform('min_samples_leaf', 0, 0.5),\n",
    "        'min_samples_split' : hp.uniform ('min_samples_split', 0, 1),\n",
    "        'n_estimators' : hp.choice('n_estimators', [10, 50, 300, 750, 1200,1300,1500])\n",
    "    }"
   ]
  },
  {
   "cell_type": "code",
   "execution_count": 46,
   "metadata": {},
   "outputs": [
    {
     "data": {
      "text/plain": [
       "{'criterion': <hyperopt.pyll.base.Apply at 0xd2c67c0>,\n",
       " 'max_depth': <hyperopt.pyll.base.Apply at 0xe0530a0>,\n",
       " 'max_features': <hyperopt.pyll.base.Apply at 0xe0531c0>,\n",
       " 'min_samples_leaf': <hyperopt.pyll.base.Apply at 0xe0533a0>,\n",
       " 'min_samples_split': <hyperopt.pyll.base.Apply at 0xe0534c0>,\n",
       " 'n_estimators': <hyperopt.pyll.base.Apply at 0xe0535b0>}"
      ]
     },
     "execution_count": 46,
     "metadata": {},
     "output_type": "execute_result"
    }
   ],
   "source": [
    "space"
   ]
  },
  {
   "cell_type": "code",
   "execution_count": 47,
   "metadata": {},
   "outputs": [],
   "source": [
    "def objective(space):\n",
    "    model = RandomForestClassifier(criterion = space['criterion'], max_depth = space['max_depth'],\n",
    "                                 max_features = space['max_features'],\n",
    "                                 min_samples_leaf = space['min_samples_leaf'],\n",
    "                                 min_samples_split = space['min_samples_split'],\n",
    "                                 n_estimators = space['n_estimators'], \n",
    "                                 )\n",
    "    \n",
    "    accuracy = cross_val_score(model, X_train, y_train, cv = 5).mean()\n",
    "\n",
    "    # We aim to maximize accuracy, therefore we return it as a negative value\n",
    "    return {'loss': -accuracy, 'status': STATUS_OK }"
   ]
  },
  {
   "cell_type": "code",
   "execution_count": 48,
   "metadata": {},
   "outputs": [
    {
     "name": "stdout",
     "output_type": "stream",
     "text": [
      "100%|███████| 80/80 [16:06<00:00, 12.08s/trial, best loss: -0.7671464747434358]\n"
     ]
    },
    {
     "data": {
      "text/plain": [
       "{'criterion': 0,\n",
       " 'max_depth': 460.0,\n",
       " 'max_features': 0,\n",
       " 'min_samples_leaf': 0.010253563600519766,\n",
       " 'min_samples_split': 0.09546664738879415,\n",
       " 'n_estimators': 5}"
      ]
     },
     "execution_count": 48,
     "metadata": {},
     "output_type": "execute_result"
    }
   ],
   "source": [
    "from sklearn.model_selection import cross_val_score\n",
    "trials = Trials()\n",
    "best = fmin(fn= objective,\n",
    "            space= space,\n",
    "            algo= tpe.suggest,\n",
    "            max_evals = 80,\n",
    "            trials= trials)\n",
    "best"
   ]
  },
  {
   "cell_type": "code",
   "execution_count": 49,
   "metadata": {},
   "outputs": [
    {
     "name": "stdout",
     "output_type": "stream",
     "text": [
      "entropy\n",
      "auto\n",
      "1300\n"
     ]
    }
   ],
   "source": [
    "crit = {0: 'entropy', 1: 'gini'}\n",
    "feat = {0: 'auto', 1: 'sqrt', 2: 'log2', 3: None}\n",
    "est = {0: 10, 1: 50, 2: 300, 3: 750, 4: 1200,5:1300,6:1500}\n",
    "\n",
    "\n",
    "print(crit[best['criterion']])\n",
    "print(feat[best['max_features']])\n",
    "print(est[best['n_estimators']])"
   ]
  },
  {
   "cell_type": "code",
   "execution_count": 50,
   "metadata": {},
   "outputs": [
    {
     "data": {
      "text/plain": [
       "0.010253563600519766"
      ]
     },
     "execution_count": 50,
     "metadata": {},
     "output_type": "execute_result"
    }
   ],
   "source": [
    "best['min_samples_leaf']"
   ]
  },
  {
   "cell_type": "code",
   "execution_count": 51,
   "metadata": {},
   "outputs": [
    {
     "name": "stdout",
     "output_type": "stream",
     "text": [
      "[[98  9]\n",
      " [19 28]]\n",
      "0.8181818181818182\n",
      "              precision    recall  f1-score   support\n",
      "\n",
      "           0       0.84      0.92      0.88       107\n",
      "           1       0.76      0.60      0.67        47\n",
      "\n",
      "    accuracy                           0.82       154\n",
      "   macro avg       0.80      0.76      0.77       154\n",
      "weighted avg       0.81      0.82      0.81       154\n",
      "\n"
     ]
    }
   ],
   "source": [
    "trainedforest = RandomForestClassifier(criterion = crit[best['criterion']], max_depth = best['max_depth'], \n",
    "                                       max_features = feat[best['max_features']], \n",
    "                                       min_samples_leaf = best['min_samples_leaf'], \n",
    "                                       min_samples_split = best['min_samples_split'], \n",
    "                                       n_estimators = est[best['n_estimators']]).fit(X_train,y_train)\n",
    "predictionforest = trainedforest.predict(X_test)\n",
    "print(confusion_matrix(y_test,predictionforest))\n",
    "print(accuracy_score(y_test,predictionforest))\n",
    "print(classification_report(y_test,predictionforest))\n",
    "acc5 = accuracy_score(y_test,predictionforest)"
   ]
  },
  {
   "cell_type": "markdown",
   "metadata": {},
   "source": [
    "## Genetic Algoruthm"
   ]
  },
  {
   "cell_type": "markdown",
   "metadata": {},
   "source": [
    "Genetic Algorithms tries to apply natural selection mechanisms to Machine Learning contexts.\n",
    "\n",
    "Let's immagine we create a population of N Machine Learning models with some predifined Hyperparameters. We can then calculate the accuracy of each model and decide to keep just half of the models (the ones that performs best). We can now generate some offsprings having similar Hyperparameters to the ones of the best models so that go get again a population of N models. At this point we can again caltulate the accuracy of each model and repeate the cycle for a defined number of generations. In this way, just the best models will survive at the end of the process."
   ]
  },
  {
   "cell_type": "code",
   "execution_count": 52,
   "metadata": {},
   "outputs": [
    {
     "name": "stdout",
     "output_type": "stream",
     "text": [
      "{'n_estimators': [200, 400, 600, 800, 1000, 1200, 1400, 1600, 1800, 2000], 'max_features': ['auto', 'sqrt', 'log2'], 'max_depth': [10, 120, 230, 340, 450, 560, 670, 780, 890, 1000], 'min_samples_split': [2, 5, 10, 14], 'min_samples_leaf': [1, 2, 4, 6, 8], 'criterion': ['entropy', 'gini']}\n"
     ]
    }
   ],
   "source": [
    "import numpy as np\n",
    "from sklearn.model_selection import RandomizedSearchCV\n",
    "# Number of trees in random forest\n",
    "n_estimators = [int(x) for x in np.linspace(start = 200, stop = 2000, num = 10)]\n",
    "# Number of features to consider at every split\n",
    "max_features = ['auto', 'sqrt','log2']\n",
    "# Maximum number of levels in tree\n",
    "max_depth = [int(x) for x in np.linspace(10, 1000,10)]\n",
    "# Minimum number of samples required to split a node\n",
    "min_samples_split = [2, 5, 10,14]\n",
    "# Minimum number of samples required at each leaf node\n",
    "min_samples_leaf = [1, 2, 4,6,8]\n",
    "# Create the random grid\n",
    "param = {'n_estimators': n_estimators,\n",
    "               'max_features': max_features,\n",
    "               'max_depth': max_depth,\n",
    "               'min_samples_split': min_samples_split,\n",
    "               'min_samples_leaf': min_samples_leaf,\n",
    "              'criterion':['entropy','gini']}\n",
    "print(param)"
   ]
  },
  {
   "cell_type": "code",
   "execution_count": 53,
   "metadata": {},
   "outputs": [],
   "source": [
    "\n",
    "# for this requires tensor and keras \n",
    "#from tpot import TPOTClassifier\n",
    "\n",
    "\n",
    "#tpot_classifier = TPOTClassifier(generations= 5, population_size= 24, offspring_size= 12,\n",
    "                                 #verbosity= 2, early_stop= 12,\n",
    "                                 #config_dict={'sklearn.ensemble.RandomForestClassifier': param}, \n",
    "                                 #cv = 4, scoring = 'accuracy')\n",
    "#tpot_classifier.fit(X_train,y_train)"
   ]
  },
  {
   "cell_type": "code",
   "execution_count": 55,
   "metadata": {},
   "outputs": [],
   "source": [
    "# heere we use X_test it presict andf then compare it is like aotomated\n",
    "#accuracy = tpot_classifier.score(X_test, y_test)\n",
    "#print(accuracy)"
   ]
  },
  {
   "cell_type": "markdown",
   "metadata": {},
   "source": [
    "# Optimize hyperparameters of the model using Optuna"
   ]
  },
  {
   "cell_type": "markdown",
   "metadata": {},
   "source": [
    "The hyperparameters of the above algorithm are n_estimators and max_depth for which we can try different values to see if the model accuracy can be improved. The objective function is modified to accept a trial object. This trial has several methods for sampling hyperparameters. We create a study to run the hyperparameter optimization and finally read the best hyperparameters."
   ]
  },
  {
   "cell_type": "code",
   "execution_count": 57,
   "metadata": {},
   "outputs": [],
   "source": [
    "#! pip install optuna"
   ]
  },
  {
   "cell_type": "code",
   "execution_count": 58,
   "metadata": {},
   "outputs": [],
   "source": [
    "import optuna\n",
    "import sklearn.svm\n",
    "def objective(trial):\n",
    "\n",
    "    classifier = trial.suggest_categorical('classifier', ['RandomForest', 'SVC'])\n",
    "    \n",
    "    if classifier == 'RandomForest':\n",
    "        n_estimators = trial.suggest_int('n_estimators', 200, 2000,10)\n",
    "        max_depth = int(trial.suggest_float('max_depth', 10, 100, log=True))\n",
    "\n",
    "        clf = sklearn.ensemble.RandomForestClassifier(\n",
    "            n_estimators=n_estimators, max_depth=max_depth)\n",
    "    else:\n",
    "        c = trial.suggest_float('svc_c', 1e-10, 1e10, log=True)\n",
    "        \n",
    "        clf = sklearn.svm.SVC(C=c, gamma='auto')\n",
    "\n",
    "    return sklearn.model_selection.cross_val_score(\n",
    "        clf,X_train,y_train, n_jobs=-1, cv=3).mean()"
   ]
  },
  {
   "cell_type": "code",
   "execution_count": 59,
   "metadata": {},
   "outputs": [
    {
     "name": "stderr",
     "output_type": "stream",
     "text": [
      "\u001b[32m[I 2021-04-03 13:01:22,051]\u001b[0m A new study created in memory with name: no-name-ccdfc5c2-b36b-4406-9f4b-78457f37f0fb\u001b[0m\n",
      "\u001b[32m[I 2021-04-03 13:01:25,360]\u001b[0m Trial 0 finished with value: 0.640068547744301 and parameters: {'classifier': 'SVC', 'svc_c': 2478854.5021625394}. Best is trial 0 with value: 0.640068547744301.\u001b[0m\n",
      "\u001b[32m[I 2021-04-03 13:01:27,064]\u001b[0m Trial 1 finished with value: 0.640068547744301 and parameters: {'classifier': 'SVC', 'svc_c': 6.220468321657473e-10}. Best is trial 0 with value: 0.640068547744301.\u001b[0m\n",
      "\u001b[32m[I 2021-04-03 13:01:31,091]\u001b[0m Trial 2 finished with value: 0.7491790212019768 and parameters: {'classifier': 'RandomForest', 'n_estimators': 900, 'max_depth': 17.58946597751775}. Best is trial 2 with value: 0.7491790212019768.\u001b[0m\n",
      "\u001b[32m[I 2021-04-03 13:01:31,180]\u001b[0m Trial 3 finished with value: 0.640068547744301 and parameters: {'classifier': 'SVC', 'svc_c': 6299.389407546474}. Best is trial 2 with value: 0.7491790212019768.\u001b[0m\n",
      "\u001b[32m[I 2021-04-03 13:01:31,248]\u001b[0m Trial 4 finished with value: 0.640068547744301 and parameters: {'classifier': 'SVC', 'svc_c': 0.0001241301947905137}. Best is trial 2 with value: 0.7491790212019768.\u001b[0m\n",
      "\u001b[32m[I 2021-04-03 13:01:33,718]\u001b[0m Trial 5 finished with value: 0.7426908974972103 and parameters: {'classifier': 'RandomForest', 'n_estimators': 510, 'max_depth': 55.070588599344426}. Best is trial 2 with value: 0.7491790212019768.\u001b[0m\n",
      "\u001b[32m[I 2021-04-03 13:01:36,469]\u001b[0m Trial 6 finished with value: 0.7459030766778256 and parameters: {'classifier': 'RandomForest', 'n_estimators': 590, 'max_depth': 41.10196984761435}. Best is trial 2 with value: 0.7491790212019768.\u001b[0m\n",
      "\u001b[32m[I 2021-04-03 13:01:36,554]\u001b[0m Trial 7 finished with value: 0.640068547744301 and parameters: {'classifier': 'SVC', 'svc_c': 11214.648896457622}. Best is trial 2 with value: 0.7491790212019768.\u001b[0m\n",
      "\u001b[32m[I 2021-04-03 13:01:36,646]\u001b[0m Trial 8 finished with value: 0.640068547744301 and parameters: {'classifier': 'SVC', 'svc_c': 4669611.94348482}. Best is trial 2 with value: 0.7491790212019768.\u001b[0m\n",
      "\u001b[32m[I 2021-04-03 13:01:36,728]\u001b[0m Trial 9 finished with value: 0.640068547744301 and parameters: {'classifier': 'SVC', 'svc_c': 294146.79351144144}. Best is trial 2 with value: 0.7491790212019768.\u001b[0m\n",
      "\u001b[32m[I 2021-04-03 13:01:43,264]\u001b[0m Trial 10 finished with value: 0.7524390243902439 and parameters: {'classifier': 'RandomForest', 'n_estimators': 1810, 'max_depth': 10.004255373568514}. Best is trial 10 with value: 0.7524390243902439.\u001b[0m\n",
      "\u001b[32m[I 2021-04-03 13:01:49,572]\u001b[0m Trial 11 finished with value: 0.7507970667941973 and parameters: {'classifier': 'RandomForest', 'n_estimators': 1760, 'max_depth': 10.131465202614647}. Best is trial 10 with value: 0.7524390243902439.\u001b[0m\n",
      "\u001b[32m[I 2021-04-03 13:01:56,274]\u001b[0m Trial 12 finished with value: 0.7556830862426271 and parameters: {'classifier': 'RandomForest', 'n_estimators': 1950, 'max_depth': 10.00818667947219}. Best is trial 12 with value: 0.7556830862426271.\u001b[0m\n",
      "\u001b[32m[I 2021-04-03 13:02:02,846]\u001b[0m Trial 13 finished with value: 0.7524310537223019 and parameters: {'classifier': 'RandomForest', 'n_estimators': 1870, 'max_depth': 10.0432783475014}. Best is trial 12 with value: 0.7556830862426271.\u001b[0m\n",
      "\u001b[32m[I 2021-04-03 13:02:07,828]\u001b[0m Trial 14 finished with value: 0.7507970667941973 and parameters: {'classifier': 'RandomForest', 'n_estimators': 1430, 'max_depth': 19.40577105179138}. Best is trial 12 with value: 0.7556830862426271.\u001b[0m\n",
      "\u001b[32m[I 2021-04-03 13:02:14,864]\u001b[0m Trial 15 finished with value: 0.752415112386418 and parameters: {'classifier': 'RandomForest', 'n_estimators': 2000, 'max_depth': 15.344578359370558}. Best is trial 12 with value: 0.7556830862426271.\u001b[0m\n",
      "\u001b[32m[I 2021-04-03 13:02:20,364]\u001b[0m Trial 16 finished with value: 0.7508050374621393 and parameters: {'classifier': 'RandomForest', 'n_estimators': 1500, 'max_depth': 87.25614858076528}. Best is trial 12 with value: 0.7556830862426271.\u001b[0m\n",
      "\u001b[32m[I 2021-04-03 13:02:25,810]\u001b[0m Trial 17 finished with value: 0.7524390243902439 and parameters: {'classifier': 'RandomForest', 'n_estimators': 1500, 'max_depth': 10.195240072560624}. Best is trial 12 with value: 0.7556830862426271.\u001b[0m\n",
      "\u001b[32m[I 2021-04-03 13:02:30,534]\u001b[0m Trial 18 finished with value: 0.7556830862426271 and parameters: {'classifier': 'RandomForest', 'n_estimators': 1320, 'max_depth': 22.73066196770344}. Best is trial 12 with value: 0.7556830862426271.\u001b[0m\n",
      "\u001b[32m[I 2021-04-03 13:02:34,839]\u001b[0m Trial 19 finished with value: 0.7475450342738722 and parameters: {'classifier': 'RandomForest', 'n_estimators': 1180, 'max_depth': 26.246203144783284}. Best is trial 12 with value: 0.7556830862426271.\u001b[0m\n",
      "\u001b[32m[I 2021-04-03 13:02:37,984]\u001b[0m Trial 20 finished with value: 0.7491790212019768 and parameters: {'classifier': 'RandomForest', 'n_estimators': 900, 'max_depth': 29.844070910920053}. Best is trial 12 with value: 0.7556830862426271.\u001b[0m\n",
      "\u001b[32m[I 2021-04-03 13:02:44,157]\u001b[0m Trial 21 finished with value: 0.7524469950581859 and parameters: {'classifier': 'RandomForest', 'n_estimators': 1760, 'max_depth': 13.541865882479847}. Best is trial 12 with value: 0.7556830862426271.\u001b[0m\n",
      "\u001b[32m[I 2021-04-03 13:02:51,039]\u001b[0m Trial 22 finished with value: 0.7491790212019768 and parameters: {'classifier': 'RandomForest', 'n_estimators': 2000, 'max_depth': 14.284749089741394}. Best is trial 12 with value: 0.7556830862426271.\u001b[0m\n",
      "\u001b[32m[I 2021-04-03 13:02:56,795]\u001b[0m Trial 23 finished with value: 0.7459190180137095 and parameters: {'classifier': 'RandomForest', 'n_estimators': 1630, 'max_depth': 21.95373419845293}. Best is trial 12 with value: 0.7556830862426271.\u001b[0m\n",
      "\u001b[32m[I 2021-04-03 13:03:01,508]\u001b[0m Trial 24 finished with value: 0.755699027578511 and parameters: {'classifier': 'RandomForest', 'n_estimators': 1280, 'max_depth': 13.36320552528882}. Best is trial 24 with value: 0.755699027578511.\u001b[0m\n",
      "\u001b[32m[I 2021-04-03 13:03:05,843]\u001b[0m Trial 25 finished with value: 0.7475609756097561 and parameters: {'classifier': 'RandomForest', 'n_estimators': 1230, 'max_depth': 12.717537139970588}. Best is trial 24 with value: 0.755699027578511.\u001b[0m\n",
      "\u001b[32m[I 2021-04-03 13:03:09,227]\u001b[0m Trial 26 finished with value: 0.744293001753547 and parameters: {'classifier': 'RandomForest', 'n_estimators': 960, 'max_depth': 36.71026281925155}. Best is trial 24 with value: 0.755699027578511.\u001b[0m\n",
      "\u001b[32m[I 2021-04-03 13:03:13,855]\u001b[0m Trial 27 finished with value: 0.7524390243902439 and parameters: {'classifier': 'RandomForest', 'n_estimators': 1300, 'max_depth': 21.607600123013995}. Best is trial 24 with value: 0.755699027578511.\u001b[0m\n",
      "\u001b[32m[I 2021-04-03 13:03:17,660]\u001b[0m Trial 28 finished with value: 0.7540570699824646 and parameters: {'classifier': 'RandomForest', 'n_estimators': 1050, 'max_depth': 11.813526524556345}. Best is trial 24 with value: 0.755699027578511.\u001b[0m\n",
      "\u001b[32m[I 2021-04-03 13:03:18,483]\u001b[0m Trial 29 finished with value: 0.7540570699824646 and parameters: {'classifier': 'RandomForest', 'n_estimators': 220, 'max_depth': 16.579087693881046}. Best is trial 24 with value: 0.755699027578511.\u001b[0m\n",
      "\u001b[32m[I 2021-04-03 13:03:20,808]\u001b[0m Trial 30 finished with value: 0.7458951060098836 and parameters: {'classifier': 'RandomForest', 'n_estimators': 630, 'max_depth': 23.394184331475273}. Best is trial 24 with value: 0.755699027578511.\u001b[0m\n",
      "\u001b[32m[I 2021-04-03 13:03:24,777]\u001b[0m Trial 31 finished with value: 0.7507970667941973 and parameters: {'classifier': 'RandomForest', 'n_estimators': 1080, 'max_depth': 12.009621748773927}. Best is trial 24 with value: 0.755699027578511.\u001b[0m\n",
      "\u001b[32m[I 2021-04-03 13:03:27,394]\u001b[0m Trial 32 finished with value: 0.7508050374621393 and parameters: {'classifier': 'RandomForest', 'n_estimators': 720, 'max_depth': 16.698235334600344}. Best is trial 24 with value: 0.755699027578511.\u001b[0m\n",
      "\u001b[32m[I 2021-04-03 13:03:28,427]\u001b[0m Trial 33 finished with value: 0.7507970667941973 and parameters: {'classifier': 'RandomForest', 'n_estimators': 270, 'max_depth': 18.30181922799652}. Best is trial 24 with value: 0.755699027578511.\u001b[0m\n",
      "\u001b[32m[I 2021-04-03 13:03:29,463]\u001b[0m Trial 34 finished with value: 0.7556910569105691 and parameters: {'classifier': 'RandomForest', 'n_estimators': 290, 'max_depth': 26.974870070177115}. Best is trial 24 with value: 0.755699027578511.\u001b[0m\n"
     ]
    },
    {
     "name": "stderr",
     "output_type": "stream",
     "text": [
      "\u001b[32m[I 2021-04-03 13:03:34,079]\u001b[0m Trial 35 finished with value: 0.7508130081300813 and parameters: {'classifier': 'RandomForest', 'n_estimators': 1320, 'max_depth': 31.552899456122134}. Best is trial 24 with value: 0.755699027578511.\u001b[0m\n",
      "\u001b[32m[I 2021-04-03 13:03:36,538]\u001b[0m Trial 36 finished with value: 0.7459030766778256 and parameters: {'classifier': 'RandomForest', 'n_estimators': 430, 'max_depth': 43.93343407617063}. Best is trial 24 with value: 0.755699027578511.\u001b[0m\n",
      "\u001b[32m[I 2021-04-03 13:03:39,865]\u001b[0m Trial 37 finished with value: 0.7491790212019768 and parameters: {'classifier': 'RandomForest', 'n_estimators': 830, 'max_depth': 26.713093510499508}. Best is trial 24 with value: 0.755699027578511.\u001b[0m\n",
      "\u001b[32m[I 2021-04-03 13:03:39,935]\u001b[0m Trial 38 finished with value: 0.640068547744301 and parameters: {'classifier': 'SVC', 'svc_c': 0.001688211442063631}. Best is trial 24 with value: 0.755699027578511.\u001b[0m\n",
      "\u001b[32m[I 2021-04-03 13:03:45,605]\u001b[0m Trial 39 finished with value: 0.7491790212019768 and parameters: {'classifier': 'RandomForest', 'n_estimators': 1610, 'max_depth': 37.24591330995256}. Best is trial 24 with value: 0.755699027578511.\u001b[0m\n",
      "\u001b[32m[I 2021-04-03 13:03:45,686]\u001b[0m Trial 40 finished with value: 0.640068547744301 and parameters: {'classifier': 'SVC', 'svc_c': 5.373964121961102e-10}. Best is trial 24 with value: 0.755699027578511.\u001b[0m\n",
      "\u001b[32m[I 2021-04-03 13:03:46,477]\u001b[0m Trial 41 finished with value: 0.7442690897497211 and parameters: {'classifier': 'RandomForest', 'n_estimators': 200, 'max_depth': 16.930423562727796}. Best is trial 24 with value: 0.755699027578511.\u001b[0m\n",
      "\u001b[32m[I 2021-04-03 13:03:50,221]\u001b[0m Trial 42 finished with value: 0.7508050374621393 and parameters: {'classifier': 'RandomForest', 'n_estimators': 1090, 'max_depth': 11.458398964470485}. Best is trial 24 with value: 0.755699027578511.\u001b[0m\n",
      "\u001b[32m[I 2021-04-03 13:03:51,876]\u001b[0m Trial 43 finished with value: 0.7573170731707317 and parameters: {'classifier': 'RandomForest', 'n_estimators': 450, 'max_depth': 19.82870047502236}. Best is trial 43 with value: 0.7573170731707317.\u001b[0m\n",
      "\u001b[32m[I 2021-04-03 13:03:53,625]\u001b[0m Trial 44 finished with value: 0.7491869918699187 and parameters: {'classifier': 'RandomForest', 'n_estimators': 480, 'max_depth': 25.614212718419733}. Best is trial 43 with value: 0.7573170731707317.\u001b[0m\n",
      "\u001b[32m[I 2021-04-03 13:03:55,192]\u001b[0m Trial 45 finished with value: 0.7459349593495935 and parameters: {'classifier': 'RandomForest', 'n_estimators': 420, 'max_depth': 20.056826043855033}. Best is trial 43 with value: 0.7573170731707317.\u001b[0m\n",
      "\u001b[32m[I 2021-04-03 13:03:56,248]\u001b[0m Trial 46 finished with value: 0.7540490993145226 and parameters: {'classifier': 'RandomForest', 'n_estimators': 290, 'max_depth': 29.18085268066814}. Best is trial 43 with value: 0.7573170731707317.\u001b[0m\n",
      "\u001b[32m[I 2021-04-03 13:04:02,429]\u001b[0m Trial 47 finished with value: 0.7524390243902439 and parameters: {'classifier': 'RandomForest', 'n_estimators': 1370, 'max_depth': 24.632328501028393}. Best is trial 43 with value: 0.7573170731707317.\u001b[0m\n",
      "\u001b[32m[I 2021-04-03 13:04:02,487]\u001b[0m Trial 48 finished with value: 0.640068547744301 and parameters: {'classifier': 'SVC', 'svc_c': 4.402698902246219e-06}. Best is trial 43 with value: 0.7573170731707317.\u001b[0m\n",
      "\u001b[32m[I 2021-04-03 13:04:03,803]\u001b[0m Trial 49 finished with value: 0.7524469950581859 and parameters: {'classifier': 'RandomForest', 'n_estimators': 340, 'max_depth': 19.997820073157396}. Best is trial 43 with value: 0.7573170731707317.\u001b[0m\n",
      "\u001b[32m[I 2021-04-03 13:04:06,030]\u001b[0m Trial 50 finished with value: 0.7540570699824646 and parameters: {'classifier': 'RandomForest', 'n_estimators': 630, 'max_depth': 14.947580734263656}. Best is trial 43 with value: 0.7573170731707317.\u001b[0m\n",
      "\u001b[32m[I 2021-04-03 13:04:07,993]\u001b[0m Trial 51 finished with value: 0.7426669854933844 and parameters: {'classifier': 'RandomForest', 'n_estimators': 530, 'max_depth': 14.814642442776474}. Best is trial 43 with value: 0.7573170731707317.\u001b[0m\n",
      "\u001b[32m[I 2021-04-03 13:04:11,424]\u001b[0m Trial 52 finished with value: 0.7508130081300813 and parameters: {'classifier': 'RandomForest', 'n_estimators': 970, 'max_depth': 10.536499822318191}. Best is trial 43 with value: 0.7573170731707317.\u001b[0m\n",
      "\u001b[32m[I 2021-04-03 13:04:12,172]\u001b[0m Trial 53 finished with value: 0.7475450342738722 and parameters: {'classifier': 'RandomForest', 'n_estimators': 200, 'max_depth': 17.36888694028836}. Best is trial 43 with value: 0.7573170731707317.\u001b[0m\n",
      "\u001b[32m[I 2021-04-03 13:04:15,095]\u001b[0m Trial 54 finished with value: 0.7573011318348478 and parameters: {'classifier': 'RandomForest', 'n_estimators': 680, 'max_depth': 15.290627332994429}. Best is trial 43 with value: 0.7573170731707317.\u001b[0m\n",
      "\u001b[32m[I 2021-04-03 13:04:17,927]\u001b[0m Trial 55 finished with value: 0.75242308305436 and parameters: {'classifier': 'RandomForest', 'n_estimators': 730, 'max_depth': 19.30379120379728}. Best is trial 43 with value: 0.7573170731707317.\u001b[0m\n",
      "\u001b[32m[I 2021-04-03 13:04:25,363]\u001b[0m Trial 56 finished with value: 0.7540570699824646 and parameters: {'classifier': 'RandomForest', 'n_estimators': 1870, 'max_depth': 12.96260992156931}. Best is trial 43 with value: 0.7573170731707317.\u001b[0m\n",
      "\u001b[32m[I 2021-04-03 13:04:26,689]\u001b[0m Trial 57 finished with value: 0.755699027578511 and parameters: {'classifier': 'RandomForest', 'n_estimators': 370, 'max_depth': 23.167466971705284}. Best is trial 43 with value: 0.7573170731707317.\u001b[0m\n",
      "\u001b[32m[I 2021-04-03 13:04:28,077]\u001b[0m Trial 58 finished with value: 0.755699027578511 and parameters: {'classifier': 'RandomForest', 'n_estimators': 370, 'max_depth': 21.88001970571325}. Best is trial 43 with value: 0.7573170731707317.\u001b[0m\n",
      "\u001b[32m[I 2021-04-03 13:04:29,452]\u001b[0m Trial 59 finished with value: 0.7524310537223019 and parameters: {'classifier': 'RandomForest', 'n_estimators': 380, 'max_depth': 27.627505074903848}. Best is trial 43 with value: 0.7573170731707317.\u001b[0m\n",
      "\u001b[32m[I 2021-04-03 13:04:31,346]\u001b[0m Trial 60 finished with value: 0.7508050374621393 and parameters: {'classifier': 'RandomForest', 'n_estimators': 540, 'max_depth': 34.60760239464434}. Best is trial 43 with value: 0.7573170731707317.\u001b[0m\n",
      "\u001b[32m[I 2021-04-03 13:04:32,549]\u001b[0m Trial 61 finished with value: 0.7491630798660928 and parameters: {'classifier': 'RandomForest', 'n_estimators': 320, 'max_depth': 22.402352928147312}. Best is trial 43 with value: 0.7573170731707317.\u001b[0m\n",
      "\u001b[32m[I 2021-04-03 13:04:37,852]\u001b[0m Trial 62 finished with value: 0.7524390243902439 and parameters: {'classifier': 'RandomForest', 'n_estimators': 1160, 'max_depth': 20.962993560663826}. Best is trial 43 with value: 0.7573170731707317.\u001b[0m\n",
      "\u001b[32m[I 2021-04-03 13:04:39,536]\u001b[0m Trial 63 finished with value: 0.7605770763589988 and parameters: {'classifier': 'RandomForest', 'n_estimators': 470, 'max_depth': 24.23936103404154}. Best is trial 63 with value: 0.7605770763589988.\u001b[0m\n",
      "\u001b[32m[I 2021-04-03 13:04:41,205]\u001b[0m Trial 64 finished with value: 0.7459190180137095 and parameters: {'classifier': 'RandomForest', 'n_estimators': 460, 'max_depth': 23.41131787061364}. Best is trial 63 with value: 0.7605770763589988.\u001b[0m\n",
      "\u001b[32m[I 2021-04-03 13:04:43,225]\u001b[0m Trial 65 finished with value: 0.7426749561613263 and parameters: {'classifier': 'RandomForest', 'n_estimators': 580, 'max_depth': 95.98515838093294}. Best is trial 63 with value: 0.7605770763589988.\u001b[0m\n",
      "\u001b[32m[I 2021-04-03 13:04:44,635]\u001b[0m Trial 66 finished with value: 0.7475609756097561 and parameters: {'classifier': 'RandomForest', 'n_estimators': 380, 'max_depth': 19.04136501183638}. Best is trial 63 with value: 0.7605770763589988.\u001b[0m\n",
      "\u001b[32m[I 2021-04-03 13:04:47,160]\u001b[0m Trial 67 finished with value: 0.7394149529730591 and parameters: {'classifier': 'RandomForest', 'n_estimators': 700, 'max_depth': 24.368483261869187}. Best is trial 63 with value: 0.7605770763589988.\u001b[0m\n",
      "\u001b[32m[I 2021-04-03 13:04:47,271]\u001b[0m Trial 68 finished with value: 0.640068547744301 and parameters: {'classifier': 'SVC', 'svc_c': 4798015585.111236}. Best is trial 63 with value: 0.7605770763589988.\u001b[0m\n",
      "\u001b[32m[I 2021-04-03 13:04:49,044]\u001b[0m Trial 69 finished with value: 0.7443089430894309 and parameters: {'classifier': 'RandomForest', 'n_estimators': 500, 'max_depth': 15.90888460091017}. Best is trial 63 with value: 0.7605770763589988.\u001b[0m\n"
     ]
    },
    {
     "name": "stderr",
     "output_type": "stream",
     "text": [
      "\u001b[32m[I 2021-04-03 13:04:50,013]\u001b[0m Trial 70 finished with value: 0.7410409692332217 and parameters: {'classifier': 'RandomForest', 'n_estimators': 260, 'max_depth': 28.190102654679443}. Best is trial 63 with value: 0.7605770763589988.\u001b[0m\n",
      "\u001b[32m[I 2021-04-03 13:04:54,349]\u001b[0m Trial 71 finished with value: 0.7491790212019768 and parameters: {'classifier': 'RandomForest', 'n_estimators': 1240, 'max_depth': 21.6133709604708}. Best is trial 63 with value: 0.7605770763589988.\u001b[0m\n",
      "\u001b[32m[I 2021-04-03 13:04:59,431]\u001b[0m Trial 72 finished with value: 0.7524310537223019 and parameters: {'classifier': 'RandomForest', 'n_estimators': 1430, 'max_depth': 18.01657352259412}. Best is trial 63 with value: 0.7605770763589988.\u001b[0m\n",
      "\u001b[32m[I 2021-04-03 13:05:00,881]\u001b[0m Trial 73 finished with value: 0.7475370636059302 and parameters: {'classifier': 'RandomForest', 'n_estimators': 370, 'max_depth': 31.361916456216797}. Best is trial 63 with value: 0.7605770763589988.\u001b[0m\n",
      "\u001b[32m[I 2021-04-03 13:05:02,454]\u001b[0m Trial 74 finished with value: 0.7508050374621393 and parameters: {'classifier': 'RandomForest', 'n_estimators': 420, 'max_depth': 13.502902430639367}. Best is trial 63 with value: 0.7605770763589988.\u001b[0m\n",
      "\u001b[32m[I 2021-04-03 13:05:08,230]\u001b[0m Trial 75 finished with value: 0.7540570699824646 and parameters: {'classifier': 'RandomForest', 'n_estimators': 1480, 'max_depth': 25.831571693190423}. Best is trial 63 with value: 0.7605770763589988.\u001b[0m\n",
      "\u001b[32m[I 2021-04-03 13:05:12,853]\u001b[0m Trial 76 finished with value: 0.75242308305436 and parameters: {'classifier': 'RandomForest', 'n_estimators': 1310, 'max_depth': 22.756171040799945}. Best is trial 63 with value: 0.7605770763589988.\u001b[0m\n",
      "\u001b[32m[I 2021-04-03 13:05:15,609]\u001b[0m Trial 77 finished with value: 0.7573011318348478 and parameters: {'classifier': 'RandomForest', 'n_estimators': 800, 'max_depth': 11.197293500543848}. Best is trial 63 with value: 0.7605770763589988.\u001b[0m\n",
      "\u001b[32m[I 2021-04-03 13:05:18,453]\u001b[0m Trial 78 finished with value: 0.7556910569105691 and parameters: {'classifier': 'RandomForest', 'n_estimators': 800, 'max_depth': 10.982018530159879}. Best is trial 63 with value: 0.7605770763589988.\u001b[0m\n",
      "\u001b[32m[I 2021-04-03 13:05:21,485]\u001b[0m Trial 79 finished with value: 0.7507970667941973 and parameters: {'classifier': 'RandomForest', 'n_estimators': 810, 'max_depth': 10.431742574793667}. Best is trial 63 with value: 0.7605770763589988.\u001b[0m\n",
      "\u001b[32m[I 2021-04-03 13:05:23,713]\u001b[0m Trial 80 finished with value: 0.744293001753547 and parameters: {'classifier': 'RandomForest', 'n_estimators': 590, 'max_depth': 13.968959118245708}. Best is trial 63 with value: 0.7605770763589988.\u001b[0m\n",
      "\u001b[32m[I 2021-04-03 13:05:27,226]\u001b[0m Trial 81 finished with value: 0.7524469950581859 and parameters: {'classifier': 'RandomForest', 'n_estimators': 1000, 'max_depth': 11.45419726817348}. Best is trial 63 with value: 0.7605770763589988.\u001b[0m\n",
      "\u001b[32m[I 2021-04-03 13:05:30,219]\u001b[0m Trial 82 finished with value: 0.744293001753547 and parameters: {'classifier': 'RandomForest', 'n_estimators': 840, 'max_depth': 15.69491642692769}. Best is trial 63 with value: 0.7605770763589988.\u001b[0m\n",
      "\u001b[32m[I 2021-04-03 13:05:32,558]\u001b[0m Trial 83 finished with value: 0.7459110473457676 and parameters: {'classifier': 'RandomForest', 'n_estimators': 650, 'max_depth': 12.51332723617346}. Best is trial 63 with value: 0.7605770763589988.\u001b[0m\n",
      "\u001b[32m[I 2021-04-03 13:05:35,474]\u001b[0m Trial 84 finished with value: 0.7524310537223019 and parameters: {'classifier': 'RandomForest', 'n_estimators': 780, 'max_depth': 70.13366686902701}. Best is trial 63 with value: 0.7605770763589988.\u001b[0m\n",
      "\u001b[32m[I 2021-04-03 13:05:38,653]\u001b[0m Trial 85 finished with value: 0.7540650406504065 and parameters: {'classifier': 'RandomForest', 'n_estimators': 880, 'max_depth': 18.1319090317975}. Best is trial 63 with value: 0.7605770763589988.\u001b[0m\n",
      "\u001b[32m[I 2021-04-03 13:05:39,527]\u001b[0m Trial 86 finished with value: 0.7459190180137095 and parameters: {'classifier': 'RandomForest', 'n_estimators': 240, 'max_depth': 11.02884632240378}. Best is trial 63 with value: 0.7605770763589988.\u001b[0m\n",
      "\u001b[32m[I 2021-04-03 13:05:41,928]\u001b[0m Trial 87 finished with value: 0.7508130081300813 and parameters: {'classifier': 'RandomForest', 'n_estimators': 670, 'max_depth': 12.265706329690401}. Best is trial 63 with value: 0.7605770763589988.\u001b[0m\n",
      "\u001b[32m[I 2021-04-03 13:05:42,008]\u001b[0m Trial 88 finished with value: 0.640068547744301 and parameters: {'classifier': 'SVC', 'svc_c': 2.5690794986831316}. Best is trial 63 with value: 0.7605770763589988.\u001b[0m\n",
      "\u001b[32m[I 2021-04-03 13:05:43,184]\u001b[0m Trial 89 finished with value: 0.7475370636059302 and parameters: {'classifier': 'RandomForest', 'n_estimators': 320, 'max_depth': 20.57048160720757}. Best is trial 63 with value: 0.7605770763589988.\u001b[0m\n",
      "\u001b[32m[I 2021-04-03 13:05:45,233]\u001b[0m Trial 90 finished with value: 0.7475290929379882 and parameters: {'classifier': 'RandomForest', 'n_estimators': 560, 'max_depth': 29.651646121866378}. Best is trial 63 with value: 0.7605770763589988.\u001b[0m\n",
      "\u001b[32m[I 2021-04-03 13:05:47,974]\u001b[0m Trial 91 finished with value: 0.7491630798660928 and parameters: {'classifier': 'RandomForest', 'n_estimators': 750, 'max_depth': 10.909728290394515}. Best is trial 63 with value: 0.7605770763589988.\u001b[0m\n",
      "\u001b[32m[I 2021-04-03 13:05:49,694]\u001b[0m Trial 92 finished with value: 0.7459269886816515 and parameters: {'classifier': 'RandomForest', 'n_estimators': 470, 'max_depth': 10.299232610599342}. Best is trial 63 with value: 0.7605770763589988.\u001b[0m\n",
      "\u001b[32m[I 2021-04-03 13:05:54,727]\u001b[0m Trial 93 finished with value: 0.7459190180137095 and parameters: {'classifier': 'RandomForest', 'n_estimators': 1380, 'max_depth': 24.899942970292148}. Best is trial 63 with value: 0.7605770763589988.\u001b[0m\n",
      "\u001b[32m[I 2021-04-03 13:05:59,002]\u001b[0m Trial 94 finished with value: 0.7491869918699187 and parameters: {'classifier': 'RandomForest', 'n_estimators': 1170, 'max_depth': 23.253820763095902}. Best is trial 63 with value: 0.7605770763589988.\u001b[0m\n",
      "\u001b[32m[I 2021-04-03 13:06:02,138]\u001b[0m Trial 95 finished with value: 0.7475530049418141 and parameters: {'classifier': 'RandomForest', 'n_estimators': 890, 'max_depth': 13.212924935738089}. Best is trial 63 with value: 0.7605770763589988.\u001b[0m\n",
      "\u001b[32m[I 2021-04-03 13:06:08,914]\u001b[0m Trial 96 finished with value: 0.7491710505340348 and parameters: {'classifier': 'RandomForest', 'n_estimators': 1940, 'max_depth': 14.574767638594448}. Best is trial 63 with value: 0.7605770763589988.\u001b[0m\n",
      "\u001b[32m[I 2021-04-03 13:06:10,007]\u001b[0m Trial 97 finished with value: 0.7345129921887454 and parameters: {'classifier': 'RandomForest', 'n_estimators': 290, 'max_depth': 27.446062529541578}. Best is trial 63 with value: 0.7605770763589988.\u001b[0m\n",
      "\u001b[32m[I 2021-04-03 13:06:11,486]\u001b[0m Trial 98 finished with value: 0.7475609756097561 and parameters: {'classifier': 'RandomForest', 'n_estimators': 420, 'max_depth': 21.445552105296844}. Best is trial 63 with value: 0.7605770763589988.\u001b[0m\n",
      "\u001b[32m[I 2021-04-03 13:06:17,239]\u001b[0m Trial 99 finished with value: 0.755699027578511 and parameters: {'classifier': 'RandomForest', 'n_estimators': 1640, 'max_depth': 11.56322432362457}. Best is trial 63 with value: 0.7605770763589988.\u001b[0m\n"
     ]
    },
    {
     "name": "stdout",
     "output_type": "stream",
     "text": [
      "Accuracy: 0.7605770763589988\n",
      "Best hyperparameters: {'classifier': 'RandomForest', 'n_estimators': 470, 'max_depth': 24.23936103404154}\n"
     ]
    }
   ],
   "source": [
    "\n",
    "study = optuna.create_study(direction='maximize')\n",
    "study.optimize(objective, n_trials=100)\n",
    "\n",
    "trial = study.best_trial\n",
    "\n",
    "print('Accuracy: {}'.format(trial.value))\n",
    "print(\"Best hyperparameters: {}\".format(trial.params))"
   ]
  },
  {
   "cell_type": "code",
   "execution_count": 60,
   "metadata": {},
   "outputs": [
    {
     "data": {
      "text/plain": [
       "FrozenTrial(number=63, values=[0.7605770763589988], datetime_start=datetime.datetime(2021, 4, 3, 13, 4, 37, 852821), datetime_complete=datetime.datetime(2021, 4, 3, 13, 4, 39, 536826), params={'classifier': 'RandomForest', 'n_estimators': 470, 'max_depth': 24.23936103404154}, distributions={'classifier': CategoricalDistribution(choices=('RandomForest', 'SVC')), 'n_estimators': IntUniformDistribution(high=2000, low=200, step=10), 'max_depth': LogUniformDistribution(high=100.0, low=10.0)}, user_attrs={}, system_attrs={}, intermediate_values={}, trial_id=63, state=TrialState.COMPLETE, value=None)"
      ]
     },
     "execution_count": 60,
     "metadata": {},
     "output_type": "execute_result"
    }
   ],
   "source": [
    "trial"
   ]
  },
  {
   "cell_type": "code",
   "execution_count": 61,
   "metadata": {},
   "outputs": [
    {
     "data": {
      "text/plain": [
       "{'classifier': 'RandomForest',\n",
       " 'n_estimators': 470,\n",
       " 'max_depth': 24.23936103404154}"
      ]
     },
     "execution_count": 61,
     "metadata": {},
     "output_type": "execute_result"
    }
   ],
   "source": [
    "study.best_params"
   ]
  },
  {
   "cell_type": "code",
   "execution_count": 62,
   "metadata": {},
   "outputs": [
    {
     "data": {
      "text/plain": [
       "RandomForestClassifier(max_depth=30, n_estimators=330)"
      ]
     },
     "execution_count": 62,
     "metadata": {},
     "output_type": "execute_result"
    }
   ],
   "source": [
    "\n",
    "rf=RandomForestClassifier(n_estimators=330,max_depth=30)\n",
    "rf.fit(X_train,y_train)"
   ]
  },
  {
   "cell_type": "code",
   "execution_count": 63,
   "metadata": {},
   "outputs": [
    {
     "name": "stdout",
     "output_type": "stream",
     "text": [
      "[[94 13]\n",
      " [15 32]]\n",
      "0.8181818181818182\n",
      "              precision    recall  f1-score   support\n",
      "\n",
      "           0       0.86      0.88      0.87       107\n",
      "           1       0.71      0.68      0.70        47\n",
      "\n",
      "    accuracy                           0.82       154\n",
      "   macro avg       0.79      0.78      0.78       154\n",
      "weighted avg       0.82      0.82      0.82       154\n",
      "\n"
     ]
    }
   ],
   "source": [
    "y_pred=rf.predict(X_test)\n",
    "print(confusion_matrix(y_test,y_pred))\n",
    "print(accuracy_score(y_test,y_pred))\n",
    "print(classification_report(y_test,y_pred))"
   ]
  },
  {
   "cell_type": "code",
   "execution_count": null,
   "metadata": {},
   "outputs": [],
   "source": []
  }
 ],
 "metadata": {
  "kernelspec": {
   "display_name": "Python 3",
   "language": "python",
   "name": "python3"
  },
  "language_info": {
   "codemirror_mode": {
    "name": "ipython",
    "version": 3
   },
   "file_extension": ".py",
   "mimetype": "text/x-python",
   "name": "python",
   "nbconvert_exporter": "python",
   "pygments_lexer": "ipython3",
   "version": "3.8.5"
  }
 },
 "nbformat": 4,
 "nbformat_minor": 4
}
