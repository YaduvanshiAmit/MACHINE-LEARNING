{
 "cells": [
  {
   "cell_type": "markdown",
   "metadata": {},
   "source": [
    " Here we cover the following things:-\n",
    " \n",
    "- Identifying numerical and categorical variables\n",
    "\n",
    "- Quantifying missing data\n",
    "\n",
    "- Determining cardinality in categorical variables\n",
    "\n",
    "- Pinpointing rare categories in categorical variables\n",
    "\n",
    "- Identifying a linear relationship\n",
    "\n",
    "- Identifying a normal distribution\n",
    "\n",
    "- Distinguishing variable distribution\n",
    "\n",
    "- Highlighting outliers\n",
    "\n",
    "- Comparing feature magnitude \n",
    "\n",
    "\n",
    "# Identifying numerical and categorical variables\n",
    "\n",
    "\n",
    "Discrete variables are usually of the int type, continuous variables are usually of the float type, and categorical variables are usually of the object type when they're stored in pandas. However, discrete variables can also be cast as floats, while numerical variables can be cast as objects. Therefore, to correctly identify variable types, we need to look at the data type and inspect their values as well.\n",
    "\n",
    "In many datasets, integer variables are cast as float. So, after inspecting the data type of the variable, even if you get float as output, go ahead and check the unique values to make sure that those variables are discrete and not continuous."
   ]
  },
  {
   "cell_type": "code",
   "execution_count": 1,
   "metadata": {},
   "outputs": [
    {
     "data": {
      "text/plain": [
       "PassengerId      int64\n",
       "Survived         int64\n",
       "Pclass           int64\n",
       "Name            object\n",
       "Sex             object\n",
       "Age            float64\n",
       "SibSp            int64\n",
       "Parch            int64\n",
       "Ticket          object\n",
       "Fare           float64\n",
       "Cabin           object\n",
       "Embarked        object\n",
       "dtype: object"
      ]
     },
     "execution_count": 1,
     "metadata": {},
     "output_type": "execute_result"
    }
   ],
   "source": [
    "import pandas as pd\n",
    "import matplotlib.pyplot as plt\n",
    "data = pd.read_csv('titanic_train.csv')\n",
    "data.dtypes"
   ]
  },
  {
   "cell_type": "markdown",
   "metadata": {},
   "source": [
    "Here we notice there is only two continuous and 5 distict and 5 categorical\n",
    "\n",
    "For checking we plot histogram and check that is distint or continuous \n",
    "\n",
    "And we have code also to check the continuous and distinct "
   ]
  },
  {
   "cell_type": "markdown",
   "metadata": {},
   "source": [
    "## Quantifying missing data\n",
    "\n",
    "we use our technique to quantifying the missing value that is best and i can implemet anywhere\n",
    "\n",
    "\n",
    "## Determing cardinality in categorical variable\n",
    "\n",
    "The number of unique categories in a variable is called cardinality\n",
    "\n",
    "we use our technique with mean if u want to see fast data.nunique()\n",
    "\n",
    "## Pinpointing rae categories in categorical variables\n",
    "\n",
    "we use our technique here also to see rare variable\n",
    "\n",
    "## Identifying a linear relationship\n",
    "\n",
    "thsi also we see by our method linear relationship or gaussian distribution\n",
    "\n",
    "## Identifying normal distribution\n",
    "\n",
    "Q-Q plot we see by our method\n",
    "\n",
    "## Distinguishing variable distribution\n",
    "\n",
    "A probability distribution is a function that describes the likelihood of obtaining the possible values of a variable. There are many well-described variable distributions, such as the normal, binomial, or Poisson distributions. Some machine learning algorithms assume that the independent variables are normally distributed. \n",
    "\n",
    "this also we check by our method our data is skewed or normal\n",
    "\n",
    "## Highlighting outliers \n",
    "\n",
    "this also we see by our method by using boxplot\n",
    "\n",
    "## Comparing feature magnitude\n",
    "\n",
    "scaling also we do by our method\n",
    "\n",
    "\n"
   ]
  },
  {
   "cell_type": "markdown",
   "metadata": {},
   "source": [
    "# IMPUTING MISSING DATA"
   ]
  },
  {
   "cell_type": "markdown",
   "metadata": {},
   "source": [
    "The choice of imputation technique we use will depend on whether the data is missing at random, the number of missing values, and the machine learning model we intend to use.\n",
    "\n",
    "Here we cover that all points:-\n",
    "\n",
    "- Removing observations with missing data\n",
    "\n",
    "- Performing mean or median imputation\n",
    "\n",
    "- Implementing mode or frequent category imputation\n",
    "\n",
    "- Replacing missing values with an arbitrary number\n",
    "\n",
    "- Capturing missing values in a bespoke category\n",
    "\n",
    "- Replacing missing values with a value at the end of the distribution\n",
    "\n",
    "- Implementing random sample imputation\n",
    "\n",
    "- Adding a missing value indicator variable\n",
    "\n",
    "- Performing multivariate imputation by chained equations\n",
    "\n",
    "- Assembling an imputation pipeline with scikit-learn\n",
    "\n",
    "- Assembling an imputation pipeline with Feature-engine"
   ]
  },
  {
   "cell_type": "code",
   "execution_count": 3,
   "metadata": {},
   "outputs": [],
   "source": [
    "#!pip install feature-engine"
   ]
  },
  {
   "cell_type": "markdown",
   "metadata": {},
   "source": [
    "### Removing observation with missing data\n",
    "\n",
    "Complete Case Analysis (CCA), also called list-wise deletion of cases, consists of discarding those observations where the values in any of the variables are missing. CCA can be applied to categorical and numerical variables. CCA is quick and easy to implement and has the advantage that it preserves the distribution of the variables, provided the data is missing at random and only a small proportion of the data is missing. However, if data is missing across many variables, CCA may lead to the removal of a big portion of the dataset.\n",
    "\n",
    "we use our method \n",
    "\n",
    "### Performing mean or median imputation\n",
    "\n",
    "This can only be performed in numerical variables.\n",
    "\n",
    "The mean or the median is calculated using a train set, and these values are used to impute missing data in train and test sets, as well as in future data we intend to score with the machine learning model. Therefore, we need to store these mean and median values.\n",
    "\n",
    "for var in ['A2', 'A3', 'A8', 'A11', 'A15']:\n",
    "\n",
    "    value = X_train[var].median()\n",
    "    \n",
    "    X_train[var] = X_train[var].fillna(value)\n",
    "    \n",
    "    X_test[var] = X_test[var].fillna(value)\n",
    "    \n",
    "like this we carefull for that     \n",
    "    \n",
    "\n",
    "## Implementing mode or frequent category imputation\n",
    "\n",
    "If the percentage of missing values is high, frequent category imputation may distort the original distribution of categories.\n",
    "\n",
    "Note how we calculate the mode in the train set and use that value to replace the missing data in the train and test sets.\n",
    "\n",
    "for var in ['A4', 'A5', 'A6', 'A7']:\n",
    "\n",
    "    value = X_train[var].mode()[0]\n",
    "    \n",
    "    X_train[var] = X_train[var].fillna(value)\n",
    "    \n",
    "    X_test[var] = X_test[var].fillna(value)\n",
    "    \n",
    "Here also carefull \n",
    "\n",
    "## Replacing missing values with an arbitraru number\n",
    "\n",
    "This method is suitable for numerical variables. A similar method for categorical variables will be discussed in the Capturing missing values in a bespoke category recipe.\n",
    "\n",
    "When replacing missing values with an arbitrary number, we need to be careful not to select a value close to the mean or the median, or any other common value of the distribution.\n",
    "\n",
    "\n",
    "## Capturing missing values in a bespoke category\n",
    "\n",
    "Missing data in categorical variables can be treated as a different category, so it is common to replace missing values with the Missing string.\n",
    "\n",
    "## Replacing missing values with a value at the end of the distribution\n",
    "\n",
    "The value that's used to replace missing information should be learned from the train set and stored to impute train, test, and future data. \n",
    "\n",
    "End-of-tail imputation may distort the distribution of the original variables, so it may not be suitable for linear models.\n",
    "\n",
    "## Implementing random sample imputation\n",
    "\n",
    "Random sampling imputation consists of extracting random observations from the pool of available values in the variable. Random sampling imputation preserves the original distribution, which differs from the other imputation techniques we've discussed in this chapter and is suitable for numerical and categorical variables alike.\n",
    "\n",
    "## Adding a missing value indicator variable\n",
    "\n",
    "It is common practice to replace missing observations by the mean, median, or mode while flagging those missing observations with a missing indicator, thus covering two angles: if the data was missing at random, this would be contemplated by the mean, median, or mode imputation, and if it wasn't, this would be captured by the missing indicator. \n",
    "\n",
    "## Perfoming multivariate imputation by chained equation\n",
    "\n",
    "Multivariate imputation methods, as opposed to univariate imputation, use the entire set of variables to estimate the missing values. In other words, the missing values of a variable are modeled based on the other variables in the dataset. Multivariate imputation by chained equations (MICE) is a multiple imputation technique that models each variable with missing values as a function of the remaining variables and uses that estimate for imputation.\n",
    "\n",
    "## Assembling an imputation pipeline with scikit-learn\n",
    "\n",
    "Datasets often contain a mix of numerical and categorical variables. In addition, some variables may contain a few missing data points, while others will contain quite a big proportion. The mechanisms by which data is missing may also vary among variables. Thus, we may wish to perform different imputation procedures for different variables. In this recipe, we will learn how to perform different imputation procedures for different feature subsets using scikit-learn.\n",
    "\n",
    "## Assembling an imputation pipeline with Feature-engine\n",
    "\n",
    "Feature-engine is an open source Python library that allows us to easily implement different imputation techniques for different feature subsets. Often, our datasets contain a mix of numerical and categorical variables, with few or many missing values. Therefore, we normally perform different imputation techniques on different variables, depending on the nature of the variable and the machine learning algorithm we want to build. With Feature-engine, we can assemble multiple imputation techniques in a single step, and in this recipe, we will learn how to do this.\n",
    "\n"
   ]
  },
  {
   "cell_type": "code",
   "execution_count": null,
   "metadata": {},
   "outputs": [],
   "source": []
  },
  {
   "cell_type": "code",
   "execution_count": null,
   "metadata": {},
   "outputs": [],
   "source": []
  },
  {
   "cell_type": "code",
   "execution_count": null,
   "metadata": {},
   "outputs": [],
   "source": []
  },
  {
   "cell_type": "code",
   "execution_count": null,
   "metadata": {},
   "outputs": [],
   "source": []
  },
  {
   "cell_type": "code",
   "execution_count": null,
   "metadata": {},
   "outputs": [],
   "source": []
  },
  {
   "cell_type": "code",
   "execution_count": null,
   "metadata": {},
   "outputs": [],
   "source": []
  },
  {
   "cell_type": "code",
   "execution_count": null,
   "metadata": {},
   "outputs": [],
   "source": []
  },
  {
   "cell_type": "code",
   "execution_count": null,
   "metadata": {},
   "outputs": [],
   "source": []
  },
  {
   "cell_type": "code",
   "execution_count": null,
   "metadata": {},
   "outputs": [],
   "source": []
  },
  {
   "cell_type": "code",
   "execution_count": null,
   "metadata": {},
   "outputs": [],
   "source": []
  },
  {
   "cell_type": "code",
   "execution_count": null,
   "metadata": {},
   "outputs": [],
   "source": []
  },
  {
   "cell_type": "code",
   "execution_count": null,
   "metadata": {},
   "outputs": [],
   "source": []
  },
  {
   "cell_type": "code",
   "execution_count": null,
   "metadata": {},
   "outputs": [],
   "source": []
  },
  {
   "cell_type": "code",
   "execution_count": null,
   "metadata": {},
   "outputs": [],
   "source": []
  },
  {
   "cell_type": "code",
   "execution_count": null,
   "metadata": {},
   "outputs": [],
   "source": []
  },
  {
   "cell_type": "code",
   "execution_count": null,
   "metadata": {},
   "outputs": [],
   "source": []
  },
  {
   "cell_type": "code",
   "execution_count": null,
   "metadata": {},
   "outputs": [],
   "source": []
  },
  {
   "cell_type": "code",
   "execution_count": null,
   "metadata": {},
   "outputs": [],
   "source": []
  },
  {
   "cell_type": "code",
   "execution_count": null,
   "metadata": {},
   "outputs": [],
   "source": []
  },
  {
   "cell_type": "code",
   "execution_count": null,
   "metadata": {},
   "outputs": [],
   "source": []
  },
  {
   "cell_type": "code",
   "execution_count": null,
   "metadata": {},
   "outputs": [],
   "source": []
  },
  {
   "cell_type": "code",
   "execution_count": null,
   "metadata": {},
   "outputs": [],
   "source": []
  },
  {
   "cell_type": "code",
   "execution_count": null,
   "metadata": {},
   "outputs": [],
   "source": []
  },
  {
   "cell_type": "code",
   "execution_count": null,
   "metadata": {},
   "outputs": [],
   "source": []
  },
  {
   "cell_type": "code",
   "execution_count": null,
   "metadata": {},
   "outputs": [],
   "source": []
  },
  {
   "cell_type": "code",
   "execution_count": null,
   "metadata": {},
   "outputs": [],
   "source": []
  },
  {
   "cell_type": "code",
   "execution_count": null,
   "metadata": {},
   "outputs": [],
   "source": []
  },
  {
   "cell_type": "markdown",
   "metadata": {},
   "source": [
    "# ENCODING CATEGORICAL VARIABLE"
   ]
  },
  {
   "cell_type": "markdown",
   "metadata": {},
   "source": [
    "Student's grade, the values of A, B, C, or Fail are ordered, A being the highest grade and Fail the lowest. These are called ordinal categorical variables. Variables in which the categories do not have an intrinsic order are called nominal categorical variables, such as the variable City, with the values of London, Manchester, Bristol, and so on.\n",
    "\n",
    "The act of replacing strings with numbers is called categorical encoding.\n",
    "\n",
    "Here in this section we learn this all:-\n",
    "\n",
    "- Creating binary variables through one-hot encoding\n",
    "- Performing one-hot encoding of frequent categories\n",
    "- Replacing categories with ordinal numbers\n",
    "- Replacing categories with counts or frequency of observations\n",
    "- Encoding with integers in an ordered manner\n",
    "- Encoding with the mean of the target\n",
    "- Encoding with the Weight of Evidence\n",
    "- Grouping rare or infrequent categories\n",
    "- Performing binary encoding\n",
    "- Performing feature hashing"
   ]
  },
  {
   "cell_type": "code",
   "execution_count": 7,
   "metadata": {},
   "outputs": [],
   "source": [
    "# ! pip install category_encoders"
   ]
  },
  {
   "cell_type": "markdown",
   "metadata": {},
   "source": [
    "## Creating binary variables through one-hot encoding\n",
    "\n",
    "The parameters to use in the categorical encoding should be learned from the train set and then used to encode the test set. Therefore, in all our recipes, we will first divide the dataset into train and test sets.\n",
    "\n",
    "## Performing one-hot encoding of frequent categories\n",
    "\n",
    "One-hot encoding represents each category of a categorical variable with a binary variable. Hence, one-hot encoding of highly cardinal variables or datasets with multiple categorical features can expand the feature space dramatically. To reduce the number of binary variables, we can perform one-hot encoding of the most frequent categories only. One-hot encoding of top categories is equivalent to treating the remaining, less frequent categories as a single, unique category, which we will discuss in the Grouping rare or infrequent categories recipe toward the end of this chapter.\n",
    "\n",
    "## Replacing categories with ordinal numbers\n",
    "\n",
    "Ordinal encoding consists of replacing the categories with digits from 1 to k (or 0 to k-1, depending on the implementation), where k is the number of distinct categories of the variable. The numbers are assigned arbitrarily. Ordinal encoding is better suited for non-linear machine learning models, which can navigate through the arbitrarily assigned digits to try and find patterns that relate to the target.\n",
    "\n",
    "## Replacing categories with counts or frequency of observations\n",
    "\n",
    "In count or frequency encoding, we replace the categories with the count or the percentage of observations with that category. That is, if 10 out of 100 observations show the category blue for the variable color, we would replace blue with 10 when doing count encoding, or by 0.1 if performing frequency encoding. These techniques, which capture the representation of each label in a dataset, are very popular in data science competitions.\n",
    "\n",
    "Note that if two different categories are present in the same percentage of observations, they will be replaced by the same value, which may lead to information loss.\n",
    "\n",
    "\n",
    "## Encoding with integers in an ordered manner\n",
    "\n",
    "we replaced categories with integers, which were assigned arbitrarily. This encoding works well with non-linear machine learning algorithms that can navigate through the arbitrarily assigned digits to try and find patterns that relate them to the target. However, this encoding method may not work so well with linear models.\n",
    "\n",
    "Note that to encode with integers based on the target with Feature-engine, we don't need to keep the target in the X_train and X_test datasets.\n",
    "\n",
    "## Encoding with the mean of the target\n",
    "\n",
    "Mean encoding or target encoding implies replacing the categories with the average target value for that category. For example, if we have a City variable, with the categories of London, Manchester, and Bristol, and we want to predict the default rate; if the default rate for London is 30%, we replace London with 0.3; if the default rate for Manchester is 20%, we replace Manchester with 0.2; and so on. The same can be done with a continuous target.\n",
    "\n",
    "As with any machine learning algorithm, the parameters for target encoding, that is, the mean target value per category, need to be learned from the train set only and used to replace categories in the train and test sets.\n",
    "\n",
    "## Encoding with the weight of evidence\n",
    "\n",
    "The Weight of Evidence (WoE) was developed primarily for credit and financial industries to facilitate variable screening and exploratory analysis and to build more predictive linear models to evaluate the risk of loan default; that is, to predict how likely money lent to a person or institution is to be lost.\n",
    "\n",
    "The WoE is computed from the basic odds ratio: log (p(Y=1)/p(Y=0))\n",
    "\n",
    "Here, p(Y=1) is the probability of an event occurring. Therefore, the WoE takes the following values:\n",
    "\n",
    "- WoE = 0 if p(1) / p(0) = 1, that is, if the outcome is random\n",
    "- WoE > 0 if p(1) > p(0)\n",
    "- WoE < 0 if p(0) > p(1)\n",
    "\n",
    "## Groupiing rare or infrequent categories\n",
    "\n",
    "Rare values are those categories that are present only in a small percentage of the observations. There is no rule of thumb to determine how small is a small percentage, but typically, any value below 5 % can be considered rare. Infrequent labels often appear only on the train set or only on the test set, therefore making the algorithms prone to overfitting or unable to score an observation. To avoid these complications, we can group infrequent categories into a new category called Rare or Other\n",
    "\n",
    "## Performing binary encoding\n",
    "\n",
    "Binary encoding is an alternative categorical encoding technique that uses binary code, that is, a sequence of zeroes and ones, to represent the different categories of the variable. How does it work? First, the categories are arbitrarily replaced by ordinal numbers, as shown in the intermediate step of the following table. Then, those numbers are converted into binary code. For example, the integer 1 can be represented as the sequence 01, the integer 2 as 10, the integer 3 as 00, and 4 as 11. The digits in the two positions of the binary string become the columns, which are the encoded representation of the original variable:\n",
    "\n",
    "\n",
    "## Performing Feature hashing\n",
    "\n",
    "With feature hashing, the categories of a variable are converted into a series of binary vectors using a hashing function. How does this work? First, we determine, arbitrarily, the number of binary vectors to represent the category. For example, let's say we would like to use five vectors. Next, we need a hash function that will take a category and return a number between 0 and n-1, where n is the number of binary vectors. In our example, the hash function should return a value between 0 and 4. Let's say our hash function returns the value of 3 for the category blue. That means that our category blue will be represented by a 0 in the vectors 0, 1, 2, and 4 and 1 in the vector 3: [0,0,0,1,0]. Any hash function can be used as long as it returns a number between 0 and n-1.\n"
   ]
  },
  {
   "cell_type": "code",
   "execution_count": null,
   "metadata": {},
   "outputs": [],
   "source": []
  },
  {
   "cell_type": "code",
   "execution_count": null,
   "metadata": {},
   "outputs": [],
   "source": []
  },
  {
   "cell_type": "code",
   "execution_count": null,
   "metadata": {},
   "outputs": [],
   "source": []
  },
  {
   "cell_type": "code",
   "execution_count": null,
   "metadata": {},
   "outputs": [],
   "source": []
  },
  {
   "cell_type": "code",
   "execution_count": null,
   "metadata": {},
   "outputs": [],
   "source": []
  },
  {
   "cell_type": "code",
   "execution_count": null,
   "metadata": {},
   "outputs": [],
   "source": []
  },
  {
   "cell_type": "code",
   "execution_count": null,
   "metadata": {},
   "outputs": [],
   "source": []
  },
  {
   "cell_type": "code",
   "execution_count": null,
   "metadata": {},
   "outputs": [],
   "source": []
  },
  {
   "cell_type": "code",
   "execution_count": null,
   "metadata": {},
   "outputs": [],
   "source": []
  },
  {
   "cell_type": "code",
   "execution_count": null,
   "metadata": {},
   "outputs": [],
   "source": []
  },
  {
   "cell_type": "code",
   "execution_count": null,
   "metadata": {},
   "outputs": [],
   "source": []
  },
  {
   "cell_type": "code",
   "execution_count": null,
   "metadata": {},
   "outputs": [],
   "source": []
  },
  {
   "cell_type": "code",
   "execution_count": null,
   "metadata": {},
   "outputs": [],
   "source": []
  },
  {
   "cell_type": "code",
   "execution_count": null,
   "metadata": {},
   "outputs": [],
   "source": []
  },
  {
   "cell_type": "code",
   "execution_count": null,
   "metadata": {},
   "outputs": [],
   "source": []
  },
  {
   "cell_type": "code",
   "execution_count": null,
   "metadata": {},
   "outputs": [],
   "source": []
  },
  {
   "cell_type": "code",
   "execution_count": null,
   "metadata": {},
   "outputs": [],
   "source": []
  },
  {
   "cell_type": "markdown",
   "metadata": {},
   "source": [
    "# Transforming Numerical Variables"
   ]
  },
  {
   "cell_type": "markdown",
   "metadata": {},
   "source": [
    "Linear and logistic regression assume that the variables are normally distributed. If they are not, we can often apply a mathematical transformation to change their distribution into Gaussian, and sometimes even unmask linear relationships between variables and their targets. This means that transforming variables may improve the performance of linear machine learning models. Commonly used mathematical transformations include the logarithm, reciprocal, power, square and cube root transformations, as well as the Box-Cox and Yeo-Johnson transformations.\n",
    "\n",
    "IN this section we see :-\n",
    "\n",
    "- Transforming variables with the logarithm\n",
    "- Transforming variables with the reciprocal function\n",
    "- Using square and cube root to transform variables\n",
    "- Using power transformations on numerical variables\n",
    "- Performing Box-Cox transformation on numerical variables\n",
    "- Performing Yeo-Johnson transformation on numerical variables\n",
    "\n"
   ]
  },
  {
   "cell_type": "markdown",
   "metadata": {},
   "source": [
    "## Transforming variables with the logarithm\n",
    "\n",
    "The logarithm function is commonly used to transform variables. It has a strong effect on the shape of the variable distribution and can only be applied to positive variables.\n",
    "\n",
    "## Transforming variables with the reciprocal function\n",
    "\n",
    "The reciprocal function, defined as 1/x, is a strong transformation with a very drastic effect on the variable distribution. It isn't defined for the value 0, but it can be applied to negative numbers\n",
    "\n",
    "## Using square and cube root to transform variables\n",
    "\n",
    "The square root transformation is not defined for negative values, so make sure you only transform those variables whose values are >=0; otherwise, you will introduce NaN or receive an error message.\n",
    "\n",
    "## Using power transformations on numerical variables\n",
    "\n",
    "Exponential or power functions are mathematical transformations that follow , where lambda can be any exponent. The square and cube root transformations are special cases of power transformations where lambda is 1/2 or 1/3, respectively. In practice, we try different lambdas to determine which one offers the best transformation.\n",
    "\n",
    "## Performing Box-Cox transformation on numerical variables\n",
    "\n",
    "The Box-Cox transformation can only be used on positive variables. If your variables have negative values, try the Yeo-Johnson transformation, \n",
    "\n",
    "## Performing Yeo-Johnson transformation on numerical variables\n",
    "\n",
    "The Yeo-Johnson transformation is an extension of the Box-Cox transformation and can be used on variables with zero and negative values, as well as positive values.\n"
   ]
  },
  {
   "cell_type": "code",
   "execution_count": null,
   "metadata": {},
   "outputs": [],
   "source": []
  },
  {
   "cell_type": "code",
   "execution_count": null,
   "metadata": {},
   "outputs": [],
   "source": []
  },
  {
   "cell_type": "code",
   "execution_count": null,
   "metadata": {},
   "outputs": [],
   "source": []
  },
  {
   "cell_type": "code",
   "execution_count": null,
   "metadata": {},
   "outputs": [],
   "source": []
  },
  {
   "cell_type": "code",
   "execution_count": null,
   "metadata": {},
   "outputs": [],
   "source": []
  },
  {
   "cell_type": "code",
   "execution_count": null,
   "metadata": {},
   "outputs": [],
   "source": []
  },
  {
   "cell_type": "code",
   "execution_count": null,
   "metadata": {},
   "outputs": [],
   "source": []
  },
  {
   "cell_type": "code",
   "execution_count": null,
   "metadata": {},
   "outputs": [],
   "source": []
  },
  {
   "cell_type": "code",
   "execution_count": null,
   "metadata": {},
   "outputs": [],
   "source": []
  },
  {
   "cell_type": "code",
   "execution_count": null,
   "metadata": {},
   "outputs": [],
   "source": []
  },
  {
   "cell_type": "code",
   "execution_count": null,
   "metadata": {},
   "outputs": [],
   "source": []
  },
  {
   "cell_type": "code",
   "execution_count": null,
   "metadata": {},
   "outputs": [],
   "source": []
  },
  {
   "cell_type": "code",
   "execution_count": null,
   "metadata": {},
   "outputs": [],
   "source": []
  },
  {
   "cell_type": "code",
   "execution_count": null,
   "metadata": {},
   "outputs": [],
   "source": []
  },
  {
   "cell_type": "code",
   "execution_count": null,
   "metadata": {},
   "outputs": [],
   "source": []
  },
  {
   "cell_type": "code",
   "execution_count": null,
   "metadata": {},
   "outputs": [],
   "source": []
  },
  {
   "cell_type": "code",
   "execution_count": null,
   "metadata": {},
   "outputs": [],
   "source": []
  },
  {
   "cell_type": "markdown",
   "metadata": {},
   "source": [
    "# PERFORMING VARIABLE DISCRETIZATION"
   ]
  },
  {
   "cell_type": "markdown",
   "metadata": {},
   "source": [
    "Discretization, or binning, is the process of transforming continuous variables into discrete variables by creating a set of contiguous intervals, also called bins, that span the range of the variable values. Discretization is used to change the distribution of skewed variables and to minimize the influence of outliers, and hence improve the performance of some machine learning models.\n",
    "\n",
    "How does discretization minimize the effect of outliers? Discretization places outliers into the lower or higher intervals, together with the remaining inlier values of the distribution. Hence, these outlier observations no longer differ from the rest of the values at the tails of the distribution, as they are now all together in the same interval or bin. Also, if sorting observations across bins with equal frequency, discretization spreads the values of a skewed variable more homogeneously across the value range.\n",
    "\n",
    "In this chapter, we will discuss supervised and unsupervised approaches to transform continuous variables into discrete ones. Unsupervised discretization methods do not use any information, other than the variable distribution, to create the contiguous bins. Supervised methods, on the other hand, use target information to create the intervals.\n",
    "\n",
    "IN this section we cover:-\n",
    "\n",
    "- Dividing the variable into intervals of equal width\n",
    "- Sorting the variable values in intervals of equal frequency\n",
    "- Performing discretization followed by categorical encoding\n",
    "- Allocating the variable values in arbitrary intervals\n",
    "- Performing discretization with k-means clustering\n",
    "- Using decision trees for discretization"
   ]
  },
  {
   "cell_type": "markdown",
   "metadata": {},
   "source": [
    "## Dividing the variable into intervals of equal width\n",
    "\n",
    "In equal-width discretization, the variable values are sorted into intervals of the same width.For example, if the values of the variable vary between 0 and 100, we can create five bins like this: width = (100-0) / 5 = 20; the bins will be 0-20, 20-40, 40-60, 80-100.\n",
    "\n",
    "## Sorting the variable values in intervals of equal frequency\n",
    "\n",
    "Equal-frequency discretization divides the values of the variable into intervals that carry the same proportion of observations. The interval width is determined by quantiles, and therefore different intervals may have different widths.\n",
    "\n",
    "In summary, equal-frequency discretization using quantiles consists of dividing the continuous variable into N quantiles, with N to be defined by the user. This discretization technique is particularly useful for skewed variables as it spreads the observations over the different bins equally.\n",
    "\n",
    "## Performing discretization followed by categorical encoding\n",
    "\n",
    "After discretization, the intervals of the variable can be treated as a discrete numerical variable, or as categories in a categorical variable. If treated as categorical, we can follow up the discretization by reordering the intervals according to the target value, as we did in the Encoding with integers in an ordered manner recipe in Chapter 3, Encoding Categorical Variables, to create a monotonic relationship between the intervals and the target. In this recipe, we will combine these two feature engineering techniques using Feature-engine and the Boston House Prices dataset from scikit-learn.\n",
    "\n",
    "## Allocating the variable values in arbitrary intervals\n",
    "\n",
    "In previous recipes, we have seen how to create intervals based on variable values and distribution. Sometimes, however, we want to divide the variables into intervals, the boundaries of which are arbitrarily determined by the user. In this recipe, we will learn how to discretize a variable into user pre-defined intervals using pandas and the Boston House Prices dataset from scikit-learn.\n",
    "\n",
    "## Performing discretization with k-means clustering\n",
    "\n",
    "In discretization using k-means clustering, the intervals are the clusters identified by the k-means algorithm. The number of clusters (k) is defined by the user. The k-means clustering algorithm has two main steps. In the initialization step, k observations are chosen randomly as the initial centers of the k clusters, and the remaining data points are assigned to the closest cluster. In the iteration step, the centers of the clusters are re-computed as the average points of all of the observations within the cluster, and the observations are reassigned to the newly created closest cluster. The iteration step continues until the optimal k centers are found. In this recipe, we will perform k-means discretization with scikit-learn, using the Boston House Prices dataset.\n",
    "\n",
    "## Using decision trees for discretization\n",
    "\n",
    "Discretization with decision trees consists of using a decision tree to identify the optimal bins in which to sort the variable values. The decision tree is built using the variable to discretize, and the target. When a decision tree makes a prediction, it assigns an observation to one of N end leaves, therefore, any decision tree will generate a discrete output, the values of which are the predictions at each of its N leaves. Discretization with decision trees creates a monotonic relationship between the bins and the target. In this recipe, we will perform decision tree-based discretization using scikit-learn and then automate the procedure with Feature-engine.\n",
    "\n",
    "\n"
   ]
  },
  {
   "cell_type": "code",
   "execution_count": null,
   "metadata": {},
   "outputs": [],
   "source": []
  },
  {
   "cell_type": "code",
   "execution_count": null,
   "metadata": {},
   "outputs": [],
   "source": []
  },
  {
   "cell_type": "code",
   "execution_count": null,
   "metadata": {},
   "outputs": [],
   "source": []
  },
  {
   "cell_type": "code",
   "execution_count": null,
   "metadata": {},
   "outputs": [],
   "source": []
  },
  {
   "cell_type": "code",
   "execution_count": null,
   "metadata": {},
   "outputs": [],
   "source": []
  },
  {
   "cell_type": "code",
   "execution_count": null,
   "metadata": {},
   "outputs": [],
   "source": []
  },
  {
   "cell_type": "code",
   "execution_count": null,
   "metadata": {},
   "outputs": [],
   "source": []
  },
  {
   "cell_type": "code",
   "execution_count": null,
   "metadata": {},
   "outputs": [],
   "source": []
  },
  {
   "cell_type": "code",
   "execution_count": null,
   "metadata": {},
   "outputs": [],
   "source": []
  },
  {
   "cell_type": "code",
   "execution_count": null,
   "metadata": {},
   "outputs": [],
   "source": []
  },
  {
   "cell_type": "code",
   "execution_count": null,
   "metadata": {},
   "outputs": [],
   "source": []
  },
  {
   "cell_type": "code",
   "execution_count": null,
   "metadata": {},
   "outputs": [],
   "source": []
  },
  {
   "cell_type": "code",
   "execution_count": null,
   "metadata": {},
   "outputs": [],
   "source": []
  },
  {
   "cell_type": "code",
   "execution_count": null,
   "metadata": {},
   "outputs": [],
   "source": []
  },
  {
   "cell_type": "markdown",
   "metadata": {},
   "source": [
    "# OUTLIERS"
   ]
  },
  {
   "cell_type": "markdown",
   "metadata": {},
   "source": [
    "- Trimming outliers from the dataset\n",
    "- Performing winsorization\n",
    "- Capping the variable at arbitrary maximum and minimum values\n",
    "- Performing zero-coding – capping the variable values at zero"
   ]
  },
  {
   "cell_type": "markdown",
   "metadata": {},
   "source": [
    "## Trimming outliers from the dataset\n",
    "\n",
    "Trimming, or truncating, is the process of removing observations that show outliers in one or more variables in the dataset. There are three commonly used methods to set the boundaries beyond which a value can be considered an outlier. If the variable is normally distributed, the boundaries are given by the mean plus or minus three times the standard deviation, as approximately 99% of the data will be distributed between those limits. For normally, as well as not normally, distributed variables, we can determine the limits using the inter-quartile range proximity rules or by directly setting the limits to the 5th and 95th quantiles.\n",
    "\n",
    "## Performing winsorization\n",
    "\n",
    "Winsorization, or winsorizing, is the process of transforming the data by limiting the extreme values, that is, the outliers, to a certain arbitrary value, closer to the mean of the distribution. Winsorizing is different from trimming because the extreme values are not removed, but are instead replaced by other values. A typical strategy involves setting outliers to a specified percentile.\n",
    "\n",
    "## Capping the variable at arbitrary maximum and minimum values\n",
    "\n",
    "Similarly to winsorization, we can replace the extreme values by values closer to other values in the variable, by determining the maximum and minimum boundaries with the mean plus or minus the standard deviation, or the inter-quartile range proximity rule. This procedure is also called bottom and top coding, censoring, or capping. We can cap both extremes of the distribution or just one of the tails, depending on where we find the outliers in the variable. \n",
    "\n",
    "## Performing zero-coding – capping the variable at zero\n",
    "\n",
    "In econometrics and statistics, top-coding and bottom-coding refer to the act of censoring data points, the values of which are above or below a certain number or threshold, respectively. In essence, top and bottom coding is what we have covered in the previous recipe, where we capped the minimum or maximum values of variables at a certain value, which we determined with the mean and standard deviation, the inter-quartile range proximity rule, or the percentiles. Zero-coding is a variant of bottom-coding and refers to the process of capping, usually the lower value of the variable, at zero. It is commonly used for variables that cannot take negative values, such as age or income. In this recipe, we will learn how to implement zero-coding in a toy dataframe using pandas and Feature-engine.\n",
    "\n",
    "\n",
    "\n"
   ]
  },
  {
   "cell_type": "code",
   "execution_count": null,
   "metadata": {},
   "outputs": [],
   "source": []
  },
  {
   "cell_type": "code",
   "execution_count": null,
   "metadata": {},
   "outputs": [],
   "source": []
  },
  {
   "cell_type": "code",
   "execution_count": null,
   "metadata": {},
   "outputs": [],
   "source": []
  },
  {
   "cell_type": "code",
   "execution_count": null,
   "metadata": {},
   "outputs": [],
   "source": []
  },
  {
   "cell_type": "code",
   "execution_count": null,
   "metadata": {},
   "outputs": [],
   "source": []
  },
  {
   "cell_type": "code",
   "execution_count": null,
   "metadata": {},
   "outputs": [],
   "source": []
  },
  {
   "cell_type": "code",
   "execution_count": null,
   "metadata": {},
   "outputs": [],
   "source": []
  },
  {
   "cell_type": "code",
   "execution_count": null,
   "metadata": {},
   "outputs": [],
   "source": []
  },
  {
   "cell_type": "code",
   "execution_count": null,
   "metadata": {},
   "outputs": [],
   "source": []
  },
  {
   "cell_type": "code",
   "execution_count": null,
   "metadata": {},
   "outputs": [],
   "source": []
  },
  {
   "cell_type": "code",
   "execution_count": null,
   "metadata": {},
   "outputs": [],
   "source": []
  },
  {
   "cell_type": "markdown",
   "metadata": {},
   "source": [
    "# DERIVING FEATURES FROM DATES AND TIME VARIABLE"
   ]
  },
  {
   "cell_type": "markdown",
   "metadata": {},
   "source": [
    "Date and time variables are those that contain information about dates, times, or date and time. In programming, we refer to these variables as datetime variables. Examples of the datetime variables are date of birth, time of the accident, and date of last payment. The datetime variables usually contain a multitude of different labels corresponding to a specific combination of date and time. We do not utilize the datetime variables in their raw format when building machine learning models. Instead, we enrich the dataset dramatically by deriving multiple features from these variables. In this chapter, we will learn how to derive a variety of new features from date and time.\n",
    "\n",
    "In this section we see that:-\n",
    "\n",
    "- Extracting date and time parts from a datetime variable\n",
    "- Deriving representations of the year and month\n",
    "- Creating representations of day and week\n",
    "- Extracting time parts from a time variable\n",
    "- Capturing the elapsed time between datetime variables\n",
    "- Working with time in different time zones\n"
   ]
  },
  {
   "cell_type": "markdown",
   "metadata": {},
   "source": [
    "## Extracting date and time parts from a datetime variable\n",
    "\n",
    "in this we will  learn how to separate the date and time parts of a datetime variable using pandas \n",
    "\n"
   ]
  },
  {
   "cell_type": "code",
   "execution_count": 2,
   "metadata": {},
   "outputs": [
    {
     "data": {
      "text/html": [
       "<div>\n",
       "<style scoped>\n",
       "    .dataframe tbody tr th:only-of-type {\n",
       "        vertical-align: middle;\n",
       "    }\n",
       "\n",
       "    .dataframe tbody tr th {\n",
       "        vertical-align: top;\n",
       "    }\n",
       "\n",
       "    .dataframe thead th {\n",
       "        text-align: right;\n",
       "    }\n",
       "</style>\n",
       "<table border=\"1\" class=\"dataframe\">\n",
       "  <thead>\n",
       "    <tr style=\"text-align: right;\">\n",
       "      <th></th>\n",
       "      <th>date</th>\n",
       "    </tr>\n",
       "  </thead>\n",
       "  <tbody>\n",
       "    <tr>\n",
       "      <th>0</th>\n",
       "      <td>2020-04-01 00:00:00</td>\n",
       "    </tr>\n",
       "    <tr>\n",
       "      <th>1</th>\n",
       "      <td>2020-04-01 00:01:00</td>\n",
       "    </tr>\n",
       "    <tr>\n",
       "      <th>2</th>\n",
       "      <td>2020-04-01 00:02:00</td>\n",
       "    </tr>\n",
       "    <tr>\n",
       "      <th>3</th>\n",
       "      <td>2020-04-01 00:03:00</td>\n",
       "    </tr>\n",
       "    <tr>\n",
       "      <th>4</th>\n",
       "      <td>2020-04-01 00:04:00</td>\n",
       "    </tr>\n",
       "  </tbody>\n",
       "</table>\n",
       "</div>"
      ],
      "text/plain": [
       "                 date\n",
       "0 2020-04-01 00:00:00\n",
       "1 2020-04-01 00:01:00\n",
       "2 2020-04-01 00:02:00\n",
       "3 2020-04-01 00:03:00\n",
       "4 2020-04-01 00:04:00"
      ]
     },
     "execution_count": 2,
     "metadata": {},
     "output_type": "execute_result"
    }
   ],
   "source": [
    "import pandas as pd\n",
    "# lets create 20 datetime  values by increament of 1 minute\n",
    "rng_ = pd.date_range('2020-04-01',periods=20,freq='T')\n",
    "df  = pd.DataFrame({'date':rng_})\n",
    "df.head()"
   ]
  },
  {
   "cell_type": "code",
   "execution_count": 3,
   "metadata": {},
   "outputs": [
    {
     "data": {
      "text/plain": [
       "date    datetime64[ns]\n",
       "dtype: object"
      ]
     },
     "execution_count": 3,
     "metadata": {},
     "output_type": "execute_result"
    }
   ],
   "source": [
    "df.dtypes"
   ]
  },
  {
   "cell_type": "code",
   "execution_count": 5,
   "metadata": {},
   "outputs": [
    {
     "data": {
      "text/plain": [
       "0    2020-04-01\n",
       "1    2020-04-01\n",
       "2    2020-04-01\n",
       "3    2020-04-01\n",
       "4    2020-04-01\n",
       "Name: date_part, dtype: object"
      ]
     },
     "execution_count": 5,
     "metadata": {},
     "output_type": "execute_result"
    }
   ],
   "source": [
    "# lets capture the date part\n",
    "df['date_part'] = df['date'].dt.date\n",
    "df['date_part'].head()"
   ]
  },
  {
   "cell_type": "code",
   "execution_count": 6,
   "metadata": {},
   "outputs": [
    {
     "data": {
      "text/plain": [
       "0    00:00:00\n",
       "1    00:01:00\n",
       "2    00:02:00\n",
       "3    00:03:00\n",
       "4    00:04:00\n",
       "Name: time_part, dtype: object"
      ]
     },
     "execution_count": 6,
     "metadata": {},
     "output_type": "execute_result"
    }
   ],
   "source": [
    "# Lets capture the time\n",
    "df['time_part'] = df['date'].dt.time\n",
    "df['time_part'].head()"
   ]
  },
  {
   "cell_type": "code",
   "execution_count": 8,
   "metadata": {},
   "outputs": [
    {
     "data": {
      "text/html": [
       "<div>\n",
       "<style scoped>\n",
       "    .dataframe tbody tr th:only-of-type {\n",
       "        vertical-align: middle;\n",
       "    }\n",
       "\n",
       "    .dataframe tbody tr th {\n",
       "        vertical-align: top;\n",
       "    }\n",
       "\n",
       "    .dataframe thead th {\n",
       "        text-align: right;\n",
       "    }\n",
       "</style>\n",
       "<table border=\"1\" class=\"dataframe\">\n",
       "  <thead>\n",
       "    <tr style=\"text-align: right;\">\n",
       "      <th></th>\n",
       "      <th>date_var</th>\n",
       "    </tr>\n",
       "  </thead>\n",
       "  <tbody>\n",
       "    <tr>\n",
       "      <th>0</th>\n",
       "      <td>Jan-2015</td>\n",
       "    </tr>\n",
       "    <tr>\n",
       "      <th>1</th>\n",
       "      <td>Apr-2013</td>\n",
       "    </tr>\n",
       "    <tr>\n",
       "      <th>2</th>\n",
       "      <td>Jun-2014</td>\n",
       "    </tr>\n",
       "    <tr>\n",
       "      <th>3</th>\n",
       "      <td>Jan-2015</td>\n",
       "    </tr>\n",
       "  </tbody>\n",
       "</table>\n",
       "</div>"
      ],
      "text/plain": [
       "   date_var\n",
       "0  Jan-2015\n",
       "1  Apr-2013\n",
       "2  Jun-2014\n",
       "3  Jan-2015"
      ]
     },
     "execution_count": 8,
     "metadata": {},
     "output_type": "execute_result"
    }
   ],
   "source": [
    "## here we learn how to change the date type of a variable into a datetime variable\n",
    "## Lets create new dataframe\n",
    "\n",
    "df = pd.DataFrame({'date_var':['Jan-2015', 'Apr-2013', 'Jun-2014', 'Jan-2015']})\n",
    "df"
   ]
  },
  {
   "cell_type": "code",
   "execution_count": 9,
   "metadata": {},
   "outputs": [
    {
     "data": {
      "text/plain": [
       "date_var    object\n",
       "dtype: object"
      ]
     },
     "execution_count": 9,
     "metadata": {},
     "output_type": "execute_result"
    }
   ],
   "source": [
    "df.dtypes"
   ]
  },
  {
   "cell_type": "code",
   "execution_count": 10,
   "metadata": {},
   "outputs": [
    {
     "data": {
      "text/html": [
       "<div>\n",
       "<style scoped>\n",
       "    .dataframe tbody tr th:only-of-type {\n",
       "        vertical-align: middle;\n",
       "    }\n",
       "\n",
       "    .dataframe tbody tr th {\n",
       "        vertical-align: top;\n",
       "    }\n",
       "\n",
       "    .dataframe thead th {\n",
       "        text-align: right;\n",
       "    }\n",
       "</style>\n",
       "<table border=\"1\" class=\"dataframe\">\n",
       "  <thead>\n",
       "    <tr style=\"text-align: right;\">\n",
       "      <th></th>\n",
       "      <th>date_var</th>\n",
       "      <th>dataeime_var</th>\n",
       "    </tr>\n",
       "  </thead>\n",
       "  <tbody>\n",
       "    <tr>\n",
       "      <th>0</th>\n",
       "      <td>Jan-2015</td>\n",
       "      <td>2015-01-01</td>\n",
       "    </tr>\n",
       "    <tr>\n",
       "      <th>1</th>\n",
       "      <td>Apr-2013</td>\n",
       "      <td>2013-04-01</td>\n",
       "    </tr>\n",
       "    <tr>\n",
       "      <th>2</th>\n",
       "      <td>Jun-2014</td>\n",
       "      <td>2014-06-01</td>\n",
       "    </tr>\n",
       "    <tr>\n",
       "      <th>3</th>\n",
       "      <td>Jan-2015</td>\n",
       "      <td>2015-01-01</td>\n",
       "    </tr>\n",
       "  </tbody>\n",
       "</table>\n",
       "</div>"
      ],
      "text/plain": [
       "   date_var dataeime_var\n",
       "0  Jan-2015   2015-01-01\n",
       "1  Apr-2013   2013-04-01\n",
       "2  Jun-2014   2014-06-01\n",
       "3  Jan-2015   2015-01-01"
      ]
     },
     "execution_count": 10,
     "metadata": {},
     "output_type": "execute_result"
    }
   ],
   "source": [
    "# here u see datetime variable cast as object \n",
    "# nw change that variable into datetime\n",
    "df['dataeime_var'] = pd.to_datetime(df['date_var'])\n",
    "df"
   ]
  },
  {
   "cell_type": "code",
   "execution_count": 11,
   "metadata": {},
   "outputs": [
    {
     "data": {
      "text/plain": [
       "date_var                object\n",
       "dataeime_var    datetime64[ns]\n",
       "dtype: object"
      ]
     },
     "execution_count": 11,
     "metadata": {},
     "output_type": "execute_result"
    }
   ],
   "source": [
    "df.dtypes"
   ]
  },
  {
   "cell_type": "code",
   "execution_count": 14,
   "metadata": {},
   "outputs": [
    {
     "data": {
      "text/html": [
       "<div>\n",
       "<style scoped>\n",
       "    .dataframe tbody tr th:only-of-type {\n",
       "        vertical-align: middle;\n",
       "    }\n",
       "\n",
       "    .dataframe tbody tr th {\n",
       "        vertical-align: top;\n",
       "    }\n",
       "\n",
       "    .dataframe thead th {\n",
       "        text-align: right;\n",
       "    }\n",
       "</style>\n",
       "<table border=\"1\" class=\"dataframe\">\n",
       "  <thead>\n",
       "    <tr style=\"text-align: right;\">\n",
       "      <th></th>\n",
       "      <th>date_var</th>\n",
       "      <th>dataeime_var</th>\n",
       "      <th>date</th>\n",
       "      <th>time</th>\n",
       "    </tr>\n",
       "  </thead>\n",
       "  <tbody>\n",
       "    <tr>\n",
       "      <th>0</th>\n",
       "      <td>Jan-2015</td>\n",
       "      <td>2015-01-01</td>\n",
       "      <td>2015-01-01</td>\n",
       "      <td>00:00:00</td>\n",
       "    </tr>\n",
       "    <tr>\n",
       "      <th>1</th>\n",
       "      <td>Apr-2013</td>\n",
       "      <td>2013-04-01</td>\n",
       "      <td>2013-04-01</td>\n",
       "      <td>00:00:00</td>\n",
       "    </tr>\n",
       "    <tr>\n",
       "      <th>2</th>\n",
       "      <td>Jun-2014</td>\n",
       "      <td>2014-06-01</td>\n",
       "      <td>2014-06-01</td>\n",
       "      <td>00:00:00</td>\n",
       "    </tr>\n",
       "    <tr>\n",
       "      <th>3</th>\n",
       "      <td>Jan-2015</td>\n",
       "      <td>2015-01-01</td>\n",
       "      <td>2015-01-01</td>\n",
       "      <td>00:00:00</td>\n",
       "    </tr>\n",
       "  </tbody>\n",
       "</table>\n",
       "</div>"
      ],
      "text/plain": [
       "   date_var dataeime_var        date      time\n",
       "0  Jan-2015   2015-01-01  2015-01-01  00:00:00\n",
       "1  Apr-2013   2013-04-01  2013-04-01  00:00:00\n",
       "2  Jun-2014   2014-06-01  2014-06-01  00:00:00\n",
       "3  Jan-2015   2015-01-01  2015-01-01  00:00:00"
      ]
     },
     "execution_count": 14,
     "metadata": {},
     "output_type": "execute_result"
    }
   ],
   "source": [
    "# lets extract date and time\n",
    "df['date']=df['dataeime_var'].dt.date\n",
    "df['time']=df['dataeime_var'].dt.time\n",
    "df"
   ]
  },
  {
   "cell_type": "markdown",
   "metadata": {},
   "source": [
    "## Deriuving representation of the year and month\n"
   ]
  },
  {
   "cell_type": "markdown",
   "metadata": {},
   "source": [
    " In this recipe, we will learn how to derive the year, month, quarter, and semester from a datetime variable using pandas and NumPy."
   ]
  },
  {
   "cell_type": "code",
   "execution_count": 15,
   "metadata": {},
   "outputs": [
    {
     "data": {
      "text/html": [
       "<div>\n",
       "<style scoped>\n",
       "    .dataframe tbody tr th:only-of-type {\n",
       "        vertical-align: middle;\n",
       "    }\n",
       "\n",
       "    .dataframe tbody tr th {\n",
       "        vertical-align: top;\n",
       "    }\n",
       "\n",
       "    .dataframe thead th {\n",
       "        text-align: right;\n",
       "    }\n",
       "</style>\n",
       "<table border=\"1\" class=\"dataframe\">\n",
       "  <thead>\n",
       "    <tr style=\"text-align: right;\">\n",
       "      <th></th>\n",
       "      <th>date</th>\n",
       "    </tr>\n",
       "  </thead>\n",
       "  <tbody>\n",
       "    <tr>\n",
       "      <th>0</th>\n",
       "      <td>2020-04-30</td>\n",
       "    </tr>\n",
       "    <tr>\n",
       "      <th>1</th>\n",
       "      <td>2020-05-31</td>\n",
       "    </tr>\n",
       "    <tr>\n",
       "      <th>2</th>\n",
       "      <td>2020-06-30</td>\n",
       "    </tr>\n",
       "    <tr>\n",
       "      <th>3</th>\n",
       "      <td>2020-07-31</td>\n",
       "    </tr>\n",
       "    <tr>\n",
       "      <th>4</th>\n",
       "      <td>2020-08-31</td>\n",
       "    </tr>\n",
       "  </tbody>\n",
       "</table>\n",
       "</div>"
      ],
      "text/plain": [
       "        date\n",
       "0 2020-04-30\n",
       "1 2020-05-31\n",
       "2 2020-06-30\n",
       "3 2020-07-31\n",
       "4 2020-08-31"
      ]
     },
     "execution_count": 15,
     "metadata": {},
     "output_type": "execute_result"
    }
   ],
   "source": [
    "import numpy as np\n",
    "import pandas as pd\n",
    "\n",
    "rng_ = pd.date_range('2020-04-01',periods=20,freq='M')\n",
    "df = pd.DataFrame({'date': rng_})\n",
    "df.head()"
   ]
  },
  {
   "cell_type": "code",
   "execution_count": 20,
   "metadata": {},
   "outputs": [
    {
     "data": {
      "text/html": [
       "<div>\n",
       "<style scoped>\n",
       "    .dataframe tbody tr th:only-of-type {\n",
       "        vertical-align: middle;\n",
       "    }\n",
       "\n",
       "    .dataframe tbody tr th {\n",
       "        vertical-align: top;\n",
       "    }\n",
       "\n",
       "    .dataframe thead th {\n",
       "        text-align: right;\n",
       "    }\n",
       "</style>\n",
       "<table border=\"1\" class=\"dataframe\">\n",
       "  <thead>\n",
       "    <tr style=\"text-align: right;\">\n",
       "      <th></th>\n",
       "      <th>date</th>\n",
       "      <th>year</th>\n",
       "      <th>month</th>\n",
       "      <th>quarter</th>\n",
       "      <th>semester</th>\n",
       "    </tr>\n",
       "  </thead>\n",
       "  <tbody>\n",
       "    <tr>\n",
       "      <th>0</th>\n",
       "      <td>2020-04-30</td>\n",
       "      <td>2020</td>\n",
       "      <td>4</td>\n",
       "      <td>2</td>\n",
       "      <td>1</td>\n",
       "    </tr>\n",
       "    <tr>\n",
       "      <th>1</th>\n",
       "      <td>2020-05-31</td>\n",
       "      <td>2020</td>\n",
       "      <td>5</td>\n",
       "      <td>2</td>\n",
       "      <td>1</td>\n",
       "    </tr>\n",
       "    <tr>\n",
       "      <th>2</th>\n",
       "      <td>2020-06-30</td>\n",
       "      <td>2020</td>\n",
       "      <td>6</td>\n",
       "      <td>2</td>\n",
       "      <td>1</td>\n",
       "    </tr>\n",
       "    <tr>\n",
       "      <th>3</th>\n",
       "      <td>2020-07-31</td>\n",
       "      <td>2020</td>\n",
       "      <td>7</td>\n",
       "      <td>3</td>\n",
       "      <td>2</td>\n",
       "    </tr>\n",
       "    <tr>\n",
       "      <th>4</th>\n",
       "      <td>2020-08-31</td>\n",
       "      <td>2020</td>\n",
       "      <td>8</td>\n",
       "      <td>3</td>\n",
       "      <td>2</td>\n",
       "    </tr>\n",
       "  </tbody>\n",
       "</table>\n",
       "</div>"
      ],
      "text/plain": [
       "        date  year  month  quarter  semester\n",
       "0 2020-04-30  2020      4        2         1\n",
       "1 2020-05-31  2020      5        2         1\n",
       "2 2020-06-30  2020      6        2         1\n",
       "3 2020-07-31  2020      7        3         2\n",
       "4 2020-08-31  2020      8        3         2"
      ]
     },
     "execution_count": 20,
     "metadata": {},
     "output_type": "execute_result"
    }
   ],
   "source": [
    "# lets extract year/month/quarter/semester\n",
    "df['year']= df['date'].dt.year\n",
    "df['month']=df['date'].dt.month\n",
    "df['quarter']= df['date'].dt.quarter\n",
    "df['semester']=np.where(df['quarter'].isin([1,2]),1,2)\n",
    "df.head()"
   ]
  },
  {
   "cell_type": "markdown",
   "metadata": {},
   "source": [
    "## Creating representation of day and week"
   ]
  },
  {
   "cell_type": "markdown",
   "metadata": {},
   "source": [
    "Some events occur more often on certain days of the week, for example, loan applications occur more likely during the week than over weekends, whereas others occur more often during certain weeks of the year. Businesses and organizations may also want to track some key performance metrics throughout the week. Therefore, deriving weeks and days from a date variable is very useful to support organizations in meeting their objectives, and they may also be predictive in machine learning. In this recipe, we will learn how to derive different representations of days and weeks from a datetime variable using pandas and NumPy."
   ]
  },
  {
   "cell_type": "code",
   "execution_count": 21,
   "metadata": {},
   "outputs": [
    {
     "data": {
      "text/html": [
       "<div>\n",
       "<style scoped>\n",
       "    .dataframe tbody tr th:only-of-type {\n",
       "        vertical-align: middle;\n",
       "    }\n",
       "\n",
       "    .dataframe tbody tr th {\n",
       "        vertical-align: top;\n",
       "    }\n",
       "\n",
       "    .dataframe thead th {\n",
       "        text-align: right;\n",
       "    }\n",
       "</style>\n",
       "<table border=\"1\" class=\"dataframe\">\n",
       "  <thead>\n",
       "    <tr style=\"text-align: right;\">\n",
       "      <th></th>\n",
       "      <th>date</th>\n",
       "    </tr>\n",
       "  </thead>\n",
       "  <tbody>\n",
       "    <tr>\n",
       "      <th>0</th>\n",
       "      <td>2019-03-05</td>\n",
       "    </tr>\n",
       "    <tr>\n",
       "      <th>1</th>\n",
       "      <td>2019-03-06</td>\n",
       "    </tr>\n",
       "    <tr>\n",
       "      <th>2</th>\n",
       "      <td>2019-03-07</td>\n",
       "    </tr>\n",
       "    <tr>\n",
       "      <th>3</th>\n",
       "      <td>2019-03-08</td>\n",
       "    </tr>\n",
       "    <tr>\n",
       "      <th>4</th>\n",
       "      <td>2019-03-09</td>\n",
       "    </tr>\n",
       "  </tbody>\n",
       "</table>\n",
       "</div>"
      ],
      "text/plain": [
       "        date\n",
       "0 2019-03-05\n",
       "1 2019-03-06\n",
       "2 2019-03-07\n",
       "3 2019-03-08\n",
       "4 2019-03-09"
      ]
     },
     "execution_count": 21,
     "metadata": {},
     "output_type": "execute_result"
    }
   ],
   "source": [
    "rng_ = pd.date_range('2019-03-05', periods=20, freq='D')\n",
    "df = pd.DataFrame({'date': rng_}) \n",
    "df.head()"
   ]
  },
  {
   "cell_type": "code",
   "execution_count": 35,
   "metadata": {},
   "outputs": [
    {
     "name": "stderr",
     "output_type": "stream",
     "text": [
      "<ipython-input-35-28e50e05cc12>:6: FutureWarning: Series.dt.weekofyear and Series.dt.week have been deprecated.  Please use Series.dt.isocalendar().week instead.\n",
      "  df['week'] = df['date'].dt.week\n"
     ]
    },
    {
     "data": {
      "text/html": [
       "<div>\n",
       "<style scoped>\n",
       "    .dataframe tbody tr th:only-of-type {\n",
       "        vertical-align: middle;\n",
       "    }\n",
       "\n",
       "    .dataframe tbody tr th {\n",
       "        vertical-align: top;\n",
       "    }\n",
       "\n",
       "    .dataframe thead th {\n",
       "        text-align: right;\n",
       "    }\n",
       "</style>\n",
       "<table border=\"1\" class=\"dataframe\">\n",
       "  <thead>\n",
       "    <tr style=\"text-align: right;\">\n",
       "      <th></th>\n",
       "      <th>date</th>\n",
       "      <th>day_mo</th>\n",
       "      <th>day_week</th>\n",
       "      <th>day_week_name</th>\n",
       "      <th>isweekend</th>\n",
       "      <th>week</th>\n",
       "    </tr>\n",
       "  </thead>\n",
       "  <tbody>\n",
       "    <tr>\n",
       "      <th>0</th>\n",
       "      <td>2019-03-05</td>\n",
       "      <td>5</td>\n",
       "      <td>1</td>\n",
       "      <td>Tuesday</td>\n",
       "      <td>0</td>\n",
       "      <td>10</td>\n",
       "    </tr>\n",
       "    <tr>\n",
       "      <th>1</th>\n",
       "      <td>2019-03-06</td>\n",
       "      <td>6</td>\n",
       "      <td>2</td>\n",
       "      <td>Wednesday</td>\n",
       "      <td>0</td>\n",
       "      <td>10</td>\n",
       "    </tr>\n",
       "    <tr>\n",
       "      <th>2</th>\n",
       "      <td>2019-03-07</td>\n",
       "      <td>7</td>\n",
       "      <td>3</td>\n",
       "      <td>Thursday</td>\n",
       "      <td>0</td>\n",
       "      <td>10</td>\n",
       "    </tr>\n",
       "    <tr>\n",
       "      <th>3</th>\n",
       "      <td>2019-03-08</td>\n",
       "      <td>8</td>\n",
       "      <td>4</td>\n",
       "      <td>Friday</td>\n",
       "      <td>0</td>\n",
       "      <td>10</td>\n",
       "    </tr>\n",
       "    <tr>\n",
       "      <th>4</th>\n",
       "      <td>2019-03-09</td>\n",
       "      <td>9</td>\n",
       "      <td>5</td>\n",
       "      <td>Saturday</td>\n",
       "      <td>1</td>\n",
       "      <td>10</td>\n",
       "    </tr>\n",
       "  </tbody>\n",
       "</table>\n",
       "</div>"
      ],
      "text/plain": [
       "        date  day_mo  day_week day_week_name  isweekend  week\n",
       "0 2019-03-05       5         1       Tuesday          0    10\n",
       "1 2019-03-06       6         2     Wednesday          0    10\n",
       "2 2019-03-07       7         3      Thursday          0    10\n",
       "3 2019-03-08       8         4        Friday          0    10\n",
       "4 2019-03-09       9         5      Saturday          1    10"
      ]
     },
     "execution_count": 35,
     "metadata": {},
     "output_type": "execute_result"
    }
   ],
   "source": [
    "# extract day of the month/day of week\n",
    "df['day_mo'] = df['date'].dt.day\n",
    "df['day_week'] = df['date'].dt.dayofweek\n",
    "df['day_week_name']=df['date'].dt.day_name()\n",
    "df['isweekend'] = np.where(df['day_week_name'].isin(['Sunday','Saturday']),1,0)\n",
    "df['week'] = df['date'].dt.week\n",
    "df.head()"
   ]
  },
  {
   "cell_type": "markdown",
   "metadata": {},
   "source": [
    "# Extracting time parts from a time variable"
   ]
  },
  {
   "cell_type": "markdown",
   "metadata": {},
   "source": [
    "Some events occur more often at certain times of the day, for example, fraudulent activity occurs more likely during the night or early morning. Also, occasionally, organizations want to track whether an event occurred after another one, in a very short time window, for example, if sales increased on the back of displaying a TV or online advertisement. Therefore, deriving time features is extremely useful. In this recipe, we will extract different time parts of a datetime variable utilizing pandas and NumPy."
   ]
  },
  {
   "cell_type": "code",
   "execution_count": 36,
   "metadata": {},
   "outputs": [
    {
     "data": {
      "text/html": [
       "<div>\n",
       "<style scoped>\n",
       "    .dataframe tbody tr th:only-of-type {\n",
       "        vertical-align: middle;\n",
       "    }\n",
       "\n",
       "    .dataframe tbody tr th {\n",
       "        vertical-align: top;\n",
       "    }\n",
       "\n",
       "    .dataframe thead th {\n",
       "        text-align: right;\n",
       "    }\n",
       "</style>\n",
       "<table border=\"1\" class=\"dataframe\">\n",
       "  <thead>\n",
       "    <tr style=\"text-align: right;\">\n",
       "      <th></th>\n",
       "      <th>date</th>\n",
       "    </tr>\n",
       "  </thead>\n",
       "  <tbody>\n",
       "    <tr>\n",
       "      <th>0</th>\n",
       "      <td>2019-03-05 00:00:00</td>\n",
       "    </tr>\n",
       "    <tr>\n",
       "      <th>1</th>\n",
       "      <td>2019-03-05 01:15:10</td>\n",
       "    </tr>\n",
       "    <tr>\n",
       "      <th>2</th>\n",
       "      <td>2019-03-05 02:30:20</td>\n",
       "    </tr>\n",
       "    <tr>\n",
       "      <th>3</th>\n",
       "      <td>2019-03-05 03:45:30</td>\n",
       "    </tr>\n",
       "    <tr>\n",
       "      <th>4</th>\n",
       "      <td>2019-03-05 05:00:40</td>\n",
       "    </tr>\n",
       "  </tbody>\n",
       "</table>\n",
       "</div>"
      ],
      "text/plain": [
       "                 date\n",
       "0 2019-03-05 00:00:00\n",
       "1 2019-03-05 01:15:10\n",
       "2 2019-03-05 02:30:20\n",
       "3 2019-03-05 03:45:30\n",
       "4 2019-03-05 05:00:40"
      ]
     },
     "execution_count": 36,
     "metadata": {},
     "output_type": "execute_result"
    }
   ],
   "source": [
    "rng_ = pd.date_range('2019-03-05', periods=20, freq='1h15min10s')\n",
    "df = pd.DataFrame({'date': rng_}) \n",
    "df.head()"
   ]
  },
  {
   "cell_type": "code",
   "execution_count": 37,
   "metadata": {},
   "outputs": [
    {
     "data": {
      "text/html": [
       "<div>\n",
       "<style scoped>\n",
       "    .dataframe tbody tr th:only-of-type {\n",
       "        vertical-align: middle;\n",
       "    }\n",
       "\n",
       "    .dataframe tbody tr th {\n",
       "        vertical-align: top;\n",
       "    }\n",
       "\n",
       "    .dataframe thead th {\n",
       "        text-align: right;\n",
       "    }\n",
       "</style>\n",
       "<table border=\"1\" class=\"dataframe\">\n",
       "  <thead>\n",
       "    <tr style=\"text-align: right;\">\n",
       "      <th></th>\n",
       "      <th>date</th>\n",
       "      <th>hour</th>\n",
       "      <th>min</th>\n",
       "      <th>sec</th>\n",
       "    </tr>\n",
       "  </thead>\n",
       "  <tbody>\n",
       "    <tr>\n",
       "      <th>0</th>\n",
       "      <td>2019-03-05 00:00:00</td>\n",
       "      <td>0</td>\n",
       "      <td>0</td>\n",
       "      <td>0</td>\n",
       "    </tr>\n",
       "    <tr>\n",
       "      <th>1</th>\n",
       "      <td>2019-03-05 01:15:10</td>\n",
       "      <td>1</td>\n",
       "      <td>15</td>\n",
       "      <td>10</td>\n",
       "    </tr>\n",
       "    <tr>\n",
       "      <th>2</th>\n",
       "      <td>2019-03-05 02:30:20</td>\n",
       "      <td>2</td>\n",
       "      <td>30</td>\n",
       "      <td>20</td>\n",
       "    </tr>\n",
       "    <tr>\n",
       "      <th>3</th>\n",
       "      <td>2019-03-05 03:45:30</td>\n",
       "      <td>3</td>\n",
       "      <td>45</td>\n",
       "      <td>30</td>\n",
       "    </tr>\n",
       "    <tr>\n",
       "      <th>4</th>\n",
       "      <td>2019-03-05 05:00:40</td>\n",
       "      <td>5</td>\n",
       "      <td>0</td>\n",
       "      <td>40</td>\n",
       "    </tr>\n",
       "  </tbody>\n",
       "</table>\n",
       "</div>"
      ],
      "text/plain": [
       "                 date  hour  min  sec\n",
       "0 2019-03-05 00:00:00     0    0    0\n",
       "1 2019-03-05 01:15:10     1   15   10\n",
       "2 2019-03-05 02:30:20     2   30   20\n",
       "3 2019-03-05 03:45:30     3   45   30\n",
       "4 2019-03-05 05:00:40     5    0   40"
      ]
     },
     "execution_count": 37,
     "metadata": {},
     "output_type": "execute_result"
    }
   ],
   "source": [
    "# lets extract hour,minute,second\n",
    "df['hour']=df['date'].dt.hour\n",
    "df['min']=df['date'].dt.minute\n",
    "df['sec']=df['date'].dt.second\n",
    "df.head()"
   ]
  },
  {
   "cell_type": "code",
   "execution_count": 38,
   "metadata": {},
   "outputs": [
    {
     "data": {
      "text/html": [
       "<div>\n",
       "<style scoped>\n",
       "    .dataframe tbody tr th:only-of-type {\n",
       "        vertical-align: middle;\n",
       "    }\n",
       "\n",
       "    .dataframe tbody tr th {\n",
       "        vertical-align: top;\n",
       "    }\n",
       "\n",
       "    .dataframe thead th {\n",
       "        text-align: right;\n",
       "    }\n",
       "</style>\n",
       "<table border=\"1\" class=\"dataframe\">\n",
       "  <thead>\n",
       "    <tr style=\"text-align: right;\">\n",
       "      <th></th>\n",
       "      <th>date</th>\n",
       "      <th>hour</th>\n",
       "      <th>min</th>\n",
       "      <th>sec</th>\n",
       "      <th>h</th>\n",
       "      <th>m</th>\n",
       "      <th>s</th>\n",
       "    </tr>\n",
       "  </thead>\n",
       "  <tbody>\n",
       "    <tr>\n",
       "      <th>0</th>\n",
       "      <td>2019-03-05 00:00:00</td>\n",
       "      <td>0</td>\n",
       "      <td>0</td>\n",
       "      <td>0</td>\n",
       "      <td>0</td>\n",
       "      <td>0</td>\n",
       "      <td>0</td>\n",
       "    </tr>\n",
       "    <tr>\n",
       "      <th>1</th>\n",
       "      <td>2019-03-05 01:15:10</td>\n",
       "      <td>1</td>\n",
       "      <td>15</td>\n",
       "      <td>10</td>\n",
       "      <td>1</td>\n",
       "      <td>15</td>\n",
       "      <td>10</td>\n",
       "    </tr>\n",
       "    <tr>\n",
       "      <th>2</th>\n",
       "      <td>2019-03-05 02:30:20</td>\n",
       "      <td>2</td>\n",
       "      <td>30</td>\n",
       "      <td>20</td>\n",
       "      <td>2</td>\n",
       "      <td>30</td>\n",
       "      <td>20</td>\n",
       "    </tr>\n",
       "    <tr>\n",
       "      <th>3</th>\n",
       "      <td>2019-03-05 03:45:30</td>\n",
       "      <td>3</td>\n",
       "      <td>45</td>\n",
       "      <td>30</td>\n",
       "      <td>3</td>\n",
       "      <td>45</td>\n",
       "      <td>30</td>\n",
       "    </tr>\n",
       "    <tr>\n",
       "      <th>4</th>\n",
       "      <td>2019-03-05 05:00:40</td>\n",
       "      <td>5</td>\n",
       "      <td>0</td>\n",
       "      <td>40</td>\n",
       "      <td>5</td>\n",
       "      <td>0</td>\n",
       "      <td>40</td>\n",
       "    </tr>\n",
       "  </tbody>\n",
       "</table>\n",
       "</div>"
      ],
      "text/plain": [
       "                 date  hour  min  sec  h   m   s\n",
       "0 2019-03-05 00:00:00     0    0    0  0   0   0\n",
       "1 2019-03-05 01:15:10     1   15   10  1  15  10\n",
       "2 2019-03-05 02:30:20     2   30   20  2  30  20\n",
       "3 2019-03-05 03:45:30     3   45   30  3  45  30\n",
       "4 2019-03-05 05:00:40     5    0   40  5   0  40"
      ]
     },
     "execution_count": 38,
     "metadata": {},
     "output_type": "execute_result"
    }
   ],
   "source": [
    "# lets perform in one line of code\n",
    "df[['h','m','s']] = pd.DataFrame([(x.hour,x.minute,x.second) for x in df['date'] ])\n",
    "df.head()"
   ]
  },
  {
   "cell_type": "code",
   "execution_count": 40,
   "metadata": {},
   "outputs": [
    {
     "data": {
      "text/html": [
       "<div>\n",
       "<style scoped>\n",
       "    .dataframe tbody tr th:only-of-type {\n",
       "        vertical-align: middle;\n",
       "    }\n",
       "\n",
       "    .dataframe tbody tr th {\n",
       "        vertical-align: top;\n",
       "    }\n",
       "\n",
       "    .dataframe thead th {\n",
       "        text-align: right;\n",
       "    }\n",
       "</style>\n",
       "<table border=\"1\" class=\"dataframe\">\n",
       "  <thead>\n",
       "    <tr style=\"text-align: right;\">\n",
       "      <th></th>\n",
       "      <th>date</th>\n",
       "      <th>hour</th>\n",
       "      <th>min</th>\n",
       "      <th>sec</th>\n",
       "      <th>h</th>\n",
       "      <th>m</th>\n",
       "      <th>s</th>\n",
       "      <th>is_morning</th>\n",
       "    </tr>\n",
       "  </thead>\n",
       "  <tbody>\n",
       "    <tr>\n",
       "      <th>0</th>\n",
       "      <td>2019-03-05 00:00:00</td>\n",
       "      <td>0</td>\n",
       "      <td>0</td>\n",
       "      <td>0</td>\n",
       "      <td>0</td>\n",
       "      <td>0</td>\n",
       "      <td>0</td>\n",
       "      <td>0</td>\n",
       "    </tr>\n",
       "    <tr>\n",
       "      <th>1</th>\n",
       "      <td>2019-03-05 01:15:10</td>\n",
       "      <td>1</td>\n",
       "      <td>15</td>\n",
       "      <td>10</td>\n",
       "      <td>1</td>\n",
       "      <td>15</td>\n",
       "      <td>10</td>\n",
       "      <td>0</td>\n",
       "    </tr>\n",
       "    <tr>\n",
       "      <th>2</th>\n",
       "      <td>2019-03-05 02:30:20</td>\n",
       "      <td>2</td>\n",
       "      <td>30</td>\n",
       "      <td>20</td>\n",
       "      <td>2</td>\n",
       "      <td>30</td>\n",
       "      <td>20</td>\n",
       "      <td>0</td>\n",
       "    </tr>\n",
       "    <tr>\n",
       "      <th>3</th>\n",
       "      <td>2019-03-05 03:45:30</td>\n",
       "      <td>3</td>\n",
       "      <td>45</td>\n",
       "      <td>30</td>\n",
       "      <td>3</td>\n",
       "      <td>45</td>\n",
       "      <td>30</td>\n",
       "      <td>0</td>\n",
       "    </tr>\n",
       "    <tr>\n",
       "      <th>4</th>\n",
       "      <td>2019-03-05 05:00:40</td>\n",
       "      <td>5</td>\n",
       "      <td>0</td>\n",
       "      <td>40</td>\n",
       "      <td>5</td>\n",
       "      <td>0</td>\n",
       "      <td>40</td>\n",
       "      <td>0</td>\n",
       "    </tr>\n",
       "  </tbody>\n",
       "</table>\n",
       "</div>"
      ],
      "text/plain": [
       "                 date  hour  min  sec  h   m   s  is_morning\n",
       "0 2019-03-05 00:00:00     0    0    0  0   0   0           0\n",
       "1 2019-03-05 01:15:10     1   15   10  1  15  10           0\n",
       "2 2019-03-05 02:30:20     2   30   20  2  30  20           0\n",
       "3 2019-03-05 03:45:30     3   45   30  3  45  30           0\n",
       "4 2019-03-05 05:00:40     5    0   40  5   0  40           0"
      ]
     },
     "execution_count": 40,
     "metadata": {},
     "output_type": "execute_result"
    }
   ],
   "source": [
    "# Lets create a binary variable flags whether the event occured \n",
    "# in the morning between 6 am and 12 pm\n",
    "df['is_morning'] = np.where((df['hour']<12) & (df['hour'] > 6),1,0)\n",
    "df.head()"
   ]
  },
  {
   "cell_type": "markdown",
   "metadata": {},
   "source": [
    "# Capturing the elapsed time between datetime variables"
   ]
  },
  {
   "cell_type": "markdown",
   "metadata": {},
   "source": [
    "The datetime variables offer value individually and they offer more value collectively when used together with other datetime variables to derive important insights. The most common example consists in deriving the age from the date of birth and today variable, or the day the customer had an accident or requested a loan. Like these examples, we can combine several datetime variables to derive the time that passed in between and create more meaningful features. In this recipe, we will learn how to capture the time between two datetime variables in different formats and the time between a datetime variable and the current day, utilizing pandas, NumPy, and the datetime library."
   ]
  },
  {
   "cell_type": "code",
   "execution_count": 41,
   "metadata": {},
   "outputs": [
    {
     "data": {
      "text/html": [
       "<div>\n",
       "<style scoped>\n",
       "    .dataframe tbody tr th:only-of-type {\n",
       "        vertical-align: middle;\n",
       "    }\n",
       "\n",
       "    .dataframe tbody tr th {\n",
       "        vertical-align: top;\n",
       "    }\n",
       "\n",
       "    .dataframe thead th {\n",
       "        text-align: right;\n",
       "    }\n",
       "</style>\n",
       "<table border=\"1\" class=\"dataframe\">\n",
       "  <thead>\n",
       "    <tr style=\"text-align: right;\">\n",
       "      <th></th>\n",
       "      <th>date1</th>\n",
       "      <th>date2</th>\n",
       "    </tr>\n",
       "  </thead>\n",
       "  <tbody>\n",
       "    <tr>\n",
       "      <th>0</th>\n",
       "      <td>2019-03-05 00:00:00</td>\n",
       "      <td>2019-03-31</td>\n",
       "    </tr>\n",
       "    <tr>\n",
       "      <th>1</th>\n",
       "      <td>2019-03-05 01:00:00</td>\n",
       "      <td>2019-04-30</td>\n",
       "    </tr>\n",
       "    <tr>\n",
       "      <th>2</th>\n",
       "      <td>2019-03-05 02:00:00</td>\n",
       "      <td>2019-05-31</td>\n",
       "    </tr>\n",
       "    <tr>\n",
       "      <th>3</th>\n",
       "      <td>2019-03-05 03:00:00</td>\n",
       "      <td>2019-06-30</td>\n",
       "    </tr>\n",
       "    <tr>\n",
       "      <th>4</th>\n",
       "      <td>2019-03-05 04:00:00</td>\n",
       "      <td>2019-07-31</td>\n",
       "    </tr>\n",
       "  </tbody>\n",
       "</table>\n",
       "</div>"
      ],
      "text/plain": [
       "                date1      date2\n",
       "0 2019-03-05 00:00:00 2019-03-31\n",
       "1 2019-03-05 01:00:00 2019-04-30\n",
       "2 2019-03-05 02:00:00 2019-05-31\n",
       "3 2019-03-05 03:00:00 2019-06-30\n",
       "4 2019-03-05 04:00:00 2019-07-31"
      ]
     },
     "execution_count": 41,
     "metadata": {},
     "output_type": "execute_result"
    }
   ],
   "source": [
    "import datetime\n",
    "import pandas as pd\n",
    "import numpy as np\n",
    "\n",
    "rng_hr = pd.date_range('2019-03-05', periods=20, freq='H')\n",
    "rng_month = pd.date_range('2019-03-05', periods=20, freq='M')\n",
    "df = pd.DataFrame({'date1': rng_hr, 'date2': rng_month})  \n",
    "df.head()"
   ]
  },
  {
   "cell_type": "code",
   "execution_count": 45,
   "metadata": {},
   "outputs": [
    {
     "data": {
      "text/html": [
       "<div>\n",
       "<style scoped>\n",
       "    .dataframe tbody tr th:only-of-type {\n",
       "        vertical-align: middle;\n",
       "    }\n",
       "\n",
       "    .dataframe tbody tr th {\n",
       "        vertical-align: top;\n",
       "    }\n",
       "\n",
       "    .dataframe thead th {\n",
       "        text-align: right;\n",
       "    }\n",
       "</style>\n",
       "<table border=\"1\" class=\"dataframe\">\n",
       "  <thead>\n",
       "    <tr style=\"text-align: right;\">\n",
       "      <th></th>\n",
       "      <th>date1</th>\n",
       "      <th>date2</th>\n",
       "      <th>elapsed_days</th>\n",
       "      <th>months_passed</th>\n",
       "      <th>diff_seconds</th>\n",
       "      <th>diff_minute</th>\n",
       "      <th>diff_hours</th>\n",
       "      <th>to_today</th>\n",
       "    </tr>\n",
       "  </thead>\n",
       "  <tbody>\n",
       "    <tr>\n",
       "      <th>0</th>\n",
       "      <td>2019-03-05 00:00:00</td>\n",
       "      <td>2019-03-31</td>\n",
       "      <td>26</td>\n",
       "      <td>1.0</td>\n",
       "      <td>2246400.0</td>\n",
       "      <td>37440.0</td>\n",
       "      <td>624.0</td>\n",
       "      <td>758 days 23:07:57.312853</td>\n",
       "    </tr>\n",
       "    <tr>\n",
       "      <th>1</th>\n",
       "      <td>2019-03-05 01:00:00</td>\n",
       "      <td>2019-04-30</td>\n",
       "      <td>55</td>\n",
       "      <td>2.0</td>\n",
       "      <td>4834800.0</td>\n",
       "      <td>80580.0</td>\n",
       "      <td>1343.0</td>\n",
       "      <td>758 days 22:07:57.312853</td>\n",
       "    </tr>\n",
       "    <tr>\n",
       "      <th>2</th>\n",
       "      <td>2019-03-05 02:00:00</td>\n",
       "      <td>2019-05-31</td>\n",
       "      <td>86</td>\n",
       "      <td>3.0</td>\n",
       "      <td>7509600.0</td>\n",
       "      <td>125160.0</td>\n",
       "      <td>2086.0</td>\n",
       "      <td>758 days 21:07:57.312853</td>\n",
       "    </tr>\n",
       "    <tr>\n",
       "      <th>3</th>\n",
       "      <td>2019-03-05 03:00:00</td>\n",
       "      <td>2019-06-30</td>\n",
       "      <td>116</td>\n",
       "      <td>4.0</td>\n",
       "      <td>10098000.0</td>\n",
       "      <td>168300.0</td>\n",
       "      <td>2805.0</td>\n",
       "      <td>758 days 20:07:57.312853</td>\n",
       "    </tr>\n",
       "    <tr>\n",
       "      <th>4</th>\n",
       "      <td>2019-03-05 04:00:00</td>\n",
       "      <td>2019-07-31</td>\n",
       "      <td>147</td>\n",
       "      <td>5.0</td>\n",
       "      <td>12772800.0</td>\n",
       "      <td>212880.0</td>\n",
       "      <td>3548.0</td>\n",
       "      <td>758 days 19:07:57.312853</td>\n",
       "    </tr>\n",
       "  </tbody>\n",
       "</table>\n",
       "</div>"
      ],
      "text/plain": [
       "                date1      date2  elapsed_days  months_passed  diff_seconds  \\\n",
       "0 2019-03-05 00:00:00 2019-03-31            26            1.0     2246400.0   \n",
       "1 2019-03-05 01:00:00 2019-04-30            55            2.0     4834800.0   \n",
       "2 2019-03-05 02:00:00 2019-05-31            86            3.0     7509600.0   \n",
       "3 2019-03-05 03:00:00 2019-06-30           116            4.0    10098000.0   \n",
       "4 2019-03-05 04:00:00 2019-07-31           147            5.0    12772800.0   \n",
       "\n",
       "   diff_minute  diff_hours                 to_today  \n",
       "0      37440.0       624.0 758 days 23:07:57.312853  \n",
       "1      80580.0      1343.0 758 days 22:07:57.312853  \n",
       "2     125160.0      2086.0 758 days 21:07:57.312853  \n",
       "3     168300.0      2805.0 758 days 20:07:57.312853  \n",
       "4     212880.0      3548.0 758 days 19:07:57.312853  "
      ]
     },
     "execution_count": 45,
     "metadata": {},
     "output_type": "execute_result"
    }
   ],
   "source": [
    "# csapture the difference in date \n",
    "df['elapsed_days'] = (df['date2'] - df['date1']).dt.days\n",
    "# month passed\n",
    "df['months_passed'] = ((df['date2']-df['date1'])/np.timedelta64(1,'M'))\n",
    "df['months_passed'] = np.round(df['months_passed'],0)\n",
    "#minute and second and hour passed\n",
    "df['diff_seconds'] = (df['date2']-df['date1'])/np.timedelta64(1,'s')\n",
    "df['diff_minute'] = (df['date2']-df['date1'])/np.timedelta64(1,'m')\n",
    "df['diff_hours'] = (df['date2']-df['date1'])/np.timedelta64(1,'h')\n",
    "# current date\n",
    "df['to_today'] = (datetime.datetime.today()-df['date1'])\n",
    "df.head()"
   ]
  },
  {
   "cell_type": "markdown",
   "metadata": {},
   "source": [
    "# Working with time in different time zones"
   ]
  },
  {
   "cell_type": "markdown",
   "metadata": {},
   "source": [
    "Some organizations operate internationally; therefore, the information they collect about events may be recorded together with the time zone of the area where the event took place. To be able to compare events that occurred across different time zones, we first need to set all of the variables within the same zone. In this recipe, we will learn how to unify the time zones of a datetime variable and then learn how to reassign a variable to a different time zone using pandas. "
   ]
  },
  {
   "cell_type": "code",
   "execution_count": 47,
   "metadata": {},
   "outputs": [
    {
     "data": {
      "text/html": [
       "<div>\n",
       "<style scoped>\n",
       "    .dataframe tbody tr th:only-of-type {\n",
       "        vertical-align: middle;\n",
       "    }\n",
       "\n",
       "    .dataframe tbody tr th {\n",
       "        vertical-align: top;\n",
       "    }\n",
       "\n",
       "    .dataframe thead th {\n",
       "        text-align: right;\n",
       "    }\n",
       "</style>\n",
       "<table border=\"1\" class=\"dataframe\">\n",
       "  <thead>\n",
       "    <tr style=\"text-align: right;\">\n",
       "      <th></th>\n",
       "      <th>time1</th>\n",
       "      <th>time2</th>\n",
       "    </tr>\n",
       "  </thead>\n",
       "  <tbody>\n",
       "    <tr>\n",
       "      <th>0</th>\n",
       "      <td>2015-06-10 09:00:00+02:00</td>\n",
       "      <td>2015-07-01 09:00:00+02:00</td>\n",
       "    </tr>\n",
       "    <tr>\n",
       "      <th>1</th>\n",
       "      <td>2015-06-10 10:00:00+02:00</td>\n",
       "      <td>2015-07-01 10:00:00+02:00</td>\n",
       "    </tr>\n",
       "    <tr>\n",
       "      <th>2</th>\n",
       "      <td>2015-06-10 11:00:00+02:00</td>\n",
       "      <td>2015-07-01 11:00:00+02:00</td>\n",
       "    </tr>\n",
       "    <tr>\n",
       "      <th>0</th>\n",
       "      <td>2015-09-10 09:00:00-05:00</td>\n",
       "      <td>2015-08-01 09:00:00-05:00</td>\n",
       "    </tr>\n",
       "    <tr>\n",
       "      <th>1</th>\n",
       "      <td>2015-09-10 10:00:00-05:00</td>\n",
       "      <td>2015-08-01 10:00:00-05:00</td>\n",
       "    </tr>\n",
       "    <tr>\n",
       "      <th>2</th>\n",
       "      <td>2015-09-10 11:00:00-05:00</td>\n",
       "      <td>2015-08-01 11:00:00-05:00</td>\n",
       "    </tr>\n",
       "  </tbody>\n",
       "</table>\n",
       "</div>"
      ],
      "text/plain": [
       "                       time1                      time2\n",
       "0  2015-06-10 09:00:00+02:00  2015-07-01 09:00:00+02:00\n",
       "1  2015-06-10 10:00:00+02:00  2015-07-01 10:00:00+02:00\n",
       "2  2015-06-10 11:00:00+02:00  2015-07-01 11:00:00+02:00\n",
       "0  2015-09-10 09:00:00-05:00  2015-08-01 09:00:00-05:00\n",
       "1  2015-09-10 10:00:00-05:00  2015-08-01 10:00:00-05:00\n",
       "2  2015-09-10 11:00:00-05:00  2015-08-01 11:00:00-05:00"
      ]
     },
     "execution_count": 47,
     "metadata": {},
     "output_type": "execute_result"
    }
   ],
   "source": [
    "# Lets create a toy dataframe with one varaible with values in differnent time zones\n",
    "\n",
    "df = pd.DataFrame()\n",
    "\n",
    "df['time1'] = pd.concat([\n",
    "    pd.Series(\n",
    "        pd.date_range(\n",
    "            start='2015-06-10 09:00', freq='H', periods=3,\n",
    "            tz='Europe/Berlin')),\n",
    "    pd.Series(\n",
    "        pd.date_range(\n",
    "            start='2015-09-10 09:00', freq='H', periods=3, \n",
    "            tz='US/Central'))\n",
    "    ], axis=0)\n",
    "\n",
    "df['time2'] = pd.concat([    \n",
    "    pd.Series(        \n",
    "        pd.date_range(            \n",
    "            start='2015-07-01 09:00', freq='H', periods=3,            \n",
    "            tz='Europe/Berlin')),    \n",
    "    pd.Series(        \n",
    "        pd.date_range(            \n",
    "            start='2015-08-01 09:00', freq='H', periods=3,            \n",
    "            tz='US/Central'))    ], axis=0)\n",
    "df"
   ]
  },
  {
   "cell_type": "code",
   "execution_count": 48,
   "metadata": {},
   "outputs": [
    {
     "data": {
      "text/html": [
       "<div>\n",
       "<style scoped>\n",
       "    .dataframe tbody tr th:only-of-type {\n",
       "        vertical-align: middle;\n",
       "    }\n",
       "\n",
       "    .dataframe tbody tr th {\n",
       "        vertical-align: top;\n",
       "    }\n",
       "\n",
       "    .dataframe thead th {\n",
       "        text-align: right;\n",
       "    }\n",
       "</style>\n",
       "<table border=\"1\" class=\"dataframe\">\n",
       "  <thead>\n",
       "    <tr style=\"text-align: right;\">\n",
       "      <th></th>\n",
       "      <th>time1</th>\n",
       "      <th>time2</th>\n",
       "      <th>time1_utc</th>\n",
       "      <th>time2_utc</th>\n",
       "    </tr>\n",
       "  </thead>\n",
       "  <tbody>\n",
       "    <tr>\n",
       "      <th>0</th>\n",
       "      <td>2015-06-10 09:00:00+02:00</td>\n",
       "      <td>2015-07-01 09:00:00+02:00</td>\n",
       "      <td>2015-06-10 07:00:00+00:00</td>\n",
       "      <td>2015-07-01 07:00:00+00:00</td>\n",
       "    </tr>\n",
       "    <tr>\n",
       "      <th>1</th>\n",
       "      <td>2015-06-10 10:00:00+02:00</td>\n",
       "      <td>2015-07-01 10:00:00+02:00</td>\n",
       "      <td>2015-06-10 08:00:00+00:00</td>\n",
       "      <td>2015-07-01 08:00:00+00:00</td>\n",
       "    </tr>\n",
       "    <tr>\n",
       "      <th>2</th>\n",
       "      <td>2015-06-10 11:00:00+02:00</td>\n",
       "      <td>2015-07-01 11:00:00+02:00</td>\n",
       "      <td>2015-06-10 09:00:00+00:00</td>\n",
       "      <td>2015-07-01 09:00:00+00:00</td>\n",
       "    </tr>\n",
       "    <tr>\n",
       "      <th>0</th>\n",
       "      <td>2015-09-10 09:00:00-05:00</td>\n",
       "      <td>2015-08-01 09:00:00-05:00</td>\n",
       "      <td>2015-09-10 14:00:00+00:00</td>\n",
       "      <td>2015-08-01 14:00:00+00:00</td>\n",
       "    </tr>\n",
       "    <tr>\n",
       "      <th>1</th>\n",
       "      <td>2015-09-10 10:00:00-05:00</td>\n",
       "      <td>2015-08-01 10:00:00-05:00</td>\n",
       "      <td>2015-09-10 15:00:00+00:00</td>\n",
       "      <td>2015-08-01 15:00:00+00:00</td>\n",
       "    </tr>\n",
       "    <tr>\n",
       "      <th>2</th>\n",
       "      <td>2015-09-10 11:00:00-05:00</td>\n",
       "      <td>2015-08-01 11:00:00-05:00</td>\n",
       "      <td>2015-09-10 16:00:00+00:00</td>\n",
       "      <td>2015-08-01 16:00:00+00:00</td>\n",
       "    </tr>\n",
       "  </tbody>\n",
       "</table>\n",
       "</div>"
      ],
      "text/plain": [
       "                       time1                      time2  \\\n",
       "0  2015-06-10 09:00:00+02:00  2015-07-01 09:00:00+02:00   \n",
       "1  2015-06-10 10:00:00+02:00  2015-07-01 10:00:00+02:00   \n",
       "2  2015-06-10 11:00:00+02:00  2015-07-01 11:00:00+02:00   \n",
       "0  2015-09-10 09:00:00-05:00  2015-08-01 09:00:00-05:00   \n",
       "1  2015-09-10 10:00:00-05:00  2015-08-01 10:00:00-05:00   \n",
       "2  2015-09-10 11:00:00-05:00  2015-08-01 11:00:00-05:00   \n",
       "\n",
       "                  time1_utc                 time2_utc  \n",
       "0 2015-06-10 07:00:00+00:00 2015-07-01 07:00:00+00:00  \n",
       "1 2015-06-10 08:00:00+00:00 2015-07-01 08:00:00+00:00  \n",
       "2 2015-06-10 09:00:00+00:00 2015-07-01 09:00:00+00:00  \n",
       "0 2015-09-10 14:00:00+00:00 2015-08-01 14:00:00+00:00  \n",
       "1 2015-09-10 15:00:00+00:00 2015-08-01 15:00:00+00:00  \n",
       "2 2015-09-10 16:00:00+00:00 2015-08-01 16:00:00+00:00  "
      ]
     },
     "execution_count": 48,
     "metadata": {},
     "output_type": "execute_result"
    }
   ],
   "source": [
    "# to work with different time zones  first we unify the time \n",
    "#zone to the central zone setting utc=True\n",
    "\n",
    "df['time1_utc'] = pd.to_datetime(df['time1'], utc=True)\n",
    "df['time2_utc'] = pd.to_datetime(df['time2'], utc=True)\n",
    "df"
   ]
  },
  {
   "cell_type": "code",
   "execution_count": 49,
   "metadata": {},
   "outputs": [
    {
     "data": {
      "text/plain": [
       "0    21 days\n",
       "1    21 days\n",
       "2    21 days\n",
       "0   -40 days\n",
       "1   -40 days\n",
       "Name: elapsed_days, dtype: timedelta64[ns]"
      ]
     },
     "execution_count": 49,
     "metadata": {},
     "output_type": "execute_result"
    }
   ],
   "source": [
    "# calculate the differnece in days\n",
    "df['elapsed_days'] = (df['time2_utc']- df['time1_utc'])\n",
    "df['elapsed_days'].head()"
   ]
  },
  {
   "cell_type": "code",
   "execution_count": 50,
   "metadata": {},
   "outputs": [
    {
     "data": {
      "text/html": [
       "<div>\n",
       "<style scoped>\n",
       "    .dataframe tbody tr th:only-of-type {\n",
       "        vertical-align: middle;\n",
       "    }\n",
       "\n",
       "    .dataframe tbody tr th {\n",
       "        vertical-align: top;\n",
       "    }\n",
       "\n",
       "    .dataframe thead th {\n",
       "        text-align: right;\n",
       "    }\n",
       "</style>\n",
       "<table border=\"1\" class=\"dataframe\">\n",
       "  <thead>\n",
       "    <tr style=\"text-align: right;\">\n",
       "      <th></th>\n",
       "      <th>time1</th>\n",
       "      <th>time2</th>\n",
       "      <th>time1_utc</th>\n",
       "      <th>time2_utc</th>\n",
       "      <th>elapsed_days</th>\n",
       "      <th>time1_london</th>\n",
       "      <th>time2_berlin</th>\n",
       "    </tr>\n",
       "  </thead>\n",
       "  <tbody>\n",
       "    <tr>\n",
       "      <th>0</th>\n",
       "      <td>2015-06-10 09:00:00+02:00</td>\n",
       "      <td>2015-07-01 09:00:00+02:00</td>\n",
       "      <td>2015-06-10 07:00:00+00:00</td>\n",
       "      <td>2015-07-01 07:00:00+00:00</td>\n",
       "      <td>21 days</td>\n",
       "      <td>2015-06-10 08:00:00+01:00</td>\n",
       "      <td>2015-06-10 09:00:00+02:00</td>\n",
       "    </tr>\n",
       "    <tr>\n",
       "      <th>1</th>\n",
       "      <td>2015-06-10 10:00:00+02:00</td>\n",
       "      <td>2015-07-01 10:00:00+02:00</td>\n",
       "      <td>2015-06-10 08:00:00+00:00</td>\n",
       "      <td>2015-07-01 08:00:00+00:00</td>\n",
       "      <td>21 days</td>\n",
       "      <td>2015-06-10 09:00:00+01:00</td>\n",
       "      <td>2015-06-10 10:00:00+02:00</td>\n",
       "    </tr>\n",
       "    <tr>\n",
       "      <th>2</th>\n",
       "      <td>2015-06-10 11:00:00+02:00</td>\n",
       "      <td>2015-07-01 11:00:00+02:00</td>\n",
       "      <td>2015-06-10 09:00:00+00:00</td>\n",
       "      <td>2015-07-01 09:00:00+00:00</td>\n",
       "      <td>21 days</td>\n",
       "      <td>2015-06-10 10:00:00+01:00</td>\n",
       "      <td>2015-06-10 11:00:00+02:00</td>\n",
       "    </tr>\n",
       "    <tr>\n",
       "      <th>0</th>\n",
       "      <td>2015-09-10 09:00:00-05:00</td>\n",
       "      <td>2015-08-01 09:00:00-05:00</td>\n",
       "      <td>2015-09-10 14:00:00+00:00</td>\n",
       "      <td>2015-08-01 14:00:00+00:00</td>\n",
       "      <td>-40 days</td>\n",
       "      <td>2015-09-10 15:00:00+01:00</td>\n",
       "      <td>2015-09-10 16:00:00+02:00</td>\n",
       "    </tr>\n",
       "    <tr>\n",
       "      <th>1</th>\n",
       "      <td>2015-09-10 10:00:00-05:00</td>\n",
       "      <td>2015-08-01 10:00:00-05:00</td>\n",
       "      <td>2015-09-10 15:00:00+00:00</td>\n",
       "      <td>2015-08-01 15:00:00+00:00</td>\n",
       "      <td>-40 days</td>\n",
       "      <td>2015-09-10 16:00:00+01:00</td>\n",
       "      <td>2015-09-10 17:00:00+02:00</td>\n",
       "    </tr>\n",
       "    <tr>\n",
       "      <th>2</th>\n",
       "      <td>2015-09-10 11:00:00-05:00</td>\n",
       "      <td>2015-08-01 11:00:00-05:00</td>\n",
       "      <td>2015-09-10 16:00:00+00:00</td>\n",
       "      <td>2015-08-01 16:00:00+00:00</td>\n",
       "      <td>-40 days</td>\n",
       "      <td>2015-09-10 17:00:00+01:00</td>\n",
       "      <td>2015-09-10 18:00:00+02:00</td>\n",
       "    </tr>\n",
       "  </tbody>\n",
       "</table>\n",
       "</div>"
      ],
      "text/plain": [
       "                       time1                      time2  \\\n",
       "0  2015-06-10 09:00:00+02:00  2015-07-01 09:00:00+02:00   \n",
       "1  2015-06-10 10:00:00+02:00  2015-07-01 10:00:00+02:00   \n",
       "2  2015-06-10 11:00:00+02:00  2015-07-01 11:00:00+02:00   \n",
       "0  2015-09-10 09:00:00-05:00  2015-08-01 09:00:00-05:00   \n",
       "1  2015-09-10 10:00:00-05:00  2015-08-01 10:00:00-05:00   \n",
       "2  2015-09-10 11:00:00-05:00  2015-08-01 11:00:00-05:00   \n",
       "\n",
       "                  time1_utc                 time2_utc elapsed_days  \\\n",
       "0 2015-06-10 07:00:00+00:00 2015-07-01 07:00:00+00:00      21 days   \n",
       "1 2015-06-10 08:00:00+00:00 2015-07-01 08:00:00+00:00      21 days   \n",
       "2 2015-06-10 09:00:00+00:00 2015-07-01 09:00:00+00:00      21 days   \n",
       "0 2015-09-10 14:00:00+00:00 2015-08-01 14:00:00+00:00     -40 days   \n",
       "1 2015-09-10 15:00:00+00:00 2015-08-01 15:00:00+00:00     -40 days   \n",
       "2 2015-09-10 16:00:00+00:00 2015-08-01 16:00:00+00:00     -40 days   \n",
       "\n",
       "               time1_london              time2_berlin  \n",
       "0 2015-06-10 08:00:00+01:00 2015-06-10 09:00:00+02:00  \n",
       "1 2015-06-10 09:00:00+01:00 2015-06-10 10:00:00+02:00  \n",
       "2 2015-06-10 10:00:00+01:00 2015-06-10 11:00:00+02:00  \n",
       "0 2015-09-10 15:00:00+01:00 2015-09-10 16:00:00+02:00  \n",
       "1 2015-09-10 16:00:00+01:00 2015-09-10 17:00:00+02:00  \n",
       "2 2015-09-10 17:00:00+01:00 2015-09-10 18:00:00+02:00  "
      ]
     },
     "execution_count": 50,
     "metadata": {},
     "output_type": "execute_result"
    }
   ],
   "source": [
    "# finally change the time zone \n",
    "df['time1_london'] = df['time1_utc'].dt.tz_convert('Europe/London')\n",
    "df['time2_berlin'] = df['time1_utc'].dt.tz_convert('Europe/Berlin')\n",
    "\n",
    "df"
   ]
  },
  {
   "cell_type": "markdown",
   "metadata": {},
   "source": [
    "Note how, when changing time zones, not only the values of the zone changes—that is, the +01 and +02 values in the preceding screenshot, but the value of the hour changes as well"
   ]
  },
  {
   "cell_type": "markdown",
   "metadata": {},
   "source": [
    "# PERFORMING FEATURE SCALING"
   ]
  },
  {
   "cell_type": "code",
   "execution_count": null,
   "metadata": {},
   "outputs": [],
   "source": []
  },
  {
   "cell_type": "code",
   "execution_count": null,
   "metadata": {},
   "outputs": [],
   "source": []
  },
  {
   "cell_type": "code",
   "execution_count": null,
   "metadata": {},
   "outputs": [],
   "source": []
  },
  {
   "cell_type": "code",
   "execution_count": null,
   "metadata": {},
   "outputs": [],
   "source": []
  },
  {
   "cell_type": "code",
   "execution_count": null,
   "metadata": {},
   "outputs": [],
   "source": []
  },
  {
   "cell_type": "code",
   "execution_count": null,
   "metadata": {},
   "outputs": [],
   "source": []
  },
  {
   "cell_type": "code",
   "execution_count": null,
   "metadata": {},
   "outputs": [],
   "source": []
  },
  {
   "cell_type": "markdown",
   "metadata": {},
   "source": [
    "# APPLYING MATHEMATICAL COMPUTATION TO FEATURES"
   ]
  },
  {
   "cell_type": "markdown",
   "metadata": {},
   "source": [
    "New features can be created by combining two or more variables. Variables can be combined automatically or by using domain knowledge of the data and the industry\n",
    "\n",
    "We can also combine variables automatically, by creating polynomial combinations of the existing variables in the dataset or by using off-the-shelf algorithms such as decision trees and Principal Component Analysis (PCA). In this chapter, we will create new features using multiple mathematical functions and off-the-shelf algorithms with Python.\n",
    "\n",
    "here we learn this things :-\n",
    "\n",
    "- Combining multiple features with statistical operations\n",
    "- Combining pairs of features with mathematical functions\n",
    "- Performing polynomial expansion\n",
    "- Deriving new features with decision trees\n",
    "- Carrying out PCA"
   ]
  },
  {
   "cell_type": "markdown",
   "metadata": {},
   "source": [
    "## Combining multiple features with statistical operations\n",
    "\n",
    "New features can be created by performing mathematical and statistical operations over existing variables. We previously mentioned that we can calculate the total debt by summing up the debt across individual financial products:\n",
    "\n",
    "Total debt = car loan debt + credit card debt + mortgage debt\n",
    "\n",
    "We can also derive other insightful features using alternative statistical operations. For example, we can determine the maximum debt of a customer across financial products, the minimum time they spent surfing one page of our website, or the mean time they spent reading an article of our magazine:\n",
    "\n",
    "maximum debt = max(car loan balance, credit card balance, mortgage balance)\n",
    "\n",
    "minimum time on page = min(time on homepage, time on about page, time on the contact us page)\n",
    "\n",
    "mean time reading article = (time on article 1 + time on article 2 + time on article 3) / count(articles)\n",
    "\n",
    "We can, in principle, use any mathematical or statistical operation to create new features, such as product, mean, standard deviation, or maximum or minimum values, to name a few. In this recipe, we will implement these mathematical operations using pandas."
   ]
  },
  {
   "cell_type": "code",
   "execution_count": 51,
   "metadata": {},
   "outputs": [
    {
     "name": "stdout",
     "output_type": "stream",
     "text": [
      ".. _breast_cancer_dataset:\n",
      "\n",
      "Breast cancer wisconsin (diagnostic) dataset\n",
      "--------------------------------------------\n",
      "\n",
      "**Data Set Characteristics:**\n",
      "\n",
      "    :Number of Instances: 569\n",
      "\n",
      "    :Number of Attributes: 30 numeric, predictive attributes and the class\n",
      "\n",
      "    :Attribute Information:\n",
      "        - radius (mean of distances from center to points on the perimeter)\n",
      "        - texture (standard deviation of gray-scale values)\n",
      "        - perimeter\n",
      "        - area\n",
      "        - smoothness (local variation in radius lengths)\n",
      "        - compactness (perimeter^2 / area - 1.0)\n",
      "        - concavity (severity of concave portions of the contour)\n",
      "        - concave points (number of concave portions of the contour)\n",
      "        - symmetry\n",
      "        - fractal dimension (\"coastline approximation\" - 1)\n",
      "\n",
      "        The mean, standard error, and \"worst\" or largest (mean of the three\n",
      "        worst/largest values) of these features were computed for each image,\n",
      "        resulting in 30 features.  For instance, field 0 is Mean Radius, field\n",
      "        10 is Radius SE, field 20 is Worst Radius.\n",
      "\n",
      "        - class:\n",
      "                - WDBC-Malignant\n",
      "                - WDBC-Benign\n",
      "\n",
      "    :Summary Statistics:\n",
      "\n",
      "    ===================================== ====== ======\n",
      "                                           Min    Max\n",
      "    ===================================== ====== ======\n",
      "    radius (mean):                        6.981  28.11\n",
      "    texture (mean):                       9.71   39.28\n",
      "    perimeter (mean):                     43.79  188.5\n",
      "    area (mean):                          143.5  2501.0\n",
      "    smoothness (mean):                    0.053  0.163\n",
      "    compactness (mean):                   0.019  0.345\n",
      "    concavity (mean):                     0.0    0.427\n",
      "    concave points (mean):                0.0    0.201\n",
      "    symmetry (mean):                      0.106  0.304\n",
      "    fractal dimension (mean):             0.05   0.097\n",
      "    radius (standard error):              0.112  2.873\n",
      "    texture (standard error):             0.36   4.885\n",
      "    perimeter (standard error):           0.757  21.98\n",
      "    area (standard error):                6.802  542.2\n",
      "    smoothness (standard error):          0.002  0.031\n",
      "    compactness (standard error):         0.002  0.135\n",
      "    concavity (standard error):           0.0    0.396\n",
      "    concave points (standard error):      0.0    0.053\n",
      "    symmetry (standard error):            0.008  0.079\n",
      "    fractal dimension (standard error):   0.001  0.03\n",
      "    radius (worst):                       7.93   36.04\n",
      "    texture (worst):                      12.02  49.54\n",
      "    perimeter (worst):                    50.41  251.2\n",
      "    area (worst):                         185.2  4254.0\n",
      "    smoothness (worst):                   0.071  0.223\n",
      "    compactness (worst):                  0.027  1.058\n",
      "    concavity (worst):                    0.0    1.252\n",
      "    concave points (worst):               0.0    0.291\n",
      "    symmetry (worst):                     0.156  0.664\n",
      "    fractal dimension (worst):            0.055  0.208\n",
      "    ===================================== ====== ======\n",
      "\n",
      "    :Missing Attribute Values: None\n",
      "\n",
      "    :Class Distribution: 212 - Malignant, 357 - Benign\n",
      "\n",
      "    :Creator:  Dr. William H. Wolberg, W. Nick Street, Olvi L. Mangasarian\n",
      "\n",
      "    :Donor: Nick Street\n",
      "\n",
      "    :Date: November, 1995\n",
      "\n",
      "This is a copy of UCI ML Breast Cancer Wisconsin (Diagnostic) datasets.\n",
      "https://goo.gl/U2Uwz2\n",
      "\n",
      "Features are computed from a digitized image of a fine needle\n",
      "aspirate (FNA) of a breast mass.  They describe\n",
      "characteristics of the cell nuclei present in the image.\n",
      "\n",
      "Separating plane described above was obtained using\n",
      "Multisurface Method-Tree (MSM-T) [K. P. Bennett, \"Decision Tree\n",
      "Construction Via Linear Programming.\" Proceedings of the 4th\n",
      "Midwest Artificial Intelligence and Cognitive Science Society,\n",
      "pp. 97-101, 1992], a classification method which uses linear\n",
      "programming to construct a decision tree.  Relevant features\n",
      "were selected using an exhaustive search in the space of 1-4\n",
      "features and 1-3 separating planes.\n",
      "\n",
      "The actual linear program used to obtain the separating plane\n",
      "in the 3-dimensional space is that described in:\n",
      "[K. P. Bennett and O. L. Mangasarian: \"Robust Linear\n",
      "Programming Discrimination of Two Linearly Inseparable Sets\",\n",
      "Optimization Methods and Software 1, 1992, 23-34].\n",
      "\n",
      "This database is also available through the UW CS ftp server:\n",
      "\n",
      "ftp ftp.cs.wisc.edu\n",
      "cd math-prog/cpo-dataset/machine-learn/WDBC/\n",
      "\n",
      ".. topic:: References\n",
      "\n",
      "   - W.N. Street, W.H. Wolberg and O.L. Mangasarian. Nuclear feature extraction \n",
      "     for breast tumor diagnosis. IS&T/SPIE 1993 International Symposium on \n",
      "     Electronic Imaging: Science and Technology, volume 1905, pages 861-870,\n",
      "     San Jose, CA, 1993.\n",
      "   - O.L. Mangasarian, W.N. Street and W.H. Wolberg. Breast cancer diagnosis and \n",
      "     prognosis via linear programming. Operations Research, 43(4), pages 570-577, \n",
      "     July-August 1995.\n",
      "   - W.H. Wolberg, W.N. Street, and O.L. Mangasarian. Machine learning techniques\n",
      "     to diagnose breast cancer from fine-needle aspirates. Cancer Letters 77 (1994) \n",
      "     163-171.\n"
     ]
    }
   ],
   "source": [
    "from sklearn.datasets import load_breast_cancer\n",
    "data = load_breast_cancer()\n",
    "print(data.DESCR)"
   ]
  },
  {
   "cell_type": "code",
   "execution_count": 52,
   "metadata": {},
   "outputs": [],
   "source": [
    "df = pd.DataFrame(data.data, columns=data.feature_names)\n",
    "df['target'] = data.target"
   ]
  },
  {
   "cell_type": "code",
   "execution_count": 53,
   "metadata": {},
   "outputs": [],
   "source": [
    "## creating a list with the subset of features to which we will apply the different mathematical operations\n",
    "\n",
    "features = ['mean smoothness', 'mean compactness','mean concavity', 'mean concave points','mean symmetry']"
   ]
  },
  {
   "cell_type": "code",
   "execution_count": null,
   "metadata": {},
   "outputs": [],
   "source": [
    "df['added_features'] = df[features].sum(axis=1)\n",
    "df['prod_features'] = df[features].prod(axis=1)"
   ]
  },
  {
   "cell_type": "code",
   "execution_count": null,
   "metadata": {},
   "outputs": [],
   "source": []
  },
  {
   "cell_type": "code",
   "execution_count": 55,
   "metadata": {},
   "outputs": [],
   "source": [
    "df_t = df[features].agg(['sum','prod','mean','std','max','min'],axis='columns')"
   ]
  },
  {
   "cell_type": "code",
   "execution_count": 56,
   "metadata": {},
   "outputs": [
    {
     "data": {
      "text/html": [
       "<div>\n",
       "<style scoped>\n",
       "    .dataframe tbody tr th:only-of-type {\n",
       "        vertical-align: middle;\n",
       "    }\n",
       "\n",
       "    .dataframe tbody tr th {\n",
       "        vertical-align: top;\n",
       "    }\n",
       "\n",
       "    .dataframe thead th {\n",
       "        text-align: right;\n",
       "    }\n",
       "</style>\n",
       "<table border=\"1\" class=\"dataframe\">\n",
       "  <thead>\n",
       "    <tr style=\"text-align: right;\">\n",
       "      <th></th>\n",
       "      <th>sum</th>\n",
       "      <th>prod</th>\n",
       "      <th>mean</th>\n",
       "      <th>std</th>\n",
       "      <th>max</th>\n",
       "      <th>min</th>\n",
       "    </tr>\n",
       "  </thead>\n",
       "  <tbody>\n",
       "    <tr>\n",
       "      <th>0</th>\n",
       "      <td>1.08510</td>\n",
       "      <td>0.000351</td>\n",
       "      <td>0.217020</td>\n",
       "      <td>0.080321</td>\n",
       "      <td>0.3001</td>\n",
       "      <td>0.11840</td>\n",
       "    </tr>\n",
       "    <tr>\n",
       "      <th>1</th>\n",
       "      <td>0.50165</td>\n",
       "      <td>0.000007</td>\n",
       "      <td>0.100330</td>\n",
       "      <td>0.045671</td>\n",
       "      <td>0.1812</td>\n",
       "      <td>0.07017</td>\n",
       "    </tr>\n",
       "    <tr>\n",
       "      <th>2</th>\n",
       "      <td>0.80170</td>\n",
       "      <td>0.000092</td>\n",
       "      <td>0.160340</td>\n",
       "      <td>0.042333</td>\n",
       "      <td>0.2069</td>\n",
       "      <td>0.10960</td>\n",
       "    </tr>\n",
       "    <tr>\n",
       "      <th>3</th>\n",
       "      <td>1.03270</td>\n",
       "      <td>0.000267</td>\n",
       "      <td>0.206540</td>\n",
       "      <td>0.078097</td>\n",
       "      <td>0.2839</td>\n",
       "      <td>0.10520</td>\n",
       "    </tr>\n",
       "    <tr>\n",
       "      <th>4</th>\n",
       "      <td>0.71630</td>\n",
       "      <td>0.000050</td>\n",
       "      <td>0.143260</td>\n",
       "      <td>0.044402</td>\n",
       "      <td>0.1980</td>\n",
       "      <td>0.10030</td>\n",
       "    </tr>\n",
       "    <tr>\n",
       "      <th>...</th>\n",
       "      <td>...</td>\n",
       "      <td>...</td>\n",
       "      <td>...</td>\n",
       "      <td>...</td>\n",
       "      <td>...</td>\n",
       "      <td>...</td>\n",
       "    </tr>\n",
       "    <tr>\n",
       "      <th>564</th>\n",
       "      <td>0.78230</td>\n",
       "      <td>0.000075</td>\n",
       "      <td>0.156460</td>\n",
       "      <td>0.054604</td>\n",
       "      <td>0.2439</td>\n",
       "      <td>0.11100</td>\n",
       "    </tr>\n",
       "    <tr>\n",
       "      <th>565</th>\n",
       "      <td>0.61831</td>\n",
       "      <td>0.000025</td>\n",
       "      <td>0.123662</td>\n",
       "      <td>0.034686</td>\n",
       "      <td>0.1752</td>\n",
       "      <td>0.09780</td>\n",
       "    </tr>\n",
       "    <tr>\n",
       "      <th>566</th>\n",
       "      <td>0.49138</td>\n",
       "      <td>0.000007</td>\n",
       "      <td>0.098276</td>\n",
       "      <td>0.038644</td>\n",
       "      <td>0.1590</td>\n",
       "      <td>0.05302</td>\n",
       "    </tr>\n",
       "    <tr>\n",
       "      <th>567</th>\n",
       "      <td>1.13790</td>\n",
       "      <td>0.000418</td>\n",
       "      <td>0.227580</td>\n",
       "      <td>0.094452</td>\n",
       "      <td>0.3514</td>\n",
       "      <td>0.11780</td>\n",
       "    </tr>\n",
       "    <tr>\n",
       "      <th>568</th>\n",
       "      <td>0.25495</td>\n",
       "      <td>0.000000</td>\n",
       "      <td>0.050990</td>\n",
       "      <td>0.064920</td>\n",
       "      <td>0.1587</td>\n",
       "      <td>0.00000</td>\n",
       "    </tr>\n",
       "  </tbody>\n",
       "</table>\n",
       "<p>569 rows × 6 columns</p>\n",
       "</div>"
      ],
      "text/plain": [
       "         sum      prod      mean       std     max      min\n",
       "0    1.08510  0.000351  0.217020  0.080321  0.3001  0.11840\n",
       "1    0.50165  0.000007  0.100330  0.045671  0.1812  0.07017\n",
       "2    0.80170  0.000092  0.160340  0.042333  0.2069  0.10960\n",
       "3    1.03270  0.000267  0.206540  0.078097  0.2839  0.10520\n",
       "4    0.71630  0.000050  0.143260  0.044402  0.1980  0.10030\n",
       "..       ...       ...       ...       ...     ...      ...\n",
       "564  0.78230  0.000075  0.156460  0.054604  0.2439  0.11100\n",
       "565  0.61831  0.000025  0.123662  0.034686  0.1752  0.09780\n",
       "566  0.49138  0.000007  0.098276  0.038644  0.1590  0.05302\n",
       "567  1.13790  0.000418  0.227580  0.094452  0.3514  0.11780\n",
       "568  0.25495  0.000000  0.050990  0.064920  0.1587  0.00000\n",
       "\n",
       "[569 rows x 6 columns]"
      ]
     },
     "execution_count": 56,
     "metadata": {},
     "output_type": "execute_result"
    }
   ],
   "source": [
    "df_t"
   ]
  },
  {
   "cell_type": "markdown",
   "metadata": {},
   "source": [
    "With visualizations, we can easily understand whether new features provide valuable information. In this section, we will create violin plots to visualize the distribution of one of the newly created features. We will plot the distribution of the feature separately, for those tumors that were cancerous and those that were not."
   ]
  },
  {
   "cell_type": "code",
   "execution_count": 57,
   "metadata": {},
   "outputs": [],
   "source": [
    "import matplotlib.pyplot as plt\n",
    "import seaborn as sns"
   ]
  },
  {
   "cell_type": "code",
   "execution_count": 59,
   "metadata": {},
   "outputs": [
    {
     "data": {
      "image/png": "[encoded data removed]",
      "text/plain": [
       "<Figure size 432x288 with 1 Axes>"
      ]
     },
     "metadata": {
      "needs_background": "light"
     },
     "output_type": "display_data"
    }
   ],
   "source": [
    "# create violin plot\n",
    "sns.violinplot(x=\"target\", y=df_t['sum'], data=df)\n",
    "plt.title('Added Features')\n",
    "plt.show()"
   ]
  },
  {
   "cell_type": "markdown",
   "metadata": {},
   "source": [
    "## Combining pairs of features with mathmatical functions\n",
    "\n",
    "we will learn how to derive new features by subtraction or division"
   ]
  },
  {
   "cell_type": "code",
   "execution_count": 61,
   "metadata": {},
   "outputs": [],
   "source": [
    "#df['difference'] = df['worst compactness'].sub(df['mean compactness'])\n",
    "df['difference'] = df['worst compactness'] - (df['mean compactness'])\n",
    "#df['quotient'] = df['worst radius'].div(df['mean radius'])\n",
    "df['quotient'] = df['worst radius'] / (df['mean radius'])"
   ]
  },
  {
   "cell_type": "markdown",
   "metadata": {},
   "source": [
    "## Performing polynomial expansion\n",
    "## Deriving new features with decision trees"
   ]
  },
  {
   "cell_type": "markdown",
   "metadata": {},
   "source": [
    "In the winning solution of the KDD competition in 2009, the authors created new features by combining two or more variables using decision trees and then used those variables to train the winning predictive model. This technique is particularly useful to derive features that are monotonic with the target, which is convenient for linear models. The procedure consists of building a decision tree using a subset of the features, typically two or three at a time, and then using the prediction of the tree as a new feature.\n",
    "\n",
    "Creating new features with decision trees not only creates monotonic relationships between features and target, but it also captures feature interactions, which is useful when building models that do not do so automatically, such as linear models.\n",
    "\n"
   ]
  },
  {
   "cell_type": "code",
   "execution_count": 62,
   "metadata": {},
   "outputs": [],
   "source": [
    "import pandas as pd\n",
    "from sklearn.datasets import load_boston\n",
    "from sklearn.model_selection import train_test_split\n",
    "from sklearn.tree import DecisionTreeRegressor\n",
    "from sklearn.model_selection import GridSearchCV"
   ]
  },
  {
   "cell_type": "code",
   "execution_count": 63,
   "metadata": {},
   "outputs": [],
   "source": [
    "boston_dataset = load_boston()\n",
    "data = pd.DataFrame(boston_dataset.data, columns=boston_dataset.feature_names)\n",
    "data['MEDV'] = boston_dataset.target"
   ]
  },
  {
   "cell_type": "code",
   "execution_count": 64,
   "metadata": {},
   "outputs": [],
   "source": [
    "X_train, X_test, y_train, y_test = train_test_split(data.drop('MEDV', axis=1), data['MEDV'], test_size=0.3, random_state=0)"
   ]
  },
  {
   "cell_type": "markdown",
   "metadata": {},
   "source": [
    "In the following lines, we are going to create a new feature from three existing variables in the dataset using a decision tree. We are going to build this decision tree within GridSearch() so that we can optimize one of its parameters."
   ]
  },
  {
   "cell_type": "code",
   "execution_count": 66,
   "metadata": {},
   "outputs": [],
   "source": [
    "## Lets create dictionary with the parameter to optimize:\n",
    "## You can optimize as many parameters of the tree as you wish.\n",
    "param_grid = {'max_depth': [3,4,None]}"
   ]
  },
  {
   "cell_type": "code",
   "execution_count": 67,
   "metadata": {},
   "outputs": [],
   "source": [
    "# Let's set up the decision tree within a scikit-learn GridSearch() with 5-fold cross-validation,\n",
    "tree_model = GridSearchCV(DecisionTreeRegressor(random_state=0),cv=5,scoring='neg_mean_squared_error',param_grid= param_grid)"
   ]
  },
  {
   "cell_type": "markdown",
   "metadata": {},
   "source": [
    "We use DecisionTreeRegressor() from scikit-learn because the target in this dataset, MEDV, is continuous. If you have a binary target or are performing classification, use DecisionTreeClassifier(), also from scikit-learn. Note that you will have to change the scoring metric to those permitted for classification."
   ]
  },
  {
   "cell_type": "code",
   "execution_count": 68,
   "metadata": {},
   "outputs": [
    {
     "data": {
      "text/plain": [
       "GridSearchCV(cv=5, estimator=DecisionTreeRegressor(random_state=0),\n",
       "             param_grid={'max_depth': [3, 4, None]},\n",
       "             scoring='neg_mean_squared_error')"
      ]
     },
     "execution_count": 68,
     "metadata": {},
     "output_type": "execute_result"
    }
   ],
   "source": [
    "# Train the decision tree using three selected features from the dataset\n",
    "\n",
    "tree_model.fit(X_train[['LSTAT', 'RM', 'NOX']], y_train)"
   ]
  },
  {
   "cell_type": "code",
   "execution_count": 69,
   "metadata": {},
   "outputs": [],
   "source": [
    "# Derive new feature using  decison tre in the train and test sets:\n",
    "\n",
    "X_train['new_feat'] = tree_model.predict(X_train[['LSTAT', 'RM', 'NOX']])\n",
    "X_test['new_feat'] = tree_model.predict(X_test[['LSTAT', 'RM', 'NOX']])"
   ]
  },
  {
   "cell_type": "code",
   "execution_count": 70,
   "metadata": {},
   "outputs": [
    {
     "data": {
      "text/html": [
       "<div>\n",
       "<style scoped>\n",
       "    .dataframe tbody tr th:only-of-type {\n",
       "        vertical-align: middle;\n",
       "    }\n",
       "\n",
       "    .dataframe tbody tr th {\n",
       "        vertical-align: top;\n",
       "    }\n",
       "\n",
       "    .dataframe thead th {\n",
       "        text-align: right;\n",
       "    }\n",
       "</style>\n",
       "<table border=\"1\" class=\"dataframe\">\n",
       "  <thead>\n",
       "    <tr style=\"text-align: right;\">\n",
       "      <th></th>\n",
       "      <th>CRIM</th>\n",
       "      <th>ZN</th>\n",
       "      <th>INDUS</th>\n",
       "      <th>CHAS</th>\n",
       "      <th>NOX</th>\n",
       "      <th>RM</th>\n",
       "      <th>AGE</th>\n",
       "      <th>DIS</th>\n",
       "      <th>RAD</th>\n",
       "      <th>TAX</th>\n",
       "      <th>PTRATIO</th>\n",
       "      <th>B</th>\n",
       "      <th>LSTAT</th>\n",
       "      <th>new_feat</th>\n",
       "    </tr>\n",
       "  </thead>\n",
       "  <tbody>\n",
       "    <tr>\n",
       "      <th>141</th>\n",
       "      <td>1.62864</td>\n",
       "      <td>0.0</td>\n",
       "      <td>21.89</td>\n",
       "      <td>0.0</td>\n",
       "      <td>0.624</td>\n",
       "      <td>5.019</td>\n",
       "      <td>100.0</td>\n",
       "      <td>1.4394</td>\n",
       "      <td>4.0</td>\n",
       "      <td>437.0</td>\n",
       "      <td>21.2</td>\n",
       "      <td>396.90</td>\n",
       "      <td>34.41</td>\n",
       "      <td>11.005405</td>\n",
       "    </tr>\n",
       "    <tr>\n",
       "      <th>272</th>\n",
       "      <td>0.11460</td>\n",
       "      <td>20.0</td>\n",
       "      <td>6.96</td>\n",
       "      <td>0.0</td>\n",
       "      <td>0.464</td>\n",
       "      <td>6.538</td>\n",
       "      <td>58.7</td>\n",
       "      <td>3.9175</td>\n",
       "      <td>3.0</td>\n",
       "      <td>223.0</td>\n",
       "      <td>18.6</td>\n",
       "      <td>394.96</td>\n",
       "      <td>7.73</td>\n",
       "      <td>24.105952</td>\n",
       "    </tr>\n",
       "    <tr>\n",
       "      <th>135</th>\n",
       "      <td>0.55778</td>\n",
       "      <td>0.0</td>\n",
       "      <td>21.89</td>\n",
       "      <td>0.0</td>\n",
       "      <td>0.624</td>\n",
       "      <td>6.335</td>\n",
       "      <td>98.2</td>\n",
       "      <td>2.1107</td>\n",
       "      <td>4.0</td>\n",
       "      <td>437.0</td>\n",
       "      <td>21.2</td>\n",
       "      <td>394.67</td>\n",
       "      <td>16.96</td>\n",
       "      <td>15.116216</td>\n",
       "    </tr>\n",
       "    <tr>\n",
       "      <th>298</th>\n",
       "      <td>0.06466</td>\n",
       "      <td>70.0</td>\n",
       "      <td>2.24</td>\n",
       "      <td>0.0</td>\n",
       "      <td>0.400</td>\n",
       "      <td>6.345</td>\n",
       "      <td>20.1</td>\n",
       "      <td>7.8278</td>\n",
       "      <td>5.0</td>\n",
       "      <td>358.0</td>\n",
       "      <td>14.8</td>\n",
       "      <td>368.24</td>\n",
       "      <td>4.97</td>\n",
       "      <td>24.105952</td>\n",
       "    </tr>\n",
       "    <tr>\n",
       "      <th>122</th>\n",
       "      <td>0.09299</td>\n",
       "      <td>0.0</td>\n",
       "      <td>25.65</td>\n",
       "      <td>0.0</td>\n",
       "      <td>0.581</td>\n",
       "      <td>5.961</td>\n",
       "      <td>92.9</td>\n",
       "      <td>2.0869</td>\n",
       "      <td>2.0</td>\n",
       "      <td>188.0</td>\n",
       "      <td>19.1</td>\n",
       "      <td>378.09</td>\n",
       "      <td>17.93</td>\n",
       "      <td>16.862069</td>\n",
       "    </tr>\n",
       "  </tbody>\n",
       "</table>\n",
       "</div>"
      ],
      "text/plain": [
       "        CRIM    ZN  INDUS  CHAS    NOX     RM    AGE     DIS  RAD    TAX  \\\n",
       "141  1.62864   0.0  21.89   0.0  0.624  5.019  100.0  1.4394  4.0  437.0   \n",
       "272  0.11460  20.0   6.96   0.0  0.464  6.538   58.7  3.9175  3.0  223.0   \n",
       "135  0.55778   0.0  21.89   0.0  0.624  6.335   98.2  2.1107  4.0  437.0   \n",
       "298  0.06466  70.0   2.24   0.0  0.400  6.345   20.1  7.8278  5.0  358.0   \n",
       "122  0.09299   0.0  25.65   0.0  0.581  5.961   92.9  2.0869  2.0  188.0   \n",
       "\n",
       "     PTRATIO       B  LSTAT   new_feat  \n",
       "141     21.2  396.90  34.41  11.005405  \n",
       "272     18.6  394.96   7.73  24.105952  \n",
       "135     21.2  394.67  16.96  15.116216  \n",
       "298     14.8  368.24   4.97  24.105952  \n",
       "122     19.1  378.09  17.93  16.862069  "
      ]
     },
     "execution_count": 70,
     "metadata": {},
     "output_type": "execute_result"
    }
   ],
   "source": [
    "X_train.head()"
   ]
  },
  {
   "cell_type": "markdown",
   "metadata": {},
   "source": [
    "We can create visualizations to understand whether the derived feature shows the desired monotonic relationship as well as its distribution"
   ]
  },
  {
   "cell_type": "code",
   "execution_count": 71,
   "metadata": {},
   "outputs": [
    {
     "data": {
      "text/plain": [
       "Text(0.5, 1.0, 'Tree derived feature vs House Price')"
      ]
     },
     "execution_count": 71,
     "metadata": {},
     "output_type": "execute_result"
    },
    {
     "data": {
      "image/png": "[encoded data removed]",
      "text/plain": [
       "<Figure size 432x288 with 1 Axes>"
      ]
     },
     "metadata": {
      "needs_background": "light"
     },
     "output_type": "display_data"
    }
   ],
   "source": [
    "plt.scatter(X_test['new_feat'], y_test)\n",
    "plt.ylabel('MEDV')\n",
    "plt.xlabel('new_feat')\n",
    "plt.title('Tree derived feature vs House Price')"
   ]
  },
  {
   "cell_type": "markdown",
   "metadata": {},
   "source": [
    "In the scatter plot, we can see a fairly decent monotonic relationship between the new feature and the target."
   ]
  },
  {
   "cell_type": "markdown",
   "metadata": {},
   "source": [
    "# Carrying out PCA"
   ]
  },
  {
   "cell_type": "markdown",
   "metadata": {},
   "source": [
    "PCA is a dimensionality reduction technique used to reduce a high dimensional dataset into a smaller subset of Principal Components (PC), which explain most of the variability observed in the original data. The first PC of the data is a vector along which the observations vary the most, or in other words, a linear combination of the variables in the dataset that maximizes the variance. Mathematically, the first PC minimizes the sum of the squared distances between each observation and the PC. The second PC is again a linear combination of the original variables, which captures the largest remaining variance and is subject to the constraint that is perpendicular to the first PC.\n",
    "\n",
    "In general, we can build as many PCs as variables in the dataset. Each PC is a linear combination of the variables, orthogonal to the other components, and maximizes the remaining variance, which is left unexplained by previous PCs. The way these PCs are built means that it is often possible for a few of the first PCs to capture most of the information of the original data, as well as most of its relationships to the target.\n",
    "\n",
    "In this recipe, we will implement PCA to reduce the dimensions of our data and create new features, the principal components, using scikit-learn."
   ]
  },
  {
   "cell_type": "code",
   "execution_count": 72,
   "metadata": {},
   "outputs": [],
   "source": [
    "import pandas as pd\n",
    "import matplotlib.pyplot as plt\n",
    "from sklearn.datasets import load_boston\n",
    "from sklearn.model_selection import train_test_split\n",
    "from sklearn.decomposition import PCA"
   ]
  },
  {
   "cell_type": "code",
   "execution_count": 80,
   "metadata": {},
   "outputs": [
    {
     "data": {
      "text/plain": [
       "(506, 14)"
      ]
     },
     "execution_count": 80,
     "metadata": {},
     "output_type": "execute_result"
    }
   ],
   "source": [
    "boston_dataset = load_boston()\n",
    "data = pd.DataFrame(boston_dataset.data, columns=boston_dataset.feature_names)\n",
    "data['MEDV'] = boston_dataset.target\n",
    "data.shape"
   ]
  },
  {
   "cell_type": "code",
   "execution_count": 75,
   "metadata": {},
   "outputs": [],
   "source": [
    "X_train, X_test, y_train, y_test = train_test_split(data.drop('MEDV', axis=1), data['MEDV'], test_size=0.3, random_state=0)"
   ]
  },
  {
   "cell_type": "code",
   "execution_count": 76,
   "metadata": {},
   "outputs": [
    {
     "data": {
      "text/plain": [
       "PCA()"
      ]
     },
     "execution_count": 76,
     "metadata": {},
     "output_type": "execute_result"
    }
   ],
   "source": [
    "pca = PCA(n_components=None)\n",
    "pca.fit(X_train)"
   ]
  },
  {
   "cell_type": "code",
   "execution_count": 79,
   "metadata": {},
   "outputs": [
    {
     "data": {
      "text/plain": [
       "(354, 13)"
      ]
     },
     "execution_count": 79,
     "metadata": {},
     "output_type": "execute_result"
    }
   ],
   "source": [
    "train_t = pca.transform(X_train)\n",
    "test_t = pca.transform(X_test)\n",
    "train_t.shape"
   ]
  },
  {
   "cell_type": "code",
   "execution_count": 78,
   "metadata": {},
   "outputs": [
    {
     "data": {
      "text/plain": [
       "Text(0, 0.5, 'Percentage of Variance Explained')"
      ]
     },
     "execution_count": 78,
     "metadata": {},
     "output_type": "execute_result"
    },
    {
     "data": {
      "image/png": "[encoded data removed]",
      "text/plain": [
       "<Figure size 432x288 with 1 Axes>"
      ]
     },
     "metadata": {
      "needs_background": "light"
     },
     "output_type": "display_data"
    }
   ],
   "source": [
    "plt.plot(pca.explained_variance_ratio_)\n",
    "plt.title('Percentage of Variance Explained')\n",
    "plt.xlabel('Number of Components')\n",
    "plt.ylabel('Percentage of Variance Explained')"
   ]
  },
  {
   "cell_type": "markdown",
   "metadata": {},
   "source": [
    "The preceding code returns the following plot, where we can see that the first two components capture most of the variability of the data:"
   ]
  },
  {
   "cell_type": "markdown",
   "metadata": {},
   "source": [
    "The preceding plot indicates that we can use the first two components to train our machine learning models using a linear model."
   ]
  },
  {
   "cell_type": "markdown",
   "metadata": {},
   "source": [
    "PCA is sensitive to the scale of the features; therefore, it is advisable, if not compulsory to have features within a similar scale before fitting the PCA object from scikit-learn. "
   ]
  },
  {
   "cell_type": "markdown",
   "metadata": {},
   "source": [
    "# Creating Features with Transactional and Time Series Data"
   ]
  },
  {
   "cell_type": "markdown",
   "metadata": {},
   "source": [
    "Throughout this book, we've discussed multiple feature engineering techniques that we can use to engineer variables in tabular data, where each observation is independent and shows only 1 value for each available variable\n",
    "\n",
    "However, data can also contain multiple values that are not independent for each entity.\n",
    "\n",
    "For example, there can be multiple records for each customer with the details of the customer's transactions within our organization, such as purchases, payments, claims, deposits, and withdrawals. In other cases, the values of the variables may change daily, such as stock prices or energy consumption per household. The first data sources are referred to as transactional data, whereas the second data sources are time series. Time series and transactional data contain time-stamped observations, which means they share a time dimension.\n",
    "\n",
    "\n",
    "We often create features that aggregate or summarize the information from the historical data points of time series or transactions. For example, we can create features that capture the maximum amount that was spent by the customer in the last week, the number of transactions they made, or the time between transactions. The number of features we can create and the ways in which we can aggregate this information is enormous. In this chapter, we will discuss the most common ways of creating aggregated views of historical data by using pandas. Then, we will make a shallow dive into Featuretools, a library designed to automate feature creation from transactional data. Finally, we will point you to other Python libraries that have been devised specifically for analyzing signal complexity.\n",
    "\n",
    "in this section we learn:-\n",
    "\n",
    "- Aggregating transactions with mathematical operations\n",
    "- Aggregating transactions in a time window\n",
    "- Determining the number of local maxima and minima\n",
    "- Deriving time elapsed between time-stamped events\n",
    "- Creating features from transactions with Featuretools"
   ]
  },
  {
   "cell_type": "markdown",
   "metadata": {},
   "source": [
    "## Aggregrating transaction with mathematical operation\n",
    "\n",
    "Previously, we mentioned that we can aggregate information from historical data points into single observations like the maximum amount spent on a transaction, the total number of transactions, or the mean value of all transactions, to name a few examples. These aggregations are made with basic mathematical operations, such as the maximum, mean, and count. As you can see, mathematical operations are a simple yet powerful way to obtain a summarized view of historical data.\n",
    "\n",
    "In this recipe, we will create a flattened dataset by aggregating multiple transactions using common mathematical operations.\n",
    "\n",
    "In a flattened dataset, we remove the time-dimension from the transaction data or time series to obtain a single observation per entity.\n",
    "\n"
   ]
  },
  {
   "cell_type": "code",
   "execution_count": 9,
   "metadata": {},
   "outputs": [],
   "source": [
    "#! pip install featuretools \n",
    "#! pip install graphviz\n",
    "import pandas as pd\n",
    "import featuretools as ft\n",
    "# lets loaad the dataset from featuretools\n",
    "data_dict = ft.demo.load_mock_customer()\n",
    "data = data_dict['transactions'].merge(data_dict['sessions']).merge(data_dict['customers'])"
   ]
  },
  {
   "cell_type": "code",
   "execution_count": 12,
   "metadata": {},
   "outputs": [
    {
     "data": {
      "text/html": [
       "<div>\n",
       "<style scoped>\n",
       "    .dataframe tbody tr th:only-of-type {\n",
       "        vertical-align: middle;\n",
       "    }\n",
       "\n",
       "    .dataframe tbody tr th {\n",
       "        vertical-align: top;\n",
       "    }\n",
       "\n",
       "    .dataframe thead th {\n",
       "        text-align: right;\n",
       "    }\n",
       "</style>\n",
       "<table border=\"1\" class=\"dataframe\">\n",
       "  <thead>\n",
       "    <tr style=\"text-align: right;\">\n",
       "      <th></th>\n",
       "      <th>transaction_id</th>\n",
       "      <th>session_id</th>\n",
       "      <th>transaction_time</th>\n",
       "      <th>product_id</th>\n",
       "      <th>amount</th>\n",
       "      <th>customer_id</th>\n",
       "      <th>device</th>\n",
       "      <th>session_start</th>\n",
       "      <th>zip_code</th>\n",
       "      <th>join_date</th>\n",
       "      <th>date_of_birth</th>\n",
       "    </tr>\n",
       "  </thead>\n",
       "  <tbody>\n",
       "    <tr>\n",
       "      <th>0</th>\n",
       "      <td>298</td>\n",
       "      <td>1</td>\n",
       "      <td>2014-01-01 00:00:00</td>\n",
       "      <td>5</td>\n",
       "      <td>127.64</td>\n",
       "      <td>2</td>\n",
       "      <td>desktop</td>\n",
       "      <td>2014-01-01</td>\n",
       "      <td>13244</td>\n",
       "      <td>2012-04-15 23:31:04</td>\n",
       "      <td>1986-08-18</td>\n",
       "    </tr>\n",
       "    <tr>\n",
       "      <th>1</th>\n",
       "      <td>2</td>\n",
       "      <td>1</td>\n",
       "      <td>2014-01-01 00:01:05</td>\n",
       "      <td>2</td>\n",
       "      <td>109.48</td>\n",
       "      <td>2</td>\n",
       "      <td>desktop</td>\n",
       "      <td>2014-01-01</td>\n",
       "      <td>13244</td>\n",
       "      <td>2012-04-15 23:31:04</td>\n",
       "      <td>1986-08-18</td>\n",
       "    </tr>\n",
       "    <tr>\n",
       "      <th>2</th>\n",
       "      <td>308</td>\n",
       "      <td>1</td>\n",
       "      <td>2014-01-01 00:02:10</td>\n",
       "      <td>3</td>\n",
       "      <td>95.06</td>\n",
       "      <td>2</td>\n",
       "      <td>desktop</td>\n",
       "      <td>2014-01-01</td>\n",
       "      <td>13244</td>\n",
       "      <td>2012-04-15 23:31:04</td>\n",
       "      <td>1986-08-18</td>\n",
       "    </tr>\n",
       "    <tr>\n",
       "      <th>3</th>\n",
       "      <td>116</td>\n",
       "      <td>1</td>\n",
       "      <td>2014-01-01 00:03:15</td>\n",
       "      <td>4</td>\n",
       "      <td>78.92</td>\n",
       "      <td>2</td>\n",
       "      <td>desktop</td>\n",
       "      <td>2014-01-01</td>\n",
       "      <td>13244</td>\n",
       "      <td>2012-04-15 23:31:04</td>\n",
       "      <td>1986-08-18</td>\n",
       "    </tr>\n",
       "    <tr>\n",
       "      <th>4</th>\n",
       "      <td>371</td>\n",
       "      <td>1</td>\n",
       "      <td>2014-01-01 00:04:20</td>\n",
       "      <td>3</td>\n",
       "      <td>31.54</td>\n",
       "      <td>2</td>\n",
       "      <td>desktop</td>\n",
       "      <td>2014-01-01</td>\n",
       "      <td>13244</td>\n",
       "      <td>2012-04-15 23:31:04</td>\n",
       "      <td>1986-08-18</td>\n",
       "    </tr>\n",
       "  </tbody>\n",
       "</table>\n",
       "</div>"
      ],
      "text/plain": [
       "   transaction_id  session_id    transaction_time product_id  amount  \\\n",
       "0             298           1 2014-01-01 00:00:00          5  127.64   \n",
       "1               2           1 2014-01-01 00:01:05          2  109.48   \n",
       "2             308           1 2014-01-01 00:02:10          3   95.06   \n",
       "3             116           1 2014-01-01 00:03:15          4   78.92   \n",
       "4             371           1 2014-01-01 00:04:20          3   31.54   \n",
       "\n",
       "   customer_id   device session_start zip_code           join_date  \\\n",
       "0            2  desktop    2014-01-01    13244 2012-04-15 23:31:04   \n",
       "1            2  desktop    2014-01-01    13244 2012-04-15 23:31:04   \n",
       "2            2  desktop    2014-01-01    13244 2012-04-15 23:31:04   \n",
       "3            2  desktop    2014-01-01    13244 2012-04-15 23:31:04   \n",
       "4            2  desktop    2014-01-01    13244 2012-04-15 23:31:04   \n",
       "\n",
       "  date_of_birth  \n",
       "0    1986-08-18  \n",
       "1    1986-08-18  \n",
       "2    1986-08-18  \n",
       "3    1986-08-18  \n",
       "4    1986-08-18  "
      ]
     },
     "execution_count": 12,
     "metadata": {},
     "output_type": "execute_result"
    }
   ],
   "source": [
    "data.head()"
   ]
  },
  {
   "cell_type": "code",
   "execution_count": 17,
   "metadata": {},
   "outputs": [],
   "source": [
    "# nw we identify the column that identify each unique customer \n",
    "# each unique transaction , the time of the transaction and \n",
    "# the amount spent per transaction\n",
    "data = data[['customer_id', 'transaction_id', 'transaction_time', 'amount']]\n",
    " "
   ]
  },
  {
   "cell_type": "code",
   "execution_count": 18,
   "metadata": {},
   "outputs": [
    {
     "data": {
      "text/html": [
       "<div>\n",
       "<style scoped>\n",
       "    .dataframe tbody tr th:only-of-type {\n",
       "        vertical-align: middle;\n",
       "    }\n",
       "\n",
       "    .dataframe tbody tr th {\n",
       "        vertical-align: top;\n",
       "    }\n",
       "\n",
       "    .dataframe thead th {\n",
       "        text-align: right;\n",
       "    }\n",
       "</style>\n",
       "<table border=\"1\" class=\"dataframe\">\n",
       "  <thead>\n",
       "    <tr style=\"text-align: right;\">\n",
       "      <th></th>\n",
       "      <th>customer_id</th>\n",
       "      <th>transaction_id</th>\n",
       "      <th>transaction_time</th>\n",
       "      <th>amount</th>\n",
       "    </tr>\n",
       "  </thead>\n",
       "  <tbody>\n",
       "    <tr>\n",
       "      <th>0</th>\n",
       "      <td>2</td>\n",
       "      <td>298</td>\n",
       "      <td>2014-01-01 00:00:00</td>\n",
       "      <td>127.64</td>\n",
       "    </tr>\n",
       "    <tr>\n",
       "      <th>1</th>\n",
       "      <td>2</td>\n",
       "      <td>2</td>\n",
       "      <td>2014-01-01 00:01:05</td>\n",
       "      <td>109.48</td>\n",
       "    </tr>\n",
       "    <tr>\n",
       "      <th>2</th>\n",
       "      <td>2</td>\n",
       "      <td>308</td>\n",
       "      <td>2014-01-01 00:02:10</td>\n",
       "      <td>95.06</td>\n",
       "    </tr>\n",
       "    <tr>\n",
       "      <th>3</th>\n",
       "      <td>2</td>\n",
       "      <td>116</td>\n",
       "      <td>2014-01-01 00:03:15</td>\n",
       "      <td>78.92</td>\n",
       "    </tr>\n",
       "    <tr>\n",
       "      <th>4</th>\n",
       "      <td>2</td>\n",
       "      <td>371</td>\n",
       "      <td>2014-01-01 00:04:20</td>\n",
       "      <td>31.54</td>\n",
       "    </tr>\n",
       "  </tbody>\n",
       "</table>\n",
       "</div>"
      ],
      "text/plain": [
       "   customer_id  transaction_id    transaction_time  amount\n",
       "0            2             298 2014-01-01 00:00:00  127.64\n",
       "1            2               2 2014-01-01 00:01:05  109.48\n",
       "2            2             308 2014-01-01 00:02:10   95.06\n",
       "3            2             116 2014-01-01 00:03:15   78.92\n",
       "4            2             371 2014-01-01 00:04:20   31.54"
      ]
     },
     "execution_count": 18,
     "metadata": {},
     "output_type": "execute_result"
    }
   ],
   "source": [
    "data.head()"
   ]
  },
  {
   "cell_type": "markdown",
   "metadata": {},
   "source": [
    "Now, we need to create a single view per customer that summarizes their purchase activity. To do this, we will remove the time dimension of the transactions to capture the historical behavior in different variables, thus obtaining one feature vector per customer."
   ]
  },
  {
   "cell_type": "code",
   "execution_count": 19,
   "metadata": {},
   "outputs": [],
   "source": [
    "# list of functuion we will use to summarize the data\n",
    "operations = ['sum', 'max', 'min', 'mean', 'median', 'std', 'count']"
   ]
  },
  {
   "cell_type": "code",
   "execution_count": 25,
   "metadata": {},
   "outputs": [],
   "source": [
    "# lets create minining full name for the feautures\n",
    "feature_names = ['total_amount','max_amount','min_amount','mean_amount','median_amount','std_amount','number of transaction)']"
   ]
  },
  {
   "cell_type": "code",
   "execution_count": 26,
   "metadata": {},
   "outputs": [
    {
     "data": {
      "text/html": [
       "<div>\n",
       "<style scoped>\n",
       "    .dataframe tbody tr th:only-of-type {\n",
       "        vertical-align: middle;\n",
       "    }\n",
       "\n",
       "    .dataframe tbody tr th {\n",
       "        vertical-align: top;\n",
       "    }\n",
       "\n",
       "    .dataframe thead th {\n",
       "        text-align: right;\n",
       "    }\n",
       "</style>\n",
       "<table border=\"1\" class=\"dataframe\">\n",
       "  <thead>\n",
       "    <tr style=\"text-align: right;\">\n",
       "      <th></th>\n",
       "      <th>total_amount</th>\n",
       "      <th>max_amount</th>\n",
       "      <th>min_amount</th>\n",
       "      <th>mean_amount</th>\n",
       "      <th>median_amount</th>\n",
       "      <th>std_amount</th>\n",
       "      <th>number of transaction)</th>\n",
       "    </tr>\n",
       "    <tr>\n",
       "      <th>customer_id</th>\n",
       "      <th></th>\n",
       "      <th></th>\n",
       "      <th></th>\n",
       "      <th></th>\n",
       "      <th></th>\n",
       "      <th></th>\n",
       "      <th></th>\n",
       "    </tr>\n",
       "  </thead>\n",
       "  <tbody>\n",
       "    <tr>\n",
       "      <th>1</th>\n",
       "      <td>9025.62</td>\n",
       "      <td>139.43</td>\n",
       "      <td>5.81</td>\n",
       "      <td>71.631905</td>\n",
       "      <td>69.715</td>\n",
       "      <td>40.442059</td>\n",
       "      <td>126</td>\n",
       "    </tr>\n",
       "    <tr>\n",
       "      <th>2</th>\n",
       "      <td>7200.28</td>\n",
       "      <td>146.81</td>\n",
       "      <td>8.73</td>\n",
       "      <td>77.422366</td>\n",
       "      <td>75.960</td>\n",
       "      <td>37.705178</td>\n",
       "      <td>93</td>\n",
       "    </tr>\n",
       "    <tr>\n",
       "      <th>3</th>\n",
       "      <td>6236.62</td>\n",
       "      <td>149.15</td>\n",
       "      <td>5.89</td>\n",
       "      <td>67.060430</td>\n",
       "      <td>58.930</td>\n",
       "      <td>43.683296</td>\n",
       "      <td>93</td>\n",
       "    </tr>\n",
       "    <tr>\n",
       "      <th>4</th>\n",
       "      <td>8727.68</td>\n",
       "      <td>149.95</td>\n",
       "      <td>5.73</td>\n",
       "      <td>80.070459</td>\n",
       "      <td>81.410</td>\n",
       "      <td>45.068765</td>\n",
       "      <td>109</td>\n",
       "    </tr>\n",
       "    <tr>\n",
       "      <th>5</th>\n",
       "      <td>6349.66</td>\n",
       "      <td>149.02</td>\n",
       "      <td>7.55</td>\n",
       "      <td>80.375443</td>\n",
       "      <td>78.870</td>\n",
       "      <td>44.095630</td>\n",
       "      <td>79</td>\n",
       "    </tr>\n",
       "  </tbody>\n",
       "</table>\n",
       "</div>"
      ],
      "text/plain": [
       "             total_amount  max_amount  min_amount  mean_amount  median_amount  \\\n",
       "customer_id                                                                     \n",
       "1                 9025.62      139.43        5.81    71.631905         69.715   \n",
       "2                 7200.28      146.81        8.73    77.422366         75.960   \n",
       "3                 6236.62      149.15        5.89    67.060430         58.930   \n",
       "4                 8727.68      149.95        5.73    80.070459         81.410   \n",
       "5                 6349.66      149.02        7.55    80.375443         78.870   \n",
       "\n",
       "             std_amount  number of transaction)  \n",
       "customer_id                                      \n",
       "1             40.442059                     126  \n",
       "2             37.705178                      93  \n",
       "3             43.683296                      93  \n",
       "4             45.068765                     109  \n",
       "5             44.095630                      79  "
      ]
     },
     "execution_count": 26,
     "metadata": {},
     "output_type": "execute_result"
    }
   ],
   "source": [
    "df = pd.DataFrame()\n",
    "df[feature_names] = data.groupby('customer_id')['amount'].agg(operations)\n",
    "df"
   ]
  },
  {
   "cell_type": "code",
   "execution_count": 29,
   "metadata": {},
   "outputs": [
    {
     "data": {
      "text/plain": [
       "Entityset: custmer_data\n",
       "  Entities:\n",
       "    transactions [Rows: 500, Columns: 4]\n",
       "    customers [Rows: 5, Columns: 2]\n",
       "  Relationships:\n",
       "    transactions.customer_id -> customers.customer_id"
      ]
     },
     "execution_count": 29,
     "metadata": {},
     "output_type": "execute_result"
    }
   ],
   "source": [
    "# lets do with featuretools\n",
    "# create entity set\n",
    "es = ft.EntitySet(id='custmer_data')\n",
    "es.entity_from_dataframe(entity_id='transactions',dataframe=data,index='transaction_id',time_index='transaction_time')\n",
    "es.normalize_entity(base_entity_id=\"transactions\",new_entity_id=\"customers\",index=\"customer_id\")"
   ]
  },
  {
   "cell_type": "code",
   "execution_count": 30,
   "metadata": {},
   "outputs": [
    {
     "name": "stdout",
     "output_type": "stream",
     "text": [
      "Built 7 features\n",
      "Elapsed: 00:00 | Progress: 100%|███████████████████████████████████████████████\n"
     ]
    }
   ],
   "source": [
    "feature_matrix, features = ft.dfs(entityset=es,target_entity=\"customers\",agg_primitives=operations,trans_primitives=[],verbose=True,)"
   ]
  },
  {
   "cell_type": "code",
   "execution_count": 31,
   "metadata": {},
   "outputs": [
    {
     "data": {
      "text/html": [
       "<div>\n",
       "<style scoped>\n",
       "    .dataframe tbody tr th:only-of-type {\n",
       "        vertical-align: middle;\n",
       "    }\n",
       "\n",
       "    .dataframe tbody tr th {\n",
       "        vertical-align: top;\n",
       "    }\n",
       "\n",
       "    .dataframe thead th {\n",
       "        text-align: right;\n",
       "    }\n",
       "</style>\n",
       "<table border=\"1\" class=\"dataframe\">\n",
       "  <thead>\n",
       "    <tr style=\"text-align: right;\">\n",
       "      <th></th>\n",
       "      <th>COUNT(transactions)</th>\n",
       "      <th>MAX(transactions.amount)</th>\n",
       "      <th>MEAN(transactions.amount)</th>\n",
       "      <th>MEDIAN(transactions.amount)</th>\n",
       "      <th>MIN(transactions.amount)</th>\n",
       "      <th>STD(transactions.amount)</th>\n",
       "      <th>SUM(transactions.amount)</th>\n",
       "    </tr>\n",
       "    <tr>\n",
       "      <th>customer_id</th>\n",
       "      <th></th>\n",
       "      <th></th>\n",
       "      <th></th>\n",
       "      <th></th>\n",
       "      <th></th>\n",
       "      <th></th>\n",
       "      <th></th>\n",
       "    </tr>\n",
       "  </thead>\n",
       "  <tbody>\n",
       "    <tr>\n",
       "      <th>2</th>\n",
       "      <td>93</td>\n",
       "      <td>146.81</td>\n",
       "      <td>77.422366</td>\n",
       "      <td>75.960</td>\n",
       "      <td>8.73</td>\n",
       "      <td>37.705178</td>\n",
       "      <td>7200.28</td>\n",
       "    </tr>\n",
       "    <tr>\n",
       "      <th>5</th>\n",
       "      <td>79</td>\n",
       "      <td>149.02</td>\n",
       "      <td>80.375443</td>\n",
       "      <td>78.870</td>\n",
       "      <td>7.55</td>\n",
       "      <td>44.095630</td>\n",
       "      <td>6349.66</td>\n",
       "    </tr>\n",
       "    <tr>\n",
       "      <th>4</th>\n",
       "      <td>109</td>\n",
       "      <td>149.95</td>\n",
       "      <td>80.070459</td>\n",
       "      <td>81.410</td>\n",
       "      <td>5.73</td>\n",
       "      <td>45.068765</td>\n",
       "      <td>8727.68</td>\n",
       "    </tr>\n",
       "    <tr>\n",
       "      <th>1</th>\n",
       "      <td>126</td>\n",
       "      <td>139.43</td>\n",
       "      <td>71.631905</td>\n",
       "      <td>69.715</td>\n",
       "      <td>5.81</td>\n",
       "      <td>40.442059</td>\n",
       "      <td>9025.62</td>\n",
       "    </tr>\n",
       "    <tr>\n",
       "      <th>3</th>\n",
       "      <td>93</td>\n",
       "      <td>149.15</td>\n",
       "      <td>67.060430</td>\n",
       "      <td>58.930</td>\n",
       "      <td>5.89</td>\n",
       "      <td>43.683296</td>\n",
       "      <td>6236.62</td>\n",
       "    </tr>\n",
       "  </tbody>\n",
       "</table>\n",
       "</div>"
      ],
      "text/plain": [
       "             COUNT(transactions)  MAX(transactions.amount)  \\\n",
       "customer_id                                                  \n",
       "2                             93                    146.81   \n",
       "5                             79                    149.02   \n",
       "4                            109                    149.95   \n",
       "1                            126                    139.43   \n",
       "3                             93                    149.15   \n",
       "\n",
       "             MEAN(transactions.amount)  MEDIAN(transactions.amount)  \\\n",
       "customer_id                                                           \n",
       "2                            77.422366                       75.960   \n",
       "5                            80.375443                       78.870   \n",
       "4                            80.070459                       81.410   \n",
       "1                            71.631905                       69.715   \n",
       "3                            67.060430                       58.930   \n",
       "\n",
       "             MIN(transactions.amount)  STD(transactions.amount)  \\\n",
       "customer_id                                                       \n",
       "2                                8.73                 37.705178   \n",
       "5                                7.55                 44.095630   \n",
       "4                                5.73                 45.068765   \n",
       "1                                5.81                 40.442059   \n",
       "3                                5.89                 43.683296   \n",
       "\n",
       "             SUM(transactions.amount)  \n",
       "customer_id                            \n",
       "2                             7200.28  \n",
       "5                             6349.66  \n",
       "4                             8727.68  \n",
       "1                             9025.62  \n",
       "3                             6236.62  "
      ]
     },
     "execution_count": 31,
     "metadata": {},
     "output_type": "execute_result"
    }
   ],
   "source": [
    "feature_matrix"
   ]
  },
  {
   "cell_type": "markdown",
   "metadata": {},
   "source": [
    "## Aggregrating transaction in a time window"
   ]
  },
  {
   "cell_type": "markdown",
   "metadata": {},
   "source": [
    "When we want to predict an event at a certain point in time, often, transactions or values closer to the event tend to be more relevant. Then, if we want to predict whether a customer will churn next week, the information in the last weeks or months tends to be more informative than the transactions of the customer in the past 5 years.\n",
    "\n",
    "We can use mathematical operations to summarize historical data, just like we did in the previous recipe, but only for a certain temporal window. This way, we can create features such as the maximum amount spent in the last week or the number of transactions in the last month, to name a few examples. In this recipe, we will summarize time series data over discrete time windows using pandas."
   ]
  },
  {
   "cell_type": "code",
   "execution_count": 34,
   "metadata": {},
   "outputs": [
    {
     "data": {
      "text/html": [
       "<div>\n",
       "<style scoped>\n",
       "    .dataframe tbody tr th:only-of-type {\n",
       "        vertical-align: middle;\n",
       "    }\n",
       "\n",
       "    .dataframe tbody tr th {\n",
       "        vertical-align: top;\n",
       "    }\n",
       "\n",
       "    .dataframe thead th {\n",
       "        text-align: right;\n",
       "    }\n",
       "</style>\n",
       "<table border=\"1\" class=\"dataframe\">\n",
       "  <thead>\n",
       "    <tr style=\"text-align: right;\">\n",
       "      <th></th>\n",
       "      <th>date</th>\n",
       "      <th>Appliances</th>\n",
       "      <th>lights</th>\n",
       "    </tr>\n",
       "  </thead>\n",
       "  <tbody>\n",
       "    <tr>\n",
       "      <th>0</th>\n",
       "      <td>2016-01-11 17:00:00</td>\n",
       "      <td>60</td>\n",
       "      <td>30</td>\n",
       "    </tr>\n",
       "    <tr>\n",
       "      <th>1</th>\n",
       "      <td>2016-01-11 17:10:00</td>\n",
       "      <td>60</td>\n",
       "      <td>30</td>\n",
       "    </tr>\n",
       "    <tr>\n",
       "      <th>2</th>\n",
       "      <td>2016-01-11 17:20:00</td>\n",
       "      <td>50</td>\n",
       "      <td>30</td>\n",
       "    </tr>\n",
       "    <tr>\n",
       "      <th>3</th>\n",
       "      <td>2016-01-11 17:30:00</td>\n",
       "      <td>50</td>\n",
       "      <td>40</td>\n",
       "    </tr>\n",
       "    <tr>\n",
       "      <th>4</th>\n",
       "      <td>2016-01-11 17:40:00</td>\n",
       "      <td>60</td>\n",
       "      <td>40</td>\n",
       "    </tr>\n",
       "  </tbody>\n",
       "</table>\n",
       "</div>"
      ],
      "text/plain": [
       "                  date  Appliances  lights\n",
       "0  2016-01-11 17:00:00          60      30\n",
       "1  2016-01-11 17:10:00          60      30\n",
       "2  2016-01-11 17:20:00          50      30\n",
       "3  2016-01-11 17:30:00          50      40\n",
       "4  2016-01-11 17:40:00          60      40"
      ]
     },
     "execution_count": 34,
     "metadata": {},
     "output_type": "execute_result"
    }
   ],
   "source": [
    "cols = ['date','Appliances','lights']\n",
    "data = pd.read_csv('energydata_complete.csv',usecols=cols)\n",
    "data.head()"
   ]
  },
  {
   "cell_type": "code",
   "execution_count": 36,
   "metadata": {},
   "outputs": [
    {
     "data": {
      "text/plain": [
       "date          object\n",
       "Appliances     int64\n",
       "lights         int64\n",
       "dtype: object"
      ]
     },
     "execution_count": 36,
     "metadata": {},
     "output_type": "execute_result"
    }
   ],
   "source": [
    "data.dtypes"
   ]
  },
  {
   "cell_type": "code",
   "execution_count": 37,
   "metadata": {},
   "outputs": [],
   "source": [
    "# we have to change the object to dataetime\n",
    "data['date']= pd.to_datetime(data['date'])"
   ]
  },
  {
   "cell_type": "markdown",
   "metadata": {},
   "source": [
    "Let's create some new features that capture the average energy consumption by appliances and lights in the last 60 minutes, where six observations cover the 60 minutes and the aggregation is done over the date variable. Next, let's display the top 10 rows of the result:"
   ]
  },
  {
   "cell_type": "code",
   "execution_count": 38,
   "metadata": {},
   "outputs": [
    {
     "data": {
      "text/html": [
       "<div>\n",
       "<style scoped>\n",
       "    .dataframe tbody tr th:only-of-type {\n",
       "        vertical-align: middle;\n",
       "    }\n",
       "\n",
       "    .dataframe tbody tr th {\n",
       "        vertical-align: top;\n",
       "    }\n",
       "\n",
       "    .dataframe thead th {\n",
       "        text-align: right;\n",
       "    }\n",
       "</style>\n",
       "<table border=\"1\" class=\"dataframe\">\n",
       "  <thead>\n",
       "    <tr style=\"text-align: right;\">\n",
       "      <th></th>\n",
       "      <th>date</th>\n",
       "      <th>Appliances</th>\n",
       "      <th>lights</th>\n",
       "    </tr>\n",
       "  </thead>\n",
       "  <tbody>\n",
       "    <tr>\n",
       "      <th>0</th>\n",
       "      <td>2016-01-11 17:00:00</td>\n",
       "      <td>NaN</td>\n",
       "      <td>NaN</td>\n",
       "    </tr>\n",
       "    <tr>\n",
       "      <th>1</th>\n",
       "      <td>2016-01-11 17:10:00</td>\n",
       "      <td>NaN</td>\n",
       "      <td>NaN</td>\n",
       "    </tr>\n",
       "    <tr>\n",
       "      <th>2</th>\n",
       "      <td>2016-01-11 17:20:00</td>\n",
       "      <td>NaN</td>\n",
       "      <td>NaN</td>\n",
       "    </tr>\n",
       "    <tr>\n",
       "      <th>3</th>\n",
       "      <td>2016-01-11 17:30:00</td>\n",
       "      <td>NaN</td>\n",
       "      <td>NaN</td>\n",
       "    </tr>\n",
       "    <tr>\n",
       "      <th>4</th>\n",
       "      <td>2016-01-11 17:40:00</td>\n",
       "      <td>NaN</td>\n",
       "      <td>NaN</td>\n",
       "    </tr>\n",
       "    <tr>\n",
       "      <th>5</th>\n",
       "      <td>2016-01-11 17:50:00</td>\n",
       "      <td>55.000000</td>\n",
       "      <td>35.000000</td>\n",
       "    </tr>\n",
       "    <tr>\n",
       "      <th>6</th>\n",
       "      <td>2016-01-11 18:00:00</td>\n",
       "      <td>55.000000</td>\n",
       "      <td>38.333333</td>\n",
       "    </tr>\n",
       "    <tr>\n",
       "      <th>7</th>\n",
       "      <td>2016-01-11 18:10:00</td>\n",
       "      <td>55.000000</td>\n",
       "      <td>41.666667</td>\n",
       "    </tr>\n",
       "    <tr>\n",
       "      <th>8</th>\n",
       "      <td>2016-01-11 18:20:00</td>\n",
       "      <td>56.666667</td>\n",
       "      <td>43.333333</td>\n",
       "    </tr>\n",
       "    <tr>\n",
       "      <th>9</th>\n",
       "      <td>2016-01-11 18:30:00</td>\n",
       "      <td>60.000000</td>\n",
       "      <td>43.333333</td>\n",
       "    </tr>\n",
       "  </tbody>\n",
       "</table>\n",
       "</div>"
      ],
      "text/plain": [
       "                 date  Appliances     lights\n",
       "0 2016-01-11 17:00:00         NaN        NaN\n",
       "1 2016-01-11 17:10:00         NaN        NaN\n",
       "2 2016-01-11 17:20:00         NaN        NaN\n",
       "3 2016-01-11 17:30:00         NaN        NaN\n",
       "4 2016-01-11 17:40:00         NaN        NaN\n",
       "5 2016-01-11 17:50:00   55.000000  35.000000\n",
       "6 2016-01-11 18:00:00   55.000000  38.333333\n",
       "7 2016-01-11 18:10:00   55.000000  41.666667\n",
       "8 2016-01-11 18:20:00   56.666667  43.333333\n",
       "9 2016-01-11 18:30:00   60.000000  43.333333"
      ]
     },
     "execution_count": 38,
     "metadata": {},
     "output_type": "execute_result"
    }
   ],
   "source": [
    "data_rolled = data.rolling(window=6,on='date').mean()\n",
    "data_rolled.head(10)"
   ]
  },
  {
   "cell_type": "code",
   "execution_count": 42,
   "metadata": {},
   "outputs": [
    {
     "data": {
      "text/html": [
       "<div>\n",
       "<style scoped>\n",
       "    .dataframe tbody tr th:only-of-type {\n",
       "        vertical-align: middle;\n",
       "    }\n",
       "\n",
       "    .dataframe tbody tr th {\n",
       "        vertical-align: top;\n",
       "    }\n",
       "\n",
       "    .dataframe thead th {\n",
       "        text-align: right;\n",
       "    }\n",
       "</style>\n",
       "<table border=\"1\" class=\"dataframe\">\n",
       "  <thead>\n",
       "    <tr style=\"text-align: right;\">\n",
       "      <th></th>\n",
       "      <th>date</th>\n",
       "      <th>Appliances</th>\n",
       "      <th>lights</th>\n",
       "    </tr>\n",
       "  </thead>\n",
       "  <tbody>\n",
       "    <tr>\n",
       "      <th>0</th>\n",
       "      <td>2016-01-11 17:00:00</td>\n",
       "      <td>NaN</td>\n",
       "      <td>NaN</td>\n",
       "    </tr>\n",
       "    <tr>\n",
       "      <th>1</th>\n",
       "      <td>2016-01-11 17:10:00</td>\n",
       "      <td>NaN</td>\n",
       "      <td>NaN</td>\n",
       "    </tr>\n",
       "    <tr>\n",
       "      <th>2</th>\n",
       "      <td>2016-01-11 17:20:00</td>\n",
       "      <td>NaN</td>\n",
       "      <td>NaN</td>\n",
       "    </tr>\n",
       "    <tr>\n",
       "      <th>3</th>\n",
       "      <td>2016-01-11 17:30:00</td>\n",
       "      <td>NaN</td>\n",
       "      <td>NaN</td>\n",
       "    </tr>\n",
       "    <tr>\n",
       "      <th>4</th>\n",
       "      <td>2016-01-11 17:40:00</td>\n",
       "      <td>NaN</td>\n",
       "      <td>NaN</td>\n",
       "    </tr>\n",
       "    <tr>\n",
       "      <th>5</th>\n",
       "      <td>2016-01-11 17:50:00</td>\n",
       "      <td>55.000000</td>\n",
       "      <td>35.000000</td>\n",
       "    </tr>\n",
       "    <tr>\n",
       "      <th>6</th>\n",
       "      <td>2016-01-11 18:00:00</td>\n",
       "      <td>55.000000</td>\n",
       "      <td>38.333333</td>\n",
       "    </tr>\n",
       "    <tr>\n",
       "      <th>7</th>\n",
       "      <td>2016-01-11 18:10:00</td>\n",
       "      <td>55.000000</td>\n",
       "      <td>41.666667</td>\n",
       "    </tr>\n",
       "    <tr>\n",
       "      <th>8</th>\n",
       "      <td>2016-01-11 18:20:00</td>\n",
       "      <td>56.666667</td>\n",
       "      <td>43.333333</td>\n",
       "    </tr>\n",
       "    <tr>\n",
       "      <th>9</th>\n",
       "      <td>2016-01-11 18:30:00</td>\n",
       "      <td>60.000000</td>\n",
       "      <td>43.333333</td>\n",
       "    </tr>\n",
       "  </tbody>\n",
       "</table>\n",
       "</div>"
      ],
      "text/plain": [
       "                 date  Appliances     lights\n",
       "0 2016-01-11 17:00:00         NaN        NaN\n",
       "1 2016-01-11 17:10:00         NaN        NaN\n",
       "2 2016-01-11 17:20:00         NaN        NaN\n",
       "3 2016-01-11 17:30:00         NaN        NaN\n",
       "4 2016-01-11 17:40:00         NaN        NaN\n",
       "5 2016-01-11 17:50:00   55.000000  35.000000\n",
       "6 2016-01-11 18:00:00   55.000000  38.333333\n",
       "7 2016-01-11 18:10:00   55.000000  41.666667\n",
       "8 2016-01-11 18:20:00   56.666667  43.333333\n",
       "9 2016-01-11 18:30:00   60.000000  43.333333"
      ]
     },
     "execution_count": 42,
     "metadata": {},
     "output_type": "execute_result"
    }
   ],
   "source": [
    "# we can do above things like this also \n",
    "data_rolleds = data.rolling(window='60min',on='date',min_periods=6).mean()\n",
    "data_rolleds.head(10)"
   ]
  },
  {
   "cell_type": "code",
   "execution_count": 43,
   "metadata": {},
   "outputs": [
    {
     "data": {
      "text/plain": [
       "['sum', 'max', 'min', 'mean', 'median', 'std', 'count']"
      ]
     },
     "execution_count": 43,
     "metadata": {},
     "output_type": "execute_result"
    }
   ],
   "source": [
    "operations"
   ]
  },
  {
   "cell_type": "code",
   "execution_count": 46,
   "metadata": {},
   "outputs": [
    {
     "data": {
      "text/plain": [
       "{'Appliances': ['sum', 'max', 'min', 'mean', 'median', 'std', 'count'],\n",
       " 'lights': ['sum', 'max', 'min', 'mean', 'median', 'std', 'count']}"
      ]
     },
     "execution_count": 46,
     "metadata": {},
     "output_type": "execute_result"
    }
   ],
   "source": [
    "op_dict = {key: operations for key in ['Appliances','lights']}\n",
    "op_dict"
   ]
  },
  {
   "cell_type": "markdown",
   "metadata": {},
   "source": [
    "Finally, we'll create a new dataframe with the new features that capture the aggregated view of the energy consumption in the last hour"
   ]
  },
  {
   "cell_type": "code",
   "execution_count": 47,
   "metadata": {},
   "outputs": [
    {
     "data": {
      "text/html": [
       "<div>\n",
       "<style scoped>\n",
       "    .dataframe tbody tr th:only-of-type {\n",
       "        vertical-align: middle;\n",
       "    }\n",
       "\n",
       "    .dataframe tbody tr th {\n",
       "        vertical-align: top;\n",
       "    }\n",
       "\n",
       "    .dataframe thead tr th {\n",
       "        text-align: left;\n",
       "    }\n",
       "\n",
       "    .dataframe thead tr:last-of-type th {\n",
       "        text-align: right;\n",
       "    }\n",
       "</style>\n",
       "<table border=\"1\" class=\"dataframe\">\n",
       "  <thead>\n",
       "    <tr>\n",
       "      <th></th>\n",
       "      <th colspan=\"7\" halign=\"left\">Appliances</th>\n",
       "      <th colspan=\"7\" halign=\"left\">lights</th>\n",
       "    </tr>\n",
       "    <tr>\n",
       "      <th></th>\n",
       "      <th>sum</th>\n",
       "      <th>max</th>\n",
       "      <th>min</th>\n",
       "      <th>mean</th>\n",
       "      <th>median</th>\n",
       "      <th>std</th>\n",
       "      <th>count</th>\n",
       "      <th>sum</th>\n",
       "      <th>max</th>\n",
       "      <th>min</th>\n",
       "      <th>mean</th>\n",
       "      <th>median</th>\n",
       "      <th>std</th>\n",
       "      <th>count</th>\n",
       "    </tr>\n",
       "    <tr>\n",
       "      <th>date</th>\n",
       "      <th></th>\n",
       "      <th></th>\n",
       "      <th></th>\n",
       "      <th></th>\n",
       "      <th></th>\n",
       "      <th></th>\n",
       "      <th></th>\n",
       "      <th></th>\n",
       "      <th></th>\n",
       "      <th></th>\n",
       "      <th></th>\n",
       "      <th></th>\n",
       "      <th></th>\n",
       "      <th></th>\n",
       "    </tr>\n",
       "  </thead>\n",
       "  <tbody>\n",
       "    <tr>\n",
       "      <th>2016-01-11 17:00:00</th>\n",
       "      <td>60.0</td>\n",
       "      <td>60.0</td>\n",
       "      <td>60.0</td>\n",
       "      <td>60.000000</td>\n",
       "      <td>60.0</td>\n",
       "      <td>NaN</td>\n",
       "      <td>1.0</td>\n",
       "      <td>30.0</td>\n",
       "      <td>30.0</td>\n",
       "      <td>30.0</td>\n",
       "      <td>30.000000</td>\n",
       "      <td>30.0</td>\n",
       "      <td>NaN</td>\n",
       "      <td>1.0</td>\n",
       "    </tr>\n",
       "    <tr>\n",
       "      <th>2016-01-11 17:10:00</th>\n",
       "      <td>120.0</td>\n",
       "      <td>60.0</td>\n",
       "      <td>60.0</td>\n",
       "      <td>60.000000</td>\n",
       "      <td>60.0</td>\n",
       "      <td>0.000000</td>\n",
       "      <td>2.0</td>\n",
       "      <td>60.0</td>\n",
       "      <td>30.0</td>\n",
       "      <td>30.0</td>\n",
       "      <td>30.000000</td>\n",
       "      <td>30.0</td>\n",
       "      <td>0.000000</td>\n",
       "      <td>2.0</td>\n",
       "    </tr>\n",
       "    <tr>\n",
       "      <th>2016-01-11 17:20:00</th>\n",
       "      <td>170.0</td>\n",
       "      <td>60.0</td>\n",
       "      <td>50.0</td>\n",
       "      <td>56.666667</td>\n",
       "      <td>60.0</td>\n",
       "      <td>5.773503</td>\n",
       "      <td>3.0</td>\n",
       "      <td>90.0</td>\n",
       "      <td>30.0</td>\n",
       "      <td>30.0</td>\n",
       "      <td>30.000000</td>\n",
       "      <td>30.0</td>\n",
       "      <td>0.000000</td>\n",
       "      <td>3.0</td>\n",
       "    </tr>\n",
       "    <tr>\n",
       "      <th>2016-01-11 17:30:00</th>\n",
       "      <td>220.0</td>\n",
       "      <td>60.0</td>\n",
       "      <td>50.0</td>\n",
       "      <td>55.000000</td>\n",
       "      <td>55.0</td>\n",
       "      <td>5.773503</td>\n",
       "      <td>4.0</td>\n",
       "      <td>130.0</td>\n",
       "      <td>40.0</td>\n",
       "      <td>30.0</td>\n",
       "      <td>32.500000</td>\n",
       "      <td>30.0</td>\n",
       "      <td>5.000000</td>\n",
       "      <td>4.0</td>\n",
       "    </tr>\n",
       "    <tr>\n",
       "      <th>2016-01-11 17:40:00</th>\n",
       "      <td>280.0</td>\n",
       "      <td>60.0</td>\n",
       "      <td>50.0</td>\n",
       "      <td>56.000000</td>\n",
       "      <td>60.0</td>\n",
       "      <td>5.477226</td>\n",
       "      <td>5.0</td>\n",
       "      <td>170.0</td>\n",
       "      <td>40.0</td>\n",
       "      <td>30.0</td>\n",
       "      <td>34.000000</td>\n",
       "      <td>30.0</td>\n",
       "      <td>5.477226</td>\n",
       "      <td>5.0</td>\n",
       "    </tr>\n",
       "    <tr>\n",
       "      <th>2016-01-11 17:50:00</th>\n",
       "      <td>330.0</td>\n",
       "      <td>60.0</td>\n",
       "      <td>50.0</td>\n",
       "      <td>55.000000</td>\n",
       "      <td>55.0</td>\n",
       "      <td>5.477226</td>\n",
       "      <td>6.0</td>\n",
       "      <td>210.0</td>\n",
       "      <td>40.0</td>\n",
       "      <td>30.0</td>\n",
       "      <td>35.000000</td>\n",
       "      <td>35.0</td>\n",
       "      <td>5.477226</td>\n",
       "      <td>6.0</td>\n",
       "    </tr>\n",
       "    <tr>\n",
       "      <th>2016-01-11 18:00:00</th>\n",
       "      <td>330.0</td>\n",
       "      <td>60.0</td>\n",
       "      <td>50.0</td>\n",
       "      <td>55.000000</td>\n",
       "      <td>55.0</td>\n",
       "      <td>5.477226</td>\n",
       "      <td>6.0</td>\n",
       "      <td>230.0</td>\n",
       "      <td>50.0</td>\n",
       "      <td>30.0</td>\n",
       "      <td>38.333333</td>\n",
       "      <td>40.0</td>\n",
       "      <td>7.527727</td>\n",
       "      <td>6.0</td>\n",
       "    </tr>\n",
       "    <tr>\n",
       "      <th>2016-01-11 18:10:00</th>\n",
       "      <td>330.0</td>\n",
       "      <td>60.0</td>\n",
       "      <td>50.0</td>\n",
       "      <td>55.000000</td>\n",
       "      <td>55.0</td>\n",
       "      <td>5.477226</td>\n",
       "      <td>6.0</td>\n",
       "      <td>250.0</td>\n",
       "      <td>50.0</td>\n",
       "      <td>30.0</td>\n",
       "      <td>41.666667</td>\n",
       "      <td>40.0</td>\n",
       "      <td>7.527727</td>\n",
       "      <td>6.0</td>\n",
       "    </tr>\n",
       "    <tr>\n",
       "      <th>2016-01-11 18:20:00</th>\n",
       "      <td>340.0</td>\n",
       "      <td>60.0</td>\n",
       "      <td>50.0</td>\n",
       "      <td>56.666667</td>\n",
       "      <td>60.0</td>\n",
       "      <td>5.163978</td>\n",
       "      <td>6.0</td>\n",
       "      <td>260.0</td>\n",
       "      <td>50.0</td>\n",
       "      <td>40.0</td>\n",
       "      <td>43.333333</td>\n",
       "      <td>40.0</td>\n",
       "      <td>5.163978</td>\n",
       "      <td>6.0</td>\n",
       "    </tr>\n",
       "    <tr>\n",
       "      <th>2016-01-11 18:30:00</th>\n",
       "      <td>360.0</td>\n",
       "      <td>70.0</td>\n",
       "      <td>50.0</td>\n",
       "      <td>60.000000</td>\n",
       "      <td>60.0</td>\n",
       "      <td>6.324555</td>\n",
       "      <td>6.0</td>\n",
       "      <td>260.0</td>\n",
       "      <td>50.0</td>\n",
       "      <td>40.0</td>\n",
       "      <td>43.333333</td>\n",
       "      <td>40.0</td>\n",
       "      <td>5.163978</td>\n",
       "      <td>6.0</td>\n",
       "    </tr>\n",
       "  </tbody>\n",
       "</table>\n",
       "</div>"
      ],
      "text/plain": [
       "                    Appliances                                                \\\n",
       "                           sum   max   min       mean median       std count   \n",
       "date                                                                           \n",
       "2016-01-11 17:00:00       60.0  60.0  60.0  60.000000   60.0       NaN   1.0   \n",
       "2016-01-11 17:10:00      120.0  60.0  60.0  60.000000   60.0  0.000000   2.0   \n",
       "2016-01-11 17:20:00      170.0  60.0  50.0  56.666667   60.0  5.773503   3.0   \n",
       "2016-01-11 17:30:00      220.0  60.0  50.0  55.000000   55.0  5.773503   4.0   \n",
       "2016-01-11 17:40:00      280.0  60.0  50.0  56.000000   60.0  5.477226   5.0   \n",
       "2016-01-11 17:50:00      330.0  60.0  50.0  55.000000   55.0  5.477226   6.0   \n",
       "2016-01-11 18:00:00      330.0  60.0  50.0  55.000000   55.0  5.477226   6.0   \n",
       "2016-01-11 18:10:00      330.0  60.0  50.0  55.000000   55.0  5.477226   6.0   \n",
       "2016-01-11 18:20:00      340.0  60.0  50.0  56.666667   60.0  5.163978   6.0   \n",
       "2016-01-11 18:30:00      360.0  70.0  50.0  60.000000   60.0  6.324555   6.0   \n",
       "\n",
       "                    lights                                                \n",
       "                       sum   max   min       mean median       std count  \n",
       "date                                                                      \n",
       "2016-01-11 17:00:00   30.0  30.0  30.0  30.000000   30.0       NaN   1.0  \n",
       "2016-01-11 17:10:00   60.0  30.0  30.0  30.000000   30.0  0.000000   2.0  \n",
       "2016-01-11 17:20:00   90.0  30.0  30.0  30.000000   30.0  0.000000   3.0  \n",
       "2016-01-11 17:30:00  130.0  40.0  30.0  32.500000   30.0  5.000000   4.0  \n",
       "2016-01-11 17:40:00  170.0  40.0  30.0  34.000000   30.0  5.477226   5.0  \n",
       "2016-01-11 17:50:00  210.0  40.0  30.0  35.000000   35.0  5.477226   6.0  \n",
       "2016-01-11 18:00:00  230.0  50.0  30.0  38.333333   40.0  7.527727   6.0  \n",
       "2016-01-11 18:10:00  250.0  50.0  30.0  41.666667   40.0  7.527727   6.0  \n",
       "2016-01-11 18:20:00  260.0  50.0  40.0  43.333333   40.0  5.163978   6.0  \n",
       "2016-01-11 18:30:00  260.0  50.0  40.0  43.333333   40.0  5.163978   6.0  "
      ]
     },
     "execution_count": 47,
     "metadata": {},
     "output_type": "execute_result"
    }
   ],
   "source": [
    "data_rolled = data.set_index('date').rolling(window='60min').agg(op_dict)\n",
    "data_rolled.head(10)"
   ]
  },
  {
   "cell_type": "markdown",
   "metadata": {},
   "source": [
    "Note that each observation in the new dataframe is the average of the six previous observations. This means they aren't independent and can be very similar. The larger the temporal windows, the more similar the resulting aggregations tend to be."
   ]
  },
  {
   "cell_type": "markdown",
   "metadata": {},
   "source": [
    "## Determining the number of local maxima and minima"
   ]
  },
  {
   "cell_type": "markdown",
   "metadata": {},
   "source": [
    "Time series can be regarded as a signal, such as sound or electrocardiograms, and thus we can extract features that capture some of the complexity of the signal. Examples of signal complexity include the maximum or mean values, as we discussed in the previous recipes. We can also extract more complex features such as the number of local maxima or minima, or even more complex ones, such as the coefficients of the courier transform.\n",
    "\n",
    "In this recipe, we will determine the number of local maxima and minima manually using the signal module from SciPy in combination with pandas. Then, we will point you to a Python package that extracts these and other complex signal processing parameters automatically that you can explore and use to expand your toolset."
   ]
  },
  {
   "cell_type": "markdown",
   "metadata": {},
   "source": [
    "Local maxima or local minima, also known as extrema, are the largest or smallest values of a function either within a certain range or in the entire domain of the function. They signal a change in the trend of the function. Here, local maxima come after an increase and prior to a decrease in the values of the function, whereas local minima come after a decrease and prior to an increase in the values of the function.\n",
    "\n",
    "To find local extrema, we will use the find_peaks function from the signal module from SciPy, which finds all the local maxima by performing a simple comparison of neighboring values."
   ]
  },
  {
   "cell_type": "code",
   "execution_count": 50,
   "metadata": {},
   "outputs": [],
   "source": [
    "import numpy as np\n",
    "import pandas as pd\n",
    "import matplotlib.pyplot as plt\n",
    "from scipy.signal import find_peaks"
   ]
  },
  {
   "cell_type": "code",
   "execution_count": 51,
   "metadata": {},
   "outputs": [],
   "source": [
    "data = pd.read_csv('energydata_complete.csv')"
   ]
  },
  {
   "cell_type": "code",
   "execution_count": 52,
   "metadata": {},
   "outputs": [],
   "source": [
    "data['date'] = pd.to_datetime(data['date'])"
   ]
  },
  {
   "cell_type": "code",
   "execution_count": 53,
   "metadata": {},
   "outputs": [],
   "source": [
    "data[['day','month','hr']]=pd.DataFrame([(x.day,x.month,x.hour) for x in data['date']])"
   ]
  },
  {
   "cell_type": "code",
   "execution_count": 54,
   "metadata": {},
   "outputs": [
    {
     "data": {
      "text/plain": [
       "Text(0.5, 1.0, 'DAily cycle of energy consumption by appliances')"
      ]
     },
     "execution_count": 54,
     "metadata": {},
     "output_type": "execute_result"
    },
    {
     "data": {
      "image/png": "[encoded data removed]",
      "text/plain": [
       "<Figure size 432x288 with 1 Axes>"
      ]
     },
     "metadata": {
      "needs_background": "light"
     },
     "output_type": "display_data"
    }
   ],
   "source": [
    "# plot enerdy consumed oer hour\n",
    "data.groupby('hr')['Appliances'].mean().plot()\n",
    "plt.ylabel('Energy in Kh')\n",
    "plt.title('DAily cycle of energy consumption by appliances')"
   ]
  },
  {
   "cell_type": "markdown",
   "metadata": {},
   "source": [
    "The following plot shows the average energy that's consumed per hour throughout the day, where the baseline energy consumption throughout the night hours is below 60 Kh:"
   ]
  },
  {
   "cell_type": "markdown",
   "metadata": {},
   "source": [
    "Let's make a plot of the mean energy that's consumed by appliances per day throughout the 5 months of data we have collected:"
   ]
  },
  {
   "cell_type": "code",
   "execution_count": 56,
   "metadata": {},
   "outputs": [
    {
     "data": {
      "text/plain": [
       "Text(0.5, 1.0, 'Mean daily Energy Consumption')"
      ]
     },
     "execution_count": 56,
     "metadata": {},
     "output_type": "execute_result"
    },
    {
     "data": {
      "image/png": "[encoded data removed]",
      "text/plain": [
       "<Figure size 432x288 with 1 Axes>"
      ]
     },
     "metadata": {
      "needs_background": "light"
     },
     "output_type": "display_data"
    }
   ],
   "source": [
    "data.groupby(['month','day'])['Appliances'].mean().plot()\n",
    "plt.ylabel('Energy in Kh')\n",
    "plt.title('Mean daily Energy Consumption')"
   ]
  },
  {
   "cell_type": "markdown",
   "metadata": {},
   "source": [
    "In the following plot, we can see that there are several local minima and maxima in the average energy that have been consumed per day in our 5 months of records:"
   ]
  },
  {
   "cell_type": "markdown",
   "metadata": {},
   "source": [
    "Let's create a pandas Series with the mean energy that's been consumed by appliances per day throughout the 5 months:"
   ]
  },
  {
   "cell_type": "code",
   "execution_count": 58,
   "metadata": {},
   "outputs": [],
   "source": [
    "daily_ec = data.groupby(['month','day'])['Appliances'].mean()"
   ]
  },
  {
   "cell_type": "code",
   "execution_count": 59,
   "metadata": {},
   "outputs": [
    {
     "data": {
      "text/plain": [
       "month  day\n",
       "1      11     136.666667\n",
       "       12      85.694444\n",
       "       13      97.013889\n",
       "       14     151.388889\n",
       "       15     125.347222\n",
       "                 ...    \n",
       "5      23      83.055556\n",
       "       24      96.180556\n",
       "       25      83.888889\n",
       "       26     147.013889\n",
       "       27     136.330275\n",
       "Name: Appliances, Length: 138, dtype: float64"
      ]
     },
     "execution_count": 59,
     "metadata": {},
     "output_type": "execute_result"
    }
   ],
   "source": [
    "daily_ec"
   ]
  },
  {
   "cell_type": "markdown",
   "metadata": {},
   "source": [
    "Let's determine the local maxima in the preceding time series but with the constraint that the local maxima can't show values below the 60Kh baseline energy consumption:"
   ]
  },
  {
   "cell_type": "code",
   "execution_count": 60,
   "metadata": {},
   "outputs": [
    {
     "data": {
      "text/plain": [
       "array([  3,   6,   9,  13,  15,  19,  21,  23,  26,  28,  32,  35,  39,\n",
       "        42,  45,  49,  51,  53,  56,  59,  61,  63,  65,  68,  72,  74,\n",
       "        77,  84,  88,  92,  96, 100, 102, 110, 116, 119, 121, 123, 125,\n",
       "       128, 131, 134, 136], dtype=int64)"
      ]
     },
     "execution_count": 60,
     "metadata": {},
     "output_type": "execute_result"
    }
   ],
   "source": [
    "peaks,_ = find_peaks(daily_ec,height=60)\n",
    "peaks"
   ]
  },
  {
   "cell_type": "code",
   "execution_count": 61,
   "metadata": {},
   "outputs": [
    {
     "data": {
      "image/png": "[encoded data removed]",
      "text/plain": [
       "<Figure size 864x288 with 1 Axes>"
      ]
     },
     "metadata": {
      "needs_background": "light"
     },
     "output_type": "display_data"
    }
   ],
   "source": [
    "plt.figure(figsize=(12,4))\n",
    "daily_ec.plot()\n",
    "plt.plot(peaks,daily_ec.values[peaks],'o',color='red')\n",
    "plt.plot(np.full_like(daily_ec,60),\"--\",color=\"gray\")\n",
    "plt.show()"
   ]
  },
  {
   "cell_type": "markdown",
   "metadata": {},
   "source": [
    "Now, let's find the local minima by using the same function from step 8 and the inverse of the time series:"
   ]
  },
  {
   "cell_type": "code",
   "execution_count": 62,
   "metadata": {},
   "outputs": [],
   "source": [
    "valleys,_ = find_peaks(1/daily_ec,height=(0,1/60))"
   ]
  },
  {
   "cell_type": "code",
   "execution_count": 63,
   "metadata": {},
   "outputs": [
    {
     "data": {
      "image/png": "[encoded data removed]",
      "text/plain": [
       "<Figure size 864x288 with 1 Axes>"
      ]
     },
     "metadata": {
      "needs_background": "light"
     },
     "output_type": "display_data"
    }
   ],
   "source": [
    "plt.figure(figsize=(12,4))\n",
    "daily_ec.plot()\n",
    "plt.plot(peaks,daily_ec.values[peaks],'o',color='red')\n",
    "plt.plot(valleys,daily_ec.values[valleys],'o',color='green')\n",
    "plt.plot(np.full_like(daily_ec,60),\"--\",color=\"gray\")\n",
    "plt.show()"
   ]
  },
  {
   "cell_type": "markdown",
   "metadata": {},
   "source": [
    "## Deriving time elapsed between time-stamped events"
   ]
  },
  {
   "cell_type": "markdown",
   "metadata": {},
   "source": [
    "In the previous recipes, we performed mathematical operations over the values of the time series to obtain new features that summarize information about the variable, such as the mean and maximum values or the cumulative sum.\n",
    "\n",
    "It is also possible to perform these mathematical operations over the time-stamp and obtain information about the time between transactions or the time between specific events.\n",
    "\n",
    "In this recipe, we will calculate the time between transactions, that is, the time between successive records of the variable values. Then, we will determine the time between specific events, such as the time between peaks of energy consumption, to demonstrate the power of pandas when it comes to aggregating time series data."
   ]
  },
  {
   "cell_type": "markdown",
   "metadata": {},
   "source": [
    "First, let's calculate the time between transactions, that is, the time between each energy record, expressed in minutes:"
   ]
  },
  {
   "cell_type": "code",
   "execution_count": 65,
   "metadata": {},
   "outputs": [
    {
     "data": {
      "text/plain": [
       "0         NaN\n",
       "1        10.0\n",
       "2        10.0\n",
       "3        10.0\n",
       "4        10.0\n",
       "         ... \n",
       "19730    10.0\n",
       "19731    10.0\n",
       "19732    10.0\n",
       "19733    10.0\n",
       "19734    10.0\n",
       "Name: time_since_previous, Length: 19735, dtype: float64"
      ]
     },
     "execution_count": 65,
     "metadata": {},
     "output_type": "execute_result"
    }
   ],
   "source": [
    "data['time_since_previous'] = data['date'].diff()\n",
    "data['time_since_previous'] = data['time_since_previous']/np.timedelta64(1,'m')\n",
    "data['time_since_previous'] "
   ]
  },
  {
   "cell_type": "markdown",
   "metadata": {},
   "source": [
    "Let's extract the day and month from the datetime variable and put them into new variables"
   ]
  },
  {
   "cell_type": "code",
   "execution_count": 66,
   "metadata": {},
   "outputs": [],
   "source": [
    "data[['day', 'month']] = pd.DataFrame([(x.day, x.month) for x in data['date']])"
   ]
  },
  {
   "cell_type": "code",
   "execution_count": 70,
   "metadata": {},
   "outputs": [
    {
     "data": {
      "text/html": [
       "<div>\n",
       "<style scoped>\n",
       "    .dataframe tbody tr th:only-of-type {\n",
       "        vertical-align: middle;\n",
       "    }\n",
       "\n",
       "    .dataframe tbody tr th {\n",
       "        vertical-align: top;\n",
       "    }\n",
       "\n",
       "    .dataframe thead th {\n",
       "        text-align: right;\n",
       "    }\n",
       "</style>\n",
       "<table border=\"1\" class=\"dataframe\">\n",
       "  <thead>\n",
       "    <tr style=\"text-align: right;\">\n",
       "      <th></th>\n",
       "      <th>day</th>\n",
       "      <th>month</th>\n",
       "    </tr>\n",
       "  </thead>\n",
       "  <tbody>\n",
       "    <tr>\n",
       "      <th>19730</th>\n",
       "      <td>27</td>\n",
       "      <td>5</td>\n",
       "    </tr>\n",
       "    <tr>\n",
       "      <th>19731</th>\n",
       "      <td>27</td>\n",
       "      <td>5</td>\n",
       "    </tr>\n",
       "    <tr>\n",
       "      <th>19732</th>\n",
       "      <td>27</td>\n",
       "      <td>5</td>\n",
       "    </tr>\n",
       "    <tr>\n",
       "      <th>19733</th>\n",
       "      <td>27</td>\n",
       "      <td>5</td>\n",
       "    </tr>\n",
       "    <tr>\n",
       "      <th>19734</th>\n",
       "      <td>27</td>\n",
       "      <td>5</td>\n",
       "    </tr>\n",
       "  </tbody>\n",
       "</table>\n",
       "</div>"
      ],
      "text/plain": [
       "       day  month\n",
       "19730   27      5\n",
       "19731   27      5\n",
       "19732   27      5\n",
       "19733   27      5\n",
       "19734   27      5"
      ]
     },
     "execution_count": 70,
     "metadata": {},
     "output_type": "execute_result"
    }
   ],
   "source": [
    "data[['day', 'month']].tail()"
   ]
  },
  {
   "cell_type": "markdown",
   "metadata": {},
   "source": [
    "Let's create a time series with the average electricity consumption by appliances per day:"
   ]
  },
  {
   "cell_type": "code",
   "execution_count": 71,
   "metadata": {},
   "outputs": [
    {
     "data": {
      "text/plain": [
       "month  day\n",
       "1      11     136.666667\n",
       "       12      85.694444\n",
       "       13      97.013889\n",
       "       14     151.388889\n",
       "       15     125.347222\n",
       "                 ...    \n",
       "5      23      83.055556\n",
       "       24      96.180556\n",
       "       25      83.888889\n",
       "       26     147.013889\n",
       "       27     136.330275\n",
       "Name: Appliances, Length: 138, dtype: float64"
      ]
     },
     "execution_count": 71,
     "metadata": {},
     "output_type": "execute_result"
    }
   ],
   "source": [
    "elec_pday = data.groupby(['month', 'day'])['Appliances'].mean()\n",
    "elec_pday"
   ]
  },
  {
   "cell_type": "code",
   "execution_count": 88,
   "metadata": {},
   "outputs": [
    {
     "data": {
      "text/plain": [
       "array([  3,   6,   9,  13,  15,  19,  21,  23,  26,  28,  32,  35,  39,\n",
       "        42,  45,  49,  51,  53,  56,  59,  61,  63,  65,  68,  72,  74,\n",
       "        77,  84,  88,  92,  96, 100, 102, 110, 116, 119, 121, 123, 125,\n",
       "       128, 131, 134, 136], dtype=int64)"
      ]
     },
     "execution_count": 88,
     "metadata": {},
     "output_type": "execute_result"
    }
   ],
   "source": [
    "# find local maxima\n",
    "peaks, _ = find_peaks(elec_pday.values, height=60)\n",
    "\n",
    "peaks\n"
   ]
  },
  {
   "cell_type": "markdown",
   "metadata": {},
   "source": [
    "Now, let's create a dataframe with only the local maxima of the appliance's mean energy consumption, reset its index to make month and day columns of the dataframe, and add a variable with the year, and display the top rows:"
   ]
  },
  {
   "cell_type": "code",
   "execution_count": 89,
   "metadata": {},
   "outputs": [
    {
     "data": {
      "text/plain": [
       "(138,)"
      ]
     },
     "execution_count": 89,
     "metadata": {},
     "output_type": "execute_result"
    }
   ],
   "source": [
    "# compare the shape of the time series with that of the selected\n",
    "# local maxima series\n",
    "\n",
    "elec_pday.shape"
   ]
  },
  {
   "cell_type": "markdown",
   "metadata": {},
   "source": [
    "all are in github see there \n"
   ]
  },
  {
   "cell_type": "markdown",
   "metadata": {},
   "source": [
    "## Creating features from transaction with Featuretools"
   ]
  },
  {
   "cell_type": "markdown",
   "metadata": {},
   "source": [
    "Featuretools is an open source Python library that allows us to automatically create features from time series and transactional databases with multiple transaction records for each specific entity, such as customers. With Featuretools, we can automatically create features at the transaction level. Such features include the day, month, and year from a datetime variable, the time between transactions, or if the transaction occurred on a weekend, as well as the cumulative sum or the difference in value between transactions.\n",
    "\n",
    "Featuretools also aggregates existing and new features at the entity level—in our example, at the customer level—using mathematical and statistical operations, such as the ones we used in the Aggregating transactions with mathematical operations recipe of this chapter or by using user-defined operations.\n",
    "\n",
    "In this recipe, we will create features at the transaction level and then aggregate both new and existing features at the customer level by using Featuretool's automatic feature extraction functionality."
   ]
  },
  {
   "cell_type": "code",
   "execution_count": 91,
   "metadata": {},
   "outputs": [],
   "source": [
    "import pandas as pd\n",
    "import matplotlib.pyplot as plt\n",
    "import featuretools as ft"
   ]
  },
  {
   "cell_type": "code",
   "execution_count": 92,
   "metadata": {},
   "outputs": [
    {
     "data": {
      "text/html": [
       "<div>\n",
       "<style scoped>\n",
       "    .dataframe tbody tr th:only-of-type {\n",
       "        vertical-align: middle;\n",
       "    }\n",
       "\n",
       "    .dataframe tbody tr th {\n",
       "        vertical-align: top;\n",
       "    }\n",
       "\n",
       "    .dataframe thead th {\n",
       "        text-align: right;\n",
       "    }\n",
       "</style>\n",
       "<table border=\"1\" class=\"dataframe\">\n",
       "  <thead>\n",
       "    <tr style=\"text-align: right;\">\n",
       "      <th></th>\n",
       "      <th>customer_id</th>\n",
       "      <th>transaction_id</th>\n",
       "      <th>transaction_time</th>\n",
       "      <th>amount</th>\n",
       "    </tr>\n",
       "  </thead>\n",
       "  <tbody>\n",
       "    <tr>\n",
       "      <th>0</th>\n",
       "      <td>2</td>\n",
       "      <td>298</td>\n",
       "      <td>2014-01-01 00:00:00</td>\n",
       "      <td>127.64</td>\n",
       "    </tr>\n",
       "    <tr>\n",
       "      <th>1</th>\n",
       "      <td>2</td>\n",
       "      <td>2</td>\n",
       "      <td>2014-01-01 00:01:05</td>\n",
       "      <td>109.48</td>\n",
       "    </tr>\n",
       "    <tr>\n",
       "      <th>2</th>\n",
       "      <td>2</td>\n",
       "      <td>308</td>\n",
       "      <td>2014-01-01 00:02:10</td>\n",
       "      <td>95.06</td>\n",
       "    </tr>\n",
       "    <tr>\n",
       "      <th>3</th>\n",
       "      <td>2</td>\n",
       "      <td>116</td>\n",
       "      <td>2014-01-01 00:03:15</td>\n",
       "      <td>78.92</td>\n",
       "    </tr>\n",
       "    <tr>\n",
       "      <th>4</th>\n",
       "      <td>2</td>\n",
       "      <td>371</td>\n",
       "      <td>2014-01-01 00:04:20</td>\n",
       "      <td>31.54</td>\n",
       "    </tr>\n",
       "  </tbody>\n",
       "</table>\n",
       "</div>"
      ],
      "text/plain": [
       "   customer_id  transaction_id    transaction_time  amount\n",
       "0            2             298 2014-01-01 00:00:00  127.64\n",
       "1            2               2 2014-01-01 00:01:05  109.48\n",
       "2            2             308 2014-01-01 00:02:10   95.06\n",
       "3            2             116 2014-01-01 00:03:15   78.92\n",
       "4            2             371 2014-01-01 00:04:20   31.54"
      ]
     },
     "execution_count": 92,
     "metadata": {},
     "output_type": "execute_result"
    }
   ],
   "source": [
    "# lets load the example dataset from the feature tools\n",
    "\n",
    "data_dict = ft.demo.load_mock_customer()\n",
    "\n",
    "data = data_dict[\"transactions\"].merge(\n",
    "    data_dict[\"sessions\"]).merge(data_dict[\"customers\"])\n",
    "\n",
    "cols = ['customer_id',\n",
    "        'transaction_id',\n",
    "        'transaction_time',\n",
    "        'amount',\n",
    "        ]\n",
    "\n",
    "data = data[cols]\n",
    "\n",
    "data.head()"
   ]
  },
  {
   "cell_type": "code",
   "execution_count": 93,
   "metadata": {},
   "outputs": [
    {
     "name": "stdout",
     "output_type": "stream",
     "text": [
      "Number of customers: 5\n",
      "Number of transactions: 500\n"
     ]
    }
   ],
   "source": [
    "\n",
    "print('Number of customers: {}'.format(data['customer_id'].nunique()))\n",
    "print('Number of transactions: {}'.format(data['transaction_id'].nunique()))"
   ]
  },
  {
   "cell_type": "code",
   "execution_count": 94,
   "metadata": {},
   "outputs": [
    {
     "data": {
      "text/plain": [
       "customer_id                  int64\n",
       "transaction_id               int64\n",
       "transaction_time    datetime64[ns]\n",
       "amount                     float64\n",
       "dtype: object"
      ]
     },
     "execution_count": 94,
     "metadata": {},
     "output_type": "execute_result"
    }
   ],
   "source": [
    "data.dtypes"
   ]
  },
  {
   "cell_type": "code",
   "execution_count": 95,
   "metadata": {},
   "outputs": [
    {
     "data": {
      "text/plain": [
       "Entityset: customer_data\n",
       "  Entities:\n",
       "    transactions [Rows: 500, Columns: 4]\n",
       "  Relationships:\n",
       "    No relationships"
      ]
     },
     "execution_count": 95,
     "metadata": {},
     "output_type": "execute_result"
    }
   ],
   "source": [
    "# in order for feature tools to work, we need to create\n",
    "# entity sets\n",
    "\n",
    "es = ft.EntitySet(id=\"customer_data\")\n",
    "\n",
    "# entity set with the transactions\n",
    "es.entity_from_dataframe(entity_id='transactions',\n",
    "                         dataframe=data,\n",
    "                         index=\"transaction_id\",\n",
    "                         time_index='transaction_time')\n",
    "\n",
    "# display the entity set\n",
    "es"
   ]
  },
  {
   "cell_type": "code",
   "execution_count": 96,
   "metadata": {},
   "outputs": [
    {
     "data": {
      "text/plain": [
       "Entityset: customer_data\n",
       "  Entities:\n",
       "    transactions [Rows: 500, Columns: 4]\n",
       "    customers [Rows: 5, Columns: 2]\n",
       "  Relationships:\n",
       "    transactions.customer_id -> customers.customer_id"
      ]
     },
     "execution_count": 96,
     "metadata": {},
     "output_type": "execute_result"
    }
   ],
   "source": [
    "# now we indicate that within the entity set\n",
    "# there is another table, with customer data,\n",
    "# each customer identified with a unique\n",
    "# customer id\n",
    "\n",
    "es.normalize_entity(base_entity_id=\"transactions\",\n",
    "                    new_entity_id=\"customers\",\n",
    "                    index=\"customer_id\")"
   ]
  },
  {
   "cell_type": "code",
   "execution_count": 97,
   "metadata": {},
   "outputs": [
    {
     "name": "stdout",
     "output_type": "stream",
     "text": [
      "Built 8 features\n",
      "Elapsed: 00:00 | Progress: 100%|███████████████████████████████████████████████\n"
     ]
    },
    {
     "data": {
      "text/html": [
       "<div>\n",
       "<style scoped>\n",
       "    .dataframe tbody tr th:only-of-type {\n",
       "        vertical-align: middle;\n",
       "    }\n",
       "\n",
       "    .dataframe tbody tr th {\n",
       "        vertical-align: top;\n",
       "    }\n",
       "\n",
       "    .dataframe thead th {\n",
       "        text-align: right;\n",
       "    }\n",
       "</style>\n",
       "<table border=\"1\" class=\"dataframe\">\n",
       "  <thead>\n",
       "    <tr style=\"text-align: right;\">\n",
       "      <th></th>\n",
       "      <th>customer_id</th>\n",
       "      <th>amount</th>\n",
       "      <th>CUM_COUNT(customer_id)</th>\n",
       "      <th>CUM_SUM(amount)</th>\n",
       "      <th>IS_WEEKEND(transaction_time)</th>\n",
       "      <th>TIME_SINCE_PREVIOUS(transaction_time)</th>\n",
       "      <th>customers.IS_WEEKEND(first_transactions_time)</th>\n",
       "      <th>customers.TIME_SINCE_PREVIOUS(first_transactions_time)</th>\n",
       "    </tr>\n",
       "    <tr>\n",
       "      <th>transaction_id</th>\n",
       "      <th></th>\n",
       "      <th></th>\n",
       "      <th></th>\n",
       "      <th></th>\n",
       "      <th></th>\n",
       "      <th></th>\n",
       "      <th></th>\n",
       "      <th></th>\n",
       "    </tr>\n",
       "  </thead>\n",
       "  <tbody>\n",
       "    <tr>\n",
       "      <th>298</th>\n",
       "      <td>2</td>\n",
       "      <td>127.64</td>\n",
       "      <td>1</td>\n",
       "      <td>127.64</td>\n",
       "      <td>False</td>\n",
       "      <td>NaN</td>\n",
       "      <td>False</td>\n",
       "      <td>NaN</td>\n",
       "    </tr>\n",
       "    <tr>\n",
       "      <th>2</th>\n",
       "      <td>2</td>\n",
       "      <td>109.48</td>\n",
       "      <td>2</td>\n",
       "      <td>237.12</td>\n",
       "      <td>False</td>\n",
       "      <td>65.0</td>\n",
       "      <td>False</td>\n",
       "      <td>NaN</td>\n",
       "    </tr>\n",
       "    <tr>\n",
       "      <th>308</th>\n",
       "      <td>2</td>\n",
       "      <td>95.06</td>\n",
       "      <td>3</td>\n",
       "      <td>332.18</td>\n",
       "      <td>False</td>\n",
       "      <td>65.0</td>\n",
       "      <td>False</td>\n",
       "      <td>NaN</td>\n",
       "    </tr>\n",
       "    <tr>\n",
       "      <th>116</th>\n",
       "      <td>2</td>\n",
       "      <td>78.92</td>\n",
       "      <td>4</td>\n",
       "      <td>411.10</td>\n",
       "      <td>False</td>\n",
       "      <td>65.0</td>\n",
       "      <td>False</td>\n",
       "      <td>NaN</td>\n",
       "    </tr>\n",
       "    <tr>\n",
       "      <th>371</th>\n",
       "      <td>2</td>\n",
       "      <td>31.54</td>\n",
       "      <td>5</td>\n",
       "      <td>442.64</td>\n",
       "      <td>False</td>\n",
       "      <td>65.0</td>\n",
       "      <td>False</td>\n",
       "      <td>NaN</td>\n",
       "    </tr>\n",
       "  </tbody>\n",
       "</table>\n",
       "</div>"
      ],
      "text/plain": [
       "                customer_id  amount  CUM_COUNT(customer_id)  CUM_SUM(amount)  \\\n",
       "transaction_id                                                                 \n",
       "298                       2  127.64                       1           127.64   \n",
       "2                         2  109.48                       2           237.12   \n",
       "308                       2   95.06                       3           332.18   \n",
       "116                       2   78.92                       4           411.10   \n",
       "371                       2   31.54                       5           442.64   \n",
       "\n",
       "                IS_WEEKEND(transaction_time)  \\\n",
       "transaction_id                                 \n",
       "298                                    False   \n",
       "2                                      False   \n",
       "308                                    False   \n",
       "116                                    False   \n",
       "371                                    False   \n",
       "\n",
       "                TIME_SINCE_PREVIOUS(transaction_time)  \\\n",
       "transaction_id                                          \n",
       "298                                               NaN   \n",
       "2                                                65.0   \n",
       "308                                              65.0   \n",
       "116                                              65.0   \n",
       "371                                              65.0   \n",
       "\n",
       "                customers.IS_WEEKEND(first_transactions_time)  \\\n",
       "transaction_id                                                  \n",
       "298                                                     False   \n",
       "2                                                       False   \n",
       "308                                                     False   \n",
       "116                                                     False   \n",
       "371                                                     False   \n",
       "\n",
       "                customers.TIME_SINCE_PREVIOUS(first_transactions_time)  \n",
       "transaction_id                                                          \n",
       "298                                                           NaN       \n",
       "2                                                             NaN       \n",
       "308                                                           NaN       \n",
       "116                                                           NaN       \n",
       "371                                                           NaN       "
      ]
     },
     "execution_count": 97,
     "metadata": {},
     "output_type": "execute_result"
    }
   ],
   "source": [
    "## Creating new features from the existing data- without aggregations\n",
    "# featuretools automatically creates more fearures from those present in the data set\n",
    "# for every single transaction, that is without aggregation\n",
    "\n",
    "# the names in the below list, indicate featuretools to:\n",
    "# 1) Create a feature from the datetime variable signalling\n",
    "# if the transaction occurred on a weekend\n",
    "# 2) Determines the cumulative transaction amount,\n",
    "# 3) Determine the cumulative number of transactions,\n",
    "# 4) Creates a new feature indicating the time since the previous transaction\n",
    "\n",
    "# all of this operations occur at a transaction level, that is, transaction\n",
    "# after transaction\n",
    "\n",
    "transf_operations = ['is_weekend', 'cum_sum', 'cum_count','time_since_previous']\n",
    "\n",
    "# set up the dfs from featuretools to return the previous features\n",
    "# it is important to leave agg_primitives as an empty list, so that featuretools does not\n",
    "# aggregate the data at a customer level as well\n",
    "\n",
    "feature_matrix, features = ft.dfs(entityset=es,\n",
    "                      target_entity=\"transactions\",\n",
    "                      agg_primitives=[],\n",
    "                      trans_primitives=transf_operations,\n",
    "                      verbose=True)\n",
    "\n",
    "feature_matrix.head()\n"
   ]
  },
  {
   "cell_type": "code",
   "execution_count": 98,
   "metadata": {},
   "outputs": [
    {
     "name": "stdout",
     "output_type": "stream",
     "text": [
      "Built 10 features\n",
      "Elapsed: 00:00 | Progress: 100%|███████████████████████████████████████████████\n"
     ]
    },
    {
     "data": {
      "text/html": [
       "<div>\n",
       "<style scoped>\n",
       "    .dataframe tbody tr th:only-of-type {\n",
       "        vertical-align: middle;\n",
       "    }\n",
       "\n",
       "    .dataframe tbody tr th {\n",
       "        vertical-align: top;\n",
       "    }\n",
       "\n",
       "    .dataframe thead th {\n",
       "        text-align: right;\n",
       "    }\n",
       "</style>\n",
       "<table border=\"1\" class=\"dataframe\">\n",
       "  <thead>\n",
       "    <tr style=\"text-align: right;\">\n",
       "      <th></th>\n",
       "      <th>customer_id</th>\n",
       "      <th>amount</th>\n",
       "      <th>DAY(transaction_time)</th>\n",
       "      <th>MONTH(transaction_time)</th>\n",
       "      <th>WEEKDAY(transaction_time)</th>\n",
       "      <th>YEAR(transaction_time)</th>\n",
       "      <th>customers.DAY(first_transactions_time)</th>\n",
       "      <th>customers.MONTH(first_transactions_time)</th>\n",
       "      <th>customers.WEEKDAY(first_transactions_time)</th>\n",
       "      <th>customers.YEAR(first_transactions_time)</th>\n",
       "    </tr>\n",
       "    <tr>\n",
       "      <th>transaction_id</th>\n",
       "      <th></th>\n",
       "      <th></th>\n",
       "      <th></th>\n",
       "      <th></th>\n",
       "      <th></th>\n",
       "      <th></th>\n",
       "      <th></th>\n",
       "      <th></th>\n",
       "      <th></th>\n",
       "      <th></th>\n",
       "    </tr>\n",
       "  </thead>\n",
       "  <tbody>\n",
       "    <tr>\n",
       "      <th>298</th>\n",
       "      <td>2</td>\n",
       "      <td>127.64</td>\n",
       "      <td>1</td>\n",
       "      <td>1</td>\n",
       "      <td>2</td>\n",
       "      <td>2014</td>\n",
       "      <td>1</td>\n",
       "      <td>1</td>\n",
       "      <td>2</td>\n",
       "      <td>2014</td>\n",
       "    </tr>\n",
       "    <tr>\n",
       "      <th>2</th>\n",
       "      <td>2</td>\n",
       "      <td>109.48</td>\n",
       "      <td>1</td>\n",
       "      <td>1</td>\n",
       "      <td>2</td>\n",
       "      <td>2014</td>\n",
       "      <td>1</td>\n",
       "      <td>1</td>\n",
       "      <td>2</td>\n",
       "      <td>2014</td>\n",
       "    </tr>\n",
       "    <tr>\n",
       "      <th>308</th>\n",
       "      <td>2</td>\n",
       "      <td>95.06</td>\n",
       "      <td>1</td>\n",
       "      <td>1</td>\n",
       "      <td>2</td>\n",
       "      <td>2014</td>\n",
       "      <td>1</td>\n",
       "      <td>1</td>\n",
       "      <td>2</td>\n",
       "      <td>2014</td>\n",
       "    </tr>\n",
       "    <tr>\n",
       "      <th>116</th>\n",
       "      <td>2</td>\n",
       "      <td>78.92</td>\n",
       "      <td>1</td>\n",
       "      <td>1</td>\n",
       "      <td>2</td>\n",
       "      <td>2014</td>\n",
       "      <td>1</td>\n",
       "      <td>1</td>\n",
       "      <td>2</td>\n",
       "      <td>2014</td>\n",
       "    </tr>\n",
       "    <tr>\n",
       "      <th>371</th>\n",
       "      <td>2</td>\n",
       "      <td>31.54</td>\n",
       "      <td>1</td>\n",
       "      <td>1</td>\n",
       "      <td>2</td>\n",
       "      <td>2014</td>\n",
       "      <td>1</td>\n",
       "      <td>1</td>\n",
       "      <td>2</td>\n",
       "      <td>2014</td>\n",
       "    </tr>\n",
       "  </tbody>\n",
       "</table>\n",
       "</div>"
      ],
      "text/plain": [
       "                customer_id  amount  DAY(transaction_time)  \\\n",
       "transaction_id                                               \n",
       "298                       2  127.64                      1   \n",
       "2                         2  109.48                      1   \n",
       "308                       2   95.06                      1   \n",
       "116                       2   78.92                      1   \n",
       "371                       2   31.54                      1   \n",
       "\n",
       "                MONTH(transaction_time)  WEEKDAY(transaction_time)  \\\n",
       "transaction_id                                                       \n",
       "298                                   1                          2   \n",
       "2                                     1                          2   \n",
       "308                                   1                          2   \n",
       "116                                   1                          2   \n",
       "371                                   1                          2   \n",
       "\n",
       "                YEAR(transaction_time)  \\\n",
       "transaction_id                           \n",
       "298                               2014   \n",
       "2                                 2014   \n",
       "308                               2014   \n",
       "116                               2014   \n",
       "371                               2014   \n",
       "\n",
       "                customers.DAY(first_transactions_time)  \\\n",
       "transaction_id                                           \n",
       "298                                                  1   \n",
       "2                                                    1   \n",
       "308                                                  1   \n",
       "116                                                  1   \n",
       "371                                                  1   \n",
       "\n",
       "                customers.MONTH(first_transactions_time)  \\\n",
       "transaction_id                                             \n",
       "298                                                    1   \n",
       "2                                                      1   \n",
       "308                                                    1   \n",
       "116                                                    1   \n",
       "371                                                    1   \n",
       "\n",
       "                customers.WEEKDAY(first_transactions_time)  \\\n",
       "transaction_id                                               \n",
       "298                                                      2   \n",
       "2                                                        2   \n",
       "308                                                      2   \n",
       "116                                                      2   \n",
       "371                                                      2   \n",
       "\n",
       "                customers.YEAR(first_transactions_time)  \n",
       "transaction_id                                           \n",
       "298                                                2014  \n",
       "2                                                  2014  \n",
       "308                                                2014  \n",
       "116                                                2014  \n",
       "371                                                2014  "
      ]
     },
     "execution_count": 98,
     "metadata": {},
     "output_type": "execute_result"
    }
   ],
   "source": [
    "# let's now extract information about date and time as well\n",
    "\n",
    "# list with the operations to perform to extract new features from the \n",
    "# existing variables\n",
    "operations = ['year', 'month', 'day', 'hour', 'minute', 'second',\n",
    "             'is_weekend', 'cum_sum', 'time_since_previous']\n",
    "\n",
    "\n",
    "# extract tge new features\n",
    "feature_matrix, features = ft.dfs(entityset=es,\n",
    "                      target_entity=\"transactions\",\n",
    "                      agg_primitives=[],\n",
    "                      trans_primitives=None,\n",
    "                      verbose=True)\n",
    "\n",
    "feature_matrix.head()"
   ]
  },
  {
   "cell_type": "code",
   "execution_count": 99,
   "metadata": {},
   "outputs": [
    {
     "data": {
      "text/plain": [
       "((500, 4), (500, 10))"
      ]
     },
     "execution_count": 99,
     "metadata": {},
     "output_type": "execute_result"
    }
   ],
   "source": [
    "# original dataframe and derived feature_matrix should have\n",
    "# same number of observations\n",
    "\n",
    "data.shape, feature_matrix.shape"
   ]
  },
  {
   "cell_type": "markdown",
   "metadata": {},
   "source": [
    "\n",
    "Go to github "
   ]
  },
  {
   "cell_type": "markdown",
   "metadata": {},
   "source": [
    "# Extracting Features From Text Variables"
   ]
  },
  {
   "cell_type": "markdown",
   "metadata": {},
   "source": [
    "Text can be part of the variables in our datasets. For example, in insurance, some variables that capture information about an incident may come from a free text field in a form. In data from a website that collects customer reviews or feedback, we may also encounter variables that contain short descriptions provided by text that has been entered manually by the users. Text is unstructured, that is, it does not follow a pattern, like the tabular pattern of the datasets we have worked with throughout this book. Text may also vary in length and content, and the writing style may be different. How can we extract information from text variables to inform our predictive models? This is the question we are going to address in this chapter.\n",
    "\n",
    "The techniques we will cover in this chapter belong to the realm of Natural Language Processing (NLP). NLP is a subfield of linguistics and computer science, concerned with the interactions between computer and human language, or, in other words, how to program computers to understand human language. NLP includes a multitude of techniques to understand the syntax, semantics, and discourse of text, and therefore to do this field justice would require a book in itself.\n",
    "\n",
    "In this chapter, instead, we will discuss those techniques that will allow us to quickly extract features from short pieces of text, to complement our predictive models. Specifically, we will discuss how to capture text complexity by looking at some statistical parameters of the text such as the word length and count, the number of words and unique words used, the number of sentences, and so on. We will use the pandas and scikit-learn libraries, and we will make a shallow dive into a very useful Python NLP toolkit called Natural Language Toolkit (NLTK).\n",
    "\n",
    "\n",
    "This chapter will cover the following recipes:\n",
    "- Counting characters, words, and vocabulary\n",
    "- Estimating text complexity by counting sentences\n",
    "- Creating features with bag-of-words and n-grams\n",
    "- Implementing term frequency-inverse document frequency\n",
    "- Cleaning and stemming text variables"
   ]
  },
  {
   "cell_type": "code",
   "execution_count": 100,
   "metadata": {},
   "outputs": [
    {
     "name": "stdout",
     "output_type": "stream",
     "text": [
      "Requirement already satisfied: nltk in d:\\lal\\lib\\site-packages (3.5)\n",
      "Requirement already satisfied: joblib in d:\\lal\\lib\\site-packages (from nltk) (0.17.0)\n",
      "Requirement already satisfied: click in d:\\lal\\lib\\site-packages (from nltk) (7.1.2)\n",
      "Requirement already satisfied: tqdm in d:\\lal\\lib\\site-packages (from nltk) (4.50.2)\n",
      "Requirement already satisfied: regex in d:\\lal\\lib\\site-packages (from nltk) (2020.10.15)\n"
     ]
    }
   ],
   "source": [
    "#! pip install nltk"
   ]
  },
  {
   "cell_type": "code",
   "execution_count": null,
   "metadata": {},
   "outputs": [
    {
     "name": "stderr",
     "output_type": "stream",
     "text": [
      "[nltk_data] Downloading package punkt to\n",
      "[nltk_data]     C:\\Users\\Joel\\AppData\\Roaming\\nltk_data...\n"
     ]
    }
   ],
   "source": [
    "#import nltk\n",
    "#! pip install -- upgrade nltk\n",
    "#nltk.download('punkt',halt_on_error=False)\n",
    "#nltk.download('stopwords')"
   ]
  },
  {
   "cell_type": "markdown",
   "metadata": {},
   "source": [
    "## Counting Characters,Words and Vocabulary"
   ]
  },
  {
   "cell_type": "markdown",
   "metadata": {},
   "source": [
    "In this recipe, we are going to capture text complexity by creating very simple features that:\n",
    "\n",
    "- count the number of characters\n",
    "- count the number of words in the text\n",
    "- count the number of unique words\n",
    "- determine the lexical diversity\n",
    "- determine the average word size"
   ]
  },
  {
   "cell_type": "code",
   "execution_count": 105,
   "metadata": {},
   "outputs": [],
   "source": [
    "import pandas as pd\n",
    "from sklearn.datasets import fetch_20newsgroups"
   ]
  },
  {
   "cell_type": "code",
   "execution_count": 106,
   "metadata": {},
   "outputs": [
    {
     "data": {
      "text/html": [
       "<div>\n",
       "<style scoped>\n",
       "    .dataframe tbody tr th:only-of-type {\n",
       "        vertical-align: middle;\n",
       "    }\n",
       "\n",
       "    .dataframe tbody tr th {\n",
       "        vertical-align: top;\n",
       "    }\n",
       "\n",
       "    .dataframe thead th {\n",
       "        text-align: right;\n",
       "    }\n",
       "</style>\n",
       "<table border=\"1\" class=\"dataframe\">\n",
       "  <thead>\n",
       "    <tr style=\"text-align: right;\">\n",
       "      <th></th>\n",
       "      <th>text</th>\n",
       "    </tr>\n",
       "  </thead>\n",
       "  <tbody>\n",
       "    <tr>\n",
       "      <th>0</th>\n",
       "      <td>From: lerxst@wam.umd.edu (where's my thing)\\nS...</td>\n",
       "    </tr>\n",
       "    <tr>\n",
       "      <th>1</th>\n",
       "      <td>From: guykuo@carson.u.washington.edu (Guy Kuo)...</td>\n",
       "    </tr>\n",
       "    <tr>\n",
       "      <th>2</th>\n",
       "      <td>From: twillis@ec.ecn.purdue.edu (Thomas E Will...</td>\n",
       "    </tr>\n",
       "    <tr>\n",
       "      <th>3</th>\n",
       "      <td>From: jgreen@amber (Joe Green)\\nSubject: Re: W...</td>\n",
       "    </tr>\n",
       "    <tr>\n",
       "      <th>4</th>\n",
       "      <td>From: jcm@head-cfa.harvard.edu (Jonathan McDow...</td>\n",
       "    </tr>\n",
       "  </tbody>\n",
       "</table>\n",
       "</div>"
      ],
      "text/plain": [
       "                                                text\n",
       "0  From: lerxst@wam.umd.edu (where's my thing)\\nS...\n",
       "1  From: guykuo@carson.u.washington.edu (Guy Kuo)...\n",
       "2  From: twillis@ec.ecn.purdue.edu (Thomas E Will...\n",
       "3  From: jgreen@amber (Joe Green)\\nSubject: Re: W...\n",
       "4  From: jcm@head-cfa.harvard.edu (Jonathan McDow..."
      ]
     },
     "execution_count": 106,
     "metadata": {},
     "output_type": "execute_result"
    }
   ],
   "source": [
    "# Load the text data\n",
    "data = fetch_20newsgroups(subset='train')\n",
    "df = pd.DataFrame(data.data,columns=['text'])\n",
    "df.head()"
   ]
  },
  {
   "cell_type": "markdown",
   "metadata": {},
   "source": [
    "### Counting the number of character"
   ]
  },
  {
   "cell_type": "code",
   "execution_count": 109,
   "metadata": {},
   "outputs": [
    {
     "data": {
      "text/html": [
       "<div>\n",
       "<style scoped>\n",
       "    .dataframe tbody tr th:only-of-type {\n",
       "        vertical-align: middle;\n",
       "    }\n",
       "\n",
       "    .dataframe tbody tr th {\n",
       "        vertical-align: top;\n",
       "    }\n",
       "\n",
       "    .dataframe thead th {\n",
       "        text-align: right;\n",
       "    }\n",
       "</style>\n",
       "<table border=\"1\" class=\"dataframe\">\n",
       "  <thead>\n",
       "    <tr style=\"text-align: right;\">\n",
       "      <th></th>\n",
       "      <th>text</th>\n",
       "      <th>num_char</th>\n",
       "      <th>num_char_removung_trailing</th>\n",
       "      <th>num_words</th>\n",
       "      <th>num_words_removing_trailing</th>\n",
       "      <th>num_vocab</th>\n",
       "      <th>num_vocab_lower</th>\n",
       "      <th>lexival_div</th>\n",
       "      <th>num_char_removing_trailing</th>\n",
       "      <th>avw_word_length</th>\n",
       "    </tr>\n",
       "  </thead>\n",
       "  <tbody>\n",
       "    <tr>\n",
       "      <th>0</th>\n",
       "      <td>From: lerxst@wam.umd.edu (where's my thing)\\nS...</td>\n",
       "      <td>721</td>\n",
       "      <td>716</td>\n",
       "      <td>123</td>\n",
       "      <td>123</td>\n",
       "      <td>96</td>\n",
       "      <td>93</td>\n",
       "      <td>1.322581</td>\n",
       "      <td>716</td>\n",
       "      <td>5.821138</td>\n",
       "    </tr>\n",
       "    <tr>\n",
       "      <th>1</th>\n",
       "      <td>From: guykuo@carson.u.washington.edu (Guy Kuo)...</td>\n",
       "      <td>858</td>\n",
       "      <td>857</td>\n",
       "      <td>123</td>\n",
       "      <td>123</td>\n",
       "      <td>103</td>\n",
       "      <td>99</td>\n",
       "      <td>1.242424</td>\n",
       "      <td>857</td>\n",
       "      <td>6.967480</td>\n",
       "    </tr>\n",
       "    <tr>\n",
       "      <th>2</th>\n",
       "      <td>From: twillis@ec.ecn.purdue.edu (Thomas E Will...</td>\n",
       "      <td>1981</td>\n",
       "      <td>1980</td>\n",
       "      <td>339</td>\n",
       "      <td>339</td>\n",
       "      <td>220</td>\n",
       "      <td>219</td>\n",
       "      <td>1.547945</td>\n",
       "      <td>1980</td>\n",
       "      <td>5.840708</td>\n",
       "    </tr>\n",
       "    <tr>\n",
       "      <th>3</th>\n",
       "      <td>From: jgreen@amber (Joe Green)\\nSubject: Re: W...</td>\n",
       "      <td>815</td>\n",
       "      <td>814</td>\n",
       "      <td>113</td>\n",
       "      <td>113</td>\n",
       "      <td>97</td>\n",
       "      <td>96</td>\n",
       "      <td>1.177083</td>\n",
       "      <td>814</td>\n",
       "      <td>7.203540</td>\n",
       "    </tr>\n",
       "    <tr>\n",
       "      <th>4</th>\n",
       "      <td>From: jcm@head-cfa.harvard.edu (Jonathan McDow...</td>\n",
       "      <td>1120</td>\n",
       "      <td>1117</td>\n",
       "      <td>171</td>\n",
       "      <td>171</td>\n",
       "      <td>140</td>\n",
       "      <td>139</td>\n",
       "      <td>1.230216</td>\n",
       "      <td>1117</td>\n",
       "      <td>6.532164</td>\n",
       "    </tr>\n",
       "  </tbody>\n",
       "</table>\n",
       "</div>"
      ],
      "text/plain": [
       "                                                text  num_char  \\\n",
       "0  From: lerxst@wam.umd.edu (where's my thing)\\nS...       721   \n",
       "1  From: guykuo@carson.u.washington.edu (Guy Kuo)...       858   \n",
       "2  From: twillis@ec.ecn.purdue.edu (Thomas E Will...      1981   \n",
       "3  From: jgreen@amber (Joe Green)\\nSubject: Re: W...       815   \n",
       "4  From: jcm@head-cfa.harvard.edu (Jonathan McDow...      1120   \n",
       "\n",
       "   num_char_removung_trailing  num_words  num_words_removing_trailing  \\\n",
       "0                         716        123                          123   \n",
       "1                         857        123                          123   \n",
       "2                        1980        339                          339   \n",
       "3                         814        113                          113   \n",
       "4                        1117        171                          171   \n",
       "\n",
       "   num_vocab  num_vocab_lower  lexival_div  num_char_removing_trailing  \\\n",
       "0         96               93     1.322581                         716   \n",
       "1        103               99     1.242424                         857   \n",
       "2        220              219     1.547945                        1980   \n",
       "3         97               96     1.177083                         814   \n",
       "4        140              139     1.230216                        1117   \n",
       "\n",
       "   avw_word_length  \n",
       "0         5.821138  \n",
       "1         6.967480  \n",
       "2         5.840708  \n",
       "3         7.203540  \n",
       "4         6.532164  "
      ]
     },
     "execution_count": 109,
     "metadata": {},
     "output_type": "execute_result"
    }
   ],
   "source": [
    "df['num_char']=df['text'].str.len()\n",
    "# same but removing trailing white spaces\n",
    "df['num_char_removing_trailing']= df['text'].str.strip().str.len()\n",
    "#Counting number of words\n",
    "df['num_words'] = df['text'].str.split().str.len()\n",
    "# same but removing trailing white spaces\n",
    "df['num_words_removing_trailing']=df['text'].str.strip().str.split().str.len()\n",
    "## Determining Vocabulary\n",
    "df['num_vocab'] = df['text'].str.split().apply(set).str.len()\n",
    "# setting characters to lower case before counting unique words\n",
    "df['num_vocab_lower']=df['text'].str.lower().str.split().apply(set).str.len()\n",
    "## Lexival diversity\n",
    "df['lexival_div']=df['num_words_removing_trailing']/df['num_vocab_lower']\n",
    "## Average Word length\n",
    "df['avw_word_length'] = df['num_char_removing_trailing']/df['num_words_removing_trailing']\n",
    "df.head()"
   ]
  },
  {
   "cell_type": "markdown",
   "metadata": {},
   "source": [
    "Let's explore how the distribution of the created features varies across the different topics the text refers to."
   ]
  },
  {
   "cell_type": "code",
   "execution_count": 110,
   "metadata": {},
   "outputs": [
    {
     "data": {
      "image/png": "[encoded data removed]",
      "text/plain": [
       "<Figure size 864x864 with 20 Axes>"
      ]
     },
     "metadata": {
      "needs_background": "light"
     },
     "output_type": "display_data"
    }
   ],
   "source": [
    "import matplotlib.pyplot as plt\n",
    "\n",
    "df['target'] = data.target\n",
    "\n",
    "def plot_features(df, text_var):\n",
    "\n",
    "    # function plots 9 images\n",
    "    nb_rows = 5\n",
    "    nb_cols = 4\n",
    "    \n",
    "    fig, axs = plt.subplots(nb_rows, nb_cols, figsize=(12, 12))\n",
    "    plt.subplots_adjust(wspace=None, hspace=0.4)\n",
    "\n",
    "    n = 0\n",
    "    for i in range(0, nb_rows):\n",
    "        for j in range(0, nb_cols):\n",
    "            axs[i, j].hist(df[df.target==n][text_var], bins=30)\n",
    "            axs[i, j].set_title(text_var + ' | ' + str(n))\n",
    "            n += 1\n",
    "    plt.show()\n",
    "    \n",
    "plot_features(df, 'num_words_removing_trailing')"
   ]
  },
  {
   "cell_type": "markdown",
   "metadata": {},
   "source": [
    "## Estimating text complexity by counting sentences"
   ]
  },
  {
   "cell_type": "markdown",
   "metadata": {},
   "source": [
    "One aspect of a text we can capture in features is its complexity. Usually, longer descriptions that contain multiple sentences spread over several paragraphs tend to provide more information than descriptions with very few sentences. Therefore, capturing the number of sentences may provide some insight into the amount of information provided by the text. This process is called sentence tokenization\n",
    "\n",
    "Tokenization is the process of splitting a string into a list of pieces or tokens. In the previous Counting characters, words, and vocabulary recipe, we did word tokenization, that is, we divided the string into words. In this recipe, we will divide the string into sentences and then we will count them. "
   ]
  },
  {
   "cell_type": "markdown",
   "metadata": {},
   "source": [
    "In this recipe, we will learn how to count the number of sentences in a piece of text."
   ]
  },
  {
   "cell_type": "code",
   "execution_count": 111,
   "metadata": {},
   "outputs": [],
   "source": [
    "import pandas as pd\n",
    "from nltk.tokenize import sent_tokenize\n",
    "from sklearn.datasets import fetch_20newsgroups"
   ]
  },
  {
   "cell_type": "code",
   "execution_count": 112,
   "metadata": {},
   "outputs": [],
   "source": [
    "text = \"\"\"\n",
    "A fair number of brave souls who upgraded their SI clock oscillator have\n",
    "shared their experiences for this poll. Please send a brief message detailing\n",
    "your experiences with the procedure. Top speed attained, CPU rated speed,\n",
    "add on cards and adapters, heat sinks, hour of usage per day, floppy disk\n",
    "functionality with 800 and 1.4 m floppies are especially requested.\n",
    "\n",
    "I will be summarizing in the next two days, so please add to the network\n",
    "knowledge base if you have done the clock upgrade and haven't answered this\n",
    "poll. Thanks.\n",
    "\"\"\""
   ]
  },
  {
   "cell_type": "code",
   "execution_count": 2,
   "metadata": {},
   "outputs": [],
   "source": [
    "# separarte text into sentences\n",
    "#sent_tokenize(text)\n",
    "#seee on github"
   ]
  },
  {
   "cell_type": "markdown",
   "metadata": {},
   "source": [
    "## Creating features with bag of words and n-grams"
   ]
  },
  {
   "cell_type": "markdown",
   "metadata": {},
   "source": [
    "A bag-of-words (BoW), is a simplified representation of a text that captures the words that are present in the text and the number of times each word appears in the text. So, for the text string Dogs like cats, but cats do not like dogs, the derived BoW is as follows:"
   ]
  },
  {
   "cell_type": "markdown",
   "metadata": {},
   "source": [
    "Here, each word becomes a variable, and the value of the variable represents the number of times the word appears in the string. As you can see, BoW captures multiplicity but does not retain word order or grammar. That is why it is a simple, yet useful, way of extracting features and capturing some information about the texts we are working with."
   ]
  },
  {
   "cell_type": "markdown",
   "metadata": {},
   "source": [
    "To capture some syntax, BoW can be used together with n-grams. An n-gram is a contiguous sequence of n items in a given text. Continuing with the sentence Dogs like cats, but cats do not like dogs, the derived 2-grams are as follows:\n",
    "\n",
    "- Dogs like\n",
    "- like cats\n",
    "- cats but\n",
    "- but do\n",
    "- do not\n",
    "- like dogs"
   ]
  },
  {
   "cell_type": "markdown",
   "metadata": {},
   "source": [
    "We can create, together with a BoW, a bag of n-grams, where the additional variables are given by the 2-grams and the values for each 2-grams are the number of times they appear in each string; for this particular example, the value is 1. So our final BoW with 2-grams would look like this:"
   ]
  },
  {
   "cell_type": "code",
   "execution_count": 4,
   "metadata": {},
   "outputs": [],
   "source": [
    "import pandas as pd\n",
    "\n",
    "from sklearn.datasets import fetch_20newsgroups\n",
    "from sklearn.feature_extraction.text import CountVectorizer"
   ]
  },
  {
   "cell_type": "code",
   "execution_count": 5,
   "metadata": {},
   "outputs": [
    {
     "data": {
      "text/html": [
       "<div>\n",
       "<style scoped>\n",
       "    .dataframe tbody tr th:only-of-type {\n",
       "        vertical-align: middle;\n",
       "    }\n",
       "\n",
       "    .dataframe tbody tr th {\n",
       "        vertical-align: top;\n",
       "    }\n",
       "\n",
       "    .dataframe thead th {\n",
       "        text-align: right;\n",
       "    }\n",
       "</style>\n",
       "<table border=\"1\" class=\"dataframe\">\n",
       "  <thead>\n",
       "    <tr style=\"text-align: right;\">\n",
       "      <th></th>\n",
       "      <th>text</th>\n",
       "    </tr>\n",
       "  </thead>\n",
       "  <tbody>\n",
       "    <tr>\n",
       "      <th>0</th>\n",
       "      <td>From: lerxst@wam.umd.edu (where's my thing)\\nS...</td>\n",
       "    </tr>\n",
       "    <tr>\n",
       "      <th>1</th>\n",
       "      <td>From: guykuo@carson.u.washington.edu (Guy Kuo)...</td>\n",
       "    </tr>\n",
       "    <tr>\n",
       "      <th>2</th>\n",
       "      <td>From: twillis@ec.ecn.purdue.edu (Thomas E Will...</td>\n",
       "    </tr>\n",
       "    <tr>\n",
       "      <th>3</th>\n",
       "      <td>From: jgreen@amber (Joe Green)\\nSubject: Re: W...</td>\n",
       "    </tr>\n",
       "    <tr>\n",
       "      <th>4</th>\n",
       "      <td>From: jcm@head-cfa.harvard.edu (Jonathan McDow...</td>\n",
       "    </tr>\n",
       "  </tbody>\n",
       "</table>\n",
       "</div>"
      ],
      "text/plain": [
       "                                                text\n",
       "0  From: lerxst@wam.umd.edu (where's my thing)\\nS...\n",
       "1  From: guykuo@carson.u.washington.edu (Guy Kuo)...\n",
       "2  From: twillis@ec.ecn.purdue.edu (Thomas E Will...\n",
       "3  From: jgreen@amber (Joe Green)\\nSubject: Re: W...\n",
       "4  From: jcm@head-cfa.harvard.edu (Jonathan McDow..."
      ]
     },
     "execution_count": 5,
     "metadata": {},
     "output_type": "execute_result"
    }
   ],
   "source": [
    "# load data\n",
    "data = fetch_20newsgroups(subset='train')\n",
    "df = pd.DataFrame(data.data, columns=['text'])\n",
    "df.head()"
   ]
  },
  {
   "cell_type": "code",
   "execution_count": 6,
   "metadata": {},
   "outputs": [],
   "source": [
    "\n",
    "# remove punctuation and numbers\n",
    "\n",
    "df['text'] = df['text'].str.replace('[^\\w\\s]','').str.replace('\\d+', '')"
   ]
  },
  {
   "cell_type": "code",
   "execution_count": 7,
   "metadata": {},
   "outputs": [],
   "source": [
    "# set up a bag of words transformer\n",
    "\n",
    "vectorizer = CountVectorizer(lowercase=True,\n",
    "                             stop_words='english',\n",
    "                             ngram_range=(1, 1),\n",
    "                             min_df=0.05)"
   ]
  },
  {
   "cell_type": "code",
   "execution_count": 8,
   "metadata": {},
   "outputs": [
    {
     "data": {
      "text/plain": [
       "CountVectorizer(min_df=0.05, stop_words='english')"
      ]
     },
     "execution_count": 8,
     "metadata": {},
     "output_type": "execute_result"
    }
   ],
   "source": [
    "# transformer finds the words to be retained\n",
    "\n",
    "vectorizer.fit(df['text'])"
   ]
  },
  {
   "cell_type": "code",
   "execution_count": 9,
   "metadata": {},
   "outputs": [],
   "source": [
    "X = vectorizer.transform(df['text'])"
   ]
  },
  {
   "cell_type": "code",
   "execution_count": 10,
   "metadata": {},
   "outputs": [
    {
     "data": {
      "text/html": [
       "<div>\n",
       "<style scoped>\n",
       "    .dataframe tbody tr th:only-of-type {\n",
       "        vertical-align: middle;\n",
       "    }\n",
       "\n",
       "    .dataframe tbody tr th {\n",
       "        vertical-align: top;\n",
       "    }\n",
       "\n",
       "    .dataframe thead th {\n",
       "        text-align: right;\n",
       "    }\n",
       "</style>\n",
       "<table border=\"1\" class=\"dataframe\">\n",
       "  <thead>\n",
       "    <tr style=\"text-align: right;\">\n",
       "      <th></th>\n",
       "      <th>able</th>\n",
       "      <th>access</th>\n",
       "      <th>actually</th>\n",
       "      <th>ago</th>\n",
       "      <th>apr</th>\n",
       "      <th>article</th>\n",
       "      <th>articleid</th>\n",
       "      <th>ask</th>\n",
       "      <th>available</th>\n",
       "      <th>away</th>\n",
       "      <th>...</th>\n",
       "      <th>works</th>\n",
       "      <th>world</th>\n",
       "      <th>writes</th>\n",
       "      <th>wrong</th>\n",
       "      <th>wrote</th>\n",
       "      <th>xnewsreader</th>\n",
       "      <th>year</th>\n",
       "      <th>years</th>\n",
       "      <th>yes</th>\n",
       "      <th>youre</th>\n",
       "    </tr>\n",
       "  </thead>\n",
       "  <tbody>\n",
       "    <tr>\n",
       "      <th>0</th>\n",
       "      <td>0</td>\n",
       "      <td>0</td>\n",
       "      <td>0</td>\n",
       "      <td>0</td>\n",
       "      <td>0</td>\n",
       "      <td>0</td>\n",
       "      <td>0</td>\n",
       "      <td>0</td>\n",
       "      <td>0</td>\n",
       "      <td>0</td>\n",
       "      <td>...</td>\n",
       "      <td>0</td>\n",
       "      <td>0</td>\n",
       "      <td>0</td>\n",
       "      <td>0</td>\n",
       "      <td>0</td>\n",
       "      <td>0</td>\n",
       "      <td>0</td>\n",
       "      <td>1</td>\n",
       "      <td>0</td>\n",
       "      <td>0</td>\n",
       "    </tr>\n",
       "    <tr>\n",
       "      <th>1</th>\n",
       "      <td>0</td>\n",
       "      <td>0</td>\n",
       "      <td>0</td>\n",
       "      <td>0</td>\n",
       "      <td>0</td>\n",
       "      <td>0</td>\n",
       "      <td>1</td>\n",
       "      <td>0</td>\n",
       "      <td>0</td>\n",
       "      <td>0</td>\n",
       "      <td>...</td>\n",
       "      <td>0</td>\n",
       "      <td>0</td>\n",
       "      <td>0</td>\n",
       "      <td>0</td>\n",
       "      <td>0</td>\n",
       "      <td>0</td>\n",
       "      <td>0</td>\n",
       "      <td>0</td>\n",
       "      <td>0</td>\n",
       "      <td>0</td>\n",
       "    </tr>\n",
       "    <tr>\n",
       "      <th>2</th>\n",
       "      <td>0</td>\n",
       "      <td>1</td>\n",
       "      <td>1</td>\n",
       "      <td>0</td>\n",
       "      <td>0</td>\n",
       "      <td>0</td>\n",
       "      <td>0</td>\n",
       "      <td>0</td>\n",
       "      <td>0</td>\n",
       "      <td>0</td>\n",
       "      <td>...</td>\n",
       "      <td>0</td>\n",
       "      <td>0</td>\n",
       "      <td>0</td>\n",
       "      <td>0</td>\n",
       "      <td>0</td>\n",
       "      <td>0</td>\n",
       "      <td>0</td>\n",
       "      <td>0</td>\n",
       "      <td>0</td>\n",
       "      <td>0</td>\n",
       "    </tr>\n",
       "    <tr>\n",
       "      <th>3</th>\n",
       "      <td>0</td>\n",
       "      <td>0</td>\n",
       "      <td>0</td>\n",
       "      <td>0</td>\n",
       "      <td>0</td>\n",
       "      <td>1</td>\n",
       "      <td>0</td>\n",
       "      <td>0</td>\n",
       "      <td>0</td>\n",
       "      <td>0</td>\n",
       "      <td>...</td>\n",
       "      <td>0</td>\n",
       "      <td>1</td>\n",
       "      <td>1</td>\n",
       "      <td>0</td>\n",
       "      <td>1</td>\n",
       "      <td>1</td>\n",
       "      <td>0</td>\n",
       "      <td>0</td>\n",
       "      <td>0</td>\n",
       "      <td>0</td>\n",
       "    </tr>\n",
       "    <tr>\n",
       "      <th>4</th>\n",
       "      <td>0</td>\n",
       "      <td>0</td>\n",
       "      <td>0</td>\n",
       "      <td>0</td>\n",
       "      <td>0</td>\n",
       "      <td>2</td>\n",
       "      <td>0</td>\n",
       "      <td>0</td>\n",
       "      <td>0</td>\n",
       "      <td>0</td>\n",
       "      <td>...</td>\n",
       "      <td>0</td>\n",
       "      <td>0</td>\n",
       "      <td>1</td>\n",
       "      <td>0</td>\n",
       "      <td>0</td>\n",
       "      <td>0</td>\n",
       "      <td>0</td>\n",
       "      <td>0</td>\n",
       "      <td>1</td>\n",
       "      <td>0</td>\n",
       "    </tr>\n",
       "  </tbody>\n",
       "</table>\n",
       "<p>5 rows × 191 columns</p>\n",
       "</div>"
      ],
      "text/plain": [
       "   able  access  actually  ago  apr  article  articleid  ask  available  away  \\\n",
       "0     0       0         0    0    0        0          0    0          0     0   \n",
       "1     0       0         0    0    0        0          1    0          0     0   \n",
       "2     0       1         1    0    0        0          0    0          0     0   \n",
       "3     0       0         0    0    0        1          0    0          0     0   \n",
       "4     0       0         0    0    0        2          0    0          0     0   \n",
       "\n",
       "   ...  works  world  writes  wrong  wrote  xnewsreader  year  years  yes  \\\n",
       "0  ...      0      0       0      0      0            0     0      1    0   \n",
       "1  ...      0      0       0      0      0            0     0      0    0   \n",
       "2  ...      0      0       0      0      0            0     0      0    0   \n",
       "3  ...      0      1       1      0      1            1     0      0    0   \n",
       "4  ...      0      0       1      0      0            0     0      0    1   \n",
       "\n",
       "   youre  \n",
       "0      0  \n",
       "1      0  \n",
       "2      0  \n",
       "3      0  \n",
       "4      0  \n",
       "\n",
       "[5 rows x 191 columns]"
      ]
     },
     "execution_count": 10,
     "metadata": {},
     "output_type": "execute_result"
    }
   ],
   "source": [
    "\n",
    "# create bago of words dataframe\n",
    "\n",
    "bagofwords = pd.DataFrame(X.toarray(),\n",
    "                          columns = vectorizer.get_feature_names())\n",
    "\n",
    "bagofwords.head()"
   ]
  },
  {
   "cell_type": "code",
   "execution_count": 11,
   "metadata": {},
   "outputs": [
    {
     "data": {
      "text/plain": [
       "(11314, 191)"
      ]
     },
     "execution_count": 11,
     "metadata": {},
     "output_type": "execute_result"
    }
   ],
   "source": [
    "bagofwords.shape"
   ]
  },
  {
   "cell_type": "code",
   "execution_count": 12,
   "metadata": {},
   "outputs": [],
   "source": [
    "# with n grams\n",
    "vectorizer = CountVectorizer(lowercase=True,\n",
    "                             stop_words='english',\n",
    "                             ngram_range=(1, 2),\n",
    "                             min_df=0.1)"
   ]
  },
  {
   "cell_type": "code",
   "execution_count": 13,
   "metadata": {},
   "outputs": [
    {
     "data": {
      "text/plain": [
       "CountVectorizer(min_df=0.1, ngram_range=(1, 2), stop_words='english')"
      ]
     },
     "execution_count": 13,
     "metadata": {},
     "output_type": "execute_result"
    }
   ],
   "source": [
    "vectorizer.fit(df['text'])"
   ]
  },
  {
   "cell_type": "code",
   "execution_count": 14,
   "metadata": {},
   "outputs": [],
   "source": [
    "\n",
    "X = vectorizer.transform(df['text'])"
   ]
  },
  {
   "cell_type": "code",
   "execution_count": 15,
   "metadata": {},
   "outputs": [
    {
     "data": {
      "text/html": [
       "<div>\n",
       "<style scoped>\n",
       "    .dataframe tbody tr th:only-of-type {\n",
       "        vertical-align: middle;\n",
       "    }\n",
       "\n",
       "    .dataframe tbody tr th {\n",
       "        vertical-align: top;\n",
       "    }\n",
       "\n",
       "    .dataframe thead th {\n",
       "        text-align: right;\n",
       "    }\n",
       "</style>\n",
       "<table border=\"1\" class=\"dataframe\">\n",
       "  <thead>\n",
       "    <tr style=\"text-align: right;\">\n",
       "      <th></th>\n",
       "      <th>article</th>\n",
       "      <th>believe</th>\n",
       "      <th>better</th>\n",
       "      <th>case</th>\n",
       "      <th>computer</th>\n",
       "      <th>did</th>\n",
       "      <th>distribution</th>\n",
       "      <th>does</th>\n",
       "      <th>doesnt</th>\n",
       "      <th>dont</th>\n",
       "      <th>...</th>\n",
       "      <th>use</th>\n",
       "      <th>used</th>\n",
       "      <th>using</th>\n",
       "      <th>want</th>\n",
       "      <th>way</th>\n",
       "      <th>work</th>\n",
       "      <th>world</th>\n",
       "      <th>writes</th>\n",
       "      <th>writes article</th>\n",
       "      <th>years</th>\n",
       "    </tr>\n",
       "  </thead>\n",
       "  <tbody>\n",
       "    <tr>\n",
       "      <th>0</th>\n",
       "      <td>0</td>\n",
       "      <td>0</td>\n",
       "      <td>0</td>\n",
       "      <td>0</td>\n",
       "      <td>0</td>\n",
       "      <td>0</td>\n",
       "      <td>0</td>\n",
       "      <td>0</td>\n",
       "      <td>0</td>\n",
       "      <td>0</td>\n",
       "      <td>...</td>\n",
       "      <td>0</td>\n",
       "      <td>0</td>\n",
       "      <td>0</td>\n",
       "      <td>0</td>\n",
       "      <td>0</td>\n",
       "      <td>0</td>\n",
       "      <td>0</td>\n",
       "      <td>0</td>\n",
       "      <td>0</td>\n",
       "      <td>1</td>\n",
       "    </tr>\n",
       "    <tr>\n",
       "      <th>1</th>\n",
       "      <td>0</td>\n",
       "      <td>0</td>\n",
       "      <td>0</td>\n",
       "      <td>0</td>\n",
       "      <td>0</td>\n",
       "      <td>0</td>\n",
       "      <td>0</td>\n",
       "      <td>0</td>\n",
       "      <td>0</td>\n",
       "      <td>0</td>\n",
       "      <td>...</td>\n",
       "      <td>0</td>\n",
       "      <td>0</td>\n",
       "      <td>0</td>\n",
       "      <td>0</td>\n",
       "      <td>0</td>\n",
       "      <td>0</td>\n",
       "      <td>0</td>\n",
       "      <td>0</td>\n",
       "      <td>0</td>\n",
       "      <td>0</td>\n",
       "    </tr>\n",
       "    <tr>\n",
       "      <th>2</th>\n",
       "      <td>0</td>\n",
       "      <td>0</td>\n",
       "      <td>1</td>\n",
       "      <td>0</td>\n",
       "      <td>2</td>\n",
       "      <td>0</td>\n",
       "      <td>1</td>\n",
       "      <td>2</td>\n",
       "      <td>0</td>\n",
       "      <td>2</td>\n",
       "      <td>...</td>\n",
       "      <td>1</td>\n",
       "      <td>0</td>\n",
       "      <td>0</td>\n",
       "      <td>0</td>\n",
       "      <td>1</td>\n",
       "      <td>0</td>\n",
       "      <td>0</td>\n",
       "      <td>0</td>\n",
       "      <td>0</td>\n",
       "      <td>0</td>\n",
       "    </tr>\n",
       "    <tr>\n",
       "      <th>3</th>\n",
       "      <td>1</td>\n",
       "      <td>0</td>\n",
       "      <td>0</td>\n",
       "      <td>0</td>\n",
       "      <td>2</td>\n",
       "      <td>0</td>\n",
       "      <td>1</td>\n",
       "      <td>0</td>\n",
       "      <td>0</td>\n",
       "      <td>0</td>\n",
       "      <td>...</td>\n",
       "      <td>0</td>\n",
       "      <td>0</td>\n",
       "      <td>0</td>\n",
       "      <td>0</td>\n",
       "      <td>0</td>\n",
       "      <td>0</td>\n",
       "      <td>1</td>\n",
       "      <td>1</td>\n",
       "      <td>1</td>\n",
       "      <td>0</td>\n",
       "    </tr>\n",
       "    <tr>\n",
       "      <th>4</th>\n",
       "      <td>2</td>\n",
       "      <td>0</td>\n",
       "      <td>0</td>\n",
       "      <td>0</td>\n",
       "      <td>0</td>\n",
       "      <td>0</td>\n",
       "      <td>1</td>\n",
       "      <td>0</td>\n",
       "      <td>0</td>\n",
       "      <td>1</td>\n",
       "      <td>...</td>\n",
       "      <td>0</td>\n",
       "      <td>0</td>\n",
       "      <td>0</td>\n",
       "      <td>0</td>\n",
       "      <td>0</td>\n",
       "      <td>0</td>\n",
       "      <td>0</td>\n",
       "      <td>1</td>\n",
       "      <td>0</td>\n",
       "      <td>0</td>\n",
       "    </tr>\n",
       "  </tbody>\n",
       "</table>\n",
       "<p>5 rows × 59 columns</p>\n",
       "</div>"
      ],
      "text/plain": [
       "   article  believe  better  case  computer  did  distribution  does  doesnt  \\\n",
       "0        0        0       0     0         0    0             0     0       0   \n",
       "1        0        0       0     0         0    0             0     0       0   \n",
       "2        0        0       1     0         2    0             1     2       0   \n",
       "3        1        0       0     0         2    0             1     0       0   \n",
       "4        2        0       0     0         0    0             1     0       0   \n",
       "\n",
       "   dont  ...  use  used  using  want  way  work  world  writes  \\\n",
       "0     0  ...    0     0      0     0    0     0      0       0   \n",
       "1     0  ...    0     0      0     0    0     0      0       0   \n",
       "2     2  ...    1     0      0     0    1     0      0       0   \n",
       "3     0  ...    0     0      0     0    0     0      1       1   \n",
       "4     1  ...    0     0      0     0    0     0      0       1   \n",
       "\n",
       "   writes article  years  \n",
       "0               0      1  \n",
       "1               0      0  \n",
       "2               0      0  \n",
       "3               1      0  \n",
       "4               0      0  \n",
       "\n",
       "[5 rows x 59 columns]"
      ]
     },
     "execution_count": 15,
     "metadata": {},
     "output_type": "execute_result"
    }
   ],
   "source": [
    "bagofwords = pd.DataFrame(X.toarray(),\n",
    "                          columns = vectorizer.get_feature_names())\n",
    "\n",
    "bagofwords.head()"
   ]
  },
  {
   "cell_type": "code",
   "execution_count": 16,
   "metadata": {},
   "outputs": [
    {
     "data": {
      "text/plain": [
       "['article',\n",
       " 'believe',\n",
       " 'better',\n",
       " 'case',\n",
       " 'computer',\n",
       " 'did',\n",
       " 'distribution',\n",
       " 'does',\n",
       " 'doesnt',\n",
       " 'dont',\n",
       " 'email',\n",
       " 'going',\n",
       " 'good',\n",
       " 'got',\n",
       " 'help',\n",
       " 'im',\n",
       " 'ive',\n",
       " 'just',\n",
       " 'know',\n",
       " 'like',\n",
       " 'lines',\n",
       " 'lines article',\n",
       " 'lines nntppostinghost',\n",
       " 'make',\n",
       " 'need',\n",
       " 'new',\n",
       " 'nntppostinghost',\n",
       " 'organization',\n",
       " 'organization university',\n",
       " 'people',\n",
       " 'point',\n",
       " 'problem',\n",
       " 'question',\n",
       " 'read',\n",
       " 'really',\n",
       " 'replyto',\n",
       " 'right',\n",
       " 'said',\n",
       " 'say',\n",
       " 'state',\n",
       " 'subject',\n",
       " 'sure',\n",
       " 'thanks',\n",
       " 'thing',\n",
       " 'things',\n",
       " 'think',\n",
       " 'time',\n",
       " 'university',\n",
       " 'usa',\n",
       " 'use',\n",
       " 'used',\n",
       " 'using',\n",
       " 'want',\n",
       " 'way',\n",
       " 'work',\n",
       " 'world',\n",
       " 'writes',\n",
       " 'writes article',\n",
       " 'years']"
      ]
     },
     "execution_count": 16,
     "metadata": {},
     "output_type": "execute_result"
    }
   ],
   "source": [
    "vectorizer.get_feature_names()"
   ]
  },
  {
   "cell_type": "markdown",
   "metadata": {},
   "source": [
    "# Implementing term frequency-inverse document frequency"
   ]
  },
  {
   "attachments": {
    "inn.png": {
     "image/png": "[encoded data removed]"
    }
   },
   "cell_type": "markdown",
   "metadata": {},
   "source": [
    "Term Frequency-Inverse Document Frequency (TF-IDF) is a numerical statistic that captures how relevant a word is in a document, with respect to the entire collection of documents. What does this mean? Some words will appear a lot within a text document as well as across documents, for example, the English words the, a, and is. These words generally convey little information about the actual content of the document and don't make it stand out of the crowd. TF-IDF provides a way to weigh the importance of a word, by contemplating how many times it appears in a document, with respect to how often it appears across documents. Hence, commonly occurring words such as the, a, and is will have a low weight, and words more specific to a topic, such as leopard, will have a higher weight.\n",
    "\n",
    "TF-IDF is the product of two statistics, term frequency and inverse document frequency. Term frequency is, in its simplest form, the count of the word in an individual text. So, for term t, the term frequency is calculated as tf(t) = count(t) and is determined text by text. The inverse document frequency is a measure of how common the word is across all documents and is usually calculated on a logarithmic scale. A common implementation is given by the following:\n",
    "\n",
    "![inn.png](attachment:inn.png)\n",
    "\n",
    "Here, n is the total number of documents and df(t) the number of documents in which the term t appears. The bigger the value of df(t), the lower the weighting for the term.\n",
    "\n",
    "TF-IDF can be also used together with n-grams. Similarly, to weight an n-gram, we compound the n-gram frequency in a certain document by the times the n-gram appears across all documents\n",
    "\n",
    "\n"
   ]
  },
  {
   "cell_type": "code",
   "execution_count": 17,
   "metadata": {},
   "outputs": [],
   "source": [
    "\n",
    "import pandas as pd\n",
    "\n",
    "from sklearn.datasets import fetch_20newsgroups\n",
    "from sklearn.feature_extraction.text import TfidfVectorizer"
   ]
  },
  {
   "cell_type": "code",
   "execution_count": 18,
   "metadata": {},
   "outputs": [
    {
     "data": {
      "text/html": [
       "<div>\n",
       "<style scoped>\n",
       "    .dataframe tbody tr th:only-of-type {\n",
       "        vertical-align: middle;\n",
       "    }\n",
       "\n",
       "    .dataframe tbody tr th {\n",
       "        vertical-align: top;\n",
       "    }\n",
       "\n",
       "    .dataframe thead th {\n",
       "        text-align: right;\n",
       "    }\n",
       "</style>\n",
       "<table border=\"1\" class=\"dataframe\">\n",
       "  <thead>\n",
       "    <tr style=\"text-align: right;\">\n",
       "      <th></th>\n",
       "      <th>text</th>\n",
       "    </tr>\n",
       "  </thead>\n",
       "  <tbody>\n",
       "    <tr>\n",
       "      <th>0</th>\n",
       "      <td>From: lerxst@wam.umd.edu (where's my thing)\\nS...</td>\n",
       "    </tr>\n",
       "    <tr>\n",
       "      <th>1</th>\n",
       "      <td>From: guykuo@carson.u.washington.edu (Guy Kuo)...</td>\n",
       "    </tr>\n",
       "    <tr>\n",
       "      <th>2</th>\n",
       "      <td>From: twillis@ec.ecn.purdue.edu (Thomas E Will...</td>\n",
       "    </tr>\n",
       "    <tr>\n",
       "      <th>3</th>\n",
       "      <td>From: jgreen@amber (Joe Green)\\nSubject: Re: W...</td>\n",
       "    </tr>\n",
       "    <tr>\n",
       "      <th>4</th>\n",
       "      <td>From: jcm@head-cfa.harvard.edu (Jonathan McDow...</td>\n",
       "    </tr>\n",
       "  </tbody>\n",
       "</table>\n",
       "</div>"
      ],
      "text/plain": [
       "                                                text\n",
       "0  From: lerxst@wam.umd.edu (where's my thing)\\nS...\n",
       "1  From: guykuo@carson.u.washington.edu (Guy Kuo)...\n",
       "2  From: twillis@ec.ecn.purdue.edu (Thomas E Will...\n",
       "3  From: jgreen@amber (Joe Green)\\nSubject: Re: W...\n",
       "4  From: jcm@head-cfa.harvard.edu (Jonathan McDow..."
      ]
     },
     "execution_count": 18,
     "metadata": {},
     "output_type": "execute_result"
    }
   ],
   "source": [
    "# load data\n",
    "data = fetch_20newsgroups(subset='train')\n",
    "df = pd.DataFrame(data.data, columns=['text'])\n",
    "df.head()"
   ]
  },
  {
   "cell_type": "code",
   "execution_count": 19,
   "metadata": {},
   "outputs": [],
   "source": [
    "# remove punctuation and numbers\n",
    "df['text'] = df['text'].str.replace('[^\\w\\s]','').str.replace('\\d+', '')"
   ]
  },
  {
   "cell_type": "code",
   "execution_count": 20,
   "metadata": {},
   "outputs": [],
   "source": [
    "\n",
    "# set up Tf-idf transformer\n",
    "vectorizer = TfidfVectorizer(lowercase=True,\n",
    "                             stop_words='english',\n",
    "                             ngram_range=(1, 1),\n",
    "                             min_df=0.05)"
   ]
  },
  {
   "cell_type": "code",
   "execution_count": 21,
   "metadata": {},
   "outputs": [
    {
     "data": {
      "text/plain": [
       "TfidfVectorizer(min_df=0.05, stop_words='english')"
      ]
     },
     "execution_count": 21,
     "metadata": {},
     "output_type": "execute_result"
    }
   ],
   "source": [
    "# learn words to be retained and their frequency\n",
    "\n",
    "vectorizer.fit(df['text'])"
   ]
  },
  {
   "cell_type": "code",
   "execution_count": 22,
   "metadata": {},
   "outputs": [],
   "source": [
    "X = vectorizer.transform(df['text'])"
   ]
  },
  {
   "cell_type": "code",
   "execution_count": 23,
   "metadata": {},
   "outputs": [
    {
     "data": {
      "text/html": [
       "<div>\n",
       "<style scoped>\n",
       "    .dataframe tbody tr th:only-of-type {\n",
       "        vertical-align: middle;\n",
       "    }\n",
       "\n",
       "    .dataframe tbody tr th {\n",
       "        vertical-align: top;\n",
       "    }\n",
       "\n",
       "    .dataframe thead th {\n",
       "        text-align: right;\n",
       "    }\n",
       "</style>\n",
       "<table border=\"1\" class=\"dataframe\">\n",
       "  <thead>\n",
       "    <tr style=\"text-align: right;\">\n",
       "      <th></th>\n",
       "      <th>able</th>\n",
       "      <th>access</th>\n",
       "      <th>actually</th>\n",
       "      <th>ago</th>\n",
       "      <th>apr</th>\n",
       "      <th>article</th>\n",
       "      <th>articleid</th>\n",
       "      <th>ask</th>\n",
       "      <th>available</th>\n",
       "      <th>away</th>\n",
       "      <th>...</th>\n",
       "      <th>works</th>\n",
       "      <th>world</th>\n",
       "      <th>writes</th>\n",
       "      <th>wrong</th>\n",
       "      <th>wrote</th>\n",
       "      <th>xnewsreader</th>\n",
       "      <th>year</th>\n",
       "      <th>years</th>\n",
       "      <th>yes</th>\n",
       "      <th>youre</th>\n",
       "    </tr>\n",
       "  </thead>\n",
       "  <tbody>\n",
       "    <tr>\n",
       "      <th>0</th>\n",
       "      <td>0.0</td>\n",
       "      <td>0.000000</td>\n",
       "      <td>0.000000</td>\n",
       "      <td>0.0</td>\n",
       "      <td>0.0</td>\n",
       "      <td>0.000000</td>\n",
       "      <td>0.000000</td>\n",
       "      <td>0.0</td>\n",
       "      <td>0.0</td>\n",
       "      <td>0.0</td>\n",
       "      <td>...</td>\n",
       "      <td>0.0</td>\n",
       "      <td>0.000000</td>\n",
       "      <td>0.000000</td>\n",
       "      <td>0.0</td>\n",
       "      <td>0.000000</td>\n",
       "      <td>0.000000</td>\n",
       "      <td>0.0</td>\n",
       "      <td>0.27302</td>\n",
       "      <td>0.000000</td>\n",
       "      <td>0.0</td>\n",
       "    </tr>\n",
       "    <tr>\n",
       "      <th>1</th>\n",
       "      <td>0.0</td>\n",
       "      <td>0.000000</td>\n",
       "      <td>0.000000</td>\n",
       "      <td>0.0</td>\n",
       "      <td>0.0</td>\n",
       "      <td>0.000000</td>\n",
       "      <td>0.356469</td>\n",
       "      <td>0.0</td>\n",
       "      <td>0.0</td>\n",
       "      <td>0.0</td>\n",
       "      <td>...</td>\n",
       "      <td>0.0</td>\n",
       "      <td>0.000000</td>\n",
       "      <td>0.000000</td>\n",
       "      <td>0.0</td>\n",
       "      <td>0.000000</td>\n",
       "      <td>0.000000</td>\n",
       "      <td>0.0</td>\n",
       "      <td>0.00000</td>\n",
       "      <td>0.000000</td>\n",
       "      <td>0.0</td>\n",
       "    </tr>\n",
       "    <tr>\n",
       "      <th>2</th>\n",
       "      <td>0.0</td>\n",
       "      <td>0.135765</td>\n",
       "      <td>0.123914</td>\n",
       "      <td>0.0</td>\n",
       "      <td>0.0</td>\n",
       "      <td>0.000000</td>\n",
       "      <td>0.000000</td>\n",
       "      <td>0.0</td>\n",
       "      <td>0.0</td>\n",
       "      <td>0.0</td>\n",
       "      <td>...</td>\n",
       "      <td>0.0</td>\n",
       "      <td>0.000000</td>\n",
       "      <td>0.000000</td>\n",
       "      <td>0.0</td>\n",
       "      <td>0.000000</td>\n",
       "      <td>0.000000</td>\n",
       "      <td>0.0</td>\n",
       "      <td>0.00000</td>\n",
       "      <td>0.000000</td>\n",
       "      <td>0.0</td>\n",
       "    </tr>\n",
       "    <tr>\n",
       "      <th>3</th>\n",
       "      <td>0.0</td>\n",
       "      <td>0.000000</td>\n",
       "      <td>0.000000</td>\n",
       "      <td>0.0</td>\n",
       "      <td>0.0</td>\n",
       "      <td>0.110035</td>\n",
       "      <td>0.000000</td>\n",
       "      <td>0.0</td>\n",
       "      <td>0.0</td>\n",
       "      <td>0.0</td>\n",
       "      <td>...</td>\n",
       "      <td>0.0</td>\n",
       "      <td>0.169635</td>\n",
       "      <td>0.100554</td>\n",
       "      <td>0.0</td>\n",
       "      <td>0.218197</td>\n",
       "      <td>0.233578</td>\n",
       "      <td>0.0</td>\n",
       "      <td>0.00000</td>\n",
       "      <td>0.000000</td>\n",
       "      <td>0.0</td>\n",
       "    </tr>\n",
       "    <tr>\n",
       "      <th>4</th>\n",
       "      <td>0.0</td>\n",
       "      <td>0.000000</td>\n",
       "      <td>0.000000</td>\n",
       "      <td>0.0</td>\n",
       "      <td>0.0</td>\n",
       "      <td>0.262692</td>\n",
       "      <td>0.000000</td>\n",
       "      <td>0.0</td>\n",
       "      <td>0.0</td>\n",
       "      <td>0.0</td>\n",
       "      <td>...</td>\n",
       "      <td>0.0</td>\n",
       "      <td>0.000000</td>\n",
       "      <td>0.120029</td>\n",
       "      <td>0.0</td>\n",
       "      <td>0.000000</td>\n",
       "      <td>0.000000</td>\n",
       "      <td>0.0</td>\n",
       "      <td>0.00000</td>\n",
       "      <td>0.264836</td>\n",
       "      <td>0.0</td>\n",
       "    </tr>\n",
       "  </tbody>\n",
       "</table>\n",
       "<p>5 rows × 191 columns</p>\n",
       "</div>"
      ],
      "text/plain": [
       "   able    access  actually  ago  apr   article  articleid  ask  available  \\\n",
       "0   0.0  0.000000  0.000000  0.0  0.0  0.000000   0.000000  0.0        0.0   \n",
       "1   0.0  0.000000  0.000000  0.0  0.0  0.000000   0.356469  0.0        0.0   \n",
       "2   0.0  0.135765  0.123914  0.0  0.0  0.000000   0.000000  0.0        0.0   \n",
       "3   0.0  0.000000  0.000000  0.0  0.0  0.110035   0.000000  0.0        0.0   \n",
       "4   0.0  0.000000  0.000000  0.0  0.0  0.262692   0.000000  0.0        0.0   \n",
       "\n",
       "   away  ...  works     world    writes  wrong     wrote  xnewsreader  year  \\\n",
       "0   0.0  ...    0.0  0.000000  0.000000    0.0  0.000000     0.000000   0.0   \n",
       "1   0.0  ...    0.0  0.000000  0.000000    0.0  0.000000     0.000000   0.0   \n",
       "2   0.0  ...    0.0  0.000000  0.000000    0.0  0.000000     0.000000   0.0   \n",
       "3   0.0  ...    0.0  0.169635  0.100554    0.0  0.218197     0.233578   0.0   \n",
       "4   0.0  ...    0.0  0.000000  0.120029    0.0  0.000000     0.000000   0.0   \n",
       "\n",
       "     years       yes  youre  \n",
       "0  0.27302  0.000000    0.0  \n",
       "1  0.00000  0.000000    0.0  \n",
       "2  0.00000  0.000000    0.0  \n",
       "3  0.00000  0.000000    0.0  \n",
       "4  0.00000  0.264836    0.0  \n",
       "\n",
       "[5 rows x 191 columns]"
      ]
     },
     "execution_count": 23,
     "metadata": {},
     "output_type": "execute_result"
    }
   ],
   "source": [
    "# create tf-idf dataframe\n",
    "\n",
    "tfidf = pd.DataFrame(X.toarray(),\n",
    "                          columns = vectorizer.get_feature_names())\n",
    "\n",
    "tfidf.head()"
   ]
  },
  {
   "cell_type": "code",
   "execution_count": 24,
   "metadata": {},
   "outputs": [
    {
     "data": {
      "text/plain": [
       "(11314, 191)"
      ]
     },
     "execution_count": 24,
     "metadata": {},
     "output_type": "execute_result"
    }
   ],
   "source": [
    "tfidf.shape"
   ]
  },
  {
   "cell_type": "code",
   "execution_count": 25,
   "metadata": {},
   "outputs": [],
   "source": [
    "# with n grams\n",
    "vectorizer = TfidfVectorizer(lowercase=True,\n",
    "                             stop_words='english',\n",
    "                             ngram_range=(1, 2),\n",
    "                             min_df=0.1)"
   ]
  },
  {
   "cell_type": "code",
   "execution_count": 26,
   "metadata": {},
   "outputs": [
    {
     "data": {
      "text/plain": [
       "TfidfVectorizer(min_df=0.1, ngram_range=(1, 2), stop_words='english')"
      ]
     },
     "execution_count": 26,
     "metadata": {},
     "output_type": "execute_result"
    }
   ],
   "source": [
    "vectorizer.fit(df['text'])"
   ]
  },
  {
   "cell_type": "code",
   "execution_count": 27,
   "metadata": {},
   "outputs": [],
   "source": [
    "X = vectorizer.transform(df['text'])"
   ]
  },
  {
   "cell_type": "code",
   "execution_count": 28,
   "metadata": {},
   "outputs": [
    {
     "data": {
      "text/html": [
       "<div>\n",
       "<style scoped>\n",
       "    .dataframe tbody tr th:only-of-type {\n",
       "        vertical-align: middle;\n",
       "    }\n",
       "\n",
       "    .dataframe tbody tr th {\n",
       "        vertical-align: top;\n",
       "    }\n",
       "\n",
       "    .dataframe thead th {\n",
       "        text-align: right;\n",
       "    }\n",
       "</style>\n",
       "<table border=\"1\" class=\"dataframe\">\n",
       "  <thead>\n",
       "    <tr style=\"text-align: right;\">\n",
       "      <th></th>\n",
       "      <th>article</th>\n",
       "      <th>believe</th>\n",
       "      <th>better</th>\n",
       "      <th>case</th>\n",
       "      <th>computer</th>\n",
       "      <th>did</th>\n",
       "      <th>distribution</th>\n",
       "      <th>does</th>\n",
       "      <th>doesnt</th>\n",
       "      <th>dont</th>\n",
       "      <th>...</th>\n",
       "      <th>use</th>\n",
       "      <th>used</th>\n",
       "      <th>using</th>\n",
       "      <th>want</th>\n",
       "      <th>way</th>\n",
       "      <th>work</th>\n",
       "      <th>world</th>\n",
       "      <th>writes</th>\n",
       "      <th>writes article</th>\n",
       "      <th>years</th>\n",
       "    </tr>\n",
       "  </thead>\n",
       "  <tbody>\n",
       "    <tr>\n",
       "      <th>0</th>\n",
       "      <td>0.000000</td>\n",
       "      <td>0.0</td>\n",
       "      <td>0.000000</td>\n",
       "      <td>0.0</td>\n",
       "      <td>0.00000</td>\n",
       "      <td>0.0</td>\n",
       "      <td>0.000000</td>\n",
       "      <td>0.000000</td>\n",
       "      <td>0.0</td>\n",
       "      <td>0.000000</td>\n",
       "      <td>...</td>\n",
       "      <td>0.000000</td>\n",
       "      <td>0.0</td>\n",
       "      <td>0.0</td>\n",
       "      <td>0.0</td>\n",
       "      <td>0.000000</td>\n",
       "      <td>0.0</td>\n",
       "      <td>0.000000</td>\n",
       "      <td>0.000000</td>\n",
       "      <td>0.000000</td>\n",
       "      <td>0.374196</td>\n",
       "    </tr>\n",
       "    <tr>\n",
       "      <th>1</th>\n",
       "      <td>0.000000</td>\n",
       "      <td>0.0</td>\n",
       "      <td>0.000000</td>\n",
       "      <td>0.0</td>\n",
       "      <td>0.00000</td>\n",
       "      <td>0.0</td>\n",
       "      <td>0.000000</td>\n",
       "      <td>0.000000</td>\n",
       "      <td>0.0</td>\n",
       "      <td>0.000000</td>\n",
       "      <td>...</td>\n",
       "      <td>0.000000</td>\n",
       "      <td>0.0</td>\n",
       "      <td>0.0</td>\n",
       "      <td>0.0</td>\n",
       "      <td>0.000000</td>\n",
       "      <td>0.0</td>\n",
       "      <td>0.000000</td>\n",
       "      <td>0.000000</td>\n",
       "      <td>0.000000</td>\n",
       "      <td>0.000000</td>\n",
       "    </tr>\n",
       "    <tr>\n",
       "      <th>2</th>\n",
       "      <td>0.000000</td>\n",
       "      <td>0.0</td>\n",
       "      <td>0.186832</td>\n",
       "      <td>0.0</td>\n",
       "      <td>0.34948</td>\n",
       "      <td>0.0</td>\n",
       "      <td>0.142464</td>\n",
       "      <td>0.284095</td>\n",
       "      <td>0.0</td>\n",
       "      <td>0.259031</td>\n",
       "      <td>...</td>\n",
       "      <td>0.153118</td>\n",
       "      <td>0.0</td>\n",
       "      <td>0.0</td>\n",
       "      <td>0.0</td>\n",
       "      <td>0.158175</td>\n",
       "      <td>0.0</td>\n",
       "      <td>0.000000</td>\n",
       "      <td>0.000000</td>\n",
       "      <td>0.000000</td>\n",
       "      <td>0.000000</td>\n",
       "    </tr>\n",
       "    <tr>\n",
       "      <th>3</th>\n",
       "      <td>0.168872</td>\n",
       "      <td>0.0</td>\n",
       "      <td>0.000000</td>\n",
       "      <td>0.0</td>\n",
       "      <td>0.55510</td>\n",
       "      <td>0.0</td>\n",
       "      <td>0.226284</td>\n",
       "      <td>0.000000</td>\n",
       "      <td>0.0</td>\n",
       "      <td>0.000000</td>\n",
       "      <td>...</td>\n",
       "      <td>0.000000</td>\n",
       "      <td>0.0</td>\n",
       "      <td>0.0</td>\n",
       "      <td>0.0</td>\n",
       "      <td>0.000000</td>\n",
       "      <td>0.0</td>\n",
       "      <td>0.260342</td>\n",
       "      <td>0.154322</td>\n",
       "      <td>0.301699</td>\n",
       "      <td>0.000000</td>\n",
       "    </tr>\n",
       "    <tr>\n",
       "      <th>4</th>\n",
       "      <td>0.329602</td>\n",
       "      <td>0.0</td>\n",
       "      <td>0.000000</td>\n",
       "      <td>0.0</td>\n",
       "      <td>0.00000</td>\n",
       "      <td>0.0</td>\n",
       "      <td>0.220829</td>\n",
       "      <td>0.000000</td>\n",
       "      <td>0.0</td>\n",
       "      <td>0.200758</td>\n",
       "      <td>...</td>\n",
       "      <td>0.000000</td>\n",
       "      <td>0.0</td>\n",
       "      <td>0.0</td>\n",
       "      <td>0.0</td>\n",
       "      <td>0.000000</td>\n",
       "      <td>0.0</td>\n",
       "      <td>0.000000</td>\n",
       "      <td>0.150602</td>\n",
       "      <td>0.000000</td>\n",
       "      <td>0.000000</td>\n",
       "    </tr>\n",
       "  </tbody>\n",
       "</table>\n",
       "<p>5 rows × 59 columns</p>\n",
       "</div>"
      ],
      "text/plain": [
       "    article  believe    better  case  computer  did  distribution      does  \\\n",
       "0  0.000000      0.0  0.000000   0.0   0.00000  0.0      0.000000  0.000000   \n",
       "1  0.000000      0.0  0.000000   0.0   0.00000  0.0      0.000000  0.000000   \n",
       "2  0.000000      0.0  0.186832   0.0   0.34948  0.0      0.142464  0.284095   \n",
       "3  0.168872      0.0  0.000000   0.0   0.55510  0.0      0.226284  0.000000   \n",
       "4  0.329602      0.0  0.000000   0.0   0.00000  0.0      0.220829  0.000000   \n",
       "\n",
       "   doesnt      dont  ...       use  used  using  want       way  work  \\\n",
       "0     0.0  0.000000  ...  0.000000   0.0    0.0   0.0  0.000000   0.0   \n",
       "1     0.0  0.000000  ...  0.000000   0.0    0.0   0.0  0.000000   0.0   \n",
       "2     0.0  0.259031  ...  0.153118   0.0    0.0   0.0  0.158175   0.0   \n",
       "3     0.0  0.000000  ...  0.000000   0.0    0.0   0.0  0.000000   0.0   \n",
       "4     0.0  0.200758  ...  0.000000   0.0    0.0   0.0  0.000000   0.0   \n",
       "\n",
       "      world    writes  writes article     years  \n",
       "0  0.000000  0.000000        0.000000  0.374196  \n",
       "1  0.000000  0.000000        0.000000  0.000000  \n",
       "2  0.000000  0.000000        0.000000  0.000000  \n",
       "3  0.260342  0.154322        0.301699  0.000000  \n",
       "4  0.000000  0.150602        0.000000  0.000000  \n",
       "\n",
       "[5 rows x 59 columns]"
      ]
     },
     "execution_count": 28,
     "metadata": {},
     "output_type": "execute_result"
    }
   ],
   "source": [
    "tfidf = pd.DataFrame(X.toarray(),\n",
    "                          columns = vectorizer.get_feature_names())\n",
    "\n",
    "tfidf.head()"
   ]
  },
  {
   "cell_type": "code",
   "execution_count": 29,
   "metadata": {},
   "outputs": [
    {
     "data": {
      "text/plain": [
       "['article',\n",
       " 'believe',\n",
       " 'better',\n",
       " 'case',\n",
       " 'computer',\n",
       " 'did',\n",
       " 'distribution',\n",
       " 'does',\n",
       " 'doesnt',\n",
       " 'dont',\n",
       " 'email',\n",
       " 'going',\n",
       " 'good',\n",
       " 'got',\n",
       " 'help',\n",
       " 'im',\n",
       " 'ive',\n",
       " 'just',\n",
       " 'know',\n",
       " 'like',\n",
       " 'lines',\n",
       " 'lines article',\n",
       " 'lines nntppostinghost',\n",
       " 'make',\n",
       " 'need',\n",
       " 'new',\n",
       " 'nntppostinghost',\n",
       " 'organization',\n",
       " 'organization university',\n",
       " 'people',\n",
       " 'point',\n",
       " 'problem',\n",
       " 'question',\n",
       " 'read',\n",
       " 'really',\n",
       " 'replyto',\n",
       " 'right',\n",
       " 'said',\n",
       " 'say',\n",
       " 'state',\n",
       " 'subject',\n",
       " 'sure',\n",
       " 'thanks',\n",
       " 'thing',\n",
       " 'things',\n",
       " 'think',\n",
       " 'time',\n",
       " 'university',\n",
       " 'usa',\n",
       " 'use',\n",
       " 'used',\n",
       " 'using',\n",
       " 'want',\n",
       " 'way',\n",
       " 'work',\n",
       " 'world',\n",
       " 'writes',\n",
       " 'writes article',\n",
       " 'years']"
      ]
     },
     "execution_count": 29,
     "metadata": {},
     "output_type": "execute_result"
    }
   ],
   "source": [
    "vectorizer.get_feature_names()"
   ]
  },
  {
   "cell_type": "markdown",
   "metadata": {},
   "source": [
    "# Cleaning and stemming text variables "
   ]
  },
  {
   "cell_type": "markdown",
   "metadata": {},
   "source": [
    "We mentioned previously that some variables in our dataset can be created based on free text fields, which are manually completed by users. People have different writing styles, and we use a variety of punctuation marks, capitalization patterns, and verb conjugation to convey the content, as well as the emotion around it. We can extract information from text without taking the trouble to read it by creating statistical parameters that summarize the text complexity, keywords, and relevance of words in a document. We discussed these methods in the preceding recipes of this chapter. Yet, to derive these statistics and aggregated features, we should clean the text variables first.\n",
    "\n",
    "Text cleaning or text preprocessing involves punctuation removal, the elimination of stop words, character case setting, and word stemming. Punctuation removal consists of deleting characters that are not letters, numbers, or spaces, and, in some cases, we also remove numbers. The elimination of stop words refers to removing common words that are used in our language to allow for the sentence structure and flow, but that individually convey little or no information. Examples of stop words are the articles, the and a, for the English language, as well as pronouns such as I, you, and they, and commonly used verbs in their various conjugations, such as the verbs to be and to have as well as the auxiliary verbs would and do.\n",
    "\n",
    "To allow computers to identify words correctly, it is also necessary to set all words in the same case, as the word Toy and toy would be identified as different by a computer, due to the capital T in the first one. Finally, to focus on the message of the text and not to count them as different words that convey similar meaning if it weren't for their conjugation, we may also want to introduce word stemming as part of the preprocessing pipeline. Word stemming refers to reducing each word to its root or base so that the words playing, plays, and played become play, which, in essence, convey the same or very similar meaning.\n",
    "\n",
    "In this recipe, we will learn how to remove punctuation and stop words, set words in lowercase, and perform word stemming with pandas and NLTK."
   ]
  },
  {
   "cell_type": "code",
   "execution_count": 30,
   "metadata": {},
   "outputs": [],
   "source": [
    "import pandas as pd\n",
    "\n",
    "from nltk.corpus import stopwords\n",
    "from nltk.stem.snowball import SnowballStemmer\n",
    "\n",
    "from sklearn.datasets import fetch_20newsgroups"
   ]
  },
  {
   "cell_type": "code",
   "execution_count": 31,
   "metadata": {},
   "outputs": [
    {
     "data": {
      "text/html": [
       "<div>\n",
       "<style scoped>\n",
       "    .dataframe tbody tr th:only-of-type {\n",
       "        vertical-align: middle;\n",
       "    }\n",
       "\n",
       "    .dataframe tbody tr th {\n",
       "        vertical-align: top;\n",
       "    }\n",
       "\n",
       "    .dataframe thead th {\n",
       "        text-align: right;\n",
       "    }\n",
       "</style>\n",
       "<table border=\"1\" class=\"dataframe\">\n",
       "  <thead>\n",
       "    <tr style=\"text-align: right;\">\n",
       "      <th></th>\n",
       "      <th>text</th>\n",
       "    </tr>\n",
       "  </thead>\n",
       "  <tbody>\n",
       "    <tr>\n",
       "      <th>0</th>\n",
       "      <td>From: lerxst@wam.umd.edu (where's my thing)\\nS...</td>\n",
       "    </tr>\n",
       "    <tr>\n",
       "      <th>1</th>\n",
       "      <td>From: guykuo@carson.u.washington.edu (Guy Kuo)...</td>\n",
       "    </tr>\n",
       "    <tr>\n",
       "      <th>2</th>\n",
       "      <td>From: twillis@ec.ecn.purdue.edu (Thomas E Will...</td>\n",
       "    </tr>\n",
       "    <tr>\n",
       "      <th>3</th>\n",
       "      <td>From: jgreen@amber (Joe Green)\\nSubject: Re: W...</td>\n",
       "    </tr>\n",
       "    <tr>\n",
       "      <th>4</th>\n",
       "      <td>From: jcm@head-cfa.harvard.edu (Jonathan McDow...</td>\n",
       "    </tr>\n",
       "  </tbody>\n",
       "</table>\n",
       "</div>"
      ],
      "text/plain": [
       "                                                text\n",
       "0  From: lerxst@wam.umd.edu (where's my thing)\\nS...\n",
       "1  From: guykuo@carson.u.washington.edu (Guy Kuo)...\n",
       "2  From: twillis@ec.ecn.purdue.edu (Thomas E Will...\n",
       "3  From: jgreen@amber (Joe Green)\\nSubject: Re: W...\n",
       "4  From: jcm@head-cfa.harvard.edu (Jonathan McDow..."
      ]
     },
     "execution_count": 31,
     "metadata": {},
     "output_type": "execute_result"
    }
   ],
   "source": [
    "# load data\n",
    "data = fetch_20newsgroups(subset='train')\n",
    "df = pd.DataFrame(data.data, columns=['text'])\n",
    "df.head()"
   ]
  },
  {
   "cell_type": "code",
   "execution_count": 32,
   "metadata": {},
   "outputs": [
    {
     "name": "stdout",
     "output_type": "stream",
     "text": [
      "From: irwin@cmptrc.lonestar.org (Irwin Arnstein)\n",
      "Subject: Re: Recommendation on Duc\n",
      "Summary: What's it worth?\n",
      "Distribution: usa\n",
      "Expires: Sat, 1 May 1993 05:00:00 GMT\n",
      "Organization: CompuTrac Inc., Richardson TX\n",
      "Keywords: Ducati, GTS, How much? \n",
      "Lines: 13\n",
      "\n",
      "I have a line on a Ducati 900GTS 1978 model with 17k on the clock.  Runs\n",
      "very well, paint is the bronze/brown/orange faded out, leaks a bit of oil\n",
      "and pops out of 1st with hard accel.  The shop will fix trans and oil \n",
      "leak.  They sold the bike to the 1 and only owner.  They want $3495, and\n",
      "I am thinking more like $3K.  Any opinions out there?  Please email me.\n",
      "Thanks.  It would be a nice stable mate to the Beemer.  Then I'll get\n",
      "a jap bike and call myself Axis Motors!\n",
      "\n",
      "-- \n",
      "-----------------------------------------------------------------------\n",
      "\"Tuba\" (Irwin)      \"I honk therefore I am\"     CompuTrac-Richardson,Tx\n",
      "irwin@cmptrc.lonestar.org    DoD #0826          (R75/6)\n",
      "-----------------------------------------------------------------------\n",
      "\n"
     ]
    }
   ],
   "source": [
    "\n",
    "# print example of text\n",
    "\n",
    "print(df['text'][10])"
   ]
  },
  {
   "cell_type": "code",
   "execution_count": 33,
   "metadata": {},
   "outputs": [],
   "source": [
    "# remove punctuation\n",
    "df[\"text\"] = df['text'].str.replace('[^\\w\\s]','')"
   ]
  },
  {
   "cell_type": "code",
   "execution_count": 34,
   "metadata": {},
   "outputs": [
    {
     "name": "stdout",
     "output_type": "stream",
     "text": [
      "From irwincmptrclonestarorg Irwin Arnstein\n",
      "Subject Re Recommendation on Duc\n",
      "Summary Whats it worth\n",
      "Distribution usa\n",
      "Expires Sat 1 May 1993 050000 GMT\n",
      "Organization CompuTrac Inc Richardson TX\n",
      "Keywords Ducati GTS How much \n",
      "Lines 13\n",
      "\n",
      "I have a line on a Ducati 900GTS 1978 model with 17k on the clock  Runs\n",
      "very well paint is the bronzebrownorange faded out leaks a bit of oil\n",
      "and pops out of 1st with hard accel  The shop will fix trans and oil \n",
      "leak  They sold the bike to the 1 and only owner  They want 3495 and\n",
      "I am thinking more like 3K  Any opinions out there  Please email me\n",
      "Thanks  It would be a nice stable mate to the Beemer  Then Ill get\n",
      "a jap bike and call myself Axis Motors\n",
      "\n",
      " \n",
      "\n",
      "Tuba Irwin      I honk therefore I am     CompuTracRichardsonTx\n",
      "irwincmptrclonestarorg    DoD 0826          R756\n",
      "\n",
      "\n"
     ]
    }
   ],
   "source": [
    "# print example without punctuation\n",
    "\n",
    "print(df['text'][10])"
   ]
  },
  {
   "cell_type": "code",
   "execution_count": 35,
   "metadata": {},
   "outputs": [],
   "source": [
    "# alternative way to remove punctuation\n",
    "import string\n",
    "df['text'] = df['text'].str.replace('[{}]'.format(string.punctuation), '')"
   ]
  },
  {
   "cell_type": "code",
   "execution_count": 36,
   "metadata": {},
   "outputs": [
    {
     "data": {
      "text/plain": [
       "'!\"#$%&\\'()*+,-./:;<=>?@[\\\\]^_`{|}~'"
      ]
     },
     "execution_count": 36,
     "metadata": {},
     "output_type": "execute_result"
    }
   ],
   "source": [
    "string.punctuation"
   ]
  },
  {
   "cell_type": "code",
   "execution_count": 37,
   "metadata": {},
   "outputs": [],
   "source": [
    "# remove numbers, keep only text\n",
    "\n",
    "df['text'] = df['text'].str.replace('\\d+', '')"
   ]
  },
  {
   "cell_type": "code",
   "execution_count": 38,
   "metadata": {},
   "outputs": [
    {
     "name": "stdout",
     "output_type": "stream",
     "text": [
      "From irwincmptrclonestarorg Irwin Arnstein\n",
      "Subject Re Recommendation on Duc\n",
      "Summary Whats it worth\n",
      "Distribution usa\n",
      "Expires Sat  May   GMT\n",
      "Organization CompuTrac Inc Richardson TX\n",
      "Keywords Ducati GTS How much \n",
      "Lines \n",
      "\n",
      "I have a line on a Ducati GTS  model with k on the clock  Runs\n",
      "very well paint is the bronzebrownorange faded out leaks a bit of oil\n",
      "and pops out of st with hard accel  The shop will fix trans and oil \n",
      "leak  They sold the bike to the  and only owner  They want  and\n",
      "I am thinking more like K  Any opinions out there  Please email me\n",
      "Thanks  It would be a nice stable mate to the Beemer  Then Ill get\n",
      "a jap bike and call myself Axis Motors\n",
      "\n",
      " \n",
      "\n",
      "Tuba Irwin      I honk therefore I am     CompuTracRichardsonTx\n",
      "irwincmptrclonestarorg    DoD           R\n",
      "\n",
      "\n"
     ]
    }
   ],
   "source": [
    "\n",
    "# print example without numbers\n",
    "\n",
    "print(df['text'][10])"
   ]
  },
  {
   "cell_type": "code",
   "execution_count": 39,
   "metadata": {},
   "outputs": [],
   "source": [
    "# put in lower case\n",
    "\n",
    "df['text'] = df['text'].str.lower()"
   ]
  },
  {
   "cell_type": "code",
   "execution_count": 40,
   "metadata": {},
   "outputs": [
    {
     "name": "stdout",
     "output_type": "stream",
     "text": [
      "from irwincmptrclonestarorg irwin arnstein\n",
      "subject re recommendation on duc\n",
      "summary whats it worth\n",
      "distribution usa\n",
      "expires sat  may   gmt\n",
      "organization computrac inc richardson tx\n",
      "keywords ducati gts how much \n",
      "lines \n",
      "\n",
      "i have a line on a ducati gts  model with k on the clock  runs\n",
      "very well paint is the bronzebrownorange faded out leaks a bit of oil\n",
      "and pops out of st with hard accel  the shop will fix trans and oil \n",
      "leak  they sold the bike to the  and only owner  they want  and\n",
      "i am thinking more like k  any opinions out there  please email me\n",
      "thanks  it would be a nice stable mate to the beemer  then ill get\n",
      "a jap bike and call myself axis motors\n",
      "\n",
      " \n",
      "\n",
      "tuba irwin      i honk therefore i am     computracrichardsontx\n",
      "irwincmptrclonestarorg    dod           r\n",
      "\n",
      "\n"
     ]
    }
   ],
   "source": [
    "# print example in lower case\n",
    "\n",
    "print(df['text'][10])"
   ]
  },
  {
   "cell_type": "code",
   "execution_count": 41,
   "metadata": {},
   "outputs": [
    {
     "data": {
      "text/plain": [
       "['i',\n",
       " 'me',\n",
       " 'my',\n",
       " 'myself',\n",
       " 'we',\n",
       " 'our',\n",
       " 'ours',\n",
       " 'ourselves',\n",
       " 'you',\n",
       " \"you're\",\n",
       " \"you've\",\n",
       " \"you'll\",\n",
       " \"you'd\",\n",
       " 'your',\n",
       " 'yours',\n",
       " 'yourself',\n",
       " 'yourselves',\n",
       " 'he',\n",
       " 'him',\n",
       " 'his',\n",
       " 'himself',\n",
       " 'she',\n",
       " \"she's\",\n",
       " 'her',\n",
       " 'hers',\n",
       " 'herself',\n",
       " 'it',\n",
       " \"it's\",\n",
       " 'its',\n",
       " 'itself',\n",
       " 'they',\n",
       " 'them',\n",
       " 'their',\n",
       " 'theirs',\n",
       " 'themselves',\n",
       " 'what',\n",
       " 'which',\n",
       " 'who',\n",
       " 'whom',\n",
       " 'this',\n",
       " 'that',\n",
       " \"that'll\",\n",
       " 'these',\n",
       " 'those',\n",
       " 'am',\n",
       " 'is',\n",
       " 'are',\n",
       " 'was',\n",
       " 'were',\n",
       " 'be',\n",
       " 'been',\n",
       " 'being',\n",
       " 'have',\n",
       " 'has',\n",
       " 'had',\n",
       " 'having',\n",
       " 'do',\n",
       " 'does',\n",
       " 'did',\n",
       " 'doing',\n",
       " 'a',\n",
       " 'an',\n",
       " 'the',\n",
       " 'and',\n",
       " 'but',\n",
       " 'if',\n",
       " 'or',\n",
       " 'because',\n",
       " 'as',\n",
       " 'until',\n",
       " 'while',\n",
       " 'of',\n",
       " 'at',\n",
       " 'by',\n",
       " 'for',\n",
       " 'with',\n",
       " 'about',\n",
       " 'against',\n",
       " 'between',\n",
       " 'into',\n",
       " 'through',\n",
       " 'during',\n",
       " 'before',\n",
       " 'after',\n",
       " 'above',\n",
       " 'below',\n",
       " 'to',\n",
       " 'from',\n",
       " 'up',\n",
       " 'down',\n",
       " 'in',\n",
       " 'out',\n",
       " 'on',\n",
       " 'off',\n",
       " 'over',\n",
       " 'under',\n",
       " 'again',\n",
       " 'further',\n",
       " 'then',\n",
       " 'once',\n",
       " 'here',\n",
       " 'there',\n",
       " 'when',\n",
       " 'where',\n",
       " 'why',\n",
       " 'how',\n",
       " 'all',\n",
       " 'any',\n",
       " 'both',\n",
       " 'each',\n",
       " 'few',\n",
       " 'more',\n",
       " 'most',\n",
       " 'other',\n",
       " 'some',\n",
       " 'such',\n",
       " 'no',\n",
       " 'nor',\n",
       " 'not',\n",
       " 'only',\n",
       " 'own',\n",
       " 'same',\n",
       " 'so',\n",
       " 'than',\n",
       " 'too',\n",
       " 'very',\n",
       " 's',\n",
       " 't',\n",
       " 'can',\n",
       " 'will',\n",
       " 'just',\n",
       " 'don',\n",
       " \"don't\",\n",
       " 'should',\n",
       " \"should've\",\n",
       " 'now',\n",
       " 'd',\n",
       " 'll',\n",
       " 'm',\n",
       " 'o',\n",
       " 're',\n",
       " 've',\n",
       " 'y',\n",
       " 'ain',\n",
       " 'aren',\n",
       " \"aren't\",\n",
       " 'couldn',\n",
       " \"couldn't\",\n",
       " 'didn',\n",
       " \"didn't\",\n",
       " 'doesn',\n",
       " \"doesn't\",\n",
       " 'hadn',\n",
       " \"hadn't\",\n",
       " 'hasn',\n",
       " \"hasn't\",\n",
       " 'haven',\n",
       " \"haven't\",\n",
       " 'isn',\n",
       " \"isn't\",\n",
       " 'ma',\n",
       " 'mightn',\n",
       " \"mightn't\",\n",
       " 'mustn',\n",
       " \"mustn't\",\n",
       " 'needn',\n",
       " \"needn't\",\n",
       " 'shan',\n",
       " \"shan't\",\n",
       " 'shouldn',\n",
       " \"shouldn't\",\n",
       " 'wasn',\n",
       " \"wasn't\",\n",
       " 'weren',\n",
       " \"weren't\",\n",
       " 'won',\n",
       " \"won't\",\n",
       " 'wouldn',\n",
       " \"wouldn't\"]"
      ]
     },
     "execution_count": 41,
     "metadata": {},
     "output_type": "execute_result"
    }
   ],
   "source": [
    "stopwords.words('english')"
   ]
  },
  {
   "cell_type": "code",
   "execution_count": 42,
   "metadata": {},
   "outputs": [],
   "source": [
    "# temove stop words\n",
    "\n",
    "def remove_stopwords(text):\n",
    "    stop = set(stopwords.words('english'))\n",
    "    text = [word for word in text.split() if word not in stop]\n",
    "    text = ' '.join(x for x in text)\n",
    "    return text"
   ]
  },
  {
   "cell_type": "code",
   "execution_count": 43,
   "metadata": {},
   "outputs": [
    {
     "data": {
      "text/plain": [
       "'irwincmptrclonestarorg irwin arnstein subject recommendation duc summary whats worth distribution usa expires sat may gmt organization computrac inc richardson tx keywords ducati gts much lines line ducati gts model k clock runs well paint bronzebrownorange faded leaks bit oil pops st hard accel shop fix trans oil leak sold bike owner want thinking like k opinions please email thanks would nice stable mate beemer ill get jap bike call axis motors tuba irwin honk therefore computracrichardsontx irwincmptrclonestarorg dod r'"
      ]
     },
     "execution_count": 43,
     "metadata": {},
     "output_type": "execute_result"
    }
   ],
   "source": [
    "# test function on single text\n",
    "\n",
    "remove_stopwords(df['text'][10])"
   ]
  },
  {
   "cell_type": "code",
   "execution_count": 44,
   "metadata": {},
   "outputs": [],
   "source": [
    "# apply function to entire dataframe\n",
    "# (this operation takes a while)\n",
    "\n",
    "df['text'] = df['text'].apply(remove_stopwords)"
   ]
  },
  {
   "cell_type": "code",
   "execution_count": 45,
   "metadata": {},
   "outputs": [
    {
     "name": "stdout",
     "output_type": "stream",
     "text": [
      "irwincmptrclonestarorg irwin arnstein subject recommendation duc summary whats worth distribution usa expires sat may gmt organization computrac inc richardson tx keywords ducati gts much lines line ducati gts model k clock runs well paint bronzebrownorange faded leaks bit oil pops st hard accel shop fix trans oil leak sold bike owner want thinking like k opinions please email thanks would nice stable mate beemer ill get jap bike call axis motors tuba irwin honk therefore computracrichardsontx irwincmptrclonestarorg dod r\n"
     ]
    }
   ],
   "source": [
    "# print example text without stopwords\n",
    "\n",
    "print(df['text'][10])"
   ]
  },
  {
   "cell_type": "code",
   "execution_count": 46,
   "metadata": {},
   "outputs": [],
   "source": [
    "\n",
    "# http://www.nltk.org/howto/stem.html\n",
    "# for other stemmers\n",
    "\n",
    "stemmer = SnowballStemmer(\"english\")"
   ]
  },
  {
   "cell_type": "code",
   "execution_count": 47,
   "metadata": {},
   "outputs": [
    {
     "data": {
      "text/plain": [
       "'run'"
      ]
     },
     "execution_count": 47,
     "metadata": {},
     "output_type": "execute_result"
    }
   ],
   "source": [
    "# test stemmer in one word\n",
    "stemmer.stem('running')"
   ]
  },
  {
   "cell_type": "code",
   "execution_count": 48,
   "metadata": {},
   "outputs": [],
   "source": [
    "\n",
    "def stemm_words(text):\n",
    "    text = [stemmer.stem(word) for word in text.split()]\n",
    "    text = ' '.join(x for x in text)\n",
    "    return text"
   ]
  },
  {
   "cell_type": "code",
   "execution_count": 49,
   "metadata": {},
   "outputs": [
    {
     "data": {
      "text/plain": [
       "'irwincmptrclonestarorg irwin arnstein subject recommend duc summari what worth distribut usa expir sat may gmt organ computrac inc richardson tx keyword ducati gts much line line ducati gts model k clock run well paint bronzebrownorang fade leak bit oil pop st hard accel shop fix tran oil leak sold bike owner want think like k opinion pleas email thank would nice stabl mate beemer ill get jap bike call axi motor tuba irwin honk therefor computracrichardsontx irwincmptrclonestarorg dod r'"
      ]
     },
     "execution_count": 49,
     "metadata": {},
     "output_type": "execute_result"
    }
   ],
   "source": [
    "# test function on single text\n",
    "\n",
    "stemm_words(df['text'][10])"
   ]
  },
  {
   "cell_type": "code",
   "execution_count": 50,
   "metadata": {},
   "outputs": [],
   "source": [
    "# stem entire dataframe\n",
    "df['text'] = df['text'].apply(stemm_words)"
   ]
  },
  {
   "cell_type": "code",
   "execution_count": 51,
   "metadata": {},
   "outputs": [
    {
     "name": "stdout",
     "output_type": "stream",
     "text": [
      "irwincmptrclonestarorg irwin arnstein subject recommend duc summari what worth distribut usa expir sat may gmt organ computrac inc richardson tx keyword ducati gts much line line ducati gts model k clock run well paint bronzebrownorang fade leak bit oil pop st hard accel shop fix tran oil leak sold bike owner want think like k opinion pleas email thank would nice stabl mate beemer ill get jap bike call axi motor tuba irwin honk therefor computracrichardsontx irwincmptrclonestarorg dod r\n"
     ]
    }
   ],
   "source": [
    "# print example with stemmed words\n",
    "\n",
    "print(df['text'][10])"
   ]
  },
  {
   "cell_type": "code",
   "execution_count": null,
   "metadata": {},
   "outputs": [],
   "source": []
  }
 ],
 "metadata": {
  "kernelspec": {
   "display_name": "Python 3",
   "language": "python",
   "name": "python3"
  },
  "language_info": {
   "codemirror_mode": {
    "name": "ipython",
    "version": 3
   },
   "file_extension": ".py",
   "mimetype": "text/x-python",
   "name": "python",
   "nbconvert_exporter": "python",
   "pygments_lexer": "ipython3",
   "version": "3.8.5"
  }
 },
 "nbformat": 4,
 "nbformat_minor": 4
}
