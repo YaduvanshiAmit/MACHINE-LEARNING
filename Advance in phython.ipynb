{
 "cells": [
  {
   "cell_type": "markdown",
   "id": "arbitrary-miller",
   "metadata": {},
   "source": [
    "   # Function in Phython"
   ]
  },
  {
   "cell_type": "markdown",
   "id": "simple-chaos",
   "metadata": {},
   "source": [
    "- why Function \n",
    "- Function defination\n",
    "- Positional and keyword Arguments in function"
   ]
  },
  {
   "cell_type": "code",
   "execution_count": 1,
   "id": "royal-weather",
   "metadata": {},
   "outputs": [
    {
     "name": "stdout",
     "output_type": "stream",
     "text": [
      "the number is even\n"
     ]
    }
   ],
   "source": [
    "num= 24\n",
    "if num%2==0:\n",
    "    print(\"the number is even\")\n",
    "else:\n",
    "    print(\"the number is odd\")"
   ]
  },
  {
   "cell_type": "code",
   "execution_count": 4,
   "id": "authentic-steel",
   "metadata": {},
   "outputs": [],
   "source": [
    "# this is function we use that when we need to use same code again again in whole coding\n",
    "def even_odd(num):\n",
    "    if num%2==0:\n",
    "        print(\"the number is even\")\n",
    "    else:\n",
    "        print(\"the number is odd\")\n",
    "    "
   ]
  },
  {
   "cell_type": "code",
   "execution_count": 5,
   "id": "liquid-script",
   "metadata": {},
   "outputs": [
    {
     "name": "stdout",
     "output_type": "stream",
     "text": [
      "the number is odd\n"
     ]
    }
   ],
   "source": [
    "even_odd(25)"
   ]
  },
  {
   "cell_type": "code",
   "execution_count": 11,
   "id": "strange-kuwait",
   "metadata": {},
   "outputs": [],
   "source": [
    "#print vs return\n",
    "def hello_world():\n",
    "    print(\"hello welcome\")"
   ]
  },
  {
   "cell_type": "code",
   "execution_count": 12,
   "id": "activated-bishop",
   "metadata": {},
   "outputs": [
    {
     "name": "stdout",
     "output_type": "stream",
     "text": [
      "hello welcome\n"
     ]
    }
   ],
   "source": [
    "# this function is not return anything\n",
    "val = hello_world()"
   ]
  },
  {
   "cell_type": "code",
   "execution_count": 14,
   "id": "certain-edward",
   "metadata": {},
   "outputs": [
    {
     "name": "stdout",
     "output_type": "stream",
     "text": [
      "None\n"
     ]
    }
   ],
   "source": [
    "print(val)"
   ]
  },
  {
   "cell_type": "code",
   "execution_count": 15,
   "id": "united-worker",
   "metadata": {},
   "outputs": [],
   "source": [
    "# if we right our function like this \n",
    "def hello_world():\n",
    "    return(\"hello welcome\")"
   ]
  },
  {
   "cell_type": "code",
   "execution_count": 16,
   "id": "dedicated-rental",
   "metadata": {},
   "outputs": [],
   "source": [
    "val = hello_world()"
   ]
  },
  {
   "cell_type": "code",
   "execution_count": 18,
   "id": "portable-report",
   "metadata": {},
   "outputs": [
    {
     "name": "stdout",
     "output_type": "stream",
     "text": [
      "hello welcome\n"
     ]
    }
   ],
   "source": [
    "# here u see it return value\n",
    "print(val)"
   ]
  },
  {
   "cell_type": "code",
   "execution_count": 19,
   "id": "cheap-elimination",
   "metadata": {},
   "outputs": [],
   "source": [
    "def add_number(num1,num2):\n",
    "    return num1+num2"
   ]
  },
  {
   "cell_type": "code",
   "execution_count": 20,
   "id": "thermal-spirit",
   "metadata": {},
   "outputs": [],
   "source": [
    "val = add_number(455,56)"
   ]
  },
  {
   "cell_type": "code",
   "execution_count": 21,
   "id": "animal-mauritius",
   "metadata": {},
   "outputs": [
    {
     "data": {
      "text/plain": [
       "511"
      ]
     },
     "execution_count": 21,
     "metadata": {},
     "output_type": "execute_result"
    }
   ],
   "source": [
    "val"
   ]
  },
  {
   "cell_type": "code",
   "execution_count": 27,
   "id": "senior-valentine",
   "metadata": {},
   "outputs": [],
   "source": [
    "# positional argument\n",
    "# keyword arguments\n",
    "def hello(name,age=24):\n",
    "    print(\"my name is {} and age is {}\".format(name,age))"
   ]
  },
  {
   "cell_type": "code",
   "execution_count": 28,
   "id": "incorrect-watts",
   "metadata": {},
   "outputs": [
    {
     "name": "stdout",
     "output_type": "stream",
     "text": [
      "my name is amit and age is 24\n"
     ]
    }
   ],
   "source": [
    "hello('amit')"
   ]
  },
  {
   "cell_type": "code",
   "execution_count": 29,
   "id": "controversial-japanese",
   "metadata": {},
   "outputs": [],
   "source": [
    "# another way to assign positional agruments and keyword arguments\n",
    "# here *args is positional arguments and **kwargs is keyword arguments\n",
    "def hello(*args,**kwargs):\n",
    "    print(args)\n",
    "    print(kwargs)"
   ]
  },
  {
   "cell_type": "code",
   "execution_count": 30,
   "id": "proud-aggregate",
   "metadata": {},
   "outputs": [
    {
     "name": "stdout",
     "output_type": "stream",
     "text": [
      "('Amit', 'yadav')\n",
      "{'age': 24, 'dob': 1996}\n"
     ]
    }
   ],
   "source": [
    "hello(\"Amit\",\"yadav\",age=24,dob=1996)"
   ]
  },
  {
   "cell_type": "code",
   "execution_count": 33,
   "id": "lesser-flooring",
   "metadata": {},
   "outputs": [],
   "source": [
    "st = ['Amit', 'yadav']\n",
    "dict = {'age': 24, 'dob': 1996}"
   ]
  },
  {
   "cell_type": "code",
   "execution_count": 35,
   "id": "ignored-brake",
   "metadata": {},
   "outputs": [
    {
     "name": "stdout",
     "output_type": "stream",
     "text": [
      "(['Amit', 'yadav'], {'age': 24, 'dob': 1996})\n",
      "{}\n"
     ]
    }
   ],
   "source": [
    "# here both come in positional arguments\n",
    "hello(st,dict)"
   ]
  },
  {
   "cell_type": "code",
   "execution_count": 36,
   "id": "macro-legend",
   "metadata": {},
   "outputs": [
    {
     "name": "stdout",
     "output_type": "stream",
     "text": [
      "('Amit', 'yadav')\n",
      "{'age': 24, 'dob': 1996}\n"
     ]
    }
   ],
   "source": [
    "hello(*st,**dict)"
   ]
  },
  {
   "cell_type": "code",
   "execution_count": 41,
   "id": "exciting-thailand",
   "metadata": {},
   "outputs": [],
   "source": [
    "def add(lst):\n",
    "    evensum=0\n",
    "     oddsum=0\n",
    "    for i in lst:\n",
    "        if i%2 == 0:\n",
    "            evensum = evensum + i\n",
    "        else:\n",
    "            oddsum = oddsum+i\n",
    "    return evensum,oddsum       "
   ]
  },
  {
   "cell_type": "code",
   "execution_count": 43,
   "id": "southern-credit",
   "metadata": {},
   "outputs": [
    {
     "data": {
      "text/plain": [
       "(20, 25)"
      ]
     },
     "execution_count": 43,
     "metadata": {},
     "output_type": "execute_result"
    }
   ],
   "source": [
    "lst = [1,2,3,4,5,6,7,8,9]\n",
    "add(lst)"
   ]
  },
  {
   "cell_type": "markdown",
   "id": "unknown-allowance",
   "metadata": {},
   "source": [
    "# Lambda function"
   ]
  },
  {
   "cell_type": "code",
   "execution_count": 44,
   "id": "quality-davis",
   "metadata": {},
   "outputs": [],
   "source": [
    "def add(a,b):\n",
    "    return a+b"
   ]
  },
  {
   "cell_type": "code",
   "execution_count": 45,
   "id": "persistent-tribe",
   "metadata": {},
   "outputs": [
    {
     "data": {
      "text/plain": [
       "5"
      ]
     },
     "execution_count": 45,
     "metadata": {},
     "output_type": "execute_result"
    }
   ],
   "source": [
    "add(2,3)"
   ]
  },
  {
   "cell_type": "code",
   "execution_count": 46,
   "id": "flush-donna",
   "metadata": {},
   "outputs": [],
   "source": [
    "# if u want to do that function in simple and fast way we use lambda function \n",
    "# remember that we use lambda function when we have only one return function in that \n",
    "\n",
    "additional = lambda a,b:a+b"
   ]
  },
  {
   "cell_type": "code",
   "execution_count": 47,
   "id": "south-stability",
   "metadata": {},
   "outputs": [
    {
     "data": {
      "text/plain": [
       "5"
      ]
     },
     "execution_count": 47,
     "metadata": {},
     "output_type": "execute_result"
    }
   ],
   "source": [
    "additional(2,3)"
   ]
  },
  {
   "cell_type": "code",
   "execution_count": 48,
   "id": "personalized-habitat",
   "metadata": {},
   "outputs": [],
   "source": [
    "# another example\n",
    "def even(a):\n",
    "    return a%2==0"
   ]
  },
  {
   "cell_type": "code",
   "execution_count": 49,
   "id": "directed-representative",
   "metadata": {},
   "outputs": [
    {
     "data": {
      "text/plain": [
       "True"
      ]
     },
     "execution_count": 49,
     "metadata": {},
     "output_type": "execute_result"
    }
   ],
   "source": [
    "even(2)"
   ]
  },
  {
   "cell_type": "code",
   "execution_count": 53,
   "id": "ceramic-builder",
   "metadata": {},
   "outputs": [],
   "source": [
    "eve = lambda a:a%2==0 "
   ]
  },
  {
   "cell_type": "code",
   "execution_count": 54,
   "id": "shaped-produce",
   "metadata": {},
   "outputs": [
    {
     "data": {
      "text/plain": [
       "True"
      ]
     },
     "execution_count": 54,
     "metadata": {},
     "output_type": "execute_result"
    }
   ],
   "source": [
    "eve(8)"
   ]
  },
  {
   "cell_type": "code",
   "execution_count": 55,
   "id": "excessive-combination",
   "metadata": {},
   "outputs": [],
   "source": [
    "# another example\n",
    "add = lambda a,b,c:a+b+c"
   ]
  },
  {
   "cell_type": "code",
   "execution_count": 56,
   "id": "romantic-coverage",
   "metadata": {},
   "outputs": [
    {
     "data": {
      "text/plain": [
       "9"
      ]
     },
     "execution_count": 56,
     "metadata": {},
     "output_type": "execute_result"
    }
   ],
   "source": [
    "add(2,3,4)"
   ]
  },
  {
   "cell_type": "markdown",
   "id": "lovely-haven",
   "metadata": {},
   "source": [
    "# Map Function"
   ]
  },
  {
   "cell_type": "code",
   "execution_count": 57,
   "id": "outer-albany",
   "metadata": {},
   "outputs": [],
   "source": [
    "def even_or_odd(num):\n",
    "    if num%2==0:\n",
    "        return \"the number {} is even\".format(num)\n",
    "    else:\n",
    "        return \"the number {} is odd\".format(num)"
   ]
  },
  {
   "cell_type": "code",
   "execution_count": 58,
   "id": "reduced-therapist",
   "metadata": {},
   "outputs": [
    {
     "data": {
      "text/plain": [
       "'the number 56 is even'"
      ]
     },
     "execution_count": 58,
     "metadata": {},
     "output_type": "execute_result"
    }
   ],
   "source": [
    "even_or_odd(56)"
   ]
  },
  {
   "cell_type": "code",
   "execution_count": 61,
   "id": "optical-picking",
   "metadata": {},
   "outputs": [
    {
     "data": {
      "text/plain": [
       "['the number 2 is even',\n",
       " 'the number 3 is odd',\n",
       " 'the number 4 is even',\n",
       " 'the number 5 is odd',\n",
       " 'the number 6 is even',\n",
       " 'the number 7 is odd',\n",
       " 'the number 8 is even',\n",
       " 'the number 9 is odd',\n",
       " 'the number 90 is even',\n",
       " 'the number 43 is odd',\n",
       " 'the number 56 is even']"
      ]
     },
     "execution_count": 61,
     "metadata": {},
     "output_type": "execute_result"
    }
   ],
   "source": [
    "# suppose if we have list then we have to for loop to every number in that list which is long process \n",
    "# thats why we use map function\n",
    "lst = [2,3,4,5,6,7,8,9,90,43,56]\n",
    "list(map(even_or_odd,lst))"
   ]
  },
  {
   "cell_type": "code",
   "execution_count": 65,
   "id": "sorted-cliff",
   "metadata": {},
   "outputs": [],
   "source": [
    "# another example \n",
    "def add(num):\n",
    "    sum_even = 0\n",
    "    sum_odd = 0\n",
    "    for i in num:\n",
    "        if i%2==0:\n",
    "            sum_even = sum_even + i\n",
    "        else:\n",
    "            sum_odd = sum_odd +i\n",
    "    return sum_even,sum_odd        \n",
    "        "
   ]
  },
  {
   "cell_type": "code",
   "execution_count": 66,
   "id": "silent-release",
   "metadata": {},
   "outputs": [
    {
     "data": {
      "text/plain": [
       "(12, 15)"
      ]
     },
     "execution_count": 66,
     "metadata": {},
     "output_type": "execute_result"
    }
   ],
   "source": [
    "add([2,3,4,5,6,7])"
   ]
  },
  {
   "cell_type": "code",
   "execution_count": 75,
   "id": "knowing-rachel",
   "metadata": {},
   "outputs": [],
   "source": [
    "# good example of maping\n",
    "def add(num):\n",
    "    return num*num"
   ]
  },
  {
   "cell_type": "code",
   "execution_count": 76,
   "id": "colonial-mining",
   "metadata": {},
   "outputs": [
    {
     "data": {
      "text/plain": [
       "25"
      ]
     },
     "execution_count": 76,
     "metadata": {},
     "output_type": "execute_result"
    }
   ],
   "source": [
    "add(5)"
   ]
  },
  {
   "cell_type": "code",
   "execution_count": 77,
   "id": "superior-confidence",
   "metadata": {},
   "outputs": [
    {
     "data": {
      "text/plain": [
       "[4, 9, 16, 25, 36, 49]"
      ]
     },
     "execution_count": 77,
     "metadata": {},
     "output_type": "execute_result"
    }
   ],
   "source": [
    "list(map(add,lst))"
   ]
  },
  {
   "cell_type": "markdown",
   "id": "spread-affiliation",
   "metadata": {},
   "source": [
    "# Filter function "
   ]
  },
  {
   "cell_type": "code",
   "execution_count": 84,
   "id": "promotional-algorithm",
   "metadata": {},
   "outputs": [],
   "source": [
    "# filteer function when u have to take out some thing from that list \n",
    "# example\n",
    "def even(num):\n",
    "    if num%2==0:\n",
    "        return True\n",
    "    "
   ]
  },
  {
   "cell_type": "code",
   "execution_count": 86,
   "id": "circular-professional",
   "metadata": {},
   "outputs": [
    {
     "data": {
      "text/plain": [
       "[True, None, True, None, True, None, True, None, None]"
      ]
     },
     "execution_count": 86,
     "metadata": {},
     "output_type": "execute_result"
    }
   ],
   "source": [
    "lst = [2,3,4,5,6,7,8,9,1]\n",
    "list(map(even,lst))"
   ]
  },
  {
   "cell_type": "code",
   "execution_count": 88,
   "id": "brazilian-prediction",
   "metadata": {},
   "outputs": [
    {
     "data": {
      "text/plain": [
       "[2, 4, 6, 8]"
      ]
     },
     "execution_count": 88,
     "metadata": {},
     "output_type": "execute_result"
    }
   ],
   "source": [
    "list(filter(even,lst))"
   ]
  },
  {
   "cell_type": "code",
   "execution_count": 89,
   "id": "broadband-loading",
   "metadata": {},
   "outputs": [
    {
     "data": {
      "text/plain": [
       "[True, False, True, False, True, False, True, False, False]"
      ]
     },
     "execution_count": 89,
     "metadata": {},
     "output_type": "execute_result"
    }
   ],
   "source": [
    "# example\n",
    "list(map(lambda num:num%2==0,lst))"
   ]
  },
  {
   "cell_type": "code",
   "execution_count": 90,
   "id": "molecular-dollar",
   "metadata": {},
   "outputs": [
    {
     "data": {
      "text/plain": [
       "[2, 4, 6, 8]"
      ]
     },
     "execution_count": 90,
     "metadata": {},
     "output_type": "execute_result"
    }
   ],
   "source": [
    "list(filter(lambda num:num%2==0,lst))"
   ]
  },
  {
   "cell_type": "markdown",
   "id": "hired-wheel",
   "metadata": {},
   "source": [
    " # List Comprehension"
   ]
  },
  {
   "cell_type": "markdown",
   "id": "former-sector",
   "metadata": {},
   "source": [
    "list comprehension provide a concise way to create lists. it consist of brackets containing an expression followed by a for clause , then zero or more for or if clause .The expression can be anything meaning u can put in all kinds of object in lists."
   ]
  },
  {
   "cell_type": "code",
   "execution_count": 95,
   "id": "alpine-bookmark",
   "metadata": {},
   "outputs": [],
   "source": [
    "# example\n",
    "lst1=[]\n",
    "def lst_sqr(lst):\n",
    "    for i in lst:\n",
    "        lst1.append(i*i)\n",
    "    return lst1\n",
    "    "
   ]
  },
  {
   "cell_type": "code",
   "execution_count": 96,
   "id": "annoying-teaching",
   "metadata": {},
   "outputs": [
    {
     "data": {
      "text/plain": [
       "[4, 9, 16, 25]"
      ]
     },
     "execution_count": 96,
     "metadata": {},
     "output_type": "execute_result"
    }
   ],
   "source": [
    "lst_sqr([2,3,4,5])"
   ]
  },
  {
   "cell_type": "code",
   "execution_count": 97,
   "id": "realistic-scanner",
   "metadata": {},
   "outputs": [
    {
     "data": {
      "text/plain": [
       "[4, 16, 25, 4, 321489, 64, 2809]"
      ]
     },
     "execution_count": 97,
     "metadata": {},
     "output_type": "execute_result"
    }
   ],
   "source": [
    "# u see this is very long and time and space consuming process\n",
    "lst = [2,4,5,2,567,8,53]\n",
    "[i*i for i in lst]"
   ]
  },
  {
   "cell_type": "code",
   "execution_count": 98,
   "id": "every-tobago",
   "metadata": {},
   "outputs": [
    {
     "data": {
      "text/plain": [
       "[4, 16, 4, 64]"
      ]
     },
     "execution_count": 98,
     "metadata": {},
     "output_type": "execute_result"
    }
   ],
   "source": [
    "[i*i for i in lst if i%2==0]"
   ]
  },
  {
   "cell_type": "code",
   "execution_count": 100,
   "id": "metallic-rogers",
   "metadata": {},
   "outputs": [
    {
     "data": {
      "text/plain": [
       "[25, 321489, 2809]"
      ]
     },
     "execution_count": 100,
     "metadata": {},
     "output_type": "execute_result"
    }
   ],
   "source": [
    "[i*i for i in lst if i%2!=0]"
   ]
  },
  {
   "cell_type": "markdown",
   "id": "responsible-baseball",
   "metadata": {},
   "source": [
    " # Iterables vs Iterators"
   ]
  },
  {
   "cell_type": "markdown",
   "id": "printable-barrel",
   "metadata": {},
   "source": [
    "in iterables value in list take all memory space but in iterators its not when we call next function then it store in memory at a time one "
   ]
  },
  {
   "cell_type": "code",
   "execution_count": 102,
   "id": "separated-survey",
   "metadata": {},
   "outputs": [],
   "source": [
    "def num(lst):\n",
    "    for i in lst:\n",
    "        return lst"
   ]
  },
  {
   "cell_type": "code",
   "execution_count": 103,
   "id": "micro-entertainment",
   "metadata": {},
   "outputs": [
    {
     "data": {
      "text/plain": [
       "[1, 2, 3, 4, 5]"
      ]
     },
     "execution_count": 103,
     "metadata": {},
     "output_type": "execute_result"
    }
   ],
   "source": [
    "lst=[1,2,3,4,5]\n",
    "num(lst)"
   ]
  },
  {
   "cell_type": "code",
   "execution_count": 105,
   "id": "respective-application",
   "metadata": {},
   "outputs": [],
   "source": [
    "val = iter(lst)"
   ]
  },
  {
   "cell_type": "code",
   "execution_count": 108,
   "id": "finite-section",
   "metadata": {},
   "outputs": [
    {
     "data": {
      "text/plain": [
       "3"
      ]
     },
     "execution_count": 108,
     "metadata": {},
     "output_type": "execute_result"
    }
   ],
   "source": [
    "next(val)"
   ]
  },
  {
   "cell_type": "code",
   "execution_count": 110,
   "id": "sapphire-anderson",
   "metadata": {},
   "outputs": [
    {
     "name": "stdout",
     "output_type": "stream",
     "text": [
      "4\n",
      "5\n"
     ]
    }
   ],
   "source": [
    "for i in val:\n",
    "    print(i)"
   ]
  },
  {
   "cell_type": "markdown",
   "id": "demanding-network",
   "metadata": {},
   "source": [
    "## Pyforest - lazy-import of all python Data Science Libraries"
   ]
  },
  {
   "cell_type": "markdown",
   "id": "comprehensive-headquarters",
   "metadata": {},
   "source": [
    "pyforest lazy imports all popular Python Datascience libraries so that they always there when u need them. if you dont use a library it wont be imported . When you are done with your script, you can export the Python code for the import statemrnts."
   ]
  },
  {
   "cell_type": "code",
   "execution_count": 111,
   "id": "reverse-province",
   "metadata": {},
   "outputs": [
    {
     "name": "stdout",
     "output_type": "stream",
     "text": [
      "Collecting Pyforest\n",
      "  Downloading pyforest-1.0.3.tar.gz (14 kB)\n",
      "Building wheels for collected packages: Pyforest\n",
      "  Building wheel for Pyforest (setup.py): started\n",
      "  Building wheel for Pyforest (setup.py): finished with status 'done'\n",
      "  Created wheel for Pyforest: filename=pyforest-1.0.3-py2.py3-none-any.whl size=13716 sha256=088d05f01c762a85817536e3ee936dca82d6cf1558680a7ceffb42fc767ea786\n",
      "  Stored in directory: c:\\users\\joel\\appdata\\local\\pip\\cache\\wheels\\69\\19\\d8\\99d36becc4f191c2d9b36cab597549f25b00189a9ce17c7117\n",
      "Successfully built Pyforest\n",
      "Installing collected packages: Pyforest\n",
      "Successfully installed Pyforest-1.0.3\n"
     ]
    }
   ],
   "source": [
    "! pip install Pyforest"
   ]
  },
  {
   "cell_type": "code",
   "execution_count": 3,
   "id": "exposed-salmon",
   "metadata": {},
   "outputs": [
    {
     "data": {
      "application/javascript": [
       "\n",
       "        if (window._pyforest_update_imports_cell) { window._pyforest_update_imports_cell('import pandas as pd'); }\n",
       "    "
      ],
      "text/plain": [
       "<IPython.core.display.Javascript object>"
      ]
     },
     "metadata": {},
     "output_type": "display_data"
    }
   ],
   "source": [
    "df = pd.read_csv('mercedesbenz.csv')"
   ]
  },
  {
   "cell_type": "code",
   "execution_count": 4,
   "id": "inside-integration",
   "metadata": {},
   "outputs": [
    {
     "data": {
      "text/html": [
       "<div>\n",
       "<style scoped>\n",
       "    .dataframe tbody tr th:only-of-type {\n",
       "        vertical-align: middle;\n",
       "    }\n",
       "\n",
       "    .dataframe tbody tr th {\n",
       "        vertical-align: top;\n",
       "    }\n",
       "\n",
       "    .dataframe thead th {\n",
       "        text-align: right;\n",
       "    }\n",
       "</style>\n",
       "<table border=\"1\" class=\"dataframe\">\n",
       "  <thead>\n",
       "    <tr style=\"text-align: right;\">\n",
       "      <th></th>\n",
       "      <th>ID</th>\n",
       "      <th>y</th>\n",
       "      <th>X0</th>\n",
       "      <th>X1</th>\n",
       "      <th>X2</th>\n",
       "      <th>X3</th>\n",
       "      <th>X4</th>\n",
       "      <th>X5</th>\n",
       "      <th>X6</th>\n",
       "      <th>X8</th>\n",
       "      <th>...</th>\n",
       "      <th>X375</th>\n",
       "      <th>X376</th>\n",
       "      <th>X377</th>\n",
       "      <th>X378</th>\n",
       "      <th>X379</th>\n",
       "      <th>X380</th>\n",
       "      <th>X382</th>\n",
       "      <th>X383</th>\n",
       "      <th>X384</th>\n",
       "      <th>X385</th>\n",
       "    </tr>\n",
       "  </thead>\n",
       "  <tbody>\n",
       "    <tr>\n",
       "      <th>0</th>\n",
       "      <td>0</td>\n",
       "      <td>130.81</td>\n",
       "      <td>k</td>\n",
       "      <td>v</td>\n",
       "      <td>at</td>\n",
       "      <td>a</td>\n",
       "      <td>d</td>\n",
       "      <td>u</td>\n",
       "      <td>j</td>\n",
       "      <td>o</td>\n",
       "      <td>...</td>\n",
       "      <td>0</td>\n",
       "      <td>0</td>\n",
       "      <td>1</td>\n",
       "      <td>0</td>\n",
       "      <td>0</td>\n",
       "      <td>0</td>\n",
       "      <td>0</td>\n",
       "      <td>0</td>\n",
       "      <td>0</td>\n",
       "      <td>0</td>\n",
       "    </tr>\n",
       "    <tr>\n",
       "      <th>1</th>\n",
       "      <td>6</td>\n",
       "      <td>88.53</td>\n",
       "      <td>k</td>\n",
       "      <td>t</td>\n",
       "      <td>av</td>\n",
       "      <td>e</td>\n",
       "      <td>d</td>\n",
       "      <td>y</td>\n",
       "      <td>l</td>\n",
       "      <td>o</td>\n",
       "      <td>...</td>\n",
       "      <td>1</td>\n",
       "      <td>0</td>\n",
       "      <td>0</td>\n",
       "      <td>0</td>\n",
       "      <td>0</td>\n",
       "      <td>0</td>\n",
       "      <td>0</td>\n",
       "      <td>0</td>\n",
       "      <td>0</td>\n",
       "      <td>0</td>\n",
       "    </tr>\n",
       "    <tr>\n",
       "      <th>2</th>\n",
       "      <td>7</td>\n",
       "      <td>76.26</td>\n",
       "      <td>az</td>\n",
       "      <td>w</td>\n",
       "      <td>n</td>\n",
       "      <td>c</td>\n",
       "      <td>d</td>\n",
       "      <td>x</td>\n",
       "      <td>j</td>\n",
       "      <td>x</td>\n",
       "      <td>...</td>\n",
       "      <td>0</td>\n",
       "      <td>0</td>\n",
       "      <td>0</td>\n",
       "      <td>0</td>\n",
       "      <td>0</td>\n",
       "      <td>0</td>\n",
       "      <td>1</td>\n",
       "      <td>0</td>\n",
       "      <td>0</td>\n",
       "      <td>0</td>\n",
       "    </tr>\n",
       "    <tr>\n",
       "      <th>3</th>\n",
       "      <td>9</td>\n",
       "      <td>80.62</td>\n",
       "      <td>az</td>\n",
       "      <td>t</td>\n",
       "      <td>n</td>\n",
       "      <td>f</td>\n",
       "      <td>d</td>\n",
       "      <td>x</td>\n",
       "      <td>l</td>\n",
       "      <td>e</td>\n",
       "      <td>...</td>\n",
       "      <td>0</td>\n",
       "      <td>0</td>\n",
       "      <td>0</td>\n",
       "      <td>0</td>\n",
       "      <td>0</td>\n",
       "      <td>0</td>\n",
       "      <td>0</td>\n",
       "      <td>0</td>\n",
       "      <td>0</td>\n",
       "      <td>0</td>\n",
       "    </tr>\n",
       "    <tr>\n",
       "      <th>4</th>\n",
       "      <td>13</td>\n",
       "      <td>78.02</td>\n",
       "      <td>az</td>\n",
       "      <td>v</td>\n",
       "      <td>n</td>\n",
       "      <td>f</td>\n",
       "      <td>d</td>\n",
       "      <td>h</td>\n",
       "      <td>d</td>\n",
       "      <td>n</td>\n",
       "      <td>...</td>\n",
       "      <td>0</td>\n",
       "      <td>0</td>\n",
       "      <td>0</td>\n",
       "      <td>0</td>\n",
       "      <td>0</td>\n",
       "      <td>0</td>\n",
       "      <td>0</td>\n",
       "      <td>0</td>\n",
       "      <td>0</td>\n",
       "      <td>0</td>\n",
       "    </tr>\n",
       "  </tbody>\n",
       "</table>\n",
       "<p>5 rows × 378 columns</p>\n",
       "</div>"
      ],
      "text/plain": [
       "   ID       y  X0 X1  X2 X3 X4 X5 X6 X8  ...  X375  X376  X377  X378  X379  \\\n",
       "0   0  130.81   k  v  at  a  d  u  j  o  ...     0     0     1     0     0   \n",
       "1   6   88.53   k  t  av  e  d  y  l  o  ...     1     0     0     0     0   \n",
       "2   7   76.26  az  w   n  c  d  x  j  x  ...     0     0     0     0     0   \n",
       "3   9   80.62  az  t   n  f  d  x  l  e  ...     0     0     0     0     0   \n",
       "4  13   78.02  az  v   n  f  d  h  d  n  ...     0     0     0     0     0   \n",
       "\n",
       "   X380  X382  X383  X384  X385  \n",
       "0     0     0     0     0     0  \n",
       "1     0     0     0     0     0  \n",
       "2     0     1     0     0     0  \n",
       "3     0     0     0     0     0  \n",
       "4     0     0     0     0     0  \n",
       "\n",
       "[5 rows x 378 columns]"
      ]
     },
     "execution_count": 4,
     "metadata": {},
     "output_type": "execute_result"
    }
   ],
   "source": [
    "df.head()"
   ]
  },
  {
   "cell_type": "code",
   "execution_count": 5,
   "id": "impaired-liechtenstein",
   "metadata": {},
   "outputs": [
    {
     "name": "stdout",
     "output_type": "stream",
     "text": [
      "import pandas as pd\n"
     ]
    },
    {
     "data": {
      "text/plain": [
       "['import pandas as pd']"
      ]
     },
     "execution_count": 5,
     "metadata": {},
     "output_type": "execute_result"
    }
   ],
   "source": [
    "active_imports()"
   ]
  },
  {
   "cell_type": "markdown",
   "id": "atlantic-doctrine",
   "metadata": {},
   "source": [
    "# OOPS Tutorial in Python"
   ]
  },
  {
   "cell_type": "code",
   "execution_count": 1,
   "id": "fabulous-spectrum",
   "metadata": {},
   "outputs": [],
   "source": [
    "# what is class \n",
    "class car:\n",
    "    pass"
   ]
  },
  {
   "cell_type": "code",
   "execution_count": 2,
   "id": "composite-mobile",
   "metadata": {},
   "outputs": [
    {
     "data": {
      "text/plain": [
       "<__main__.car at 0x5e814f0>"
      ]
     },
     "execution_count": 2,
     "metadata": {},
     "output_type": "execute_result"
    }
   ],
   "source": [
    "# creating a object\n",
    "car1=car()\n",
    "car1"
   ]
  },
  {
   "cell_type": "code",
   "execution_count": 3,
   "id": "tough-management",
   "metadata": {},
   "outputs": [],
   "source": [
    "car1.windows =2\n",
    "car1.doors=2"
   ]
  },
  {
   "cell_type": "code",
   "execution_count": 4,
   "id": "latter-cincinnati",
   "metadata": {},
   "outputs": [
    {
     "name": "stdout",
     "output_type": "stream",
     "text": [
      "2\n"
     ]
    }
   ],
   "source": [
    "print(car1.windows)"
   ]
  },
  {
   "cell_type": "code",
   "execution_count": 5,
   "id": "fifteen-bookmark",
   "metadata": {},
   "outputs": [],
   "source": [
    "car2=car()"
   ]
  },
  {
   "cell_type": "code",
   "execution_count": 6,
   "id": "potential-france",
   "metadata": {},
   "outputs": [],
   "source": [
    "car2.windows=3"
   ]
  },
  {
   "cell_type": "code",
   "execution_count": 7,
   "id": "friendly-player",
   "metadata": {},
   "outputs": [
    {
     "name": "stdout",
     "output_type": "stream",
     "text": [
      "3\n"
     ]
    }
   ],
   "source": [
    "print(car2.windows)"
   ]
  },
  {
   "cell_type": "code",
   "execution_count": 24,
   "id": "worldwide-strap",
   "metadata": {},
   "outputs": [],
   "source": [
    "## Hw to right good class\n",
    "class car:\n",
    "    def __init__(self,windows,doors,engine_type):\n",
    "        self.windows = windows\n",
    "        self.doors = doors\n",
    "        self.engine_type = engine_type\n",
    "    def self_driving(self):\n",
    "        return \"this is {} car\".format(self.engine_type)\n",
    "    "
   ]
  },
  {
   "cell_type": "code",
   "execution_count": 25,
   "id": "listed-wealth",
   "metadata": {},
   "outputs": [],
   "source": [
    "car1 = car(2,3,'petrol')"
   ]
  },
  {
   "cell_type": "code",
   "execution_count": 26,
   "id": "soviet-senegal",
   "metadata": {},
   "outputs": [
    {
     "data": {
      "text/plain": [
       "<__main__.car at 0x56d50d0>"
      ]
     },
     "execution_count": 26,
     "metadata": {},
     "output_type": "execute_result"
    }
   ],
   "source": [
    "car1"
   ]
  },
  {
   "cell_type": "code",
   "execution_count": 27,
   "id": "numeric-traffic",
   "metadata": {},
   "outputs": [],
   "source": [
    "car2 = car(3,4,'diesel')"
   ]
  },
  {
   "cell_type": "code",
   "execution_count": 28,
   "id": "fuzzy-belle",
   "metadata": {},
   "outputs": [
    {
     "name": "stdout",
     "output_type": "stream",
     "text": [
      "<__main__.car object at 0x00000000056D50D0>\n"
     ]
    }
   ],
   "source": [
    "print(car1)"
   ]
  },
  {
   "cell_type": "code",
   "execution_count": 29,
   "id": "inappropriate-disaster",
   "metadata": {},
   "outputs": [
    {
     "name": "stdout",
     "output_type": "stream",
     "text": [
      "2\n"
     ]
    }
   ],
   "source": [
    "print(car1.windows)"
   ]
  },
  {
   "cell_type": "code",
   "execution_count": 30,
   "id": "comfortable-vehicle",
   "metadata": {},
   "outputs": [
    {
     "name": "stdout",
     "output_type": "stream",
     "text": [
      "4\n"
     ]
    }
   ],
   "source": [
    "print(car2.doors)"
   ]
  },
  {
   "cell_type": "code",
   "execution_count": 31,
   "id": "equivalent-alloy",
   "metadata": {},
   "outputs": [
    {
     "name": "stdout",
     "output_type": "stream",
     "text": [
      "petrol\n"
     ]
    }
   ],
   "source": [
    "print(car1.engine_type)"
   ]
  },
  {
   "cell_type": "code",
   "execution_count": 32,
   "id": "welcome-excitement",
   "metadata": {},
   "outputs": [
    {
     "data": {
      "text/plain": [
       "'this is petrol car'"
      ]
     },
     "execution_count": 32,
     "metadata": {},
     "output_type": "execute_result"
    }
   ],
   "source": [
    "car1.self_driving()"
   ]
  },
  {
   "cell_type": "markdown",
   "id": "crucial-whale",
   "metadata": {},
   "source": [
    "## Python Exception Handling"
   ]
  },
  {
   "cell_type": "code",
   "execution_count": 33,
   "id": "selective-egypt",
   "metadata": {},
   "outputs": [],
   "source": [
    "# what is different between errors and exception"
   ]
  },
  {
   "cell_type": "code",
   "execution_count": 36,
   "id": "sticky-cutting",
   "metadata": {},
   "outputs": [],
   "source": [
    "# this is error\n",
    "#a=b"
   ]
  },
  {
   "cell_type": "code",
   "execution_count": 37,
   "id": "crucial-platinum",
   "metadata": {},
   "outputs": [
    {
     "name": "stdout",
     "output_type": "stream",
     "text": [
      "some problem may has occured\n"
     ]
    }
   ],
   "source": [
    "try:\n",
    "    # code block where exception can occur\n",
    "    a=b\n",
    "except:   \n",
    "    print(\"some problem may has occured\")"
   ]
  },
  {
   "cell_type": "code",
   "execution_count": 38,
   "id": "fancy-quarterly",
   "metadata": {},
   "outputs": [
    {
     "name": "stdout",
     "output_type": "stream",
     "text": [
      "name 'b' is not defined\n"
     ]
    }
   ],
   "source": [
    "try:\n",
    "    # code block where exception can occur\n",
    "    a=b\n",
    "except Exception as ex:   \n",
    "    print(ex)"
   ]
  },
  {
   "cell_type": "code",
   "execution_count": 39,
   "id": "chinese-burner",
   "metadata": {},
   "outputs": [
    {
     "name": "stdout",
     "output_type": "stream",
     "text": [
      "The user have not define the variable\n"
     ]
    }
   ],
   "source": [
    "try:\n",
    "    # code block where exception can occur\n",
    "    a=b\n",
    "except NameError as ex1:\n",
    "    print(\"The user have not define the variable\")\n",
    "except Exception as ex:   \n",
    "    print(\"some problem may has occured\")"
   ]
  },
  {
   "cell_type": "code",
   "execution_count": 41,
   "id": "floral-collapse",
   "metadata": {},
   "outputs": [
    {
     "name": "stdout",
     "output_type": "stream",
     "text": [
      "unsupported operand type(s) for +: 'int' and 'str'\n"
     ]
    }
   ],
   "source": [
    "try:\n",
    "    # code block where exception can occur\n",
    "    #a=b\n",
    "    a=10\n",
    "    b='s'\n",
    "    c=a+b\n",
    "except NameError as ex1:\n",
    "    print(\"The user have not define the variable\")\n",
    "except Exception as ex:   \n",
    "    print(ex)"
   ]
  },
  {
   "cell_type": "code",
   "execution_count": 42,
   "id": "dominican-timber",
   "metadata": {},
   "outputs": [
    {
     "name": "stdout",
     "output_type": "stream",
     "text": [
      "Enter the right value\n"
     ]
    }
   ],
   "source": [
    "try:\n",
    "    # code block where exception can occur\n",
    "    #a=b\n",
    "    a=10\n",
    "    b='s'\n",
    "    c=a+b\n",
    "except NameError:\n",
    "    print(\"The user have not define the variable\")\n",
    "except TypeError:\n",
    "    print(\"Enter the right value\")\n",
    "except Exception as ex:   \n",
    "    print(ex)"
   ]
  },
  {
   "cell_type": "code",
   "execution_count": 53,
   "id": "ongoing-preview",
   "metadata": {},
   "outputs": [
    {
     "name": "stdout",
     "output_type": "stream",
     "text": [
      "enter the number45\n",
      "enter the number0\n",
      "Put value greater than zero in b\n"
     ]
    }
   ],
   "source": [
    "try:\n",
    "    # code block where exception can occur\n",
    "    #a=b\n",
    "    a=int(input(\"enter the number\"))\n",
    "    b=int (input(\"enter the number\"))\n",
    "    c=a+b\n",
    "    d=a-b\n",
    "    e=a*b\n",
    "    f=a/b\n",
    "    g=a%b\n",
    "    print(\"The Sum of {} and {} is {}\".format(a,b,c))\n",
    "    print(\"The Subtract of {} and {} is {}\".format(a,b,d))\n",
    "    print(\"The Multiply of {} and {} is {}\".format(a,b,e))\n",
    "    print(\"The divide of {} and {} is {}\".format(a,b,f))\n",
    "    print(\"The Module of {} and {} is {}\".format(a,b,g))\n",
    "except NameError:\n",
    "    print(\"The user have not define the variable\")\n",
    "except ZeroDivisionError:\n",
    "    print(\"Put value greater than zero in b\")\n",
    "except Exception as ex:   \n",
    "    print(ex)"
   ]
  },
  {
   "cell_type": "code",
   "execution_count": 56,
   "id": "attractive-wales",
   "metadata": {},
   "outputs": [
    {
     "name": "stdout",
     "output_type": "stream",
     "text": [
      "enter the number5\n",
      "enter the number0\n",
      "Please enter value greater than zero\n"
     ]
    }
   ],
   "source": [
    "# we can do like this also\n",
    "try:\n",
    "    # code block where exception can occur\n",
    "    #a=b\n",
    "    a=int(input(\"enter the number\"))\n",
    "    b=int (input(\"enter the number\"))\n",
    "    c=a+b\n",
    "    d=a-b\n",
    "    e=a*b\n",
    "    f=a/b\n",
    "    g=a%b\n",
    "except NameError:\n",
    "    print(\"The user have not define the variable\")\n",
    "except ZeroDivisionError:\n",
    "    print(\"Please enter value greater than zero\")\n",
    "except Exception as ex:   \n",
    "    print(ex)\n",
    "else:\n",
    "    print(\"The Sum of {} and {} is {}\".format(a,b,c))\n",
    "    print(\"The Subtract of {} and {} is {}\".format(a,b,d))\n",
    "    print(\"The Multiply of {} and {} is {}\".format(a,b,e))\n",
    "    print(\"The divide of {} and {} is {}\".format(a,b,f))\n",
    "    print(\"The Module of {} and {} is {}\".format(a,b,g))"
   ]
  },
  {
   "cell_type": "code",
   "execution_count": 57,
   "id": "fifth-former",
   "metadata": {},
   "outputs": [
    {
     "name": "stdout",
     "output_type": "stream",
     "text": [
      "enter the number5\n",
      "enter the number5\n",
      "The Sum of 5 and 5 is 10\n",
      "The Subtract of 5 and 5 is 0\n",
      "The Multiply of 5 and 5 is 25\n",
      "The divide of 5 and 5 is 1.0\n",
      "The Module of 5 and 5 is 0\n",
      "The execution is done\n"
     ]
    }
   ],
   "source": [
    "# try else finally\n",
    "# we can do like this also\n",
    "try:\n",
    "    # code block where exception can occur\n",
    "    #a=b\n",
    "    a=int(input(\"enter the number\"))\n",
    "    b=int (input(\"enter the number\"))\n",
    "    c=a+b\n",
    "    d=a-b\n",
    "    e=a*b\n",
    "    f=a/b\n",
    "    g=a%b\n",
    "except NameError:\n",
    "    print(\"The user have not define the variable\")\n",
    "except ZeroDivisionError:\n",
    "    print(\"Please enter value greater than zero\")\n",
    "except Exception as ex:   \n",
    "    print(ex)\n",
    "else:\n",
    "    print(\"The Sum of {} and {} is {}\".format(a,b,c))\n",
    "    print(\"The Subtract of {} and {} is {}\".format(a,b,d))\n",
    "    print(\"The Multiply of {} and {} is {}\".format(a,b,e))\n",
    "    print(\"The divide of {} and {} is {}\".format(a,b,f))\n",
    "    print(\"The Module of {} and {} is {}\".format(a,b,g))\n",
    "finally:\n",
    "    print(\"The execution is done\")\n",
    "    "
   ]
  },
  {
   "cell_type": "code",
   "execution_count": 58,
   "id": "worse-samuel",
   "metadata": {},
   "outputs": [],
   "source": [
    "# wher we use try except and finally \n",
    "# we do lot of connection to data structure we have to do lots of operartion like insert and many other\n",
    "#we all write the code in try block if any exception handle it show if exception not have wwe know it print else and finaaly\n",
    "# else block not come when we caought any exception final block come so when we connect to database if we got any exception \n",
    "# then we close the connection with the data base by using finally block"
   ]
  },
  {
   "cell_type": "markdown",
   "id": "absent-community",
   "metadata": {},
   "source": [
    "## Custom Exception Handling "
   ]
  },
  {
   "cell_type": "code",
   "execution_count": 59,
   "id": "physical-wright",
   "metadata": {},
   "outputs": [],
   "source": [
    "# here  we use concept of class inheritance\n",
    "class Error(Exception):\n",
    "    pass\n",
    "\n",
    "class dobException(Error):\n",
    "    pass\n"
   ]
  },
  {
   "cell_type": "code",
   "execution_count": 70,
   "id": "confident-arrow",
   "metadata": {},
   "outputs": [
    {
     "name": "stdout",
     "output_type": "stream",
     "text": [
      "Enter the year of birth1995\n",
      "The age is valid.\n"
     ]
    }
   ],
   "source": [
    "year = int(input(\"Enter the year of birth\"))\n",
    "age = 2021 - year\n",
    "try:\n",
    "    if age<=30 & age>20:\n",
    "        print(\"The age is valid.\")\n",
    "    else:\n",
    "        raise dobException\n",
    "except dobException:\n",
    "    print(\"The age is not within the range\")\n",
    "        \n",
    "        "
   ]
  },
  {
   "cell_type": "code",
   "execution_count": 73,
   "id": "happy-binding",
   "metadata": {},
   "outputs": [
    {
     "name": "stdout",
     "output_type": "stream",
     "text": [
      "Enter the year of birth1288\n",
      "The age is not within the range\n"
     ]
    }
   ],
   "source": [
    "year = int(input(\"Enter the year of birth\"))\n",
    "age = 2021 - year\n",
    "try:\n",
    "    if age<=30 & age>20:\n",
    "        print(\"The age is valid.\")\n",
    "    else:\n",
    "        raise Error\n",
    "except Error:\n",
    "    print(\"The age is not within the range\")"
   ]
  },
  {
   "cell_type": "markdown",
   "id": "alien-effect",
   "metadata": {},
   "source": [
    "# Python OOPS - Public,ProtectedAnd Private"
   ]
  },
  {
   "cell_type": "code",
   "execution_count": 78,
   "id": "apparent-validation",
   "metadata": {},
   "outputs": [],
   "source": [
    "\n",
    "# here object is public type we can call or overwrite any where \n",
    "\n",
    "class car():\n",
    "    def __init__(self,wind,doors,eng_type):\n",
    "        self.wind = wind\n",
    "        self.doors = doors\n",
    "        self.eng_type = eng_type"
   ]
  },
  {
   "cell_type": "code",
   "execution_count": 79,
   "id": "knowing-shadow",
   "metadata": {},
   "outputs": [],
   "source": [
    "audi = car(4,4,'diesel')"
   ]
  },
  {
   "cell_type": "code",
   "execution_count": 80,
   "id": "laughing-regular",
   "metadata": {},
   "outputs": [
    {
     "data": {
      "text/plain": [
       "<__main__.car at 0x81ca160>"
      ]
     },
     "execution_count": 80,
     "metadata": {},
     "output_type": "execute_result"
    }
   ],
   "source": [
    "audi"
   ]
  },
  {
   "cell_type": "code",
   "execution_count": 81,
   "id": "rubber-basement",
   "metadata": {},
   "outputs": [
    {
     "data": {
      "text/plain": [
       "['__class__',\n",
       " '__delattr__',\n",
       " '__dict__',\n",
       " '__dir__',\n",
       " '__doc__',\n",
       " '__eq__',\n",
       " '__format__',\n",
       " '__ge__',\n",
       " '__getattribute__',\n",
       " '__gt__',\n",
       " '__hash__',\n",
       " '__init__',\n",
       " '__init_subclass__',\n",
       " '__le__',\n",
       " '__lt__',\n",
       " '__module__',\n",
       " '__ne__',\n",
       " '__new__',\n",
       " '__reduce__',\n",
       " '__reduce_ex__',\n",
       " '__repr__',\n",
       " '__setattr__',\n",
       " '__sizeof__',\n",
       " '__str__',\n",
       " '__subclasshook__',\n",
       " '__weakref__',\n",
       " 'doors',\n",
       " 'eng_type',\n",
       " 'wind']"
      ]
     },
     "execution_count": 81,
     "metadata": {},
     "output_type": "execute_result"
    }
   ],
   "source": [
    "dir(audi)"
   ]
  },
  {
   "cell_type": "code",
   "execution_count": 82,
   "id": "swiss-milton",
   "metadata": {},
   "outputs": [
    {
     "data": {
      "text/plain": [
       "4"
      ]
     },
     "execution_count": 82,
     "metadata": {},
     "output_type": "execute_result"
    }
   ],
   "source": [
    "audi.wind"
   ]
  },
  {
   "cell_type": "code",
   "execution_count": 83,
   "id": "enabling-bunny",
   "metadata": {},
   "outputs": [],
   "source": [
    "audi.wind=5"
   ]
  },
  {
   "cell_type": "code",
   "execution_count": 85,
   "id": "civic-examination",
   "metadata": {},
   "outputs": [
    {
     "data": {
      "text/plain": [
       "5"
      ]
     },
     "execution_count": 85,
     "metadata": {},
     "output_type": "execute_result"
    }
   ],
   "source": [
    "audi.wind"
   ]
  },
  {
   "cell_type": "code",
   "execution_count": 86,
   "id": "boring-passage",
   "metadata": {},
   "outputs": [],
   "source": [
    "## Protected type object \n",
    "##we can access only to sub class and child class and overwrite also\n",
    "class car():\n",
    "    def __init__(self,wind,doors,eng_type):\n",
    "        self._wind= wind\n",
    "        self._doors = doors\n",
    "        self._eng_type = eng_type"
   ]
  },
  {
   "cell_type": "code",
   "execution_count": 87,
   "id": "graphic-snapshot",
   "metadata": {},
   "outputs": [],
   "source": [
    "class truck(car):\n",
    "    def __init__(self,wind,doors,eng_type,horsepower):\n",
    "        super().__init__(wind,doors,eng_type)\n",
    "        self.horsepower= horsepower"
   ]
  },
  {
   "cell_type": "code",
   "execution_count": 88,
   "id": "electronic-intent",
   "metadata": {},
   "outputs": [],
   "source": [
    "ashok = truck(2,3,'diesel',568)"
   ]
  },
  {
   "cell_type": "code",
   "execution_count": 89,
   "id": "radical-binding",
   "metadata": {},
   "outputs": [
    {
     "data": {
      "text/plain": [
       "['__class__',\n",
       " '__delattr__',\n",
       " '__dict__',\n",
       " '__dir__',\n",
       " '__doc__',\n",
       " '__eq__',\n",
       " '__format__',\n",
       " '__ge__',\n",
       " '__getattribute__',\n",
       " '__gt__',\n",
       " '__hash__',\n",
       " '__init__',\n",
       " '__init_subclass__',\n",
       " '__le__',\n",
       " '__lt__',\n",
       " '__module__',\n",
       " '__ne__',\n",
       " '__new__',\n",
       " '__reduce__',\n",
       " '__reduce_ex__',\n",
       " '__repr__',\n",
       " '__setattr__',\n",
       " '__sizeof__',\n",
       " '__str__',\n",
       " '__subclasshook__',\n",
       " '__weakref__',\n",
       " '_doors',\n",
       " '_eng_type',\n",
       " '_wind',\n",
       " 'horsepower']"
      ]
     },
     "execution_count": 89,
     "metadata": {},
     "output_type": "execute_result"
    }
   ],
   "source": [
    "dir(ashok)"
   ]
  },
  {
   "cell_type": "code",
   "execution_count": 90,
   "id": "remarkable-jones",
   "metadata": {},
   "outputs": [],
   "source": [
    "# private\n",
    "# we cannot acces it we cannot change it ,we can modified or overwrite in python nothing is restricted it is a hint\n",
    "class car():\n",
    "    def __init__(self,wind,doors,eng_type):\n",
    "        self.__wind= wind\n",
    "        self.__doors = doors\n",
    "        self.__eng_type = eng_type"
   ]
  },
  {
   "cell_type": "code",
   "execution_count": 91,
   "id": "micro-nylon",
   "metadata": {},
   "outputs": [],
   "source": [
    "audi = car(2,3,'diesel')"
   ]
  },
  {
   "cell_type": "code",
   "execution_count": 92,
   "id": "closing-dress",
   "metadata": {},
   "outputs": [
    {
     "data": {
      "text/plain": [
       "['__class__',\n",
       " '__delattr__',\n",
       " '__dict__',\n",
       " '__dir__',\n",
       " '__doc__',\n",
       " '__eq__',\n",
       " '__format__',\n",
       " '__ge__',\n",
       " '__getattribute__',\n",
       " '__gt__',\n",
       " '__hash__',\n",
       " '__init__',\n",
       " '__init_subclass__',\n",
       " '__le__',\n",
       " '__lt__',\n",
       " '__module__',\n",
       " '__ne__',\n",
       " '__new__',\n",
       " '__reduce__',\n",
       " '__reduce_ex__',\n",
       " '__repr__',\n",
       " '__setattr__',\n",
       " '__sizeof__',\n",
       " '__str__',\n",
       " '__subclasshook__',\n",
       " '__weakref__',\n",
       " '_car__doors',\n",
       " '_car__eng_type',\n",
       " '_car__wind']"
      ]
     },
     "execution_count": 92,
     "metadata": {},
     "output_type": "execute_result"
    }
   ],
   "source": [
    "dir(audi)"
   ]
  },
  {
   "cell_type": "code",
   "execution_count": 96,
   "id": "informational-protocol",
   "metadata": {},
   "outputs": [
    {
     "data": {
      "text/plain": [
       "3"
      ]
     },
     "execution_count": 96,
     "metadata": {},
     "output_type": "execute_result"
    }
   ],
   "source": [
    "audi._car__doors"
   ]
  },
  {
   "cell_type": "markdown",
   "id": "handled-number",
   "metadata": {},
   "source": [
    "## Inheritence"
   ]
  },
  {
   "cell_type": "code",
   "execution_count": 97,
   "id": "amateur-marketplace",
   "metadata": {},
   "outputs": [],
   "source": [
    "class car():\n",
    "    def __init__(self,windows,doors,engine_type):\n",
    "        self.windows = windows\n",
    "        self.doors = doors\n",
    "        self.engine_type = engine_type\n",
    "    def drive(self):\n",
    "        print(\"The person can drive\")"
   ]
  },
  {
   "cell_type": "code",
   "execution_count": 100,
   "id": "interesting-modern",
   "metadata": {},
   "outputs": [],
   "source": [
    "class audi(car):\n",
    "    def __init__(self,windows,doors,engine_type,enableai):\n",
    "        super().__init__(windows,doors,engine_type)\n",
    "        self.enableai = enableai\n",
    "    def selfdrive(self):\n",
    "        print(\"the car is self drive\")"
   ]
  },
  {
   "cell_type": "code",
   "execution_count": 101,
   "id": "pointed-revolution",
   "metadata": {},
   "outputs": [],
   "source": [
    "audiq3 = audi(4,4,'diesel',True)"
   ]
  },
  {
   "cell_type": "code",
   "execution_count": 102,
   "id": "caring-opera",
   "metadata": {},
   "outputs": [
    {
     "data": {
      "text/plain": [
       "['__class__',\n",
       " '__delattr__',\n",
       " '__dict__',\n",
       " '__dir__',\n",
       " '__doc__',\n",
       " '__eq__',\n",
       " '__format__',\n",
       " '__ge__',\n",
       " '__getattribute__',\n",
       " '__gt__',\n",
       " '__hash__',\n",
       " '__init__',\n",
       " '__init_subclass__',\n",
       " '__le__',\n",
       " '__lt__',\n",
       " '__module__',\n",
       " '__ne__',\n",
       " '__new__',\n",
       " '__reduce__',\n",
       " '__reduce_ex__',\n",
       " '__repr__',\n",
       " '__setattr__',\n",
       " '__sizeof__',\n",
       " '__str__',\n",
       " '__subclasshook__',\n",
       " '__weakref__',\n",
       " 'doors',\n",
       " 'drive',\n",
       " 'enableai',\n",
       " 'engine_type',\n",
       " 'selfdrive',\n",
       " 'windows']"
      ]
     },
     "execution_count": 102,
     "metadata": {},
     "output_type": "execute_result"
    }
   ],
   "source": [
    "dir(audiq3)"
   ]
  },
  {
   "cell_type": "code",
   "execution_count": 104,
   "id": "fancy-chamber",
   "metadata": {},
   "outputs": [
    {
     "name": "stdout",
     "output_type": "stream",
     "text": [
      "The person can drive\n"
     ]
    }
   ],
   "source": [
    "audiq3.drive()"
   ]
  },
  {
   "cell_type": "code",
   "execution_count": 6,
   "id": "military-italian",
   "metadata": {},
   "outputs": [
    {
     "name": "stdout",
     "output_type": "stream",
     "text": [
      "Collecting sympy\n",
      "  Downloading sympy-1.7.1-py3-none-any.whl (5.9 MB)\n",
      "Collecting mpmath>=0.19\n",
      "  Downloading mpmath-1.2.1-py3-none-any.whl (532 kB)\n",
      "Installing collected packages: mpmath, sympy\n",
      "Successfully installed mpmath-1.2.1 sympy-1.7.1\n"
     ]
    }
   ],
   "source": [
    "! pip install sympy"
   ]
  },
  {
   "cell_type": "code",
   "execution_count": 27,
   "id": "complex-cloud",
   "metadata": {},
   "outputs": [
    {
     "data": {
      "text/plain": [
       "[-1, 1]"
      ]
     },
     "execution_count": 27,
     "metadata": {},
     "output_type": "execute_result"
    }
   ],
   "source": [
    "# TAsk is to solve 50*x + 5 = 105\n",
    "# find the value of x\n",
    "\n",
    "from sympy.solvers import solve\n",
    "from sympy import Symbol\n",
    "x = Symbol('x')\n",
    "y = Symbol('y')\n",
    "solve(x**2 - 1, x)\n"
   ]
  },
  {
   "cell_type": "code",
   "execution_count": 28,
   "id": "controlled-green",
   "metadata": {},
   "outputs": [
    {
     "data": {
      "text/plain": [
       "[-1/10]"
      ]
     },
     "execution_count": 28,
     "metadata": {},
     "output_type": "execute_result"
    }
   ],
   "source": [
    "solve(50*x+5,x)"
   ]
  },
  {
   "cell_type": "code",
   "execution_count": 29,
   "id": "complete-kenya",
   "metadata": {},
   "outputs": [
    {
     "data": {
      "text/plain": [
       "[(-3*y/2 - 5/2, y)]"
      ]
     },
     "execution_count": 29,
     "metadata": {},
     "output_type": "execute_result"
    }
   ],
   "source": [
    "solve(2*x+3*y+5,x,y) "
   ]
  },
  {
   "cell_type": "code",
   "execution_count": 30,
   "id": "opposite-delivery",
   "metadata": {},
   "outputs": [
    {
     "data": {
      "text/plain": [
       "[-1/3 - sqrt(14)*I/3, -1/3 + sqrt(14)*I/3]"
      ]
     },
     "execution_count": 30,
     "metadata": {},
     "output_type": "execute_result"
    }
   ],
   "source": [
    "solve(3*x**2+2*x+5,x)"
   ]
  },
  {
   "cell_type": "code",
   "execution_count": 33,
   "id": "previous-favor",
   "metadata": {},
   "outputs": [
    {
     "data": {
      "text/plain": [
       "[2]"
      ]
     },
     "execution_count": 33,
     "metadata": {},
     "output_type": "execute_result"
    }
   ],
   "source": [
    "solve(50*x-100,x)"
   ]
  },
  {
   "cell_type": "code",
   "execution_count": null,
   "id": "accompanied-illustration",
   "metadata": {},
   "outputs": [],
   "source": []
  }
 ],
 "metadata": {
  "kernelspec": {
   "display_name": "Python 3",
   "language": "python",
   "name": "python3"
  },
  "language_info": {
   "codemirror_mode": {
    "name": "ipython",
    "version": 3
   },
   "file_extension": ".py",
   "mimetype": "text/x-python",
   "name": "python",
   "nbconvert_exporter": "python",
   "pygments_lexer": "ipython3",
   "version": "3.8.8"
  }
 },
 "nbformat": 4,
 "nbformat_minor": 5
}
