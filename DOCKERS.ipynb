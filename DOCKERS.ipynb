{
 "cells": [
  {
   "cell_type": "markdown",
   "metadata": {},
   "source": [
    "#### WHY DOCKER \n",
    "\n",
    "- it standardize the environment \n",
    "- we hAVE to build one and deploy it anywhere(Building once deploy anywhere)\n",
    "- isolation\n",
    "- portability  \n",
    "\n",
    "Docker work on the concept of virtualization. See when we use virtual machine v1,v2,v3 suppose v2,v3 required more power then v1 cant share to them bcz they alll assign with some power they use only that byt in docker this not we can use other docker also like d1,d2,d3 that y docker is use it give us environment standarization ,portibality and isolation alaso\n",
    "\n",
    " #### What is Docker Container?\n",
    " \n",
    " 'docker container are the container where we put every thing and then we can use that to anywhere\n",
    " \n",
    "  #### Docker with ML?\n",
    "  \n",
    "  - in Ml every time create new environment and their one requirement.txt we then put all that into docker contaiener and use them anywhere.\n",
    "  - there is one file also wsgi (web server gateway interface)(amazon web server,apachimany more) this web server communicate with flask api fast way and give result to web users\n",
    "  \n",
    "  ####  Why we should use docker?\n",
    "  \n",
    "  "
   ]
  },
  {
   "cell_type": "markdown",
   "metadata": {},
   "source": [
    "## Building Flask app for a bank note Authentication\n",
    "\n"
   ]
  }
 ],
 "metadata": {
  "kernelspec": {
   "display_name": "Python 3",
   "language": "python",
   "name": "python3"
  },
  "language_info": {
   "codemirror_mode": {
    "name": "ipython",
    "version": 3
   },
   "file_extension": ".py",
   "mimetype": "text/x-python",
   "name": "python",
   "nbconvert_exporter": "python",
   "pygments_lexer": "ipython3",
   "version": "3.8.5"
  }
 },
 "nbformat": 4,
 "nbformat_minor": 4
}
